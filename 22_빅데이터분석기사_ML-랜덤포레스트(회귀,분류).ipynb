{
 "cells": [
  {
   "cell_type": "markdown",
   "metadata": {},
   "source": [
    "# MLP 실습 : 랜덤포레스트 (분류)"
   ]
  },
  {
   "cell_type": "markdown",
   "metadata": {},
   "source": [
    "## data/library 불러오기"
   ]
  },
  {
   "cell_type": "code",
   "execution_count": 1,
   "metadata": {
    "ExecuteTime": {
     "end_time": "2021-11-27T13:33:09.949515Z",
     "start_time": "2021-11-27T13:33:09.475799Z"
    }
   },
   "outputs": [],
   "source": [
    "import warnings\n",
    "warnings.filterwarnings(\"ignore\")\n",
    "import pandas as pd\n",
    "data=pd.read_csv(\"breast-cancer-wisconsin.csv\")\n",
    "x=data[data.columns[1:10]]\n",
    "y=data[['Class']]"
   ]
  },
  {
   "cell_type": "code",
   "execution_count": 2,
   "metadata": {
    "ExecuteTime": {
     "end_time": "2021-11-27T13:33:56.518076Z",
     "start_time": "2021-11-27T13:33:54.081926Z"
    }
   },
   "outputs": [],
   "source": [
    "from sklearn.model_selection import train_test_split\n",
    "x_train,x_test,y_train,y_test= train_test_split(x,y,stratify=y,random_state=42)\n",
    "from sklearn.preprocessing import MinMaxScaler\n",
    "scaler=MinMaxScaler()\n",
    "scaler.fit(x_train)\n",
    "x_scaled_train=scaler.transform(x_train)\n",
    "x_scaled_test=scaler.transform(x_test)"
   ]
  },
  {
   "cell_type": "markdown",
   "metadata": {},
   "source": [
    "## model 학습하기"
   ]
  },
  {
   "cell_type": "code",
   "execution_count": 5,
   "metadata": {
    "ExecuteTime": {
     "end_time": "2021-11-27T13:36:21.738303Z",
     "start_time": "2021-11-27T13:36:21.656428Z"
    }
   },
   "outputs": [
    {
     "data": {
      "text/plain": [
       "RandomForestClassifier()"
      ]
     },
     "execution_count": 5,
     "metadata": {},
     "output_type": "execute_result"
    }
   ],
   "source": [
    "from sklearn.ensemble import RandomForestClassifier\n",
    "model=RandomForestClassifier()\n",
    "model.fit(x_scaled_train,y_train)\n"
   ]
  },
  {
   "cell_type": "markdown",
   "metadata": {},
   "source": [
    "## 결과 확인하기"
   ]
  },
  {
   "cell_type": "code",
   "execution_count": 6,
   "metadata": {
    "ExecuteTime": {
     "end_time": "2021-11-27T13:36:22.510693Z",
     "start_time": "2021-11-27T13:36:22.480631Z"
    }
   },
   "outputs": [
    {
     "data": {
      "text/plain": [
       "1.0"
      ]
     },
     "execution_count": 6,
     "metadata": {},
     "output_type": "execute_result"
    }
   ],
   "source": [
    "pred_train=model.predict(x_scaled_train)\n",
    "model.score(x_scaled_train,y_train)\n",
    "\n"
   ]
  },
  {
   "cell_type": "code",
   "execution_count": 7,
   "metadata": {
    "ExecuteTime": {
     "end_time": "2021-11-27T13:36:45.109559Z",
     "start_time": "2021-11-27T13:36:45.088615Z"
    }
   },
   "outputs": [
    {
     "data": {
      "text/plain": [
       "0.9707602339181286"
      ]
     },
     "execution_count": 7,
     "metadata": {},
     "output_type": "execute_result"
    }
   ],
   "source": [
    "pred_test=model.predict(x_scaled_test)\n",
    "model.score(x_scaled_test,y_test)\n"
   ]
  },
  {
   "cell_type": "code",
   "execution_count": 8,
   "metadata": {
    "ExecuteTime": {
     "end_time": "2021-11-27T13:37:03.590844Z",
     "start_time": "2021-11-27T13:37:03.576878Z"
    }
   },
   "outputs": [
    {
     "name": "stdout",
     "output_type": "stream",
     "text": [
      "[[333   0]\n",
      " [  0 179]]\n"
     ]
    }
   ],
   "source": [
    "from sklearn.metrics import confusion_matrix\n",
    "confusion_train=confusion_matrix(y_train,pred_train)\n",
    "print(confusion_train)"
   ]
  },
  {
   "cell_type": "code",
   "execution_count": 9,
   "metadata": {
    "ExecuteTime": {
     "end_time": "2021-11-27T13:37:24.374857Z",
     "start_time": "2021-11-27T13:37:24.360895Z"
    }
   },
   "outputs": [
    {
     "name": "stdout",
     "output_type": "stream",
     "text": [
      "              precision    recall  f1-score   support\n",
      "\n",
      "           0       1.00      1.00      1.00       333\n",
      "           1       1.00      1.00      1.00       179\n",
      "\n",
      "    accuracy                           1.00       512\n",
      "   macro avg       1.00      1.00      1.00       512\n",
      "weighted avg       1.00      1.00      1.00       512\n",
      "\n"
     ]
    }
   ],
   "source": [
    "from sklearn.metrics import classification_report\n",
    "cfreport_train=classification_report(y_train,pred_train)\n",
    "print(cfreport_train)"
   ]
  },
  {
   "cell_type": "code",
   "execution_count": 10,
   "metadata": {
    "ExecuteTime": {
     "end_time": "2021-11-27T13:37:46.540569Z",
     "start_time": "2021-11-27T13:37:46.520616Z"
    }
   },
   "outputs": [
    {
     "name": "stdout",
     "output_type": "stream",
     "text": [
      "              precision    recall  f1-score   support\n",
      "\n",
      "           0       1.00      0.95      0.98       111\n",
      "           1       0.92      1.00      0.96        60\n",
      "\n",
      "    accuracy                           0.97       171\n",
      "   macro avg       0.96      0.98      0.97       171\n",
      "weighted avg       0.97      0.97      0.97       171\n",
      "\n"
     ]
    }
   ],
   "source": [
    "from sklearn.metrics import classification_report\n",
    "cfreport_test=classification_report(y_test,pred_test)\n",
    "print(cfreport_test)"
   ]
  },
  {
   "cell_type": "markdown",
   "metadata": {},
   "source": [
    "## hyper parameter 최적화"
   ]
  },
  {
   "cell_type": "markdown",
   "metadata": {},
   "source": [
    "### GridSearch"
   ]
  },
  {
   "cell_type": "code",
   "execution_count": 16,
   "metadata": {
    "ExecuteTime": {
     "end_time": "2021-11-27T13:40:11.618282Z",
     "start_time": "2021-11-27T13:40:11.601360Z"
    }
   },
   "outputs": [],
   "source": [
    "param_grid={'n_estimators':range(100,1000,100),\"max_features\":['auto','sqrt','log2']}"
   ]
  },
  {
   "cell_type": "code",
   "execution_count": 17,
   "metadata": {
    "ExecuteTime": {
     "end_time": "2021-11-27T13:41:00.513531Z",
     "start_time": "2021-11-27T13:40:11.792278Z"
    }
   },
   "outputs": [
    {
     "data": {
      "text/plain": [
       "GridSearchCV(cv=5, estimator=RandomForestClassifier(),\n",
       "             param_grid={'max_features': ['auto', 'sqrt', 'log2'],\n",
       "                         'n_estimators': range(100, 1000, 100)})"
      ]
     },
     "execution_count": 17,
     "metadata": {},
     "output_type": "execute_result"
    }
   ],
   "source": [
    "from sklearn.model_selection import GridSearchCV\n",
    "grid_search=GridSearchCV(RandomForestClassifier(),param_grid,cv=5)\n",
    "# 파라미터 찾기\n",
    "grid_search.fit(x_scaled_train,y_train)"
   ]
  },
  {
   "cell_type": "code",
   "execution_count": 18,
   "metadata": {
    "ExecuteTime": {
     "end_time": "2021-11-27T13:41:00.574665Z",
     "start_time": "2021-11-27T13:41:00.544725Z"
    }
   },
   "outputs": [
    {
     "name": "stdout",
     "output_type": "stream",
     "text": [
      "Best Parameter : {'max_features': 'log2', 'n_estimators': 300}\n",
      "Best Cross-validity Score : 0.9746\n",
      "Test set Score : 0.9649\n"
     ]
    }
   ],
   "source": [
    "print(\"Best Parameter : {}\".format(grid_search.best_params_))\n",
    "print(\"Best Cross-validity Score : {:.4f}\".format(grid_search.best_score_))\n",
    "print('Test set Score : {:.4f}'.format(grid_search.score(x_scaled_test,y_test)))"
   ]
  },
  {
   "cell_type": "markdown",
   "metadata": {},
   "source": [
    "### RandomSearch"
   ]
  },
  {
   "cell_type": "code",
   "execution_count": 19,
   "metadata": {
    "ExecuteTime": {
     "end_time": "2021-11-27T13:44:16.971745Z",
     "start_time": "2021-11-27T13:43:43.909718Z"
    }
   },
   "outputs": [
    {
     "data": {
      "text/plain": [
       "RandomizedSearchCV(cv=5, estimator=RandomForestClassifier(), n_iter=20,\n",
       "                   param_distributions={'max_features': ['auto', 'sqrt',\n",
       "                                                         'log2'],\n",
       "                                        'n_estimators': <scipy.stats._distn_infrastructure.rv_frozen object at 0x00000217DE403FD0>})"
      ]
     },
     "execution_count": 19,
     "metadata": {},
     "output_type": "execute_result"
    }
   ],
   "source": [
    "from scipy.stats import randint\n",
    "from sklearn.model_selection import RandomizedSearchCV\n",
    "param_distribs={'n_estimators':randint(low=100,high=1000),\"max_features\":['auto','sqrt','log2']}\n",
    "random_search=RandomizedSearchCV(RandomForestClassifier(),param_distributions=param_distribs,n_iter=20,cv=5)\n",
    "# 파라미터 찾기\n",
    "random_search.fit(x_scaled_train,y_train)"
   ]
  },
  {
   "cell_type": "code",
   "execution_count": 20,
   "metadata": {
    "ExecuteTime": {
     "end_time": "2021-11-27T13:44:17.034745Z",
     "start_time": "2021-11-27T13:44:17.003929Z"
    }
   },
   "outputs": [
    {
     "name": "stdout",
     "output_type": "stream",
     "text": [
      "Best Parameter : {'max_features': 'auto', 'n_estimators': 285}\n",
      "Best Cross-validity Score : 0.9765\n",
      "Test set Score : 0.9649\n"
     ]
    }
   ],
   "source": [
    "print(\"Best Parameter : {}\".format(random_search.best_params_))\n",
    "print(\"Best Cross-validity Score : {:.4f}\".format(random_search.best_score_))\n",
    "print('Test set Score : {:.4f}'.format(random_search.score(x_scaled_test,y_test)))"
   ]
  },
  {
   "cell_type": "markdown",
   "metadata": {},
   "source": [
    "# MLP 실습 : 랜덤포레스트 (회귀)"
   ]
  },
  {
   "cell_type": "markdown",
   "metadata": {},
   "source": [
    "## data/library 불러오기"
   ]
  },
  {
   "cell_type": "code",
   "execution_count": 21,
   "metadata": {
    "ExecuteTime": {
     "end_time": "2021-11-27T13:47:00.859254Z",
     "start_time": "2021-11-27T13:47:00.837344Z"
    }
   },
   "outputs": [],
   "source": [
    "data=pd.read_csv(\"house_price.csv\")\n",
    "x=data[data.columns[1:5]]\n",
    "y=data[['house_value']]\n",
    "x_train,x_test,y_train,y_test= train_test_split(x,y,random_state=42)"
   ]
  },
  {
   "cell_type": "code",
   "execution_count": 22,
   "metadata": {
    "ExecuteTime": {
     "end_time": "2021-11-27T13:47:07.928485Z",
     "start_time": "2021-11-27T13:47:07.920473Z"
    }
   },
   "outputs": [],
   "source": [
    "scaler=MinMaxScaler()\n",
    "scaler.fit(x_train)\n",
    "x_scaled_train=scaler.transform(x_train)\n",
    "x_scaled_test=scaler.transform(x_test)"
   ]
  },
  {
   "cell_type": "markdown",
   "metadata": {},
   "source": [
    "## model 학습하기"
   ]
  },
  {
   "cell_type": "code",
   "execution_count": 26,
   "metadata": {
    "ExecuteTime": {
     "end_time": "2021-11-27T13:49:03.224485Z",
     "start_time": "2021-11-27T13:49:00.440394Z"
    }
   },
   "outputs": [
    {
     "data": {
      "text/plain": [
       "RandomForestRegressor()"
      ]
     },
     "execution_count": 26,
     "metadata": {},
     "output_type": "execute_result"
    }
   ],
   "source": [
    "from sklearn.ensemble import RandomForestRegressor\n",
    "model=RandomForestRegressor()\n",
    "model.fit(x_scaled_train,y_train)\n"
   ]
  },
  {
   "cell_type": "markdown",
   "metadata": {},
   "source": [
    "## 결과 확인하기"
   ]
  },
  {
   "cell_type": "code",
   "execution_count": 27,
   "metadata": {
    "ExecuteTime": {
     "end_time": "2021-11-27T13:49:03.659783Z",
     "start_time": "2021-11-27T13:49:03.258385Z"
    }
   },
   "outputs": [
    {
     "data": {
      "text/plain": [
       "0.9377495088643856"
      ]
     },
     "execution_count": 27,
     "metadata": {},
     "output_type": "execute_result"
    }
   ],
   "source": [
    "pred_train=model.predict(x_scaled_train)\n",
    "model.score(x_scaled_train,y_train)"
   ]
  },
  {
   "cell_type": "code",
   "execution_count": 28,
   "metadata": {
    "ExecuteTime": {
     "end_time": "2021-11-27T13:49:03.849402Z",
     "start_time": "2021-11-27T13:49:03.692551Z"
    }
   },
   "outputs": [
    {
     "data": {
      "text/plain": [
       "0.5830608080355251"
      ]
     },
     "execution_count": 28,
     "metadata": {},
     "output_type": "execute_result"
    }
   ],
   "source": [
    "pred_test=model.predict(x_scaled_test)\n",
    "model.score(x_scaled_test,y_test)\n"
   ]
  },
  {
   "cell_type": "markdown",
   "metadata": {},
   "source": [
    "## RMSE 확인하기"
   ]
  },
  {
   "cell_type": "code",
   "execution_count": 29,
   "metadata": {
    "ExecuteTime": {
     "end_time": "2021-11-27T13:50:12.622811Z",
     "start_time": "2021-11-27T13:50:12.607890Z"
    }
   },
   "outputs": [
    {
     "name": "stdout",
     "output_type": "stream",
     "text": [
      "23813.45637095561\n",
      "61730.36346797927\n"
     ]
    }
   ],
   "source": [
    "import numpy as np\n",
    "from sklearn.metrics import mean_squared_error\n",
    "MSE_train=mean_squared_error(y_train,pred_train)\n",
    "MSE_test=mean_squared_error(y_test,pred_test)\n",
    "print(np.sqrt(MSE_train))\n",
    "print(np.sqrt(MSE_test))"
   ]
  },
  {
   "cell_type": "markdown",
   "metadata": {},
   "source": [
    "## hyper parameter 확인하기"
   ]
  },
  {
   "cell_type": "markdown",
   "metadata": {},
   "source": [
    "### GridSearch"
   ]
  },
  {
   "cell_type": "code",
   "execution_count": 30,
   "metadata": {
    "ExecuteTime": {
     "end_time": "2021-11-27T13:51:10.945409Z",
     "start_time": "2021-11-27T13:51:10.937378Z"
    }
   },
   "outputs": [],
   "source": [
    "param_grid={'n_estimators':range(100,500,100),\"max_features\":['auto','sqrt','log2']}"
   ]
  },
  {
   "cell_type": "code",
   "execution_count": 31,
   "metadata": {
    "ExecuteTime": {
     "end_time": "2021-11-27T13:55:14.750988Z",
     "start_time": "2021-11-27T13:51:11.296344Z"
    }
   },
   "outputs": [
    {
     "data": {
      "text/plain": [
       "GridSearchCV(cv=5, estimator=RandomForestRegressor(),\n",
       "             param_grid={'max_features': ['auto', 'sqrt', 'log2'],\n",
       "                         'n_estimators': range(100, 500, 100)})"
      ]
     },
     "execution_count": 31,
     "metadata": {},
     "output_type": "execute_result"
    }
   ],
   "source": [
    "from sklearn.model_selection import GridSearchCV\n",
    "grid_search=GridSearchCV(RandomForestRegressor(),param_grid,cv=5)\n",
    "# 파라미터 찾기\n",
    "grid_search.fit(x_scaled_train,y_train)"
   ]
  },
  {
   "cell_type": "code",
   "execution_count": 32,
   "metadata": {
    "ExecuteTime": {
     "end_time": "2021-11-27T13:55:15.019637Z",
     "start_time": "2021-11-27T13:55:14.784212Z"
    }
   },
   "outputs": [
    {
     "name": "stdout",
     "output_type": "stream",
     "text": [
      "Best Parameter : {'max_features': 'sqrt', 'n_estimators': 300}\n",
      "Best Cross-validity Score : 0.5689\n",
      "Test set Score : 0.5921\n"
     ]
    }
   ],
   "source": [
    "print(\"Best Parameter : {}\".format(grid_search.best_params_))\n",
    "print(\"Best Cross-validity Score : {:.4f}\".format(grid_search.best_score_))\n",
    "print('Test set Score : {:.4f}'.format(grid_search.score(x_scaled_test,y_test)))"
   ]
  },
  {
   "cell_type": "markdown",
   "metadata": {},
   "source": [
    "### RandomSearch"
   ]
  },
  {
   "cell_type": "code",
   "execution_count": 34,
   "metadata": {
    "ExecuteTime": {
     "end_time": "2021-11-27T14:15:30.172546Z",
     "start_time": "2021-11-27T14:08:34.672428Z"
    }
   },
   "outputs": [
    {
     "data": {
      "text/plain": [
       "RandomizedSearchCV(cv=5, estimator=RandomForestRegressor(), n_iter=20,\n",
       "                   param_distributions={'max_features': ['auto', 'sqrt',\n",
       "                                                         'log2'],\n",
       "                                        'n_estimators': <scipy.stats._distn_infrastructure.rv_frozen object at 0x00000217DE4C47F0>})"
      ]
     },
     "execution_count": 34,
     "metadata": {},
     "output_type": "execute_result"
    }
   ],
   "source": [
    "from scipy.stats import randint\n",
    "from sklearn.model_selection import RandomizedSearchCV\n",
    "param_distribs={'n_estimators':randint(low=100,high=500),\"max_features\":['auto','sqrt','log2']}\n",
    "random_search=RandomizedSearchCV(RandomForestRegressor(),param_distributions=param_distribs,n_iter=20,cv=5)\n",
    "# 파라미터 찾기\n",
    "random_search.fit(x_scaled_train,y_train)"
   ]
  },
  {
   "cell_type": "code",
   "execution_count": 35,
   "metadata": {
    "ExecuteTime": {
     "end_time": "2021-11-27T14:15:30.440652Z",
     "start_time": "2021-11-27T14:15:30.204284Z"
    }
   },
   "outputs": [
    {
     "name": "stdout",
     "output_type": "stream",
     "text": [
      "Best Parameter : {'max_features': 'sqrt', 'n_estimators': 310}\n",
      "Best Cross-validity Score : 0.5692\n",
      "Test set Score : 0.5928\n"
     ]
    }
   ],
   "source": [
    "print(\"Best Parameter : {}\".format(random_search.best_params_))\n",
    "print(\"Best Cross-validity Score : {:.4f}\".format(random_search.best_score_))\n",
    "print('Test set Score : {:.4f}'.format(random_search.score(x_scaled_test,y_test)))"
   ]
  },
  {
   "cell_type": "code",
   "execution_count": null,
   "metadata": {},
   "outputs": [],
   "source": []
  }
 ],
 "metadata": {
  "kernelspec": {
   "display_name": "Python 3",
   "language": "python",
   "name": "python3"
  },
  "language_info": {
   "codemirror_mode": {
    "name": "ipython",
    "version": 3
   },
   "file_extension": ".py",
   "mimetype": "text/x-python",
   "name": "python",
   "nbconvert_exporter": "python",
   "pygments_lexer": "ipython3",
   "version": "3.8.5"
  },
  "toc": {
   "base_numbering": 1,
   "nav_menu": {},
   "number_sections": true,
   "sideBar": true,
   "skip_h1_title": false,
   "title_cell": "Table of Contents",
   "title_sidebar": "Contents",
   "toc_cell": false,
   "toc_position": {},
   "toc_section_display": true,
   "toc_window_display": true
  },
  "varInspector": {
   "cols": {
    "lenName": 16,
    "lenType": 16,
    "lenVar": 40
   },
   "kernels_config": {
    "python": {
     "delete_cmd_postfix": "",
     "delete_cmd_prefix": "del ",
     "library": "var_list.py",
     "varRefreshCmd": "print(var_dic_list())"
    },
    "r": {
     "delete_cmd_postfix": ") ",
     "delete_cmd_prefix": "rm(",
     "library": "var_list.r",
     "varRefreshCmd": "cat(var_dic_list()) "
    }
   },
   "types_to_exclude": [
    "module",
    "function",
    "builtin_function_or_method",
    "instance",
    "_Feature"
   ],
   "window_display": false
  }
 },
 "nbformat": 4,
 "nbformat_minor": 4
}

