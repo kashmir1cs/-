{
 "cells": [
  {
   "cell_type": "markdown",
   "metadata": {},
   "source": [
    "# ML 연습07- Model 평가"
   ]
  },
  {
   "cell_type": "markdown",
   "metadata": {},
   "source": [
    "## data 불러오기"
   ]
  },
  {
   "cell_type": "code",
   "execution_count": 1,
   "metadata": {
    "ExecuteTime": {
     "end_time": "2021-11-26T13:17:49.150542Z",
     "start_time": "2021-11-26T13:17:48.677407Z"
    }
   },
   "outputs": [],
   "source": [
    "import warnings\n",
    "warnings.filterwarnings(\"ignore\")\n",
    "import pandas as pd\n",
    "data=pd.read_csv(\"Fvote.csv\")"
   ]
  },
  {
   "cell_type": "markdown",
   "metadata": {},
   "source": [
    "## data set 준비하기"
   ]
  },
  {
   "cell_type": "code",
   "execution_count": 36,
   "metadata": {
    "ExecuteTime": {
     "end_time": "2021-11-26T13:41:35.582027Z",
     "start_time": "2021-11-26T13:41:35.571054Z"
    }
   },
   "outputs": [],
   "source": [
    "from sklearn.model_selection import train_test_split\n",
    "x=data[data.columns[1:13]]\n",
    "y=data[['vote']]\n",
    "x_train,x_test,y_train,y_test= train_test_split(x,y,stratify=y,random_state=42)"
   ]
  },
  {
   "cell_type": "markdown",
   "metadata": {},
   "source": [
    "## LogisticRegression setup"
   ]
  },
  {
   "cell_type": "markdown",
   "metadata": {},
   "source": [
    "### C=10 적용"
   ]
  },
  {
   "cell_type": "code",
   "execution_count": 37,
   "metadata": {
    "ExecuteTime": {
     "end_time": "2021-11-26T13:41:36.151455Z",
     "start_time": "2021-11-26T13:41:36.131503Z"
    }
   },
   "outputs": [
    {
     "data": {
      "text/plain": [
       "LogisticRegression(C=10)"
      ]
     },
     "execution_count": 37,
     "metadata": {},
     "output_type": "execute_result"
    }
   ],
   "source": [
    "from sklearn.linear_model import LogisticRegression\n",
    "Final_model=LogisticRegression(C=10)#최적화된 파라미터 선택\n",
    "Final_model.fit(x_train,y_train)"
   ]
  },
  {
   "cell_type": "markdown",
   "metadata": {},
   "source": [
    "### Score 확인"
   ]
  },
  {
   "cell_type": "markdown",
   "metadata": {},
   "source": [
    "#### train 모델 확인"
   ]
  },
  {
   "cell_type": "code",
   "execution_count": 38,
   "metadata": {
    "ExecuteTime": {
     "end_time": "2021-11-26T13:41:36.705815Z",
     "start_time": "2021-11-26T13:41:36.699325Z"
    }
   },
   "outputs": [
    {
     "data": {
      "text/plain": [
       "0.740506329113924"
      ]
     },
     "execution_count": 38,
     "metadata": {},
     "output_type": "execute_result"
    }
   ],
   "source": [
    "pred_train=Final_model.predict(x_train)\n",
    "Final_model.score(x_train,y_train)"
   ]
  },
  {
   "cell_type": "markdown",
   "metadata": {},
   "source": [
    "#### test 모델 확인"
   ]
  },
  {
   "cell_type": "code",
   "execution_count": 39,
   "metadata": {
    "ExecuteTime": {
     "end_time": "2021-11-26T13:41:37.093104Z",
     "start_time": "2021-11-26T13:41:37.082138Z"
    }
   },
   "outputs": [
    {
     "data": {
      "text/plain": [
       "0.6792452830188679"
      ]
     },
     "execution_count": 39,
     "metadata": {},
     "output_type": "execute_result"
    }
   ],
   "source": [
    "pred_test=Final_model.predict(x_test)\n",
    "Final_model.score(x_test,y_test)"
   ]
  },
  {
   "cell_type": "markdown",
   "metadata": {},
   "source": [
    "### 혼돈행렬로 확인"
   ]
  },
  {
   "cell_type": "markdown",
   "metadata": {},
   "source": [
    "#### train data"
   ]
  },
  {
   "cell_type": "code",
   "execution_count": 40,
   "metadata": {
    "ExecuteTime": {
     "end_time": "2021-11-26T13:41:37.683008Z",
     "start_time": "2021-11-26T13:41:37.665050Z"
    }
   },
   "outputs": [
    {
     "data": {
      "text/plain": [
       "array([[ 12,  34],\n",
       "       [  7, 105]], dtype=int64)"
      ]
     },
     "execution_count": 40,
     "metadata": {},
     "output_type": "execute_result"
    }
   ],
   "source": [
    "from sklearn.metrics import confusion_matrix\n",
    "confusion_train=confusion_matrix(y_train,pred_train)\n",
    "confusion_train"
   ]
  },
  {
   "cell_type": "markdown",
   "metadata": {},
   "source": [
    "#### test data"
   ]
  },
  {
   "cell_type": "code",
   "execution_count": 41,
   "metadata": {
    "ExecuteTime": {
     "end_time": "2021-11-26T13:41:38.069635Z",
     "start_time": "2021-11-26T13:41:38.050688Z"
    }
   },
   "outputs": [
    {
     "data": {
      "text/plain": [
       "array([[ 3, 12],\n",
       "       [ 5, 33]], dtype=int64)"
      ]
     },
     "execution_count": 41,
     "metadata": {},
     "output_type": "execute_result"
    }
   ],
   "source": [
    "confusion_test=confusion_matrix(y_test,pred_test)\n",
    "confusion_test"
   ]
  },
  {
   "cell_type": "markdown",
   "metadata": {},
   "source": [
    "### Classification Report 확인"
   ]
  },
  {
   "cell_type": "markdown",
   "metadata": {},
   "source": [
    "#### train data"
   ]
  },
  {
   "cell_type": "code",
   "execution_count": 42,
   "metadata": {
    "ExecuteTime": {
     "end_time": "2021-11-26T13:41:38.627352Z",
     "start_time": "2021-11-26T13:41:38.618375Z"
    }
   },
   "outputs": [
    {
     "name": "stdout",
     "output_type": "stream",
     "text": [
      "              precision    recall  f1-score   support\n",
      "\n",
      "           0       0.63      0.26      0.37        46\n",
      "           1       0.76      0.94      0.84       112\n",
      "\n",
      "    accuracy                           0.74       158\n",
      "   macro avg       0.69      0.60      0.60       158\n",
      "weighted avg       0.72      0.74      0.70       158\n",
      "\n"
     ]
    }
   ],
   "source": [
    "from sklearn.metrics import classification_report\n",
    "cfreport_train=classification_report(y_train,pred_train)\n",
    "print(cfreport_train)"
   ]
  },
  {
   "cell_type": "markdown",
   "metadata": {},
   "source": [
    "#### test data"
   ]
  },
  {
   "cell_type": "code",
   "execution_count": 43,
   "metadata": {
    "ExecuteTime": {
     "end_time": "2021-11-26T13:41:39.033403Z",
     "start_time": "2021-11-26T13:41:39.019440Z"
    }
   },
   "outputs": [
    {
     "name": "stdout",
     "output_type": "stream",
     "text": [
      "              precision    recall  f1-score   support\n",
      "\n",
      "           0       0.38      0.20      0.26        15\n",
      "           1       0.73      0.87      0.80        38\n",
      "\n",
      "    accuracy                           0.68        53\n",
      "   macro avg       0.55      0.53      0.53        53\n",
      "weighted avg       0.63      0.68      0.64        53\n",
      "\n"
     ]
    }
   ],
   "source": [
    "cfreport_test=classification_report(y_test,pred_test)\n",
    "print(cfreport_test)"
   ]
  },
  {
   "cell_type": "markdown",
   "metadata": {},
   "source": [
    "### ROC 계산"
   ]
  },
  {
   "cell_type": "code",
   "execution_count": 44,
   "metadata": {
    "ExecuteTime": {
     "end_time": "2021-11-26T13:41:39.621007Z",
     "start_time": "2021-11-26T13:41:39.603419Z"
    }
   },
   "outputs": [],
   "source": [
    "from sklearn.metrics import roc_curve,auc"
   ]
  },
  {
   "cell_type": "code",
   "execution_count": 45,
   "metadata": {
    "ExecuteTime": {
     "end_time": "2021-11-26T13:41:40.072136Z",
     "start_time": "2021-11-26T13:41:40.067114Z"
    }
   },
   "outputs": [],
   "source": [
    "from sklearn import metrics"
   ]
  },
  {
   "cell_type": "code",
   "execution_count": 46,
   "metadata": {
    "ExecuteTime": {
     "end_time": "2021-11-26T13:41:40.320548Z",
     "start_time": "2021-11-26T13:41:40.297486Z"
    }
   },
   "outputs": [
    {
     "data": {
      "text/plain": [
       "0.6350877192982456"
      ]
     },
     "execution_count": 46,
     "metadata": {},
     "output_type": "execute_result"
    }
   ],
   "source": [
    "false_positive_rate,true_positive_rate,thresholds=roc_curve(y_test,Final_model.decision_function(x_test))\n",
    "roc_auc=metrics.roc_auc_score(y_test,Final_model.decision_function(x_test))\n",
    "roc_auc"
   ]
  },
  {
   "cell_type": "code",
   "execution_count": 47,
   "metadata": {
    "ExecuteTime": {
     "end_time": "2021-11-26T13:41:40.520973Z",
     "start_time": "2021-11-26T13:41:40.505013Z"
    }
   },
   "outputs": [
    {
     "data": {
      "text/plain": [
       "158"
      ]
     },
     "execution_count": 47,
     "metadata": {},
     "output_type": "execute_result"
    }
   ],
   "source": [
    "len(Final_model.decision_function(x_train))"
   ]
  },
  {
   "cell_type": "code",
   "execution_count": 48,
   "metadata": {
    "ExecuteTime": {
     "end_time": "2021-11-26T13:41:41.004238Z",
     "start_time": "2021-11-26T13:41:40.986285Z"
    }
   },
   "outputs": [
    {
     "data": {
      "text/plain": [
       "array([ 0.01067483,  0.75885458,  0.5847745 ,  0.89989524,  2.27848352,\n",
       "        1.46645451,  0.36275195,  1.2658006 ,  3.08614567,  1.75417949,\n",
       "        0.45199206,  1.65691735,  1.66599092,  0.71328705,  2.65992901,\n",
       "        0.69758127,  1.43113591,  2.31655185,  0.69092583,  0.18506315,\n",
       "        1.65519946,  0.46663963, -0.39422543,  0.6900235 ,  0.15180685,\n",
       "        1.99887472,  0.79071784,  0.9345275 , -1.77289643,  0.86224506,\n",
       "        0.69092583,  0.68175526,  2.20230679,  1.72098382,  1.76423561,\n",
       "        0.76268067,  0.75442267,  2.77133997,  2.17656353,  1.6643415 ,\n",
       "       -0.72377447,  1.05068497,  0.72906314,  2.19654556,  1.55902402,\n",
       "        1.72726064,  0.17739795,  1.41881393,  1.49053567,  0.56623712,\n",
       "        1.63904711,  0.72360614,  2.34639418,  0.90155894,  2.47174697,\n",
       "        3.27867245,  0.50708532, -0.46989293,  0.78934488,  0.45680766,\n",
       "        2.28739439,  0.48307644, -1.21737052,  1.21173219,  1.51272272,\n",
       "        0.87575889,  1.95679622,  1.45398264,  2.28796423,  1.70451111,\n",
       "        2.44408842,  2.44770499,  2.14588061,  1.20143781,  0.47923576,\n",
       "       -1.29451509,  1.07477069,  0.78345617, -0.96302074,  1.74529716,\n",
       "        1.65959499, -0.8606805 ,  2.03661642,  2.27828444,  0.04562528,\n",
       "       -0.83531351, -0.01643526,  1.38787897,  0.75442267,  2.32208083,\n",
       "        2.07699914,  1.07591088, -0.46191482,  2.64779185,  0.77127526,\n",
       "        1.52740854,  0.87659274,  0.78316007,  0.82956646,  1.76423561,\n",
       "        0.01214136,  2.3287648 ,  0.46116263,  1.49576505,  1.45650565,\n",
       "        0.29699782, -0.31849241,  1.95679622, -0.24317409, -0.41178933,\n",
       "        1.59313227,  0.240493  ,  1.46345482,  3.20380002, -0.30023691,\n",
       "        0.51769769,  0.79071784,  1.41049258,  0.07972567,  0.69275223,\n",
       "        0.55814339,  0.6939647 ,  0.08916196,  1.04067883,  1.372285  ,\n",
       "        0.21286755,  2.15195169,  1.31983239,  1.71946501,  1.32926083,\n",
       "        0.73716651,  0.90393198,  0.32032485, -0.13642506,  0.96581664,\n",
       "        2.27547319,  0.69758127,  2.793932  , -1.72513187,  1.84581414,\n",
       "        0.28298322,  1.90634439,  2.01331129, -1.07414156,  1.07591088,\n",
       "        0.55143451,  2.0523873 ,  0.59547538,  2.64801947,  2.24419257,\n",
       "        2.10099086,  1.17802702,  0.47782421,  0.10527793, -0.48816732,\n",
       "        1.74148608,  1.40021035,  0.76126912])"
      ]
     },
     "execution_count": 48,
     "metadata": {},
     "output_type": "execute_result"
    }
   ],
   "source": [
    "Final_model.decision_function(x_train)"
   ]
  },
  {
   "cell_type": "code",
   "execution_count": 49,
   "metadata": {
    "ExecuteTime": {
     "end_time": "2021-11-26T13:41:41.468379Z",
     "start_time": "2021-11-26T13:41:41.450462Z"
    }
   },
   "outputs": [
    {
     "data": {
      "text/plain": [
       "53"
      ]
     },
     "execution_count": 49,
     "metadata": {},
     "output_type": "execute_result"
    }
   ],
   "source": [
    "len(Final_model.decision_function(x_test))"
   ]
  },
  {
   "cell_type": "code",
   "execution_count": 50,
   "metadata": {
    "ExecuteTime": {
     "end_time": "2021-11-26T13:41:41.966800Z",
     "start_time": "2021-11-26T13:41:41.842124Z"
    }
   },
   "outputs": [
    {
     "data": {
      "text/plain": [
       "array([[<AxesSubplot:title={'center':'0'}>]], dtype=object)"
      ]
     },
     "execution_count": 50,
     "metadata": {},
     "output_type": "execute_result"
    },
    {
     "data": {
      "image/png": "[encoded data removed]",
      "text/plain": [
       "<Figure size 1440x720 with 1 Axes>"
      ]
     },
     "metadata": {
      "needs_background": "light"
     },
     "output_type": "display_data"
    }
   ],
   "source": [
    "pd.DataFrame(Final_model.decision_function(x_train)).hist(figsize=(20,10))"
   ]
  },
  {
   "cell_type": "code",
   "execution_count": 51,
   "metadata": {
    "ExecuteTime": {
     "end_time": "2021-11-26T13:41:42.433676Z",
     "start_time": "2021-11-26T13:41:42.323015Z"
    }
   },
   "outputs": [
    {
     "data": {
      "text/plain": [
       "array([[<AxesSubplot:title={'center':'0'}>]], dtype=object)"
      ]
     },
     "execution_count": 51,
     "metadata": {},
     "output_type": "execute_result"
    },
    {
     "data": {
      "image/png": "[encoded data removed]",
      "text/plain": [
       "<Figure size 1440x720 with 1 Axes>"
      ]
     },
     "metadata": {
      "needs_background": "light"
     },
     "output_type": "display_data"
    }
   ],
   "source": [
    "pd.DataFrame(Final_model.decision_function(x_test)).hist(figsize=(20,10))"
   ]
  },
  {
   "cell_type": "code",
   "execution_count": 25,
   "metadata": {
    "ExecuteTime": {
     "end_time": "2021-11-26T13:39:22.430293Z",
     "start_time": "2021-11-26T13:39:22.411348Z"
    }
   },
   "outputs": [
    {
     "data": {
      "text/plain": [
       "array([-0.31564008,  0.89562767, -0.28384479,  1.51907504,  0.74396272,\n",
       "        1.08609428,  1.50059817, -0.975341  ,  0.41542458,  0.37459326,\n",
       "        2.00554285,  1.65724827,  1.21406899,  0.45838351,  2.07675108,\n",
       "        0.2593796 ,  1.36123111, -1.05070778, -0.3838691 ,  0.96370611,\n",
       "        1.56748015,  0.64387309,  1.13559455,  1.39820948,  0.53818501,\n",
       "        1.95484036, -0.67749256,  1.54902244,  0.87682118,  0.38523196,\n",
       "        2.3628659 ,  2.5086729 ,  0.68909568,  1.18754085,  1.82078967,\n",
       "        1.7980276 ,  2.65061453,  1.02709758,  0.73511329, -0.34759077,\n",
       "        1.2181155 ,  0.89055455,  0.48273689,  1.26497036,  2.18766284,\n",
       "        0.89216206,  2.29506949,  0.70881659,  0.09130434,  0.77338113,\n",
       "       -1.67027792,  2.20047539,  1.48839347])"
      ]
     },
     "execution_count": 25,
     "metadata": {},
     "output_type": "execute_result"
    }
   ],
   "source": [
    "Final_model.decision_function(x_test)"
   ]
  },
  {
   "cell_type": "markdown",
   "metadata": {},
   "source": [
    "### ROC Curve"
   ]
  },
  {
   "cell_type": "code",
   "execution_count": 20,
   "metadata": {
    "ExecuteTime": {
     "end_time": "2021-11-26T13:31:31.739054Z",
     "start_time": "2021-11-26T13:31:31.489949Z"
    }
   },
   "outputs": [],
   "source": [
    "import matplotlib.pyplot as plt"
   ]
  },
  {
   "cell_type": "code",
   "execution_count": 24,
   "metadata": {
    "ExecuteTime": {
     "end_time": "2021-11-26T13:38:53.963610Z",
     "start_time": "2021-11-26T13:38:53.843596Z"
    }
   },
   "outputs": [
    {
     "data": {
      "image/png": "[encoded data removed]",
      "text/plain": [
       "<Figure size 432x288 with 1 Axes>"
      ]
     },
     "metadata": {
      "needs_background": "light"
     },
     "output_type": "display_data"
    }
   ],
   "source": [
    "plt.title(\"ROC\")\n",
    "plt.xlabel(\"False Positive Rate(1-Specificity)\")\n",
    "plt.ylabel(\"True Positive Rage(Sensitivity)\")\n",
    "plt.plot(false_positive_rate,true_positive_rate,\"b\",label=\"Model (AUC=%0.2f)\"% roc_auc)\n",
    "plt.plot([0,1],[1,1],\"y--\")\n",
    "plt.plot([0,1],[0,1],\"r--\")\n",
    "\n",
    "plt.legend(loc=\"lower right\")\n",
    "plt.show()"
   ]
  },
  {
   "cell_type": "code",
   "execution_count": null,
   "metadata": {},
   "outputs": [],
   "source": []
  }
 ],
 "metadata": {
  "kernelspec": {
   "display_name": "Python 3",
   "language": "python",
   "name": "python3"
  },
  "language_info": {
   "codemirror_mode": {
    "name": "ipython",
    "version": 3
   },
   "file_extension": ".py",
   "mimetype": "text/x-python",
   "name": "python",
   "nbconvert_exporter": "python",
   "pygments_lexer": "ipython3",
   "version": "3.8.5"
  },
  "toc": {
   "base_numbering": 1,
   "nav_menu": {},
   "number_sections": true,
   "sideBar": true,
   "skip_h1_title": false,
   "title_cell": "Table of Contents",
   "title_sidebar": "Contents",
   "toc_cell": false,
   "toc_position": {},
   "toc_section_display": true,
   "toc_window_display": true
  },
  "varInspector": {
   "cols": {
    "lenName": 16,
    "lenType": 16,
    "lenVar": 40
   },
   "kernels_config": {
    "python": {
     "delete_cmd_postfix": "",
     "delete_cmd_prefix": "del ",
     "library": "var_list.py",
     "varRefreshCmd": "print(var_dic_list())"
    },
    "r": {
     "delete_cmd_postfix": ") ",
     "delete_cmd_prefix": "rm(",
     "library": "var_list.r",
     "varRefreshCmd": "cat(var_dic_list()) "
    }
   },
   "types_to_exclude": [
    "module",
    "function",
    "builtin_function_or_method",
    "instance",
    "_Feature"
   ],
   "window_display": false
  }
 },
 "nbformat": 4,
 "nbformat_minor": 4
}
