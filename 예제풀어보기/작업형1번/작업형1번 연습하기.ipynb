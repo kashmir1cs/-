{
 "cells": [
  {
   "cell_type": "markdown",
   "metadata": {},
   "source": [
    "# 이상치 찾기"
   ]
  },
  {
   "cell_type": "code",
   "execution_count": 1,
   "metadata": {
    "ExecuteTime": {
     "end_time": "2021-12-03T10:45:35.366708Z",
     "start_time": "2021-12-03T10:45:35.133245Z"
    }
   },
   "outputs": [],
   "source": [
    "import pandas as pd\n",
    "import numpy as np"
   ]
  },
  {
   "cell_type": "code",
   "execution_count": 2,
   "metadata": {
    "ExecuteTime": {
     "end_time": "2021-12-03T10:46:08.307345Z",
     "start_time": "2021-12-03T10:46:08.294382Z"
    }
   },
   "outputs": [],
   "source": [
    "df=pd.read_csv('./archive/basic1.csv')"
   ]
  },
  {
   "cell_type": "markdown",
   "metadata": {},
   "source": [
    "## 소수점 데이터 찾기"
   ]
  },
  {
   "cell_type": "code",
   "execution_count": 4,
   "metadata": {
    "ExecuteTime": {
     "end_time": "2021-12-03T10:46:44.383574Z",
     "start_time": "2021-12-03T10:46:44.363394Z"
    }
   },
   "outputs": [
    {
     "name": "stdout",
     "output_type": "stream",
     "text": [
      "<class 'pandas.core.frame.DataFrame'>\n",
      "RangeIndex: 100 entries, 0 to 99\n",
      "Data columns (total 8 columns):\n",
      " #   Column  Non-Null Count  Dtype  \n",
      "---  ------  --------------  -----  \n",
      " 0   id      100 non-null    object \n",
      " 1   age     100 non-null    float64\n",
      " 2   city    100 non-null    object \n",
      " 3   f1      69 non-null     float64\n",
      " 4   f2      100 non-null    int64  \n",
      " 5   f3      5 non-null      object \n",
      " 6   f4      100 non-null    object \n",
      " 7   f5      100 non-null    float64\n",
      "dtypes: float64(3), int64(1), object(4)\n",
      "memory usage: 6.4+ KB\n"
     ]
    }
   ],
   "source": [
    "df.info()"
   ]
  },
  {
   "cell_type": "code",
   "execution_count": 5,
   "metadata": {
    "ExecuteTime": {
     "end_time": "2021-12-03T10:47:54.801416Z",
     "start_time": "2021-12-03T10:47:54.765557Z"
    }
   },
   "outputs": [
    {
     "data": {
      "text/html": [
       "<div>\n",
       "<style scoped>\n",
       "    .dataframe tbody tr th:only-of-type {\n",
       "        vertical-align: middle;\n",
       "    }\n",
       "\n",
       "    .dataframe tbody tr th {\n",
       "        vertical-align: top;\n",
       "    }\n",
       "\n",
       "    .dataframe thead th {\n",
       "        text-align: right;\n",
       "    }\n",
       "</style>\n",
       "<table border=\"1\" class=\"dataframe\">\n",
       "  <thead>\n",
       "    <tr style=\"text-align: right;\">\n",
       "      <th></th>\n",
       "      <th>id</th>\n",
       "      <th>age</th>\n",
       "      <th>city</th>\n",
       "      <th>f1</th>\n",
       "      <th>f2</th>\n",
       "      <th>f3</th>\n",
       "      <th>f4</th>\n",
       "      <th>f5</th>\n",
       "    </tr>\n",
       "  </thead>\n",
       "  <tbody>\n",
       "    <tr>\n",
       "      <th>6</th>\n",
       "      <td>id07</td>\n",
       "      <td>36.3</td>\n",
       "      <td>서울</td>\n",
       "      <td>60.0</td>\n",
       "      <td>1</td>\n",
       "      <td>NaN</td>\n",
       "      <td>ISFJ</td>\n",
       "      <td>9.796378</td>\n",
       "    </tr>\n",
       "    <tr>\n",
       "      <th>8</th>\n",
       "      <td>id09</td>\n",
       "      <td>3.3</td>\n",
       "      <td>서울</td>\n",
       "      <td>35.0</td>\n",
       "      <td>2</td>\n",
       "      <td>NaN</td>\n",
       "      <td>ESFJ</td>\n",
       "      <td>17.252986</td>\n",
       "    </tr>\n",
       "    <tr>\n",
       "      <th>21</th>\n",
       "      <td>id22</td>\n",
       "      <td>-6.3</td>\n",
       "      <td>부산</td>\n",
       "      <td>72.0</td>\n",
       "      <td>1</td>\n",
       "      <td>NaN</td>\n",
       "      <td>ENFP</td>\n",
       "      <td>52.667078</td>\n",
       "    </tr>\n",
       "    <tr>\n",
       "      <th>28</th>\n",
       "      <td>id29</td>\n",
       "      <td>-13.5</td>\n",
       "      <td>부산</td>\n",
       "      <td>47.0</td>\n",
       "      <td>2</td>\n",
       "      <td>NaN</td>\n",
       "      <td>ENTP</td>\n",
       "      <td>67.886373</td>\n",
       "    </tr>\n",
       "    <tr>\n",
       "      <th>46</th>\n",
       "      <td>id47</td>\n",
       "      <td>34.6</td>\n",
       "      <td>대구</td>\n",
       "      <td>75.0</td>\n",
       "      <td>1</td>\n",
       "      <td>NaN</td>\n",
       "      <td>ESTJ</td>\n",
       "      <td>90.496999</td>\n",
       "    </tr>\n",
       "    <tr>\n",
       "      <th>64</th>\n",
       "      <td>id65</td>\n",
       "      <td>26.5</td>\n",
       "      <td>경기</td>\n",
       "      <td>NaN</td>\n",
       "      <td>0</td>\n",
       "      <td>NaN</td>\n",
       "      <td>ISFP</td>\n",
       "      <td>91.297791</td>\n",
       "    </tr>\n",
       "    <tr>\n",
       "      <th>84</th>\n",
       "      <td>id85</td>\n",
       "      <td>83.6</td>\n",
       "      <td>경기</td>\n",
       "      <td>55.0</td>\n",
       "      <td>0</td>\n",
       "      <td>NaN</td>\n",
       "      <td>INFJ</td>\n",
       "      <td>80.138280</td>\n",
       "    </tr>\n",
       "    <tr>\n",
       "      <th>92</th>\n",
       "      <td>id93</td>\n",
       "      <td>21.8</td>\n",
       "      <td>경기</td>\n",
       "      <td>57.0</td>\n",
       "      <td>0</td>\n",
       "      <td>NaN</td>\n",
       "      <td>ISFP</td>\n",
       "      <td>73.586397</td>\n",
       "    </tr>\n",
       "  </tbody>\n",
       "</table>\n",
       "</div>"
      ],
      "text/plain": [
       "      id   age city    f1  f2   f3    f4         f5\n",
       "6   id07  36.3   서울  60.0   1  NaN  ISFJ   9.796378\n",
       "8   id09   3.3   서울  35.0   2  NaN  ESFJ  17.252986\n",
       "21  id22  -6.3   부산  72.0   1  NaN  ENFP  52.667078\n",
       "28  id29 -13.5   부산  47.0   2  NaN  ENTP  67.886373\n",
       "46  id47  34.6   대구  75.0   1  NaN  ESTJ  90.496999\n",
       "64  id65  26.5   경기   NaN   0  NaN  ISFP  91.297791\n",
       "84  id85  83.6   경기  55.0   0  NaN  INFJ  80.138280\n",
       "92  id93  21.8   경기  57.0   0  NaN  ISFP  73.586397"
      ]
     },
     "execution_count": 5,
     "metadata": {},
     "output_type": "execute_result"
    }
   ],
   "source": [
    "df[(df['age']-np.floor(df[\"age\"]))!=0]"
   ]
  },
  {
   "cell_type": "code",
   "execution_count": 7,
   "metadata": {
    "ExecuteTime": {
     "end_time": "2021-12-03T10:48:14.809139Z",
     "start_time": "2021-12-03T10:48:14.797990Z"
    }
   },
   "outputs": [
    {
     "data": {
      "text/plain": [
       "0       2.0\n",
       "1       9.0\n",
       "2      27.0\n",
       "3      75.0\n",
       "4      24.0\n",
       "      ...  \n",
       "95     92.0\n",
       "96    100.0\n",
       "97     39.0\n",
       "98      1.0\n",
       "99     47.0\n",
       "Name: age, Length: 100, dtype: float64"
      ]
     },
     "execution_count": 7,
     "metadata": {},
     "output_type": "execute_result"
    }
   ],
   "source": [
    "np.floor(df[\"age\"])"
   ]
  },
  {
   "cell_type": "code",
   "execution_count": 11,
   "metadata": {
    "ExecuteTime": {
     "end_time": "2021-12-03T10:49:26.725008Z",
     "start_time": "2021-12-03T10:49:26.717002Z"
    }
   },
   "outputs": [],
   "source": [
    "# 올림 : \n",
    "m_ceil=np.ceil(df['age']).mean()\n",
    "# 내림 \n",
    "m_floor=np.ceil(df['age']).mean()\n",
    "# 버림\n",
    "m_trunc = np.trunc(df['age']).mean()"
   ]
  },
  {
   "cell_type": "code",
   "execution_count": 12,
   "metadata": {
    "ExecuteTime": {
     "end_time": "2021-12-03T10:49:47.978995Z",
     "start_time": "2021-12-03T10:49:47.973006Z"
    }
   },
   "outputs": [
    {
     "name": "stdout",
     "output_type": "stream",
     "text": [
      "152.94\n"
     ]
    }
   ],
   "source": [
    "print(m_ceil+m_floor+m_trunc)"
   ]
  },
  {
   "cell_type": "markdown",
   "metadata": {},
   "source": [
    "# map 활용한 결측치 처리하기"
   ]
  },
  {
   "cell_type": "code",
   "execution_count": 13,
   "metadata": {
    "ExecuteTime": {
     "end_time": "2021-12-03T10:50:35.812527Z",
     "start_time": "2021-12-03T10:50:35.806494Z"
    }
   },
   "outputs": [],
   "source": [
    "df=pd.read_csv('./archive/basic1.csv')"
   ]
  },
  {
   "cell_type": "code",
   "execution_count": 14,
   "metadata": {
    "ExecuteTime": {
     "end_time": "2021-12-03T10:50:39.060080Z",
     "start_time": "2021-12-03T10:50:39.046152Z"
    }
   },
   "outputs": [
    {
     "data": {
      "text/html": [
       "<div>\n",
       "<style scoped>\n",
       "    .dataframe tbody tr th:only-of-type {\n",
       "        vertical-align: middle;\n",
       "    }\n",
       "\n",
       "    .dataframe tbody tr th {\n",
       "        vertical-align: top;\n",
       "    }\n",
       "\n",
       "    .dataframe thead th {\n",
       "        text-align: right;\n",
       "    }\n",
       "</style>\n",
       "<table border=\"1\" class=\"dataframe\">\n",
       "  <thead>\n",
       "    <tr style=\"text-align: right;\">\n",
       "      <th></th>\n",
       "      <th>id</th>\n",
       "      <th>age</th>\n",
       "      <th>city</th>\n",
       "      <th>f1</th>\n",
       "      <th>f2</th>\n",
       "      <th>f3</th>\n",
       "      <th>f4</th>\n",
       "      <th>f5</th>\n",
       "    </tr>\n",
       "  </thead>\n",
       "  <tbody>\n",
       "    <tr>\n",
       "      <th>0</th>\n",
       "      <td>id01</td>\n",
       "      <td>2.0</td>\n",
       "      <td>서울</td>\n",
       "      <td>NaN</td>\n",
       "      <td>0</td>\n",
       "      <td>NaN</td>\n",
       "      <td>ENFJ</td>\n",
       "      <td>91.297791</td>\n",
       "    </tr>\n",
       "    <tr>\n",
       "      <th>1</th>\n",
       "      <td>id02</td>\n",
       "      <td>9.0</td>\n",
       "      <td>서울</td>\n",
       "      <td>70.0</td>\n",
       "      <td>1</td>\n",
       "      <td>NaN</td>\n",
       "      <td>ENFJ</td>\n",
       "      <td>60.339826</td>\n",
       "    </tr>\n",
       "    <tr>\n",
       "      <th>2</th>\n",
       "      <td>id03</td>\n",
       "      <td>27.0</td>\n",
       "      <td>서울</td>\n",
       "      <td>61.0</td>\n",
       "      <td>1</td>\n",
       "      <td>NaN</td>\n",
       "      <td>ISTJ</td>\n",
       "      <td>17.252986</td>\n",
       "    </tr>\n",
       "    <tr>\n",
       "      <th>3</th>\n",
       "      <td>id04</td>\n",
       "      <td>75.0</td>\n",
       "      <td>서울</td>\n",
       "      <td>NaN</td>\n",
       "      <td>2</td>\n",
       "      <td>NaN</td>\n",
       "      <td>INFP</td>\n",
       "      <td>52.667078</td>\n",
       "    </tr>\n",
       "    <tr>\n",
       "      <th>4</th>\n",
       "      <td>id05</td>\n",
       "      <td>24.0</td>\n",
       "      <td>서울</td>\n",
       "      <td>85.0</td>\n",
       "      <td>2</td>\n",
       "      <td>NaN</td>\n",
       "      <td>ISFJ</td>\n",
       "      <td>29.269869</td>\n",
       "    </tr>\n",
       "  </tbody>\n",
       "</table>\n",
       "</div>"
      ],
      "text/plain": [
       "     id   age city    f1  f2   f3    f4         f5\n",
       "0  id01   2.0   서울   NaN   0  NaN  ENFJ  91.297791\n",
       "1  id02   9.0   서울  70.0   1  NaN  ENFJ  60.339826\n",
       "2  id03  27.0   서울  61.0   1  NaN  ISTJ  17.252986\n",
       "3  id04  75.0   서울   NaN   2  NaN  INFP  52.667078\n",
       "4  id05  24.0   서울  85.0   2  NaN  ISFJ  29.269869"
      ]
     },
     "execution_count": 14,
     "metadata": {},
     "output_type": "execute_result"
    }
   ],
   "source": [
    "df.head()"
   ]
  },
  {
   "cell_type": "code",
   "execution_count": 17,
   "metadata": {
    "ExecuteTime": {
     "end_time": "2021-12-03T11:56:36.545167Z",
     "start_time": "2021-12-03T11:56:36.538129Z"
    }
   },
   "outputs": [
    {
     "data": {
      "text/plain": [
       "100"
      ]
     },
     "execution_count": 17,
     "metadata": {},
     "output_type": "execute_result"
    }
   ],
   "source": [
    "df.shape[0]"
   ]
  },
  {
   "cell_type": "markdown",
   "metadata": {},
   "source": [
    "## 결측값 확인하기"
   ]
  },
  {
   "cell_type": "code",
   "execution_count": 18,
   "metadata": {
    "ExecuteTime": {
     "end_time": "2021-12-03T11:56:41.300916Z",
     "start_time": "2021-12-03T11:56:41.290038Z"
    }
   },
   "outputs": [
    {
     "data": {
      "text/plain": [
       "id      0.00\n",
       "age     0.00\n",
       "city    0.00\n",
       "f1      0.31\n",
       "f2      0.00\n",
       "f3      0.95\n",
       "f4      0.00\n",
       "f5      0.00\n",
       "dtype: float64"
      ]
     },
     "execution_count": 18,
     "metadata": {},
     "output_type": "execute_result"
    }
   ],
   "source": [
    "df.isnull().sum()/df.shape[0]"
   ]
  },
  {
   "cell_type": "code",
   "execution_count": 19,
   "metadata": {
    "ExecuteTime": {
     "end_time": "2021-12-03T11:57:14.564088Z",
     "start_time": "2021-12-03T11:57:14.547252Z"
    }
   },
   "outputs": [
    {
     "data": {
      "text/plain": [
       "(100, 7)"
      ]
     },
     "execution_count": 19,
     "metadata": {},
     "output_type": "execute_result"
    }
   ],
   "source": [
    "df=df.drop(['f3'],axis=1)\n",
    "df.shape"
   ]
  },
  {
   "cell_type": "markdown",
   "metadata": {},
   "source": [
    "### unique() : 고유한 값 확인"
   ]
  },
  {
   "cell_type": "code",
   "execution_count": 20,
   "metadata": {
    "ExecuteTime": {
     "end_time": "2021-12-03T11:57:43.035900Z",
     "start_time": "2021-12-03T11:57:43.018909Z"
    }
   },
   "outputs": [
    {
     "data": {
      "text/plain": [
       "array(['서울', '부산', '대구', '경기'], dtype=object)"
      ]
     },
     "execution_count": 20,
     "metadata": {},
     "output_type": "execute_result"
    }
   ],
   "source": [
    "df['city'].unique()"
   ]
  },
  {
   "cell_type": "code",
   "execution_count": 21,
   "metadata": {
    "ExecuteTime": {
     "end_time": "2021-12-03T12:00:34.068709Z",
     "start_time": "2021-12-03T12:00:34.058774Z"
    }
   },
   "outputs": [
    {
     "data": {
      "text/plain": [
       "city\n",
       "경기    58.0\n",
       "대구    75.0\n",
       "부산    62.0\n",
       "서울    68.0\n",
       "Name: f1, dtype: float64"
      ]
     },
     "execution_count": 21,
     "metadata": {},
     "output_type": "execute_result"
    }
   ],
   "source": [
    "df.groupby(\"city\")['f1'].median()"
   ]
  },
  {
   "cell_type": "code",
   "execution_count": 22,
   "metadata": {
    "ExecuteTime": {
     "end_time": "2021-12-03T12:01:09.676510Z",
     "start_time": "2021-12-03T12:01:09.659547Z"
    }
   },
   "outputs": [],
   "source": [
    "k,t,b,s=58.0,75.0,62.0,68.0"
   ]
  },
  {
   "cell_type": "code",
   "execution_count": 28,
   "metadata": {
    "ExecuteTime": {
     "end_time": "2021-12-03T12:02:41.344571Z",
     "start_time": "2021-12-03T12:02:41.331643Z"
    }
   },
   "outputs": [],
   "source": [
    "df['f1']=df['f1'].fillna(df['city'].map({'서울':s,'경기':k,'부산':b,'대구':t}))"
   ]
  },
  {
   "cell_type": "code",
   "execution_count": 29,
   "metadata": {
    "ExecuteTime": {
     "end_time": "2021-12-03T12:02:43.766076Z",
     "start_time": "2021-12-03T12:02:43.755045Z"
    }
   },
   "outputs": [
    {
     "data": {
      "text/html": [
       "<div>\n",
       "<style scoped>\n",
       "    .dataframe tbody tr th:only-of-type {\n",
       "        vertical-align: middle;\n",
       "    }\n",
       "\n",
       "    .dataframe tbody tr th {\n",
       "        vertical-align: top;\n",
       "    }\n",
       "\n",
       "    .dataframe thead th {\n",
       "        text-align: right;\n",
       "    }\n",
       "</style>\n",
       "<table border=\"1\" class=\"dataframe\">\n",
       "  <thead>\n",
       "    <tr style=\"text-align: right;\">\n",
       "      <th></th>\n",
       "      <th>id</th>\n",
       "      <th>age</th>\n",
       "      <th>city</th>\n",
       "      <th>f1</th>\n",
       "      <th>f2</th>\n",
       "      <th>f4</th>\n",
       "      <th>f5</th>\n",
       "    </tr>\n",
       "  </thead>\n",
       "  <tbody>\n",
       "    <tr>\n",
       "      <th>0</th>\n",
       "      <td>id01</td>\n",
       "      <td>2.0</td>\n",
       "      <td>서울</td>\n",
       "      <td>68.0</td>\n",
       "      <td>0</td>\n",
       "      <td>ENFJ</td>\n",
       "      <td>91.297791</td>\n",
       "    </tr>\n",
       "    <tr>\n",
       "      <th>1</th>\n",
       "      <td>id02</td>\n",
       "      <td>9.0</td>\n",
       "      <td>서울</td>\n",
       "      <td>70.0</td>\n",
       "      <td>1</td>\n",
       "      <td>ENFJ</td>\n",
       "      <td>60.339826</td>\n",
       "    </tr>\n",
       "    <tr>\n",
       "      <th>2</th>\n",
       "      <td>id03</td>\n",
       "      <td>27.0</td>\n",
       "      <td>서울</td>\n",
       "      <td>61.0</td>\n",
       "      <td>1</td>\n",
       "      <td>ISTJ</td>\n",
       "      <td>17.252986</td>\n",
       "    </tr>\n",
       "    <tr>\n",
       "      <th>3</th>\n",
       "      <td>id04</td>\n",
       "      <td>75.0</td>\n",
       "      <td>서울</td>\n",
       "      <td>68.0</td>\n",
       "      <td>2</td>\n",
       "      <td>INFP</td>\n",
       "      <td>52.667078</td>\n",
       "    </tr>\n",
       "    <tr>\n",
       "      <th>4</th>\n",
       "      <td>id05</td>\n",
       "      <td>24.0</td>\n",
       "      <td>서울</td>\n",
       "      <td>85.0</td>\n",
       "      <td>2</td>\n",
       "      <td>ISFJ</td>\n",
       "      <td>29.269869</td>\n",
       "    </tr>\n",
       "    <tr>\n",
       "      <th>...</th>\n",
       "      <td>...</td>\n",
       "      <td>...</td>\n",
       "      <td>...</td>\n",
       "      <td>...</td>\n",
       "      <td>...</td>\n",
       "      <td>...</td>\n",
       "      <td>...</td>\n",
       "    </tr>\n",
       "    <tr>\n",
       "      <th>95</th>\n",
       "      <td>id96</td>\n",
       "      <td>92.0</td>\n",
       "      <td>경기</td>\n",
       "      <td>53.0</td>\n",
       "      <td>1</td>\n",
       "      <td>ENTJ</td>\n",
       "      <td>52.667078</td>\n",
       "    </tr>\n",
       "    <tr>\n",
       "      <th>96</th>\n",
       "      <td>id97</td>\n",
       "      <td>100.0</td>\n",
       "      <td>경기</td>\n",
       "      <td>58.0</td>\n",
       "      <td>0</td>\n",
       "      <td>INFP</td>\n",
       "      <td>67.886373</td>\n",
       "    </tr>\n",
       "    <tr>\n",
       "      <th>97</th>\n",
       "      <td>id98</td>\n",
       "      <td>39.0</td>\n",
       "      <td>경기</td>\n",
       "      <td>58.0</td>\n",
       "      <td>2</td>\n",
       "      <td>INFP</td>\n",
       "      <td>98.429899</td>\n",
       "    </tr>\n",
       "    <tr>\n",
       "      <th>98</th>\n",
       "      <td>id99</td>\n",
       "      <td>1.0</td>\n",
       "      <td>경기</td>\n",
       "      <td>47.0</td>\n",
       "      <td>0</td>\n",
       "      <td>ESFJ</td>\n",
       "      <td>97.381034</td>\n",
       "    </tr>\n",
       "    <tr>\n",
       "      <th>99</th>\n",
       "      <td>id100</td>\n",
       "      <td>47.0</td>\n",
       "      <td>경기</td>\n",
       "      <td>53.0</td>\n",
       "      <td>0</td>\n",
       "      <td>ESFP</td>\n",
       "      <td>33.308999</td>\n",
       "    </tr>\n",
       "  </tbody>\n",
       "</table>\n",
       "<p>100 rows × 7 columns</p>\n",
       "</div>"
      ],
      "text/plain": [
       "       id    age city    f1  f2    f4         f5\n",
       "0    id01    2.0   서울  68.0   0  ENFJ  91.297791\n",
       "1    id02    9.0   서울  70.0   1  ENFJ  60.339826\n",
       "2    id03   27.0   서울  61.0   1  ISTJ  17.252986\n",
       "3    id04   75.0   서울  68.0   2  INFP  52.667078\n",
       "4    id05   24.0   서울  85.0   2  ISFJ  29.269869\n",
       "..    ...    ...  ...   ...  ..   ...        ...\n",
       "95   id96   92.0   경기  53.0   1  ENTJ  52.667078\n",
       "96   id97  100.0   경기  58.0   0  INFP  67.886373\n",
       "97   id98   39.0   경기  58.0   2  INFP  98.429899\n",
       "98   id99    1.0   경기  47.0   0  ESFJ  97.381034\n",
       "99  id100   47.0   경기  53.0   0  ESFP  33.308999\n",
       "\n",
       "[100 rows x 7 columns]"
      ]
     },
     "execution_count": 29,
     "metadata": {},
     "output_type": "execute_result"
    }
   ],
   "source": [
    "df"
   ]
  },
  {
   "cell_type": "code",
   "execution_count": 30,
   "metadata": {
    "ExecuteTime": {
     "end_time": "2021-12-03T12:02:56.443610Z",
     "start_time": "2021-12-03T12:02:56.434603Z"
    }
   },
   "outputs": [
    {
     "data": {
      "text/plain": [
       "65.52"
      ]
     },
     "execution_count": 30,
     "metadata": {},
     "output_type": "execute_result"
    }
   ],
   "source": [
    "df['f1'].mean()"
   ]
  },
  {
   "cell_type": "markdown",
   "metadata": {},
   "source": [
    "# 왜도/첨도 구하기"
   ]
  },
  {
   "cell_type": "code",
   "execution_count": 31,
   "metadata": {
    "ExecuteTime": {
     "end_time": "2021-12-03T12:07:53.188729Z",
     "start_time": "2021-12-03T12:07:53.162785Z"
    }
   },
   "outputs": [],
   "source": [
    "df=pd.read_csv('./archive/train.csv')"
   ]
  },
  {
   "cell_type": "code",
   "execution_count": 32,
   "metadata": {
    "ExecuteTime": {
     "end_time": "2021-12-03T12:08:02.998292Z",
     "start_time": "2021-12-03T12:08:02.971346Z"
    }
   },
   "outputs": [
    {
     "data": {
      "text/html": [
       "<div>\n",
       "<style scoped>\n",
       "    .dataframe tbody tr th:only-of-type {\n",
       "        vertical-align: middle;\n",
       "    }\n",
       "\n",
       "    .dataframe tbody tr th {\n",
       "        vertical-align: top;\n",
       "    }\n",
       "\n",
       "    .dataframe thead th {\n",
       "        text-align: right;\n",
       "    }\n",
       "</style>\n",
       "<table border=\"1\" class=\"dataframe\">\n",
       "  <thead>\n",
       "    <tr style=\"text-align: right;\">\n",
       "      <th></th>\n",
       "      <th>Id</th>\n",
       "      <th>MSSubClass</th>\n",
       "      <th>MSZoning</th>\n",
       "      <th>LotFrontage</th>\n",
       "      <th>LotArea</th>\n",
       "      <th>Street</th>\n",
       "      <th>Alley</th>\n",
       "      <th>LotShape</th>\n",
       "      <th>LandContour</th>\n",
       "      <th>Utilities</th>\n",
       "      <th>...</th>\n",
       "      <th>PoolArea</th>\n",
       "      <th>PoolQC</th>\n",
       "      <th>Fence</th>\n",
       "      <th>MiscFeature</th>\n",
       "      <th>MiscVal</th>\n",
       "      <th>MoSold</th>\n",
       "      <th>YrSold</th>\n",
       "      <th>SaleType</th>\n",
       "      <th>SaleCondition</th>\n",
       "      <th>SalePrice</th>\n",
       "    </tr>\n",
       "  </thead>\n",
       "  <tbody>\n",
       "    <tr>\n",
       "      <th>0</th>\n",
       "      <td>1</td>\n",
       "      <td>60</td>\n",
       "      <td>RL</td>\n",
       "      <td>65.0</td>\n",
       "      <td>8450</td>\n",
       "      <td>Pave</td>\n",
       "      <td>NaN</td>\n",
       "      <td>Reg</td>\n",
       "      <td>Lvl</td>\n",
       "      <td>AllPub</td>\n",
       "      <td>...</td>\n",
       "      <td>0</td>\n",
       "      <td>NaN</td>\n",
       "      <td>NaN</td>\n",
       "      <td>NaN</td>\n",
       "      <td>0</td>\n",
       "      <td>2</td>\n",
       "      <td>2008</td>\n",
       "      <td>WD</td>\n",
       "      <td>Normal</td>\n",
       "      <td>208500</td>\n",
       "    </tr>\n",
       "    <tr>\n",
       "      <th>1</th>\n",
       "      <td>2</td>\n",
       "      <td>20</td>\n",
       "      <td>RL</td>\n",
       "      <td>80.0</td>\n",
       "      <td>9600</td>\n",
       "      <td>Pave</td>\n",
       "      <td>NaN</td>\n",
       "      <td>Reg</td>\n",
       "      <td>Lvl</td>\n",
       "      <td>AllPub</td>\n",
       "      <td>...</td>\n",
       "      <td>0</td>\n",
       "      <td>NaN</td>\n",
       "      <td>NaN</td>\n",
       "      <td>NaN</td>\n",
       "      <td>0</td>\n",
       "      <td>5</td>\n",
       "      <td>2007</td>\n",
       "      <td>WD</td>\n",
       "      <td>Normal</td>\n",
       "      <td>181500</td>\n",
       "    </tr>\n",
       "    <tr>\n",
       "      <th>2</th>\n",
       "      <td>3</td>\n",
       "      <td>60</td>\n",
       "      <td>RL</td>\n",
       "      <td>68.0</td>\n",
       "      <td>11250</td>\n",
       "      <td>Pave</td>\n",
       "      <td>NaN</td>\n",
       "      <td>IR1</td>\n",
       "      <td>Lvl</td>\n",
       "      <td>AllPub</td>\n",
       "      <td>...</td>\n",
       "      <td>0</td>\n",
       "      <td>NaN</td>\n",
       "      <td>NaN</td>\n",
       "      <td>NaN</td>\n",
       "      <td>0</td>\n",
       "      <td>9</td>\n",
       "      <td>2008</td>\n",
       "      <td>WD</td>\n",
       "      <td>Normal</td>\n",
       "      <td>223500</td>\n",
       "    </tr>\n",
       "    <tr>\n",
       "      <th>3</th>\n",
       "      <td>4</td>\n",
       "      <td>70</td>\n",
       "      <td>RL</td>\n",
       "      <td>60.0</td>\n",
       "      <td>9550</td>\n",
       "      <td>Pave</td>\n",
       "      <td>NaN</td>\n",
       "      <td>IR1</td>\n",
       "      <td>Lvl</td>\n",
       "      <td>AllPub</td>\n",
       "      <td>...</td>\n",
       "      <td>0</td>\n",
       "      <td>NaN</td>\n",
       "      <td>NaN</td>\n",
       "      <td>NaN</td>\n",
       "      <td>0</td>\n",
       "      <td>2</td>\n",
       "      <td>2006</td>\n",
       "      <td>WD</td>\n",
       "      <td>Abnorml</td>\n",
       "      <td>140000</td>\n",
       "    </tr>\n",
       "    <tr>\n",
       "      <th>4</th>\n",
       "      <td>5</td>\n",
       "      <td>60</td>\n",
       "      <td>RL</td>\n",
       "      <td>84.0</td>\n",
       "      <td>14260</td>\n",
       "      <td>Pave</td>\n",
       "      <td>NaN</td>\n",
       "      <td>IR1</td>\n",
       "      <td>Lvl</td>\n",
       "      <td>AllPub</td>\n",
       "      <td>...</td>\n",
       "      <td>0</td>\n",
       "      <td>NaN</td>\n",
       "      <td>NaN</td>\n",
       "      <td>NaN</td>\n",
       "      <td>0</td>\n",
       "      <td>12</td>\n",
       "      <td>2008</td>\n",
       "      <td>WD</td>\n",
       "      <td>Normal</td>\n",
       "      <td>250000</td>\n",
       "    </tr>\n",
       "  </tbody>\n",
       "</table>\n",
       "<p>5 rows × 81 columns</p>\n",
       "</div>"
      ],
      "text/plain": [
       "   Id  MSSubClass MSZoning  LotFrontage  LotArea Street Alley LotShape  \\\n",
       "0   1          60       RL         65.0     8450   Pave   NaN      Reg   \n",
       "1   2          20       RL         80.0     9600   Pave   NaN      Reg   \n",
       "2   3          60       RL         68.0    11250   Pave   NaN      IR1   \n",
       "3   4          70       RL         60.0     9550   Pave   NaN      IR1   \n",
       "4   5          60       RL         84.0    14260   Pave   NaN      IR1   \n",
       "\n",
       "  LandContour Utilities  ... PoolArea PoolQC Fence MiscFeature MiscVal MoSold  \\\n",
       "0         Lvl    AllPub  ...        0    NaN   NaN         NaN       0      2   \n",
       "1         Lvl    AllPub  ...        0    NaN   NaN         NaN       0      5   \n",
       "2         Lvl    AllPub  ...        0    NaN   NaN         NaN       0      9   \n",
       "3         Lvl    AllPub  ...        0    NaN   NaN         NaN       0      2   \n",
       "4         Lvl    AllPub  ...        0    NaN   NaN         NaN       0     12   \n",
       "\n",
       "  YrSold  SaleType  SaleCondition  SalePrice  \n",
       "0   2008        WD         Normal     208500  \n",
       "1   2007        WD         Normal     181500  \n",
       "2   2008        WD         Normal     223500  \n",
       "3   2006        WD        Abnorml     140000  \n",
       "4   2008        WD         Normal     250000  \n",
       "\n",
       "[5 rows x 81 columns]"
      ]
     },
     "execution_count": 32,
     "metadata": {},
     "output_type": "execute_result"
    }
   ],
   "source": [
    "df.head()"
   ]
  },
  {
   "cell_type": "code",
   "execution_count": 33,
   "metadata": {
    "ExecuteTime": {
     "end_time": "2021-12-03T12:08:09.433710Z",
     "start_time": "2021-12-03T12:08:09.410451Z"
    }
   },
   "outputs": [
    {
     "name": "stdout",
     "output_type": "stream",
     "text": [
      "<class 'pandas.core.frame.DataFrame'>\n",
      "RangeIndex: 1460 entries, 0 to 1459\n",
      "Data columns (total 81 columns):\n",
      " #   Column         Non-Null Count  Dtype  \n",
      "---  ------         --------------  -----  \n",
      " 0   Id             1460 non-null   int64  \n",
      " 1   MSSubClass     1460 non-null   int64  \n",
      " 2   MSZoning       1460 non-null   object \n",
      " 3   LotFrontage    1201 non-null   float64\n",
      " 4   LotArea        1460 non-null   int64  \n",
      " 5   Street         1460 non-null   object \n",
      " 6   Alley          91 non-null     object \n",
      " 7   LotShape       1460 non-null   object \n",
      " 8   LandContour    1460 non-null   object \n",
      " 9   Utilities      1460 non-null   object \n",
      " 10  LotConfig      1460 non-null   object \n",
      " 11  LandSlope      1460 non-null   object \n",
      " 12  Neighborhood   1460 non-null   object \n",
      " 13  Condition1     1460 non-null   object \n",
      " 14  Condition2     1460 non-null   object \n",
      " 15  BldgType       1460 non-null   object \n",
      " 16  HouseStyle     1460 non-null   object \n",
      " 17  OverallQual    1460 non-null   int64  \n",
      " 18  OverallCond    1460 non-null   int64  \n",
      " 19  YearBuilt      1460 non-null   int64  \n",
      " 20  YearRemodAdd   1460 non-null   int64  \n",
      " 21  RoofStyle      1460 non-null   object \n",
      " 22  RoofMatl       1460 non-null   object \n",
      " 23  Exterior1st    1460 non-null   object \n",
      " 24  Exterior2nd    1460 non-null   object \n",
      " 25  MasVnrType     1452 non-null   object \n",
      " 26  MasVnrArea     1452 non-null   float64\n",
      " 27  ExterQual      1460 non-null   object \n",
      " 28  ExterCond      1460 non-null   object \n",
      " 29  Foundation     1460 non-null   object \n",
      " 30  BsmtQual       1423 non-null   object \n",
      " 31  BsmtCond       1423 non-null   object \n",
      " 32  BsmtExposure   1422 non-null   object \n",
      " 33  BsmtFinType1   1423 non-null   object \n",
      " 34  BsmtFinSF1     1460 non-null   int64  \n",
      " 35  BsmtFinType2   1422 non-null   object \n",
      " 36  BsmtFinSF2     1460 non-null   int64  \n",
      " 37  BsmtUnfSF      1460 non-null   int64  \n",
      " 38  TotalBsmtSF    1460 non-null   int64  \n",
      " 39  Heating        1460 non-null   object \n",
      " 40  HeatingQC      1460 non-null   object \n",
      " 41  CentralAir     1460 non-null   object \n",
      " 42  Electrical     1459 non-null   object \n",
      " 43  1stFlrSF       1460 non-null   int64  \n",
      " 44  2ndFlrSF       1460 non-null   int64  \n",
      " 45  LowQualFinSF   1460 non-null   int64  \n",
      " 46  GrLivArea      1460 non-null   int64  \n",
      " 47  BsmtFullBath   1460 non-null   int64  \n",
      " 48  BsmtHalfBath   1460 non-null   int64  \n",
      " 49  FullBath       1460 non-null   int64  \n",
      " 50  HalfBath       1460 non-null   int64  \n",
      " 51  BedroomAbvGr   1460 non-null   int64  \n",
      " 52  KitchenAbvGr   1460 non-null   int64  \n",
      " 53  KitchenQual    1460 non-null   object \n",
      " 54  TotRmsAbvGrd   1460 non-null   int64  \n",
      " 55  Functional     1460 non-null   object \n",
      " 56  Fireplaces     1460 non-null   int64  \n",
      " 57  FireplaceQu    770 non-null    object \n",
      " 58  GarageType     1379 non-null   object \n",
      " 59  GarageYrBlt    1379 non-null   float64\n",
      " 60  GarageFinish   1379 non-null   object \n",
      " 61  GarageCars     1460 non-null   int64  \n",
      " 62  GarageArea     1460 non-null   int64  \n",
      " 63  GarageQual     1379 non-null   object \n",
      " 64  GarageCond     1379 non-null   object \n",
      " 65  PavedDrive     1460 non-null   object \n",
      " 66  WoodDeckSF     1460 non-null   int64  \n",
      " 67  OpenPorchSF    1460 non-null   int64  \n",
      " 68  EnclosedPorch  1460 non-null   int64  \n",
      " 69  3SsnPorch      1460 non-null   int64  \n",
      " 70  ScreenPorch    1460 non-null   int64  \n",
      " 71  PoolArea       1460 non-null   int64  \n",
      " 72  PoolQC         7 non-null      object \n",
      " 73  Fence          281 non-null    object \n",
      " 74  MiscFeature    54 non-null     object \n",
      " 75  MiscVal        1460 non-null   int64  \n",
      " 76  MoSold         1460 non-null   int64  \n",
      " 77  YrSold         1460 non-null   int64  \n",
      " 78  SaleType       1460 non-null   object \n",
      " 79  SaleCondition  1460 non-null   object \n",
      " 80  SalePrice      1460 non-null   int64  \n",
      "dtypes: float64(3), int64(35), object(43)\n",
      "memory usage: 924.0+ KB\n"
     ]
    }
   ],
   "source": [
    "df.info()"
   ]
  },
  {
   "cell_type": "code",
   "execution_count": 34,
   "metadata": {
    "ExecuteTime": {
     "end_time": "2021-12-03T12:08:40.753496Z",
     "start_time": "2021-12-03T12:08:40.187018Z"
    }
   },
   "outputs": [
    {
     "data": {
      "text/plain": [
       "<AxesSubplot:>"
      ]
     },
     "execution_count": 34,
     "metadata": {},
     "output_type": "execute_result"
    },
    {
     "data": {
      "image/png": "[encoded data removed]",
      "text/plain": [
       "<Figure size 432x288 with 1 Axes>"
      ]
     },
     "metadata": {
      "needs_background": "light"
     },
     "output_type": "display_data"
    }
   ],
   "source": [
    "df['SalePrice'].hist()"
   ]
  },
  {
   "cell_type": "code",
   "execution_count": 36,
   "metadata": {
    "ExecuteTime": {
     "end_time": "2021-12-03T12:08:52.577415Z",
     "start_time": "2021-12-03T12:08:52.563686Z"
    }
   },
   "outputs": [
    {
     "data": {
      "text/plain": [
       "1.8828757597682129"
      ]
     },
     "execution_count": 36,
     "metadata": {},
     "output_type": "execute_result"
    }
   ],
   "source": [
    "df['SalePrice'].skew()"
   ]
  },
  {
   "cell_type": "code",
   "execution_count": 37,
   "metadata": {
    "ExecuteTime": {
     "end_time": "2021-12-03T12:08:59.447107Z",
     "start_time": "2021-12-03T12:08:59.435472Z"
    }
   },
   "outputs": [
    {
     "data": {
      "text/plain": [
       "6.536281860064529"
      ]
     },
     "execution_count": 37,
     "metadata": {},
     "output_type": "execute_result"
    }
   ],
   "source": [
    "df['SalePrice'].kurt()"
   ]
  },
  {
   "cell_type": "markdown",
   "metadata": {},
   "source": [
    "## log 변환 (np.log1p)"
   ]
  },
  {
   "cell_type": "code",
   "execution_count": 38,
   "metadata": {
    "ExecuteTime": {
     "end_time": "2021-12-03T12:10:06.513680Z",
     "start_time": "2021-12-03T12:10:06.497719Z"
    }
   },
   "outputs": [],
   "source": [
    "df['SalePrice']=np.log1p(df['SalePrice'])"
   ]
  },
  {
   "cell_type": "code",
   "execution_count": 39,
   "metadata": {
    "ExecuteTime": {
     "end_time": "2021-12-03T12:10:12.218535Z",
     "start_time": "2021-12-03T12:10:12.203574Z"
    }
   },
   "outputs": [
    {
     "data": {
      "text/plain": [
       "0       12.247699\n",
       "1       12.109016\n",
       "2       12.317171\n",
       "3       11.849405\n",
       "4       12.429220\n",
       "          ...    \n",
       "1455    12.072547\n",
       "1456    12.254868\n",
       "1457    12.493133\n",
       "1458    11.864469\n",
       "1459    11.901590\n",
       "Name: SalePrice, Length: 1460, dtype: float64"
      ]
     },
     "execution_count": 39,
     "metadata": {},
     "output_type": "execute_result"
    }
   ],
   "source": [
    "df['SalePrice']"
   ]
  },
  {
   "cell_type": "code",
   "execution_count": 40,
   "metadata": {
    "ExecuteTime": {
     "end_time": "2021-12-03T12:10:21.791569Z",
     "start_time": "2021-12-03T12:10:21.785580Z"
    }
   },
   "outputs": [
    {
     "data": {
      "text/plain": [
       "0.12134661989685333"
      ]
     },
     "execution_count": 40,
     "metadata": {},
     "output_type": "execute_result"
    }
   ],
   "source": [
    "df['SalePrice'].skew()"
   ]
  },
  {
   "cell_type": "code",
   "execution_count": 41,
   "metadata": {
    "ExecuteTime": {
     "end_time": "2021-12-03T12:10:29.176066Z",
     "start_time": "2021-12-03T12:10:29.170049Z"
    }
   },
   "outputs": [
    {
     "data": {
      "text/plain": [
       "0.809519155707878"
      ]
     },
     "execution_count": 41,
     "metadata": {},
     "output_type": "execute_result"
    }
   ],
   "source": [
    "df['SalePrice'].kurt()"
   ]
  },
  {
   "cell_type": "code",
   "execution_count": 42,
   "metadata": {
    "ExecuteTime": {
     "end_time": "2021-12-03T12:10:37.013041Z",
     "start_time": "2021-12-03T12:10:36.915249Z"
    }
   },
   "outputs": [
    {
     "data": {
      "text/plain": [
       "<AxesSubplot:>"
      ]
     },
     "execution_count": 42,
     "metadata": {},
     "output_type": "execute_result"
    },
    {
     "data": {
      "image/png": "[encoded data removed]",
      "text/plain": [
       "<Figure size 432x288 with 1 Axes>"
      ]
     },
     "metadata": {
      "needs_background": "light"
     },
     "output_type": "display_data"
    }
   ],
   "source": [
    "df['SalePrice'].hist()"
   ]
  },
  {
   "cell_type": "code",
   "execution_count": 44,
   "metadata": {
    "ExecuteTime": {
     "end_time": "2021-12-03T12:12:27.109439Z",
     "start_time": "2021-12-03T12:12:27.101461Z"
    }
   },
   "outputs": [
    {
     "data": {
      "text/plain": [
       "1.0"
      ]
     },
     "execution_count": 44,
     "metadata": {},
     "output_type": "execute_result"
    }
   ],
   "source": [
    "np.log1p(np.exp(1)-1)"
   ]
  },
  {
   "cell_type": "markdown",
   "metadata": {},
   "source": [
    "# 표준편차 구하기 (조건 별)"
   ]
  },
  {
   "cell_type": "code",
   "execution_count": 45,
   "metadata": {
    "ExecuteTime": {
     "end_time": "2021-12-03T12:13:35.844929Z",
     "start_time": "2021-12-03T12:13:35.827008Z"
    }
   },
   "outputs": [],
   "source": [
    "df=pd.read_csv('./archive/basic1.csv')"
   ]
  },
  {
   "cell_type": "code",
   "execution_count": 46,
   "metadata": {
    "ExecuteTime": {
     "end_time": "2021-12-03T12:13:40.804423Z",
     "start_time": "2021-12-03T12:13:40.795661Z"
    }
   },
   "outputs": [
    {
     "data": {
      "text/html": [
       "<div>\n",
       "<style scoped>\n",
       "    .dataframe tbody tr th:only-of-type {\n",
       "        vertical-align: middle;\n",
       "    }\n",
       "\n",
       "    .dataframe tbody tr th {\n",
       "        vertical-align: top;\n",
       "    }\n",
       "\n",
       "    .dataframe thead th {\n",
       "        text-align: right;\n",
       "    }\n",
       "</style>\n",
       "<table border=\"1\" class=\"dataframe\">\n",
       "  <thead>\n",
       "    <tr style=\"text-align: right;\">\n",
       "      <th></th>\n",
       "      <th>id</th>\n",
       "      <th>age</th>\n",
       "      <th>city</th>\n",
       "      <th>f1</th>\n",
       "      <th>f2</th>\n",
       "      <th>f3</th>\n",
       "      <th>f4</th>\n",
       "      <th>f5</th>\n",
       "    </tr>\n",
       "  </thead>\n",
       "  <tbody>\n",
       "    <tr>\n",
       "      <th>0</th>\n",
       "      <td>id01</td>\n",
       "      <td>2.0</td>\n",
       "      <td>서울</td>\n",
       "      <td>NaN</td>\n",
       "      <td>0</td>\n",
       "      <td>NaN</td>\n",
       "      <td>ENFJ</td>\n",
       "      <td>91.297791</td>\n",
       "    </tr>\n",
       "    <tr>\n",
       "      <th>1</th>\n",
       "      <td>id02</td>\n",
       "      <td>9.0</td>\n",
       "      <td>서울</td>\n",
       "      <td>70.0</td>\n",
       "      <td>1</td>\n",
       "      <td>NaN</td>\n",
       "      <td>ENFJ</td>\n",
       "      <td>60.339826</td>\n",
       "    </tr>\n",
       "    <tr>\n",
       "      <th>2</th>\n",
       "      <td>id03</td>\n",
       "      <td>27.0</td>\n",
       "      <td>서울</td>\n",
       "      <td>61.0</td>\n",
       "      <td>1</td>\n",
       "      <td>NaN</td>\n",
       "      <td>ISTJ</td>\n",
       "      <td>17.252986</td>\n",
       "    </tr>\n",
       "    <tr>\n",
       "      <th>3</th>\n",
       "      <td>id04</td>\n",
       "      <td>75.0</td>\n",
       "      <td>서울</td>\n",
       "      <td>NaN</td>\n",
       "      <td>2</td>\n",
       "      <td>NaN</td>\n",
       "      <td>INFP</td>\n",
       "      <td>52.667078</td>\n",
       "    </tr>\n",
       "    <tr>\n",
       "      <th>4</th>\n",
       "      <td>id05</td>\n",
       "      <td>24.0</td>\n",
       "      <td>서울</td>\n",
       "      <td>85.0</td>\n",
       "      <td>2</td>\n",
       "      <td>NaN</td>\n",
       "      <td>ISFJ</td>\n",
       "      <td>29.269869</td>\n",
       "    </tr>\n",
       "  </tbody>\n",
       "</table>\n",
       "</div>"
      ],
      "text/plain": [
       "     id   age city    f1  f2   f3    f4         f5\n",
       "0  id01   2.0   서울   NaN   0  NaN  ENFJ  91.297791\n",
       "1  id02   9.0   서울  70.0   1  NaN  ENFJ  60.339826\n",
       "2  id03  27.0   서울  61.0   1  NaN  ISTJ  17.252986\n",
       "3  id04  75.0   서울   NaN   2  NaN  INFP  52.667078\n",
       "4  id05  24.0   서울  85.0   2  NaN  ISFJ  29.269869"
      ]
     },
     "execution_count": 46,
     "metadata": {},
     "output_type": "execute_result"
    }
   ],
   "source": [
    "df.head()"
   ]
  },
  {
   "cell_type": "code",
   "execution_count": 48,
   "metadata": {
    "ExecuteTime": {
     "end_time": "2021-12-03T12:14:45.228914Z",
     "start_time": "2021-12-03T12:14:45.214951Z"
    }
   },
   "outputs": [
    {
     "data": {
      "text/html": [
       "<div>\n",
       "<style scoped>\n",
       "    .dataframe tbody tr th:only-of-type {\n",
       "        vertical-align: middle;\n",
       "    }\n",
       "\n",
       "    .dataframe tbody tr th {\n",
       "        vertical-align: top;\n",
       "    }\n",
       "\n",
       "    .dataframe thead th {\n",
       "        text-align: right;\n",
       "    }\n",
       "</style>\n",
       "<table border=\"1\" class=\"dataframe\">\n",
       "  <thead>\n",
       "    <tr style=\"text-align: right;\">\n",
       "      <th></th>\n",
       "      <th>age</th>\n",
       "      <th>f1</th>\n",
       "      <th>f2</th>\n",
       "      <th>f5</th>\n",
       "    </tr>\n",
       "  </thead>\n",
       "  <tbody>\n",
       "    <tr>\n",
       "      <th>count</th>\n",
       "      <td>6.000000</td>\n",
       "      <td>4.000000</td>\n",
       "      <td>6.000000</td>\n",
       "      <td>6.000000</td>\n",
       "    </tr>\n",
       "    <tr>\n",
       "      <th>mean</th>\n",
       "      <td>48.166667</td>\n",
       "      <td>76.750000</td>\n",
       "      <td>0.333333</td>\n",
       "      <td>48.130763</td>\n",
       "    </tr>\n",
       "    <tr>\n",
       "      <th>std</th>\n",
       "      <td>37.822833</td>\n",
       "      <td>17.727098</td>\n",
       "      <td>0.516398</td>\n",
       "      <td>30.933708</td>\n",
       "    </tr>\n",
       "    <tr>\n",
       "      <th>min</th>\n",
       "      <td>2.000000</td>\n",
       "      <td>55.000000</td>\n",
       "      <td>0.000000</td>\n",
       "      <td>13.049921</td>\n",
       "    </tr>\n",
       "    <tr>\n",
       "      <th>25%</th>\n",
       "      <td>18.500000</td>\n",
       "      <td>66.250000</td>\n",
       "      <td>0.000000</td>\n",
       "      <td>22.218174</td>\n",
       "    </tr>\n",
       "    <tr>\n",
       "      <th>50%</th>\n",
       "      <td>50.000000</td>\n",
       "      <td>79.000000</td>\n",
       "      <td>0.000000</td>\n",
       "      <td>48.726782</td>\n",
       "    </tr>\n",
       "    <tr>\n",
       "      <th>75%</th>\n",
       "      <td>74.000000</td>\n",
       "      <td>89.500000</td>\n",
       "      <td>0.750000</td>\n",
       "      <td>67.382691</td>\n",
       "    </tr>\n",
       "    <tr>\n",
       "      <th>max</th>\n",
       "      <td>97.000000</td>\n",
       "      <td>94.000000</td>\n",
       "      <td>1.000000</td>\n",
       "      <td>91.297791</td>\n",
       "    </tr>\n",
       "  </tbody>\n",
       "</table>\n",
       "</div>"
      ],
      "text/plain": [
       "             age         f1        f2         f5\n",
       "count   6.000000   4.000000  6.000000   6.000000\n",
       "mean   48.166667  76.750000  0.333333  48.130763\n",
       "std    37.822833  17.727098  0.516398  30.933708\n",
       "min     2.000000  55.000000  0.000000  13.049921\n",
       "25%    18.500000  66.250000  0.000000  22.218174\n",
       "50%    50.000000  79.000000  0.000000  48.726782\n",
       "75%    74.000000  89.500000  0.750000  67.382691\n",
       "max    97.000000  94.000000  1.000000  91.297791"
      ]
     },
     "execution_count": 48,
     "metadata": {},
     "output_type": "execute_result"
    }
   ],
   "source": [
    "df[df['f4']=='ENFJ'].describe()"
   ]
  },
  {
   "cell_type": "code",
   "execution_count": 49,
   "metadata": {
    "ExecuteTime": {
     "end_time": "2021-12-03T12:15:33.762174Z",
     "start_time": "2021-12-03T12:15:33.755161Z"
    }
   },
   "outputs": [
    {
     "data": {
      "text/plain": [
       "17.727097901235837"
      ]
     },
     "execution_count": 49,
     "metadata": {},
     "output_type": "execute_result"
    }
   ],
   "source": [
    "df[df['f4']=='ENFJ'].f1.std()"
   ]
  },
  {
   "cell_type": "code",
   "execution_count": 50,
   "metadata": {
    "ExecuteTime": {
     "end_time": "2021-12-03T12:17:11.184401Z",
     "start_time": "2021-12-03T12:17:11.171442Z"
    }
   },
   "outputs": [
    {
     "data": {
      "text/plain": [
       "23.586719427112648"
      ]
     },
     "execution_count": 50,
     "metadata": {},
     "output_type": "execute_result"
    }
   ],
   "source": [
    "df[df['f4']=='INFP'].f1.std()"
   ]
  },
  {
   "cell_type": "code",
   "execution_count": 52,
   "metadata": {
    "ExecuteTime": {
     "end_time": "2021-12-03T12:17:25.904407Z",
     "start_time": "2021-12-03T12:17:25.891479Z"
    }
   },
   "outputs": [
    {
     "data": {
      "text/plain": [
       "5.859621525876811"
      ]
     },
     "execution_count": 52,
     "metadata": {},
     "output_type": "execute_result"
    }
   ],
   "source": [
    "np.abs(df[df['f4']=='ENFJ'].f1.std()-df[df['f4']=='INFP'].f1.std())"
   ]
  },
  {
   "cell_type": "markdown",
   "metadata": {},
   "source": [
    "# 결측치 제거 및 그룹 합계"
   ]
  },
  {
   "cell_type": "code",
   "execution_count": 53,
   "metadata": {
    "ExecuteTime": {
     "end_time": "2021-12-03T12:18:48.414737Z",
     "start_time": "2021-12-03T12:18:48.403734Z"
    }
   },
   "outputs": [],
   "source": [
    "df=pd.read_csv('./archive/basic1.csv')"
   ]
  },
  {
   "cell_type": "code",
   "execution_count": 54,
   "metadata": {
    "ExecuteTime": {
     "end_time": "2021-12-03T12:18:58.316602Z",
     "start_time": "2021-12-03T12:18:58.307651Z"
    }
   },
   "outputs": [
    {
     "data": {
      "text/html": [
       "<div>\n",
       "<style scoped>\n",
       "    .dataframe tbody tr th:only-of-type {\n",
       "        vertical-align: middle;\n",
       "    }\n",
       "\n",
       "    .dataframe tbody tr th {\n",
       "        vertical-align: top;\n",
       "    }\n",
       "\n",
       "    .dataframe thead th {\n",
       "        text-align: right;\n",
       "    }\n",
       "</style>\n",
       "<table border=\"1\" class=\"dataframe\">\n",
       "  <thead>\n",
       "    <tr style=\"text-align: right;\">\n",
       "      <th></th>\n",
       "      <th>id</th>\n",
       "      <th>age</th>\n",
       "      <th>city</th>\n",
       "      <th>f1</th>\n",
       "      <th>f2</th>\n",
       "      <th>f3</th>\n",
       "      <th>f4</th>\n",
       "      <th>f5</th>\n",
       "    </tr>\n",
       "  </thead>\n",
       "  <tbody>\n",
       "    <tr>\n",
       "      <th>95</th>\n",
       "      <td>id96</td>\n",
       "      <td>92.0</td>\n",
       "      <td>경기</td>\n",
       "      <td>53.0</td>\n",
       "      <td>1</td>\n",
       "      <td>NaN</td>\n",
       "      <td>ENTJ</td>\n",
       "      <td>52.667078</td>\n",
       "    </tr>\n",
       "    <tr>\n",
       "      <th>96</th>\n",
       "      <td>id97</td>\n",
       "      <td>100.0</td>\n",
       "      <td>경기</td>\n",
       "      <td>NaN</td>\n",
       "      <td>0</td>\n",
       "      <td>NaN</td>\n",
       "      <td>INFP</td>\n",
       "      <td>67.886373</td>\n",
       "    </tr>\n",
       "    <tr>\n",
       "      <th>97</th>\n",
       "      <td>id98</td>\n",
       "      <td>39.0</td>\n",
       "      <td>경기</td>\n",
       "      <td>58.0</td>\n",
       "      <td>2</td>\n",
       "      <td>NaN</td>\n",
       "      <td>INFP</td>\n",
       "      <td>98.429899</td>\n",
       "    </tr>\n",
       "    <tr>\n",
       "      <th>98</th>\n",
       "      <td>id99</td>\n",
       "      <td>1.0</td>\n",
       "      <td>경기</td>\n",
       "      <td>47.0</td>\n",
       "      <td>0</td>\n",
       "      <td>NaN</td>\n",
       "      <td>ESFJ</td>\n",
       "      <td>97.381034</td>\n",
       "    </tr>\n",
       "    <tr>\n",
       "      <th>99</th>\n",
       "      <td>id100</td>\n",
       "      <td>47.0</td>\n",
       "      <td>경기</td>\n",
       "      <td>53.0</td>\n",
       "      <td>0</td>\n",
       "      <td>vip</td>\n",
       "      <td>ESFP</td>\n",
       "      <td>33.308999</td>\n",
       "    </tr>\n",
       "  </tbody>\n",
       "</table>\n",
       "</div>"
      ],
      "text/plain": [
       "       id    age city    f1  f2   f3    f4         f5\n",
       "95   id96   92.0   경기  53.0   1  NaN  ENTJ  52.667078\n",
       "96   id97  100.0   경기   NaN   0  NaN  INFP  67.886373\n",
       "97   id98   39.0   경기  58.0   2  NaN  INFP  98.429899\n",
       "98   id99    1.0   경기  47.0   0  NaN  ESFJ  97.381034\n",
       "99  id100   47.0   경기  53.0   0  vip  ESFP  33.308999"
      ]
     },
     "execution_count": 54,
     "metadata": {},
     "output_type": "execute_result"
    }
   ],
   "source": [
    "df.tail()"
   ]
  },
  {
   "cell_type": "markdown",
   "metadata": {},
   "source": [
    "## notnull():결측치가 아닌 값"
   ]
  },
  {
   "cell_type": "code",
   "execution_count": 57,
   "metadata": {
    "ExecuteTime": {
     "end_time": "2021-12-03T12:19:37.620164Z",
     "start_time": "2021-12-03T12:19:37.611222Z"
    }
   },
   "outputs": [
    {
     "name": "stdout",
     "output_type": "stream",
     "text": [
      "<class 'pandas.core.frame.DataFrame'>\n",
      "RangeIndex: 100 entries, 0 to 99\n",
      "Data columns (total 8 columns):\n",
      " #   Column  Non-Null Count  Dtype  \n",
      "---  ------  --------------  -----  \n",
      " 0   id      100 non-null    object \n",
      " 1   age     100 non-null    float64\n",
      " 2   city    100 non-null    object \n",
      " 3   f1      69 non-null     float64\n",
      " 4   f2      100 non-null    int64  \n",
      " 5   f3      5 non-null      object \n",
      " 6   f4      100 non-null    object \n",
      " 7   f5      100 non-null    float64\n",
      "dtypes: float64(3), int64(1), object(4)\n",
      "memory usage: 6.4+ KB\n"
     ]
    }
   ],
   "source": [
    "df.info()"
   ]
  },
  {
   "cell_type": "markdown",
   "metadata": {},
   "source": [
    "### sum 함수를 활용한 결측치가 아닌 값들"
   ]
  },
  {
   "cell_type": "code",
   "execution_count": 62,
   "metadata": {
    "ExecuteTime": {
     "end_time": "2021-12-03T12:20:15.638444Z",
     "start_time": "2021-12-03T12:20:15.626451Z"
    }
   },
   "outputs": [
    {
     "data": {
      "text/plain": [
       "69"
      ]
     },
     "execution_count": 62,
     "metadata": {},
     "output_type": "execute_result"
    }
   ],
   "source": [
    "df.f1.notnull().sum(0)"
   ]
  },
  {
   "cell_type": "code",
   "execution_count": 63,
   "metadata": {
    "ExecuteTime": {
     "end_time": "2021-12-03T12:20:24.067067Z",
     "start_time": "2021-12-03T12:20:24.059057Z"
    }
   },
   "outputs": [
    {
     "data": {
      "text/plain": [
       "69"
      ]
     },
     "execution_count": 63,
     "metadata": {},
     "output_type": "execute_result"
    }
   ],
   "source": [
    "df.f1.notnull().sum()"
   ]
  },
  {
   "cell_type": "code",
   "execution_count": 64,
   "metadata": {
    "ExecuteTime": {
     "end_time": "2021-12-03T12:22:05.569057Z",
     "start_time": "2021-12-03T12:22:05.547111Z"
    }
   },
   "outputs": [
    {
     "data": {
      "text/html": [
       "<div>\n",
       "<style scoped>\n",
       "    .dataframe tbody tr th:only-of-type {\n",
       "        vertical-align: middle;\n",
       "    }\n",
       "\n",
       "    .dataframe tbody tr th {\n",
       "        vertical-align: top;\n",
       "    }\n",
       "\n",
       "    .dataframe thead th {\n",
       "        text-align: right;\n",
       "    }\n",
       "</style>\n",
       "<table border=\"1\" class=\"dataframe\">\n",
       "  <thead>\n",
       "    <tr style=\"text-align: right;\">\n",
       "      <th></th>\n",
       "      <th></th>\n",
       "      <th>age</th>\n",
       "      <th>f1</th>\n",
       "      <th>f5</th>\n",
       "    </tr>\n",
       "    <tr>\n",
       "      <th>city</th>\n",
       "      <th>f2</th>\n",
       "      <th></th>\n",
       "      <th></th>\n",
       "      <th></th>\n",
       "    </tr>\n",
       "  </thead>\n",
       "  <tbody>\n",
       "    <tr>\n",
       "      <th rowspan=\"3\" valign=\"top\">경기</th>\n",
       "      <th>0</th>\n",
       "      <td>1088.9</td>\n",
       "      <td>833.0</td>\n",
       "      <td>1391.927648</td>\n",
       "    </tr>\n",
       "    <tr>\n",
       "      <th>1</th>\n",
       "      <td>976.0</td>\n",
       "      <td>670.0</td>\n",
       "      <td>935.958628</td>\n",
       "    </tr>\n",
       "    <tr>\n",
       "      <th>2</th>\n",
       "      <td>239.0</td>\n",
       "      <td>311.0</td>\n",
       "      <td>362.300060</td>\n",
       "    </tr>\n",
       "    <tr>\n",
       "      <th rowspan=\"3\" valign=\"top\">대구</th>\n",
       "      <th>0</th>\n",
       "      <td>578.0</td>\n",
       "      <td>527.0</td>\n",
       "      <td>371.184620</td>\n",
       "    </tr>\n",
       "    <tr>\n",
       "      <th>1</th>\n",
       "      <td>393.6</td>\n",
       "      <td>235.0</td>\n",
       "      <td>404.779978</td>\n",
       "    </tr>\n",
       "    <tr>\n",
       "      <th>2</th>\n",
       "      <td>140.0</td>\n",
       "      <td>211.0</td>\n",
       "      <td>79.667919</td>\n",
       "    </tr>\n",
       "    <tr>\n",
       "      <th rowspan=\"3\" valign=\"top\">부산</th>\n",
       "      <th>0</th>\n",
       "      <td>481.0</td>\n",
       "      <td>389.0</td>\n",
       "      <td>395.272907</td>\n",
       "    </tr>\n",
       "    <tr>\n",
       "      <th>1</th>\n",
       "      <td>430.7</td>\n",
       "      <td>315.0</td>\n",
       "      <td>460.657406</td>\n",
       "    </tr>\n",
       "    <tr>\n",
       "      <th>2</th>\n",
       "      <td>16.5</td>\n",
       "      <td>47.0</td>\n",
       "      <td>101.195372</td>\n",
       "    </tr>\n",
       "    <tr>\n",
       "      <th rowspan=\"3\" valign=\"top\">서울</th>\n",
       "      <th>0</th>\n",
       "      <td>220.0</td>\n",
       "      <td>278.0</td>\n",
       "      <td>484.809540</td>\n",
       "    </tr>\n",
       "    <tr>\n",
       "      <th>1</th>\n",
       "      <td>389.3</td>\n",
       "      <td>534.0</td>\n",
       "      <td>506.371383</td>\n",
       "    </tr>\n",
       "    <tr>\n",
       "      <th>2</th>\n",
       "      <td>143.3</td>\n",
       "      <td>207.0</td>\n",
       "      <td>179.328213</td>\n",
       "    </tr>\n",
       "  </tbody>\n",
       "</table>\n",
       "</div>"
      ],
      "text/plain": [
       "            age     f1           f5\n",
       "city f2                            \n",
       "경기   0   1088.9  833.0  1391.927648\n",
       "     1    976.0  670.0   935.958628\n",
       "     2    239.0  311.0   362.300060\n",
       "대구   0    578.0  527.0   371.184620\n",
       "     1    393.6  235.0   404.779978\n",
       "     2    140.0  211.0    79.667919\n",
       "부산   0    481.0  389.0   395.272907\n",
       "     1    430.7  315.0   460.657406\n",
       "     2     16.5   47.0   101.195372\n",
       "서울   0    220.0  278.0   484.809540\n",
       "     1    389.3  534.0   506.371383\n",
       "     2    143.3  207.0   179.328213"
      ]
     },
     "execution_count": 64,
     "metadata": {},
     "output_type": "execute_result"
    }
   ],
   "source": [
    "df2=df.groupby(['city','f2']).sum()\n",
    "df2"
   ]
  },
  {
   "cell_type": "code",
   "execution_count": 66,
   "metadata": {
    "ExecuteTime": {
     "end_time": "2021-12-03T12:22:28.858370Z",
     "start_time": "2021-12-03T12:22:28.851377Z"
    }
   },
   "outputs": [
    {
     "data": {
      "text/plain": [
       "['age', 'f1', 'f5']"
      ]
     },
     "execution_count": 66,
     "metadata": {},
     "output_type": "execute_result"
    }
   ],
   "source": [
    "list(df2.columns)"
   ]
  },
  {
   "cell_type": "code",
   "execution_count": 69,
   "metadata": {
    "ExecuteTime": {
     "end_time": "2021-12-03T12:23:01.939099Z",
     "start_time": "2021-12-03T12:23:01.931600Z"
    }
   },
   "outputs": [
    {
     "data": {
      "text/plain": [
       "833.0"
      ]
     },
     "execution_count": 69,
     "metadata": {},
     "output_type": "execute_result"
    }
   ],
   "source": [
    "df2.iloc[0][\"f1\"]"
   ]
  },
  {
   "cell_type": "markdown",
   "metadata": {},
   "source": [
    "# 2개이상 조건으로 값 변경하기"
   ]
  },
  {
   "cell_type": "code",
   "execution_count": 73,
   "metadata": {
    "ExecuteTime": {
     "end_time": "2021-12-03T12:25:12.875506Z",
     "start_time": "2021-12-03T12:25:12.858848Z"
    }
   },
   "outputs": [],
   "source": [
    "df=pd.read_csv('./archive/basic1.csv')"
   ]
  },
  {
   "cell_type": "code",
   "execution_count": 75,
   "metadata": {
    "ExecuteTime": {
     "end_time": "2021-12-03T12:28:40.478422Z",
     "start_time": "2021-12-03T12:28:40.458478Z"
    }
   },
   "outputs": [
    {
     "data": {
      "text/html": [
       "<div>\n",
       "<style scoped>\n",
       "    .dataframe tbody tr th:only-of-type {\n",
       "        vertical-align: middle;\n",
       "    }\n",
       "\n",
       "    .dataframe tbody tr th {\n",
       "        vertical-align: top;\n",
       "    }\n",
       "\n",
       "    .dataframe thead th {\n",
       "        text-align: right;\n",
       "    }\n",
       "</style>\n",
       "<table border=\"1\" class=\"dataframe\">\n",
       "  <thead>\n",
       "    <tr style=\"text-align: right;\">\n",
       "      <th></th>\n",
       "      <th>id</th>\n",
       "      <th>age</th>\n",
       "      <th>city</th>\n",
       "      <th>f1</th>\n",
       "      <th>f2</th>\n",
       "      <th>f3</th>\n",
       "      <th>f4</th>\n",
       "      <th>f5</th>\n",
       "    </tr>\n",
       "  </thead>\n",
       "  <tbody>\n",
       "    <tr>\n",
       "      <th>8</th>\n",
       "      <td>id09</td>\n",
       "      <td>3.3</td>\n",
       "      <td>서울</td>\n",
       "      <td>35.0</td>\n",
       "      <td>2</td>\n",
       "      <td>NaN</td>\n",
       "      <td>ESFJ</td>\n",
       "      <td>17.252986</td>\n",
       "    </tr>\n",
       "    <tr>\n",
       "      <th>12</th>\n",
       "      <td>id13</td>\n",
       "      <td>15.0</td>\n",
       "      <td>서울</td>\n",
       "      <td>68.0</td>\n",
       "      <td>0</td>\n",
       "      <td>NaN</td>\n",
       "      <td>ESFJ</td>\n",
       "      <td>83.685380</td>\n",
       "    </tr>\n",
       "    <tr>\n",
       "      <th>30</th>\n",
       "      <td>id31</td>\n",
       "      <td>86.0</td>\n",
       "      <td>부산</td>\n",
       "      <td>77.0</td>\n",
       "      <td>0</td>\n",
       "      <td>NaN</td>\n",
       "      <td>ESFJ</td>\n",
       "      <td>73.586397</td>\n",
       "    </tr>\n",
       "    <tr>\n",
       "      <th>58</th>\n",
       "      <td>id59</td>\n",
       "      <td>64.0</td>\n",
       "      <td>대구</td>\n",
       "      <td>NaN</td>\n",
       "      <td>1</td>\n",
       "      <td>NaN</td>\n",
       "      <td>ESFJ</td>\n",
       "      <td>20.129444</td>\n",
       "    </tr>\n",
       "    <tr>\n",
       "      <th>98</th>\n",
       "      <td>id99</td>\n",
       "      <td>1.0</td>\n",
       "      <td>경기</td>\n",
       "      <td>47.0</td>\n",
       "      <td>0</td>\n",
       "      <td>NaN</td>\n",
       "      <td>ESFJ</td>\n",
       "      <td>97.381034</td>\n",
       "    </tr>\n",
       "  </tbody>\n",
       "</table>\n",
       "</div>"
      ],
      "text/plain": [
       "      id   age city    f1  f2   f3    f4         f5\n",
       "8   id09   3.3   서울  35.0   2  NaN  ESFJ  17.252986\n",
       "12  id13  15.0   서울  68.0   0  NaN  ESFJ  83.685380\n",
       "30  id31  86.0   부산  77.0   0  NaN  ESFJ  73.586397\n",
       "58  id59  64.0   대구   NaN   1  NaN  ESFJ  20.129444\n",
       "98  id99   1.0   경기  47.0   0  NaN  ESFJ  97.381034"
      ]
     },
     "execution_count": 75,
     "metadata": {},
     "output_type": "execute_result"
    }
   ],
   "source": [
    "df[df['f4']==\"ESFJ\"]"
   ]
  },
  {
   "cell_type": "code",
   "execution_count": 78,
   "metadata": {
    "ExecuteTime": {
     "end_time": "2021-12-03T12:29:40.156750Z",
     "start_time": "2021-12-03T12:29:40.139037Z"
    }
   },
   "outputs": [],
   "source": [
    "df['f4'].replace(\"ESFJ\",\"ISFJ\",inplace=True)"
   ]
  },
  {
   "cell_type": "code",
   "execution_count": 79,
   "metadata": {
    "ExecuteTime": {
     "end_time": "2021-12-03T12:29:40.435568Z",
     "start_time": "2021-12-03T12:29:40.427469Z"
    }
   },
   "outputs": [
    {
     "data": {
      "text/plain": [
       "0     ENFJ\n",
       "1     ENFJ\n",
       "2     ISTJ\n",
       "3     INFP\n",
       "4     ISFJ\n",
       "      ... \n",
       "95    ENTJ\n",
       "96    INFP\n",
       "97    INFP\n",
       "98    ISFJ\n",
       "99    ESFP\n",
       "Name: f4, Length: 100, dtype: object"
      ]
     },
     "execution_count": 79,
     "metadata": {},
     "output_type": "execute_result"
    }
   ],
   "source": [
    "df['f4']"
   ]
  },
  {
   "cell_type": "code",
   "execution_count": 81,
   "metadata": {
    "ExecuteTime": {
     "end_time": "2021-12-03T12:30:07.528210Z",
     "start_time": "2021-12-03T12:30:07.515246Z"
    }
   },
   "outputs": [
    {
     "data": {
      "text/plain": [
       "90.0"
      ]
     },
     "execution_count": 81,
     "metadata": {},
     "output_type": "execute_result"
    }
   ],
   "source": [
    "df[(df['f4'] == 'ISFJ') & (df['city'] == '경기')]['age'].max()"
   ]
  },
  {
   "cell_type": "markdown",
   "metadata": {},
   "source": [
    "# 누적합과 보간"
   ]
  },
  {
   "cell_type": "code",
   "execution_count": 84,
   "metadata": {
    "ExecuteTime": {
     "end_time": "2021-12-03T12:31:27.077572Z",
     "start_time": "2021-12-03T12:31:27.067598Z"
    }
   },
   "outputs": [
    {
     "name": "stdout",
     "output_type": "stream",
     "text": [
      "0     NaN\n",
      "1     퇴근후\n",
      "2     NaN\n",
      "3      딴짓\n",
      "4     NaN\n",
      "5      22\n",
      "6     NaN\n",
      "7      45\n",
      "8     NaN\n",
      "9     NaN\n",
      "10     60\n",
      "dtype: object\n"
     ]
    },
    {
     "data": {
      "text/plain": [
       "0     NaN\n",
       "1     퇴근후\n",
       "2     퇴근후\n",
       "3      딴짓\n",
       "4      딴짓\n",
       "5      22\n",
       "6      22\n",
       "7      45\n",
       "8      45\n",
       "9      45\n",
       "10     60\n",
       "dtype: object"
      ]
     },
     "execution_count": 84,
     "metadata": {},
     "output_type": "execute_result"
    }
   ],
   "source": [
    "s = pd.Series([np.nan, \"퇴근후\", np.nan,\"딴짓\", np.nan, 22, np.nan,45, np.nan, np.nan, 60])\n",
    "print(s)\n",
    "s.fillna(method=\"pad\")"
   ]
  },
  {
   "cell_type": "code",
   "execution_count": 89,
   "metadata": {
    "ExecuteTime": {
     "end_time": "2021-12-03T12:32:57.366624Z",
     "start_time": "2021-12-03T12:32:57.347078Z"
    }
   },
   "outputs": [
    {
     "name": "stdout",
     "output_type": "stream",
     "text": [
      "0     NaN\n",
      "1     퇴근후\n",
      "2     NaN\n",
      "3      딴짓\n",
      "4     NaN\n",
      "5      22\n",
      "6     NaN\n",
      "7      45\n",
      "8     NaN\n",
      "9     NaN\n",
      "10     60\n",
      "dtype: object\n"
     ]
    },
    {
     "data": {
      "text/plain": [
       "0     퇴근후\n",
       "1     퇴근후\n",
       "2      딴짓\n",
       "3      딴짓\n",
       "4      22\n",
       "5      22\n",
       "6      45\n",
       "7      45\n",
       "8      60\n",
       "9      60\n",
       "10     60\n",
       "dtype: object"
      ]
     },
     "execution_count": 89,
     "metadata": {},
     "output_type": "execute_result"
    }
   ],
   "source": [
    "s = pd.Series([np.nan, \"퇴근후\", np.nan,\"딴짓\", np.nan, 22, np.nan,45, np.nan, np.nan, 60])\n",
    "print(s)\n",
    "s.fillna(method=\"bfill\")"
   ]
  },
  {
   "cell_type": "code",
   "execution_count": 87,
   "metadata": {
    "ExecuteTime": {
     "end_time": "2021-12-03T12:32:18.777668Z",
     "start_time": "2021-12-03T12:32:18.762799Z"
    }
   },
   "outputs": [
    {
     "data": {
      "text/plain": [
       "0      NaN\n",
       "1     70.0\n",
       "2     61.0\n",
       "3      NaN\n",
       "4     85.0\n",
       "      ... \n",
       "95    53.0\n",
       "96     NaN\n",
       "97    58.0\n",
       "98    47.0\n",
       "99    53.0\n",
       "Name: f1, Length: 100, dtype: float64"
      ]
     },
     "execution_count": 87,
     "metadata": {},
     "output_type": "execute_result"
    }
   ],
   "source": [
    "df=pd.read_csv('./archive/basic1.csv')\n",
    "df.f1"
   ]
  },
  {
   "cell_type": "code",
   "execution_count": 91,
   "metadata": {
    "ExecuteTime": {
     "end_time": "2021-12-03T12:33:23.591371Z",
     "start_time": "2021-12-03T12:33:23.579407Z"
    }
   },
   "outputs": [
    {
     "data": {
      "text/plain": [
       "0        NaN\n",
       "1       70.0\n",
       "2      131.0\n",
       "3        NaN\n",
       "4      216.0\n",
       "       ...  \n",
       "95    4399.0\n",
       "96       NaN\n",
       "97    4457.0\n",
       "98    4504.0\n",
       "99    4557.0\n",
       "Name: f1, Length: 100, dtype: float64"
      ]
     },
     "execution_count": 91,
     "metadata": {},
     "output_type": "execute_result"
    }
   ],
   "source": [
    "df2=df.f1.cumsum()\n",
    "df2"
   ]
  },
  {
   "cell_type": "code",
   "execution_count": 93,
   "metadata": {
    "ExecuteTime": {
     "end_time": "2021-12-03T12:33:42.269634Z",
     "start_time": "2021-12-03T12:33:42.250481Z"
    }
   },
   "outputs": [
    {
     "data": {
      "text/plain": [
       "0        NaN\n",
       "1       70.0\n",
       "2      131.0\n",
       "3      131.0\n",
       "4      216.0\n",
       "       ...  \n",
       "95    4399.0\n",
       "96    4399.0\n",
       "97    4457.0\n",
       "98    4504.0\n",
       "99    4557.0\n",
       "Name: f1, Length: 100, dtype: float64"
      ]
     },
     "execution_count": 93,
     "metadata": {},
     "output_type": "execute_result"
    }
   ],
   "source": [
    "df2.fillna(method='pad')"
   ]
  },
  {
   "cell_type": "markdown",
   "metadata": {},
   "source": [
    "# 수치형 변수 정규화"
   ]
  },
  {
   "cell_type": "code",
   "execution_count": 94,
   "metadata": {
    "ExecuteTime": {
     "end_time": "2021-12-03T12:34:45.542536Z",
     "start_time": "2021-12-03T12:34:42.537656Z"
    }
   },
   "outputs": [
    {
     "name": "stdout",
     "output_type": "stream",
     "text": [
      "StandardScaler()\n",
      "[[-0.73299648 -0.99206078]\n",
      " [-0.69948807 -1.125655  ]\n",
      " [-0.64084835 -0.39830869]\n",
      " [ 0.18848481  0.26966241]\n",
      " [ 2.11521842  0.41810043]\n",
      " [-0.23037032  1.82826164]]\n"
     ]
    }
   ],
   "source": [
    "from sklearn.preprocessing import StandardScaler\n",
    "data = [[0, 2], [0.4, 0.2], [1.1, 10], [11, 19], [34, 21], [6, 40]]\n",
    "scaler = StandardScaler()\n",
    "print(scaler.fit(data))\n",
    "print(scaler.transform(data))"
   ]
  },
  {
   "cell_type": "code",
   "execution_count": 95,
   "metadata": {
    "ExecuteTime": {
     "end_time": "2021-12-03T12:36:45.162773Z",
     "start_time": "2021-12-03T12:36:45.146961Z"
    }
   },
   "outputs": [],
   "source": [
    "df=pd.read_csv('./archive/basic1.csv')"
   ]
  },
  {
   "cell_type": "code",
   "execution_count": 96,
   "metadata": {
    "ExecuteTime": {
     "end_time": "2021-12-03T12:36:54.108577Z",
     "start_time": "2021-12-03T12:36:54.099548Z"
    }
   },
   "outputs": [],
   "source": [
    "from sklearn.preprocessing import StandardScaler\n",
    "scaler = StandardScaler()"
   ]
  },
  {
   "cell_type": "code",
   "execution_count": 99,
   "metadata": {
    "ExecuteTime": {
     "end_time": "2021-12-03T12:37:43.100616Z",
     "start_time": "2021-12-03T12:37:43.083660Z"
    }
   },
   "outputs": [
    {
     "data": {
      "text/plain": [
       "StandardScaler()"
      ]
     },
     "execution_count": 99,
     "metadata": {},
     "output_type": "execute_result"
    }
   ],
   "source": [
    "scaler.fit(df[['f5']])"
   ]
  },
  {
   "cell_type": "code",
   "execution_count": 104,
   "metadata": {
    "ExecuteTime": {
     "end_time": "2021-12-03T12:38:33.676557Z",
     "start_time": "2021-12-03T12:38:33.659665Z"
    }
   },
   "outputs": [],
   "source": [
    "a=scaler.transform(df[['f5']])"
   ]
  },
  {
   "cell_type": "code",
   "execution_count": 106,
   "metadata": {
    "ExecuteTime": {
     "end_time": "2021-12-03T12:39:06.547031Z",
     "start_time": "2021-12-03T12:39:06.538107Z"
    }
   },
   "outputs": [],
   "source": [
    "df['f5']=scaler.transform(df[['f5']])"
   ]
  },
  {
   "cell_type": "code",
   "execution_count": 108,
   "metadata": {
    "ExecuteTime": {
     "end_time": "2021-12-03T12:39:15.297745Z",
     "start_time": "2021-12-03T12:39:15.283782Z"
    }
   },
   "outputs": [
    {
     "data": {
      "text/plain": [
       "0.26061962955901524"
      ]
     },
     "execution_count": 108,
     "metadata": {},
     "output_type": "execute_result"
    }
   ],
   "source": [
    "df['f5'].median()"
   ]
  },
  {
   "cell_type": "code",
   "execution_count": 109,
   "metadata": {
    "ExecuteTime": {
     "end_time": "2021-12-03T12:39:30.674777Z",
     "start_time": "2021-12-03T12:39:30.659786Z"
    }
   },
   "outputs": [
    {
     "data": {
      "text/html": [
       "<div>\n",
       "<style scoped>\n",
       "    .dataframe tbody tr th:only-of-type {\n",
       "        vertical-align: middle;\n",
       "    }\n",
       "\n",
       "    .dataframe tbody tr th {\n",
       "        vertical-align: top;\n",
       "    }\n",
       "\n",
       "    .dataframe thead th {\n",
       "        text-align: right;\n",
       "    }\n",
       "</style>\n",
       "<table border=\"1\" class=\"dataframe\">\n",
       "  <thead>\n",
       "    <tr style=\"text-align: right;\">\n",
       "      <th></th>\n",
       "      <th>age</th>\n",
       "      <th>f1</th>\n",
       "      <th>f2</th>\n",
       "      <th>f5</th>\n",
       "    </tr>\n",
       "  </thead>\n",
       "  <tbody>\n",
       "    <tr>\n",
       "      <th>count</th>\n",
       "      <td>100.000000</td>\n",
       "      <td>69.000000</td>\n",
       "      <td>100.000000</td>\n",
       "      <td>1.000000e+02</td>\n",
       "    </tr>\n",
       "    <tr>\n",
       "      <th>mean</th>\n",
       "      <td>50.963000</td>\n",
       "      <td>66.043478</td>\n",
       "      <td>0.650000</td>\n",
       "      <td>3.164136e-16</td>\n",
       "    </tr>\n",
       "    <tr>\n",
       "      <th>std</th>\n",
       "      <td>30.442759</td>\n",
       "      <td>19.453893</td>\n",
       "      <td>0.715979</td>\n",
       "      <td>1.005038e+00</td>\n",
       "    </tr>\n",
       "    <tr>\n",
       "      <th>min</th>\n",
       "      <td>-13.500000</td>\n",
       "      <td>12.000000</td>\n",
       "      <td>0.000000</td>\n",
       "      <td>-1.657912e+00</td>\n",
       "    </tr>\n",
       "    <tr>\n",
       "      <th>25%</th>\n",
       "      <td>26.875000</td>\n",
       "      <td>51.000000</td>\n",
       "      <td>0.000000</td>\n",
       "      <td>-9.700848e-01</td>\n",
       "    </tr>\n",
       "    <tr>\n",
       "      <th>50%</th>\n",
       "      <td>52.500000</td>\n",
       "      <td>63.000000</td>\n",
       "      <td>1.000000</td>\n",
       "      <td>2.606196e-01</td>\n",
       "    </tr>\n",
       "    <tr>\n",
       "      <th>75%</th>\n",
       "      <td>77.000000</td>\n",
       "      <td>78.000000</td>\n",
       "      <td>1.000000</td>\n",
       "      <td>8.579701e-01</td>\n",
       "    </tr>\n",
       "    <tr>\n",
       "      <th>max</th>\n",
       "      <td>100.000000</td>\n",
       "      <td>111.000000</td>\n",
       "      <td>2.000000</td>\n",
       "      <td>1.472730e+00</td>\n",
       "    </tr>\n",
       "  </tbody>\n",
       "</table>\n",
       "</div>"
      ],
      "text/plain": [
       "              age          f1          f2            f5\n",
       "count  100.000000   69.000000  100.000000  1.000000e+02\n",
       "mean    50.963000   66.043478    0.650000  3.164136e-16\n",
       "std     30.442759   19.453893    0.715979  1.005038e+00\n",
       "min    -13.500000   12.000000    0.000000 -1.657912e+00\n",
       "25%     26.875000   51.000000    0.000000 -9.700848e-01\n",
       "50%     52.500000   63.000000    1.000000  2.606196e-01\n",
       "75%     77.000000   78.000000    1.000000  8.579701e-01\n",
       "max    100.000000  111.000000    2.000000  1.472730e+00"
      ]
     },
     "execution_count": 109,
     "metadata": {},
     "output_type": "execute_result"
    }
   ],
   "source": [
    "df.describe()"
   ]
  },
  {
   "cell_type": "markdown",
   "metadata": {},
   "source": [
    "# 여-존슨 변환 box-cox 변환"
   ]
  },
  {
   "cell_type": "code",
   "execution_count": 110,
   "metadata": {
    "ExecuteTime": {
     "end_time": "2021-12-03T13:25:48.096492Z",
     "start_time": "2021-12-03T13:25:48.073551Z"
    }
   },
   "outputs": [
    {
     "name": "stdout",
     "output_type": "stream",
     "text": [
      "[[-1.27332767 -1.24414502]\n",
      " [ 0.10376846  0.03976901]\n",
      " [ 1.16955921  1.20437601]]\n",
      "[[-1.27548765 -1.24611441]\n",
      " [ 0.1087368   0.04392064]\n",
      " [ 1.16675085  1.20219377]]\n"
     ]
    }
   ],
   "source": [
    "from sklearn.preprocessing import power_transform\n",
    "data = [[11, 12], [23, 22], [34, 35]]\n",
    "print(power_transform(data)) # method 디폴트 값은 여-존슨’yeo-johnson’\n",
    "print(power_transform(data, method='box-cox'))"
   ]
  },
  {
   "cell_type": "code",
   "execution_count": 111,
   "metadata": {
    "ExecuteTime": {
     "end_time": "2021-12-03T13:26:01.526289Z",
     "start_time": "2021-12-03T13:26:01.513290Z"
    }
   },
   "outputs": [
    {
     "data": {
      "text/html": [
       "<div>\n",
       "<style scoped>\n",
       "    .dataframe tbody tr th:only-of-type {\n",
       "        vertical-align: middle;\n",
       "    }\n",
       "\n",
       "    .dataframe tbody tr th {\n",
       "        vertical-align: top;\n",
       "    }\n",
       "\n",
       "    .dataframe thead th {\n",
       "        text-align: right;\n",
       "    }\n",
       "</style>\n",
       "<table border=\"1\" class=\"dataframe\">\n",
       "  <thead>\n",
       "    <tr style=\"text-align: right;\">\n",
       "      <th></th>\n",
       "      <th>id</th>\n",
       "      <th>age</th>\n",
       "      <th>city</th>\n",
       "      <th>f1</th>\n",
       "      <th>f2</th>\n",
       "      <th>f3</th>\n",
       "      <th>f4</th>\n",
       "      <th>f5</th>\n",
       "    </tr>\n",
       "  </thead>\n",
       "  <tbody>\n",
       "    <tr>\n",
       "      <th>0</th>\n",
       "      <td>id01</td>\n",
       "      <td>2.0</td>\n",
       "      <td>서울</td>\n",
       "      <td>NaN</td>\n",
       "      <td>0</td>\n",
       "      <td>NaN</td>\n",
       "      <td>ENFJ</td>\n",
       "      <td>91.297791</td>\n",
       "    </tr>\n",
       "    <tr>\n",
       "      <th>1</th>\n",
       "      <td>id02</td>\n",
       "      <td>9.0</td>\n",
       "      <td>서울</td>\n",
       "      <td>70.0</td>\n",
       "      <td>1</td>\n",
       "      <td>NaN</td>\n",
       "      <td>ENFJ</td>\n",
       "      <td>60.339826</td>\n",
       "    </tr>\n",
       "    <tr>\n",
       "      <th>2</th>\n",
       "      <td>id03</td>\n",
       "      <td>27.0</td>\n",
       "      <td>서울</td>\n",
       "      <td>61.0</td>\n",
       "      <td>1</td>\n",
       "      <td>NaN</td>\n",
       "      <td>ISTJ</td>\n",
       "      <td>17.252986</td>\n",
       "    </tr>\n",
       "    <tr>\n",
       "      <th>3</th>\n",
       "      <td>id04</td>\n",
       "      <td>75.0</td>\n",
       "      <td>서울</td>\n",
       "      <td>NaN</td>\n",
       "      <td>2</td>\n",
       "      <td>NaN</td>\n",
       "      <td>INFP</td>\n",
       "      <td>52.667078</td>\n",
       "    </tr>\n",
       "    <tr>\n",
       "      <th>4</th>\n",
       "      <td>id05</td>\n",
       "      <td>24.0</td>\n",
       "      <td>서울</td>\n",
       "      <td>85.0</td>\n",
       "      <td>2</td>\n",
       "      <td>NaN</td>\n",
       "      <td>ISFJ</td>\n",
       "      <td>29.269869</td>\n",
       "    </tr>\n",
       "  </tbody>\n",
       "</table>\n",
       "</div>"
      ],
      "text/plain": [
       "     id   age city    f1  f2   f3    f4         f5\n",
       "0  id01   2.0   서울   NaN   0  NaN  ENFJ  91.297791\n",
       "1  id02   9.0   서울  70.0   1  NaN  ENFJ  60.339826\n",
       "2  id03  27.0   서울  61.0   1  NaN  ISTJ  17.252986\n",
       "3  id04  75.0   서울   NaN   2  NaN  INFP  52.667078\n",
       "4  id05  24.0   서울  85.0   2  NaN  ISFJ  29.269869"
      ]
     },
     "execution_count": 111,
     "metadata": {},
     "output_type": "execute_result"
    }
   ],
   "source": [
    "df=pd.read_csv('./archive/basic1.csv')\n",
    "df.head(5)"
   ]
  },
  {
   "cell_type": "code",
   "execution_count": 112,
   "metadata": {
    "ExecuteTime": {
     "end_time": "2021-12-03T13:26:51.024729Z",
     "start_time": "2021-12-03T13:26:51.018734Z"
    }
   },
   "outputs": [
    {
     "name": "stdout",
     "output_type": "stream",
     "text": [
      "조건 적용 전 :  (100, 8)\n",
      "조건 적용 후 :  (83, 8)\n"
     ]
    }
   ],
   "source": [
    "print(\"조건 적용 전 : \",df.shape)\n",
    "df=df[df['age']>=20]\n",
    "print(\"조건 적용 후 : \",df.shape)"
   ]
  },
  {
   "cell_type": "markdown",
   "metadata": {},
   "source": [
    "## 최빈 값으로 결측치 대체"
   ]
  },
  {
   "cell_type": "markdown",
   "metadata": {
    "ExecuteTime": {
     "end_time": "2021-12-03T13:27:22.870896Z",
     "start_time": "2021-12-03T13:27:22.858938Z"
    }
   },
   "source": [
    "### .mode():최빈값"
   ]
  },
  {
   "cell_type": "code",
   "execution_count": 125,
   "metadata": {
    "ExecuteTime": {
     "end_time": "2021-12-03T13:34:01.492020Z",
     "start_time": "2021-12-03T13:34:01.472457Z"
    }
   },
   "outputs": [
    {
     "data": {
      "text/plain": [
       "RangeIndex(start=0, stop=1, step=1)"
      ]
     },
     "execution_count": 125,
     "metadata": {},
     "output_type": "execute_result"
    }
   ],
   "source": [
    "# 결측치 확인\n",
    "df.isnull().sum()\n",
    "df.f1.mode().index"
   ]
  },
  {
   "cell_type": "code",
   "execution_count": 127,
   "metadata": {
    "ExecuteTime": {
     "end_time": "2021-12-03T13:34:55.536166Z",
     "start_time": "2021-12-03T13:34:55.521133Z"
    }
   },
   "outputs": [
    {
     "data": {
      "text/plain": [
       "2     61.0\n",
       "3     50.0\n",
       "4     85.0\n",
       "5     57.0\n",
       "6     60.0\n",
       "      ... \n",
       "94    43.0\n",
       "95    53.0\n",
       "96    50.0\n",
       "97    58.0\n",
       "99    53.0\n",
       "Name: f1, Length: 83, dtype: float64"
      ]
     },
     "execution_count": 127,
     "metadata": {},
     "output_type": "execute_result"
    }
   ],
   "source": [
    "df['f1']=df['f1'].fillna(df['f1'].mode()[0])\n",
    "df['f1']"
   ]
  },
  {
   "cell_type": "code",
   "execution_count": 128,
   "metadata": {
    "ExecuteTime": {
     "end_time": "2021-12-03T13:35:27.590748Z",
     "start_time": "2021-12-03T13:35:27.583762Z"
    }
   },
   "outputs": [],
   "source": [
    "from scipy import stats\n",
    "x = stats.boxcox(df['f1'])"
   ]
  },
  {
   "cell_type": "code",
   "execution_count": 129,
   "metadata": {
    "ExecuteTime": {
     "end_time": "2021-12-03T13:35:28.840860Z",
     "start_time": "2021-12-03T13:35:28.824872Z"
    }
   },
   "outputs": [
    {
     "data": {
      "text/plain": [
       "(array([21.06708953, 18.3052633 , 26.5576802 , 20.08437298, 20.82354507,\n",
       "        29.92014513, 24.11822132, 22.73510562, 18.3052633 , 18.3052633 ,\n",
       "        22.50057055, 26.5576802 , 18.3052633 , 26.9892231 , 18.3052633 ,\n",
       "        18.3052633 , 24.34492271, 16.71079147, 18.3052633 , 20.08437298,\n",
       "        20.82354507, 13.87430348, 24.79522889, 21.78961583, 28.47348918,\n",
       "        18.3052633 , 18.3052633 , 24.79522889, 18.3052633 , 18.3052633 ,\n",
       "        18.3052633 , 24.34492271, 19.58413896, 17.78149164, 20.82354507,\n",
       "        18.3052633 , 27.20371216, 18.3052633 , 24.34492271, 27.20371216,\n",
       "        25.01886978, 18.3052633 , 25.90374843, 18.3052633 , 18.3052633 ,\n",
       "        21.55009581, 18.3052633 , 18.3052633 , 18.3052633 , 21.30926323,\n",
       "        18.3052633 , 26.77388356, 21.30926323, 18.3052633 , 18.3052633 ,\n",
       "        18.82186921, 16.9815023 , 26.5576802 , 26.34059934, 18.3052633 ,\n",
       "        29.30451924, 17.51679379,  6.25392521, 12.96923726, 28.89049447,\n",
       "        18.3052633 , 20.82354507, 18.3052633 , 18.3052633 , 18.3052633 ,\n",
       "        16.71079147, 19.58413896, 24.34492271, 22.26482716, 18.3052633 ,\n",
       "        25.01886978, 20.08437298, 18.3052633 , 16.43795391, 19.07760136,\n",
       "        18.3052633 , 20.33221948, 19.07760136]),\n",
       " 0.6557192658257479)"
      ]
     },
     "execution_count": 129,
     "metadata": {},
     "output_type": "execute_result"
    }
   ],
   "source": [
    "x"
   ]
  },
  {
   "cell_type": "markdown",
   "metadata": {},
   "source": [
    "# min-max scaling"
   ]
  },
  {
   "cell_type": "code",
   "execution_count": 130,
   "metadata": {
    "ExecuteTime": {
     "end_time": "2021-12-03T13:36:22.629980Z",
     "start_time": "2021-12-03T13:36:22.607935Z"
    }
   },
   "outputs": [
    {
     "data": {
      "text/html": [
       "<div>\n",
       "<style scoped>\n",
       "    .dataframe tbody tr th:only-of-type {\n",
       "        vertical-align: middle;\n",
       "    }\n",
       "\n",
       "    .dataframe tbody tr th {\n",
       "        vertical-align: top;\n",
       "    }\n",
       "\n",
       "    .dataframe thead th {\n",
       "        text-align: right;\n",
       "    }\n",
       "</style>\n",
       "<table border=\"1\" class=\"dataframe\">\n",
       "  <thead>\n",
       "    <tr style=\"text-align: right;\">\n",
       "      <th></th>\n",
       "      <th>id</th>\n",
       "      <th>age</th>\n",
       "      <th>city</th>\n",
       "      <th>f1</th>\n",
       "      <th>f2</th>\n",
       "      <th>f3</th>\n",
       "      <th>f4</th>\n",
       "      <th>f5</th>\n",
       "    </tr>\n",
       "  </thead>\n",
       "  <tbody>\n",
       "    <tr>\n",
       "      <th>0</th>\n",
       "      <td>id01</td>\n",
       "      <td>2.0</td>\n",
       "      <td>서울</td>\n",
       "      <td>NaN</td>\n",
       "      <td>0</td>\n",
       "      <td>NaN</td>\n",
       "      <td>ENFJ</td>\n",
       "      <td>91.297791</td>\n",
       "    </tr>\n",
       "    <tr>\n",
       "      <th>1</th>\n",
       "      <td>id02</td>\n",
       "      <td>9.0</td>\n",
       "      <td>서울</td>\n",
       "      <td>70.0</td>\n",
       "      <td>1</td>\n",
       "      <td>NaN</td>\n",
       "      <td>ENFJ</td>\n",
       "      <td>60.339826</td>\n",
       "    </tr>\n",
       "    <tr>\n",
       "      <th>2</th>\n",
       "      <td>id03</td>\n",
       "      <td>27.0</td>\n",
       "      <td>서울</td>\n",
       "      <td>61.0</td>\n",
       "      <td>1</td>\n",
       "      <td>NaN</td>\n",
       "      <td>ISTJ</td>\n",
       "      <td>17.252986</td>\n",
       "    </tr>\n",
       "    <tr>\n",
       "      <th>3</th>\n",
       "      <td>id04</td>\n",
       "      <td>75.0</td>\n",
       "      <td>서울</td>\n",
       "      <td>NaN</td>\n",
       "      <td>2</td>\n",
       "      <td>NaN</td>\n",
       "      <td>INFP</td>\n",
       "      <td>52.667078</td>\n",
       "    </tr>\n",
       "    <tr>\n",
       "      <th>4</th>\n",
       "      <td>id05</td>\n",
       "      <td>24.0</td>\n",
       "      <td>서울</td>\n",
       "      <td>85.0</td>\n",
       "      <td>2</td>\n",
       "      <td>NaN</td>\n",
       "      <td>ISFJ</td>\n",
       "      <td>29.269869</td>\n",
       "    </tr>\n",
       "  </tbody>\n",
       "</table>\n",
       "</div>"
      ],
      "text/plain": [
       "     id   age city    f1  f2   f3    f4         f5\n",
       "0  id01   2.0   서울   NaN   0  NaN  ENFJ  91.297791\n",
       "1  id02   9.0   서울  70.0   1  NaN  ENFJ  60.339826\n",
       "2  id03  27.0   서울  61.0   1  NaN  ISTJ  17.252986\n",
       "3  id04  75.0   서울   NaN   2  NaN  INFP  52.667078\n",
       "4  id05  24.0   서울  85.0   2  NaN  ISFJ  29.269869"
      ]
     },
     "execution_count": 130,
     "metadata": {},
     "output_type": "execute_result"
    }
   ],
   "source": [
    "df=pd.read_csv('./archive/basic1.csv')\n",
    "df.head(5)"
   ]
  },
  {
   "cell_type": "code",
   "execution_count": 131,
   "metadata": {
    "ExecuteTime": {
     "end_time": "2021-12-03T13:36:48.681713Z",
     "start_time": "2021-12-03T13:36:48.672737Z"
    }
   },
   "outputs": [],
   "source": [
    "from sklearn.preprocessing import MinMaxScaler"
   ]
  },
  {
   "cell_type": "code",
   "execution_count": 132,
   "metadata": {
    "ExecuteTime": {
     "end_time": "2021-12-03T13:36:56.481319Z",
     "start_time": "2021-12-03T13:36:56.465330Z"
    }
   },
   "outputs": [],
   "source": [
    "scaler=MinMaxScaler()"
   ]
  },
  {
   "cell_type": "code",
   "execution_count": 133,
   "metadata": {
    "ExecuteTime": {
     "end_time": "2021-12-03T13:37:15.001279Z",
     "start_time": "2021-12-03T13:37:14.985289Z"
    }
   },
   "outputs": [
    {
     "data": {
      "text/plain": [
       "count    100.000000\n",
       "mean      56.734537\n",
       "std       28.454244\n",
       "min        9.796378\n",
       "25%       29.269869\n",
       "50%       64.113099\n",
       "75%       81.025055\n",
       "max       98.429899\n",
       "Name: f5, dtype: float64"
      ]
     },
     "execution_count": 133,
     "metadata": {},
     "output_type": "execute_result"
    }
   ],
   "source": [
    "df['f5'].describe()"
   ]
  },
  {
   "cell_type": "code",
   "execution_count": 134,
   "metadata": {
    "ExecuteTime": {
     "end_time": "2021-12-03T13:37:38.844247Z",
     "start_time": "2021-12-03T13:37:38.840257Z"
    }
   },
   "outputs": [
    {
     "data": {
      "text/plain": [
       "0"
      ]
     },
     "execution_count": 134,
     "metadata": {},
     "output_type": "execute_result"
    }
   ],
   "source": [
    "df['f5'].isnull().sum()"
   ]
  },
  {
   "cell_type": "code",
   "execution_count": 135,
   "metadata": {
    "ExecuteTime": {
     "end_time": "2021-12-03T13:38:25.890472Z",
     "start_time": "2021-12-03T13:38:25.873472Z"
    }
   },
   "outputs": [
    {
     "data": {
      "text/plain": [
       "0     0.919533\n",
       "1     0.570252\n",
       "2     0.084129\n",
       "3     0.483685\n",
       "4     0.219708\n",
       "        ...   \n",
       "95    0.483685\n",
       "96    0.655395\n",
       "97    1.000000\n",
       "98    0.988166\n",
       "99    0.265279\n",
       "Name: f5_1, Length: 100, dtype: float64"
      ]
     },
     "execution_count": 135,
     "metadata": {},
     "output_type": "execute_result"
    }
   ],
   "source": [
    "df['f5_1']=scaler.fit_transform(df[['f5']])\n",
    "df['f5_1']"
   ]
  },
  {
   "cell_type": "code",
   "execution_count": null,
   "metadata": {},
   "outputs": [],
   "source": []
  },
  {
   "cell_type": "code",
   "execution_count": 139,
   "metadata": {
    "ExecuteTime": {
     "end_time": "2021-12-03T13:39:43.179431Z",
     "start_time": "2021-12-03T13:39:43.160511Z"
    }
   },
   "outputs": [
    {
     "name": "stdout",
     "output_type": "stream",
     "text": [
      "0.03670782406038746\n"
     ]
    }
   ],
   "source": [
    "print(df['f5_1'].quantile(0.05))\n",
    "lower=df['f5_1'].quantile(0.05)"
   ]
  },
  {
   "cell_type": "code",
   "execution_count": 141,
   "metadata": {
    "ExecuteTime": {
     "end_time": "2021-12-03T13:39:51.046312Z",
     "start_time": "2021-12-03T13:39:51.041293Z"
    }
   },
   "outputs": [
    {
     "name": "stdout",
     "output_type": "stream",
     "text": [
      "0.9881662742993513\n"
     ]
    }
   ],
   "source": [
    "print(df['f5_1'].quantile(0.95))\n",
    "higher=df['f5_1'].quantile(0.95)"
   ]
  },
  {
   "cell_type": "code",
   "execution_count": 142,
   "metadata": {
    "ExecuteTime": {
     "end_time": "2021-12-03T13:40:04.627121Z",
     "start_time": "2021-12-03T13:40:04.609138Z"
    }
   },
   "outputs": [
    {
     "data": {
      "text/plain": [
       "1.0248740983597389"
      ]
     },
     "execution_count": 142,
     "metadata": {},
     "output_type": "execute_result"
    }
   ],
   "source": [
    "lower+higher"
   ]
  },
  {
   "cell_type": "markdown",
   "metadata": {},
   "source": [
    "# 상위10개 하위 10개 행 평균 차이"
   ]
  },
  {
   "cell_type": "code",
   "execution_count": 206,
   "metadata": {
    "ExecuteTime": {
     "end_time": "2021-12-03T14:16:53.155372Z",
     "start_time": "2021-12-03T14:16:53.128864Z"
    }
   },
   "outputs": [
    {
     "data": {
      "text/html": [
       "<div>\n",
       "<style scoped>\n",
       "    .dataframe tbody tr th:only-of-type {\n",
       "        vertical-align: middle;\n",
       "    }\n",
       "\n",
       "    .dataframe tbody tr th {\n",
       "        vertical-align: top;\n",
       "    }\n",
       "\n",
       "    .dataframe thead th {\n",
       "        text-align: right;\n",
       "    }\n",
       "</style>\n",
       "<table border=\"1\" class=\"dataframe\">\n",
       "  <thead>\n",
       "    <tr style=\"text-align: right;\">\n",
       "      <th></th>\n",
       "      <th>Unnamed: 0</th>\n",
       "      <th>country</th>\n",
       "      <th>iso_code</th>\n",
       "      <th>date</th>\n",
       "      <th>total_vaccinations</th>\n",
       "      <th>people_vaccinated</th>\n",
       "      <th>people_fully_vaccinated</th>\n",
       "      <th>New_deaths</th>\n",
       "      <th>population</th>\n",
       "      <th>ratio</th>\n",
       "    </tr>\n",
       "  </thead>\n",
       "  <tbody>\n",
       "    <tr>\n",
       "      <th>0</th>\n",
       "      <td>0</td>\n",
       "      <td>Afghanistan</td>\n",
       "      <td>AFG</td>\n",
       "      <td>2021-05-11</td>\n",
       "      <td>504502.0</td>\n",
       "      <td>448878.0</td>\n",
       "      <td>55624.0</td>\n",
       "      <td>12</td>\n",
       "      <td>40094444.0</td>\n",
       "      <td>1.119552</td>\n",
       "    </tr>\n",
       "    <tr>\n",
       "      <th>1</th>\n",
       "      <td>1</td>\n",
       "      <td>Afghanistan</td>\n",
       "      <td>AFG</td>\n",
       "      <td>2021-05-20</td>\n",
       "      <td>547901.0</td>\n",
       "      <td>470341.0</td>\n",
       "      <td>77560.0</td>\n",
       "      <td>10</td>\n",
       "      <td>40094444.0</td>\n",
       "      <td>1.173083</td>\n",
       "    </tr>\n",
       "    <tr>\n",
       "      <th>2</th>\n",
       "      <td>2</td>\n",
       "      <td>Afghanistan</td>\n",
       "      <td>AFG</td>\n",
       "      <td>2021-05-24</td>\n",
       "      <td>573277.0</td>\n",
       "      <td>476367.0</td>\n",
       "      <td>96910.0</td>\n",
       "      <td>10</td>\n",
       "      <td>40094444.0</td>\n",
       "      <td>1.188112</td>\n",
       "    </tr>\n",
       "    <tr>\n",
       "      <th>3</th>\n",
       "      <td>3</td>\n",
       "      <td>Afghanistan</td>\n",
       "      <td>AFG</td>\n",
       "      <td>2021-05-26</td>\n",
       "      <td>590454.0</td>\n",
       "      <td>479372.0</td>\n",
       "      <td>111082.0</td>\n",
       "      <td>19</td>\n",
       "      <td>40094444.0</td>\n",
       "      <td>1.195607</td>\n",
       "    </tr>\n",
       "    <tr>\n",
       "      <th>4</th>\n",
       "      <td>4</td>\n",
       "      <td>Afghanistan</td>\n",
       "      <td>AFG</td>\n",
       "      <td>2021-05-27</td>\n",
       "      <td>593313.0</td>\n",
       "      <td>479574.0</td>\n",
       "      <td>113739.0</td>\n",
       "      <td>14</td>\n",
       "      <td>40094444.0</td>\n",
       "      <td>1.196111</td>\n",
       "    </tr>\n",
       "  </tbody>\n",
       "</table>\n",
       "</div>"
      ],
      "text/plain": [
       "   Unnamed: 0      country iso_code        date  total_vaccinations  \\\n",
       "0           0  Afghanistan      AFG  2021-05-11            504502.0   \n",
       "1           1  Afghanistan      AFG  2021-05-20            547901.0   \n",
       "2           2  Afghanistan      AFG  2021-05-24            573277.0   \n",
       "3           3  Afghanistan      AFG  2021-05-26            590454.0   \n",
       "4           4  Afghanistan      AFG  2021-05-27            593313.0   \n",
       "\n",
       "   people_vaccinated  people_fully_vaccinated  New_deaths  population  \\\n",
       "0           448878.0                  55624.0          12  40094444.0   \n",
       "1           470341.0                  77560.0          10  40094444.0   \n",
       "2           476367.0                  96910.0          10  40094444.0   \n",
       "3           479372.0                 111082.0          19  40094444.0   \n",
       "4           479574.0                 113739.0          14  40094444.0   \n",
       "\n",
       "      ratio  \n",
       "0  1.119552  \n",
       "1  1.173083  \n",
       "2  1.188112  \n",
       "3  1.195607  \n",
       "4  1.196111  "
      ]
     },
     "execution_count": 206,
     "metadata": {},
     "output_type": "execute_result"
    }
   ],
   "source": [
    "df=pd.read_csv('covid_vaccination_vs_death_ratio.csv')\n",
    "df.head(5)"
   ]
  },
  {
   "cell_type": "code",
   "execution_count": 207,
   "metadata": {
    "ExecuteTime": {
     "end_time": "2021-12-03T14:16:53.327217Z",
     "start_time": "2021-12-03T14:16:53.313218Z"
    }
   },
   "outputs": [
    {
     "name": "stdout",
     "output_type": "stream",
     "text": [
      "<class 'pandas.core.frame.DataFrame'>\n",
      "RangeIndex: 20332 entries, 0 to 20331\n",
      "Data columns (total 10 columns):\n",
      " #   Column                   Non-Null Count  Dtype  \n",
      "---  ------                   --------------  -----  \n",
      " 0   Unnamed: 0               20332 non-null  int64  \n",
      " 1   country                  20332 non-null  object \n",
      " 2   iso_code                 20332 non-null  object \n",
      " 3   date                     20332 non-null  object \n",
      " 4   total_vaccinations       20332 non-null  float64\n",
      " 5   people_vaccinated        20332 non-null  float64\n",
      " 6   people_fully_vaccinated  20332 non-null  float64\n",
      " 7   New_deaths               20332 non-null  int64  \n",
      " 8   population               20332 non-null  float64\n",
      " 9   ratio                    20332 non-null  float64\n",
      "dtypes: float64(5), int64(2), object(3)\n",
      "memory usage: 1.6+ MB\n"
     ]
    }
   ],
   "source": [
    "df.info()"
   ]
  },
  {
   "cell_type": "code",
   "execution_count": 208,
   "metadata": {
    "ExecuteTime": {
     "end_time": "2021-12-03T14:16:53.498876Z",
     "start_time": "2021-12-03T14:16:53.479935Z"
    }
   },
   "outputs": [
    {
     "data": {
      "text/html": [
       "<div>\n",
       "<style scoped>\n",
       "    .dataframe tbody tr th:only-of-type {\n",
       "        vertical-align: middle;\n",
       "    }\n",
       "\n",
       "    .dataframe tbody tr th {\n",
       "        vertical-align: top;\n",
       "    }\n",
       "\n",
       "    .dataframe thead th {\n",
       "        text-align: right;\n",
       "    }\n",
       "</style>\n",
       "<table border=\"1\" class=\"dataframe\">\n",
       "  <thead>\n",
       "    <tr style=\"text-align: right;\">\n",
       "      <th></th>\n",
       "      <th>Unnamed: 0</th>\n",
       "      <th>total_vaccinations</th>\n",
       "      <th>people_vaccinated</th>\n",
       "      <th>people_fully_vaccinated</th>\n",
       "      <th>New_deaths</th>\n",
       "      <th>population</th>\n",
       "      <th>ratio</th>\n",
       "    </tr>\n",
       "  </thead>\n",
       "  <tbody>\n",
       "    <tr>\n",
       "      <th>count</th>\n",
       "      <td>20332.000000</td>\n",
       "      <td>2.033200e+04</td>\n",
       "      <td>2.033200e+04</td>\n",
       "      <td>2.033200e+04</td>\n",
       "      <td>20332.000000</td>\n",
       "      <td>2.033200e+04</td>\n",
       "      <td>20332.000000</td>\n",
       "    </tr>\n",
       "    <tr>\n",
       "      <th>mean</th>\n",
       "      <td>10165.500000</td>\n",
       "      <td>1.798981e+07</td>\n",
       "      <td>1.155247e+07</td>\n",
       "      <td>6.571098e+06</td>\n",
       "      <td>108.781871</td>\n",
       "      <td>4.863896e+07</td>\n",
       "      <td>29.920624</td>\n",
       "    </tr>\n",
       "    <tr>\n",
       "      <th>std</th>\n",
       "      <td>5869.487172</td>\n",
       "      <td>6.328884e+07</td>\n",
       "      <td>4.242151e+07</td>\n",
       "      <td>2.284904e+07</td>\n",
       "      <td>353.037676</td>\n",
       "      <td>1.559664e+08</td>\n",
       "      <td>24.936193</td>\n",
       "    </tr>\n",
       "    <tr>\n",
       "      <th>min</th>\n",
       "      <td>0.000000</td>\n",
       "      <td>1.630000e+02</td>\n",
       "      <td>1.620000e+02</td>\n",
       "      <td>1.000000e+00</td>\n",
       "      <td>-41.000000</td>\n",
       "      <td>1.619000e+03</td>\n",
       "      <td>0.003023</td>\n",
       "    </tr>\n",
       "    <tr>\n",
       "      <th>25%</th>\n",
       "      <td>5082.750000</td>\n",
       "      <td>4.106325e+05</td>\n",
       "      <td>2.971550e+05</td>\n",
       "      <td>9.506200e+04</td>\n",
       "      <td>1.000000</td>\n",
       "      <td>2.871380e+06</td>\n",
       "      <td>7.197272</td>\n",
       "    </tr>\n",
       "    <tr>\n",
       "      <th>50%</th>\n",
       "      <td>10165.500000</td>\n",
       "      <td>2.363600e+06</td>\n",
       "      <td>1.548864e+06</td>\n",
       "      <td>7.438710e+05</td>\n",
       "      <td>10.000000</td>\n",
       "      <td>1.015944e+07</td>\n",
       "      <td>24.266101</td>\n",
       "    </tr>\n",
       "    <tr>\n",
       "      <th>75%</th>\n",
       "      <td>15248.250000</td>\n",
       "      <td>1.059296e+07</td>\n",
       "      <td>6.060886e+06</td>\n",
       "      <td>4.137016e+06</td>\n",
       "      <td>58.000000</td>\n",
       "      <td>3.816076e+07</td>\n",
       "      <td>50.225309</td>\n",
       "    </tr>\n",
       "    <tr>\n",
       "      <th>max</th>\n",
       "      <td>20331.000000</td>\n",
       "      <td>2.174043e+09</td>\n",
       "      <td>1.100842e+09</td>\n",
       "      <td>1.022207e+09</td>\n",
       "      <td>8786.000000</td>\n",
       "      <td>1.445585e+09</td>\n",
       "      <td>118.567868</td>\n",
       "    </tr>\n",
       "  </tbody>\n",
       "</table>\n",
       "</div>"
      ],
      "text/plain": [
       "         Unnamed: 0  total_vaccinations  people_vaccinated  \\\n",
       "count  20332.000000        2.033200e+04       2.033200e+04   \n",
       "mean   10165.500000        1.798981e+07       1.155247e+07   \n",
       "std     5869.487172        6.328884e+07       4.242151e+07   \n",
       "min        0.000000        1.630000e+02       1.620000e+02   \n",
       "25%     5082.750000        4.106325e+05       2.971550e+05   \n",
       "50%    10165.500000        2.363600e+06       1.548864e+06   \n",
       "75%    15248.250000        1.059296e+07       6.060886e+06   \n",
       "max    20331.000000        2.174043e+09       1.100842e+09   \n",
       "\n",
       "       people_fully_vaccinated    New_deaths    population         ratio  \n",
       "count             2.033200e+04  20332.000000  2.033200e+04  20332.000000  \n",
       "mean              6.571098e+06    108.781871  4.863896e+07     29.920624  \n",
       "std               2.284904e+07    353.037676  1.559664e+08     24.936193  \n",
       "min               1.000000e+00    -41.000000  1.619000e+03      0.003023  \n",
       "25%               9.506200e+04      1.000000  2.871380e+06      7.197272  \n",
       "50%               7.438710e+05     10.000000  1.015944e+07     24.266101  \n",
       "75%               4.137016e+06     58.000000  3.816076e+07     50.225309  \n",
       "max               1.022207e+09   8786.000000  1.445585e+09    118.567868  "
      ]
     },
     "execution_count": 208,
     "metadata": {},
     "output_type": "execute_result"
    }
   ],
   "source": [
    "df.describe()"
   ]
  },
  {
   "cell_type": "code",
   "execution_count": 209,
   "metadata": {
    "ExecuteTime": {
     "end_time": "2021-12-03T14:16:54.596920Z",
     "start_time": "2021-12-03T14:16:54.576875Z"
    }
   },
   "outputs": [
    {
     "data": {
      "text/html": [
       "<div>\n",
       "<style scoped>\n",
       "    .dataframe tbody tr th:only-of-type {\n",
       "        vertical-align: middle;\n",
       "    }\n",
       "\n",
       "    .dataframe tbody tr th {\n",
       "        vertical-align: top;\n",
       "    }\n",
       "\n",
       "    .dataframe thead th {\n",
       "        text-align: right;\n",
       "    }\n",
       "</style>\n",
       "<table border=\"1\" class=\"dataframe\">\n",
       "  <thead>\n",
       "    <tr style=\"text-align: right;\">\n",
       "      <th></th>\n",
       "      <th>Unnamed: 0</th>\n",
       "      <th>total_vaccinations</th>\n",
       "      <th>people_vaccinated</th>\n",
       "      <th>people_fully_vaccinated</th>\n",
       "      <th>New_deaths</th>\n",
       "      <th>population</th>\n",
       "      <th>ratio</th>\n",
       "    </tr>\n",
       "  </thead>\n",
       "  <tbody>\n",
       "    <tr>\n",
       "      <th>Unnamed: 0</th>\n",
       "      <td>1.000000</td>\n",
       "      <td>0.059861</td>\n",
       "      <td>0.043005</td>\n",
       "      <td>0.090210</td>\n",
       "      <td>0.028123</td>\n",
       "      <td>0.012708</td>\n",
       "      <td>-0.064151</td>\n",
       "    </tr>\n",
       "    <tr>\n",
       "      <th>total_vaccinations</th>\n",
       "      <td>0.059861</td>\n",
       "      <td>1.000000</td>\n",
       "      <td>0.985602</td>\n",
       "      <td>0.948243</td>\n",
       "      <td>0.305047</td>\n",
       "      <td>0.686229</td>\n",
       "      <td>0.170965</td>\n",
       "    </tr>\n",
       "    <tr>\n",
       "      <th>people_vaccinated</th>\n",
       "      <td>0.043005</td>\n",
       "      <td>0.985602</td>\n",
       "      <td>1.000000</td>\n",
       "      <td>0.881845</td>\n",
       "      <td>0.319465</td>\n",
       "      <td>0.744189</td>\n",
       "      <td>0.139677</td>\n",
       "    </tr>\n",
       "    <tr>\n",
       "      <th>people_fully_vaccinated</th>\n",
       "      <td>0.090210</td>\n",
       "      <td>0.948243</td>\n",
       "      <td>0.881845</td>\n",
       "      <td>1.000000</td>\n",
       "      <td>0.259981</td>\n",
       "      <td>0.524252</td>\n",
       "      <td>0.217102</td>\n",
       "    </tr>\n",
       "    <tr>\n",
       "      <th>New_deaths</th>\n",
       "      <td>0.028123</td>\n",
       "      <td>0.305047</td>\n",
       "      <td>0.319465</td>\n",
       "      <td>0.259981</td>\n",
       "      <td>1.000000</td>\n",
       "      <td>0.501012</td>\n",
       "      <td>-0.113327</td>\n",
       "    </tr>\n",
       "    <tr>\n",
       "      <th>population</th>\n",
       "      <td>0.012708</td>\n",
       "      <td>0.686229</td>\n",
       "      <td>0.744189</td>\n",
       "      <td>0.524252</td>\n",
       "      <td>0.501012</td>\n",
       "      <td>1.000000</td>\n",
       "      <td>-0.077156</td>\n",
       "    </tr>\n",
       "    <tr>\n",
       "      <th>ratio</th>\n",
       "      <td>-0.064151</td>\n",
       "      <td>0.170965</td>\n",
       "      <td>0.139677</td>\n",
       "      <td>0.217102</td>\n",
       "      <td>-0.113327</td>\n",
       "      <td>-0.077156</td>\n",
       "      <td>1.000000</td>\n",
       "    </tr>\n",
       "  </tbody>\n",
       "</table>\n",
       "</div>"
      ],
      "text/plain": [
       "                         Unnamed: 0  total_vaccinations  people_vaccinated  \\\n",
       "Unnamed: 0                 1.000000            0.059861           0.043005   \n",
       "total_vaccinations         0.059861            1.000000           0.985602   \n",
       "people_vaccinated          0.043005            0.985602           1.000000   \n",
       "people_fully_vaccinated    0.090210            0.948243           0.881845   \n",
       "New_deaths                 0.028123            0.305047           0.319465   \n",
       "population                 0.012708            0.686229           0.744189   \n",
       "ratio                     -0.064151            0.170965           0.139677   \n",
       "\n",
       "                         people_fully_vaccinated  New_deaths  population  \\\n",
       "Unnamed: 0                              0.090210    0.028123    0.012708   \n",
       "total_vaccinations                      0.948243    0.305047    0.686229   \n",
       "people_vaccinated                       0.881845    0.319465    0.744189   \n",
       "people_fully_vaccinated                 1.000000    0.259981    0.524252   \n",
       "New_deaths                              0.259981    1.000000    0.501012   \n",
       "population                              0.524252    0.501012    1.000000   \n",
       "ratio                                   0.217102   -0.113327   -0.077156   \n",
       "\n",
       "                            ratio  \n",
       "Unnamed: 0              -0.064151  \n",
       "total_vaccinations       0.170965  \n",
       "people_vaccinated        0.139677  \n",
       "people_fully_vaccinated  0.217102  \n",
       "New_deaths              -0.113327  \n",
       "population              -0.077156  \n",
       "ratio                    1.000000  "
      ]
     },
     "execution_count": 209,
     "metadata": {},
     "output_type": "execute_result"
    }
   ],
   "source": [
    "df.corr()"
   ]
  },
  {
   "cell_type": "code",
   "execution_count": 210,
   "metadata": {
    "ExecuteTime": {
     "end_time": "2021-12-03T14:16:56.995160Z",
     "start_time": "2021-12-03T14:16:56.977171Z"
    }
   },
   "outputs": [],
   "source": [
    "df['cum_death']=df[[\"New_deaths\"]].cumsum()"
   ]
  },
  {
   "cell_type": "code",
   "execution_count": 211,
   "metadata": {
    "ExecuteTime": {
     "end_time": "2021-12-03T14:16:57.199833Z",
     "start_time": "2021-12-03T14:16:57.191807Z"
    }
   },
   "outputs": [],
   "source": [
    "df['death_ratio']=df['cum_death']/df['population']"
   ]
  },
  {
   "cell_type": "code",
   "execution_count": 212,
   "metadata": {
    "ExecuteTime": {
     "end_time": "2021-12-03T14:16:57.433966Z",
     "start_time": "2021-12-03T14:16:57.425517Z"
    }
   },
   "outputs": [],
   "source": [
    "df=df.drop(\"Unnamed: 0\",axis=1)"
   ]
  },
  {
   "cell_type": "code",
   "execution_count": 213,
   "metadata": {
    "ExecuteTime": {
     "end_time": "2021-12-03T14:16:58.290824Z",
     "start_time": "2021-12-03T14:16:58.273837Z"
    }
   },
   "outputs": [
    {
     "data": {
      "text/html": [
       "<div>\n",
       "<style scoped>\n",
       "    .dataframe tbody tr th:only-of-type {\n",
       "        vertical-align: middle;\n",
       "    }\n",
       "\n",
       "    .dataframe tbody tr th {\n",
       "        vertical-align: top;\n",
       "    }\n",
       "\n",
       "    .dataframe thead th {\n",
       "        text-align: right;\n",
       "    }\n",
       "</style>\n",
       "<table border=\"1\" class=\"dataframe\">\n",
       "  <thead>\n",
       "    <tr style=\"text-align: right;\">\n",
       "      <th></th>\n",
       "      <th>total_vaccinations</th>\n",
       "      <th>people_vaccinated</th>\n",
       "      <th>people_fully_vaccinated</th>\n",
       "      <th>New_deaths</th>\n",
       "      <th>population</th>\n",
       "      <th>ratio</th>\n",
       "      <th>cum_death</th>\n",
       "      <th>death_ratio</th>\n",
       "    </tr>\n",
       "  </thead>\n",
       "  <tbody>\n",
       "    <tr>\n",
       "      <th>total_vaccinations</th>\n",
       "      <td>1.000000</td>\n",
       "      <td>0.985602</td>\n",
       "      <td>0.948243</td>\n",
       "      <td>0.305047</td>\n",
       "      <td>0.686229</td>\n",
       "      <td>0.170965</td>\n",
       "      <td>0.079005</td>\n",
       "      <td>-0.037578</td>\n",
       "    </tr>\n",
       "    <tr>\n",
       "      <th>people_vaccinated</th>\n",
       "      <td>0.985602</td>\n",
       "      <td>1.000000</td>\n",
       "      <td>0.881845</td>\n",
       "      <td>0.319465</td>\n",
       "      <td>0.744189</td>\n",
       "      <td>0.139677</td>\n",
       "      <td>0.062026</td>\n",
       "      <td>-0.036047</td>\n",
       "    </tr>\n",
       "    <tr>\n",
       "      <th>people_fully_vaccinated</th>\n",
       "      <td>0.948243</td>\n",
       "      <td>0.881845</td>\n",
       "      <td>1.000000</td>\n",
       "      <td>0.259981</td>\n",
       "      <td>0.524252</td>\n",
       "      <td>0.217102</td>\n",
       "      <td>0.108715</td>\n",
       "      <td>-0.037948</td>\n",
       "    </tr>\n",
       "    <tr>\n",
       "      <th>New_deaths</th>\n",
       "      <td>0.305047</td>\n",
       "      <td>0.319465</td>\n",
       "      <td>0.259981</td>\n",
       "      <td>1.000000</td>\n",
       "      <td>0.501012</td>\n",
       "      <td>-0.113327</td>\n",
       "      <td>0.030404</td>\n",
       "      <td>-0.040744</td>\n",
       "    </tr>\n",
       "    <tr>\n",
       "      <th>population</th>\n",
       "      <td>0.686229</td>\n",
       "      <td>0.744189</td>\n",
       "      <td>0.524252</td>\n",
       "      <td>0.501012</td>\n",
       "      <td>1.000000</td>\n",
       "      <td>-0.077156</td>\n",
       "      <td>0.020375</td>\n",
       "      <td>-0.041383</td>\n",
       "    </tr>\n",
       "    <tr>\n",
       "      <th>ratio</th>\n",
       "      <td>0.170965</td>\n",
       "      <td>0.139677</td>\n",
       "      <td>0.217102</td>\n",
       "      <td>-0.113327</td>\n",
       "      <td>-0.077156</td>\n",
       "      <td>1.000000</td>\n",
       "      <td>-0.058767</td>\n",
       "      <td>0.077120</td>\n",
       "    </tr>\n",
       "    <tr>\n",
       "      <th>cum_death</th>\n",
       "      <td>0.079005</td>\n",
       "      <td>0.062026</td>\n",
       "      <td>0.108715</td>\n",
       "      <td>0.030404</td>\n",
       "      <td>0.020375</td>\n",
       "      <td>-0.058767</td>\n",
       "      <td>1.000000</td>\n",
       "      <td>0.063140</td>\n",
       "    </tr>\n",
       "    <tr>\n",
       "      <th>death_ratio</th>\n",
       "      <td>-0.037578</td>\n",
       "      <td>-0.036047</td>\n",
       "      <td>-0.037948</td>\n",
       "      <td>-0.040744</td>\n",
       "      <td>-0.041383</td>\n",
       "      <td>0.077120</td>\n",
       "      <td>0.063140</td>\n",
       "      <td>1.000000</td>\n",
       "    </tr>\n",
       "  </tbody>\n",
       "</table>\n",
       "</div>"
      ],
      "text/plain": [
       "                         total_vaccinations  people_vaccinated  \\\n",
       "total_vaccinations                 1.000000           0.985602   \n",
       "people_vaccinated                  0.985602           1.000000   \n",
       "people_fully_vaccinated            0.948243           0.881845   \n",
       "New_deaths                         0.305047           0.319465   \n",
       "population                         0.686229           0.744189   \n",
       "ratio                              0.170965           0.139677   \n",
       "cum_death                          0.079005           0.062026   \n",
       "death_ratio                       -0.037578          -0.036047   \n",
       "\n",
       "                         people_fully_vaccinated  New_deaths  population  \\\n",
       "total_vaccinations                      0.948243    0.305047    0.686229   \n",
       "people_vaccinated                       0.881845    0.319465    0.744189   \n",
       "people_fully_vaccinated                 1.000000    0.259981    0.524252   \n",
       "New_deaths                              0.259981    1.000000    0.501012   \n",
       "population                              0.524252    0.501012    1.000000   \n",
       "ratio                                   0.217102   -0.113327   -0.077156   \n",
       "cum_death                               0.108715    0.030404    0.020375   \n",
       "death_ratio                            -0.037948   -0.040744   -0.041383   \n",
       "\n",
       "                            ratio  cum_death  death_ratio  \n",
       "total_vaccinations       0.170965   0.079005    -0.037578  \n",
       "people_vaccinated        0.139677   0.062026    -0.036047  \n",
       "people_fully_vaccinated  0.217102   0.108715    -0.037948  \n",
       "New_deaths              -0.113327   0.030404    -0.040744  \n",
       "population              -0.077156   0.020375    -0.041383  \n",
       "ratio                    1.000000  -0.058767     0.077120  \n",
       "cum_death               -0.058767   1.000000     0.063140  \n",
       "death_ratio              0.077120   0.063140     1.000000  "
      ]
     },
     "execution_count": 213,
     "metadata": {},
     "output_type": "execute_result"
    }
   ],
   "source": [
    "df_corr_covid=df.corr()\n",
    "df_corr_covid\n"
   ]
  },
  {
   "cell_type": "code",
   "execution_count": 215,
   "metadata": {
    "ExecuteTime": {
     "end_time": "2021-12-03T14:17:45.969123Z",
     "start_time": "2021-12-03T14:17:45.951301Z"
    }
   },
   "outputs": [
    {
     "data": {
      "text/plain": [
       "1.0"
      ]
     },
     "execution_count": 215,
     "metadata": {},
     "output_type": "execute_result"
    }
   ],
   "source": [
    "df_corr_covid['cum_death'].max()"
   ]
  },
  {
   "cell_type": "code",
   "execution_count": 216,
   "metadata": {
    "ExecuteTime": {
     "end_time": "2021-12-03T14:17:46.345933Z",
     "start_time": "2021-12-03T14:17:46.304053Z"
    }
   },
   "outputs": [],
   "source": [
    "df2=df.groupby('country').max()"
   ]
  },
  {
   "cell_type": "code",
   "execution_count": 221,
   "metadata": {
    "ExecuteTime": {
     "end_time": "2021-12-03T14:17:57.901826Z",
     "start_time": "2021-12-03T14:17:57.887797Z"
    }
   },
   "outputs": [
    {
     "data": {
      "text/plain": [
       "Index(['Afghanistan', 'Albania', 'Algeria', 'Andorra', 'Angola', 'Anguilla',\n",
       "       'Antigua and Barbuda', 'Argentina', 'Armenia', 'Aruba',\n",
       "       ...\n",
       "       'Uruguay', 'Uzbekistan', 'Vanuatu',\n",
       "       'Venezuela (Bolivarian Republic of)', 'Viet Nam', 'Wallis and Futuna',\n",
       "       'Yemen', 'Zambia', 'Zimbabwe',\n",
       "       'occupied Palestinian territory, including east Jerusalem'],\n",
       "      dtype='object', name='country', length=198)"
      ]
     },
     "execution_count": 221,
     "metadata": {},
     "output_type": "execute_result"
    }
   ],
   "source": [
    "df2.index"
   ]
  },
  {
   "cell_type": "code",
   "execution_count": 222,
   "metadata": {
    "ExecuteTime": {
     "end_time": "2021-12-03T14:17:58.167173Z",
     "start_time": "2021-12-03T14:17:58.151232Z"
    }
   },
   "outputs": [
    {
     "data": {
      "text/html": [
       "<div>\n",
       "<style scoped>\n",
       "    .dataframe tbody tr th:only-of-type {\n",
       "        vertical-align: middle;\n",
       "    }\n",
       "\n",
       "    .dataframe tbody tr th {\n",
       "        vertical-align: top;\n",
       "    }\n",
       "\n",
       "    .dataframe thead th {\n",
       "        text-align: right;\n",
       "    }\n",
       "</style>\n",
       "<table border=\"1\" class=\"dataframe\">\n",
       "  <thead>\n",
       "    <tr style=\"text-align: right;\">\n",
       "      <th></th>\n",
       "      <th>total_vaccinations</th>\n",
       "      <th>people_vaccinated</th>\n",
       "      <th>people_fully_vaccinated</th>\n",
       "      <th>New_deaths</th>\n",
       "      <th>population</th>\n",
       "      <th>ratio</th>\n",
       "      <th>cum_death</th>\n",
       "      <th>death_ratio</th>\n",
       "    </tr>\n",
       "  </thead>\n",
       "  <tbody>\n",
       "    <tr>\n",
       "      <th>total_vaccinations</th>\n",
       "      <td>1.000000</td>\n",
       "      <td>0.989769</td>\n",
       "      <td>0.987875</td>\n",
       "      <td>0.284298</td>\n",
       "      <td>0.922123</td>\n",
       "      <td>0.140593</td>\n",
       "      <td>-0.038227</td>\n",
       "      <td>-0.030980</td>\n",
       "    </tr>\n",
       "    <tr>\n",
       "      <th>people_vaccinated</th>\n",
       "      <td>0.989769</td>\n",
       "      <td>1.000000</td>\n",
       "      <td>0.955847</td>\n",
       "      <td>0.345852</td>\n",
       "      <td>0.962706</td>\n",
       "      <td>0.134570</td>\n",
       "      <td>-0.035213</td>\n",
       "      <td>-0.032314</td>\n",
       "    </tr>\n",
       "    <tr>\n",
       "      <th>people_fully_vaccinated</th>\n",
       "      <td>0.987875</td>\n",
       "      <td>0.955847</td>\n",
       "      <td>1.000000</td>\n",
       "      <td>0.219564</td>\n",
       "      <td>0.857139</td>\n",
       "      <td>0.145217</td>\n",
       "      <td>-0.039063</td>\n",
       "      <td>-0.029391</td>\n",
       "    </tr>\n",
       "    <tr>\n",
       "      <th>New_deaths</th>\n",
       "      <td>0.284298</td>\n",
       "      <td>0.345852</td>\n",
       "      <td>0.219564</td>\n",
       "      <td>1.000000</td>\n",
       "      <td>0.414383</td>\n",
       "      <td>0.133556</td>\n",
       "      <td>0.022537</td>\n",
       "      <td>-0.046173</td>\n",
       "    </tr>\n",
       "    <tr>\n",
       "      <th>population</th>\n",
       "      <td>0.922123</td>\n",
       "      <td>0.962706</td>\n",
       "      <td>0.857139</td>\n",
       "      <td>0.414383</td>\n",
       "      <td>1.000000</td>\n",
       "      <td>0.048993</td>\n",
       "      <td>-0.016980</td>\n",
       "      <td>-0.043377</td>\n",
       "    </tr>\n",
       "    <tr>\n",
       "      <th>ratio</th>\n",
       "      <td>0.140593</td>\n",
       "      <td>0.134570</td>\n",
       "      <td>0.145217</td>\n",
       "      <td>0.133556</td>\n",
       "      <td>0.048993</td>\n",
       "      <td>1.000000</td>\n",
       "      <td>-0.087655</td>\n",
       "      <td>0.117400</td>\n",
       "    </tr>\n",
       "    <tr>\n",
       "      <th>cum_death</th>\n",
       "      <td>-0.038227</td>\n",
       "      <td>-0.035213</td>\n",
       "      <td>-0.039063</td>\n",
       "      <td>0.022537</td>\n",
       "      <td>-0.016980</td>\n",
       "      <td>-0.087655</td>\n",
       "      <td>1.000000</td>\n",
       "      <td>0.090324</td>\n",
       "    </tr>\n",
       "    <tr>\n",
       "      <th>death_ratio</th>\n",
       "      <td>-0.030980</td>\n",
       "      <td>-0.032314</td>\n",
       "      <td>-0.029391</td>\n",
       "      <td>-0.046173</td>\n",
       "      <td>-0.043377</td>\n",
       "      <td>0.117400</td>\n",
       "      <td>0.090324</td>\n",
       "      <td>1.000000</td>\n",
       "    </tr>\n",
       "  </tbody>\n",
       "</table>\n",
       "</div>"
      ],
      "text/plain": [
       "                         total_vaccinations  people_vaccinated  \\\n",
       "total_vaccinations                 1.000000           0.989769   \n",
       "people_vaccinated                  0.989769           1.000000   \n",
       "people_fully_vaccinated            0.987875           0.955847   \n",
       "New_deaths                         0.284298           0.345852   \n",
       "population                         0.922123           0.962706   \n",
       "ratio                              0.140593           0.134570   \n",
       "cum_death                         -0.038227          -0.035213   \n",
       "death_ratio                       -0.030980          -0.032314   \n",
       "\n",
       "                         people_fully_vaccinated  New_deaths  population  \\\n",
       "total_vaccinations                      0.987875    0.284298    0.922123   \n",
       "people_vaccinated                       0.955847    0.345852    0.962706   \n",
       "people_fully_vaccinated                 1.000000    0.219564    0.857139   \n",
       "New_deaths                              0.219564    1.000000    0.414383   \n",
       "population                              0.857139    0.414383    1.000000   \n",
       "ratio                                   0.145217    0.133556    0.048993   \n",
       "cum_death                              -0.039063    0.022537   -0.016980   \n",
       "death_ratio                            -0.029391   -0.046173   -0.043377   \n",
       "\n",
       "                            ratio  cum_death  death_ratio  \n",
       "total_vaccinations       0.140593  -0.038227    -0.030980  \n",
       "people_vaccinated        0.134570  -0.035213    -0.032314  \n",
       "people_fully_vaccinated  0.145217  -0.039063    -0.029391  \n",
       "New_deaths               0.133556   0.022537    -0.046173  \n",
       "population               0.048993  -0.016980    -0.043377  \n",
       "ratio                    1.000000  -0.087655     0.117400  \n",
       "cum_death               -0.087655   1.000000     0.090324  \n",
       "death_ratio              0.117400   0.090324     1.000000  "
      ]
     },
     "execution_count": 222,
     "metadata": {},
     "output_type": "execute_result"
    }
   ],
   "source": [
    "df2.corr()"
   ]
  },
  {
   "cell_type": "code",
   "execution_count": 172,
   "metadata": {
    "ExecuteTime": {
     "end_time": "2021-12-03T14:01:18.929967Z",
     "start_time": "2021-12-03T14:01:18.912972Z"
    }
   },
   "outputs": [
    {
     "data": {
      "text/html": [
       "<div>\n",
       "<style scoped>\n",
       "    .dataframe tbody tr th:only-of-type {\n",
       "        vertical-align: middle;\n",
       "    }\n",
       "\n",
       "    .dataframe tbody tr th {\n",
       "        vertical-align: top;\n",
       "    }\n",
       "\n",
       "    .dataframe thead th {\n",
       "        text-align: right;\n",
       "    }\n",
       "</style>\n",
       "<table border=\"1\" class=\"dataframe\">\n",
       "  <thead>\n",
       "    <tr style=\"text-align: right;\">\n",
       "      <th></th>\n",
       "      <th>country</th>\n",
       "      <th>iso_code</th>\n",
       "      <th>date</th>\n",
       "      <th>total_vaccinations</th>\n",
       "      <th>people_vaccinated</th>\n",
       "      <th>people_fully_vaccinated</th>\n",
       "      <th>New_deaths</th>\n",
       "      <th>population</th>\n",
       "      <th>ratio</th>\n",
       "    </tr>\n",
       "  </thead>\n",
       "  <tbody>\n",
       "    <tr>\n",
       "      <th>67</th>\n",
       "      <td>Gibraltar</td>\n",
       "      <td>GIB</td>\n",
       "      <td>2021-10-08</td>\n",
       "      <td>79910.0</td>\n",
       "      <td>39955.0</td>\n",
       "      <td>39683.0</td>\n",
       "      <td>3</td>\n",
       "      <td>33698.0</td>\n",
       "      <td>118.567868</td>\n",
       "    </tr>\n",
       "    <tr>\n",
       "      <th>109</th>\n",
       "      <td>Malta</td>\n",
       "      <td>MLT</td>\n",
       "      <td>2021-09-27</td>\n",
       "      <td>818593.0</td>\n",
       "      <td>420499.0</td>\n",
       "      <td>420429.0</td>\n",
       "      <td>7</td>\n",
       "      <td>443198.0</td>\n",
       "      <td>94.878361</td>\n",
       "    </tr>\n",
       "    <tr>\n",
       "      <th>185</th>\n",
       "      <td>United Arab Emirates</td>\n",
       "      <td>ARE</td>\n",
       "      <td>2021-10-09</td>\n",
       "      <td>20453897.0</td>\n",
       "      <td>9435239.0</td>\n",
       "      <td>8426440.0</td>\n",
       "      <td>15</td>\n",
       "      <td>10020076.0</td>\n",
       "      <td>94.163348</td>\n",
       "    </tr>\n",
       "    <tr>\n",
       "      <th>140</th>\n",
       "      <td>Portugal</td>\n",
       "      <td>PRT</td>\n",
       "      <td>2021-10-04</td>\n",
       "      <td>16042424.0</td>\n",
       "      <td>8957792.0</td>\n",
       "      <td>8729560.0</td>\n",
       "      <td>303</td>\n",
       "      <td>10159436.0</td>\n",
       "      <td>88.172139</td>\n",
       "    </tr>\n",
       "    <tr>\n",
       "      <th>44</th>\n",
       "      <td>Cuba</td>\n",
       "      <td>CUB</td>\n",
       "      <td>2021-10-07</td>\n",
       "      <td>22352125.0</td>\n",
       "      <td>9593695.0</td>\n",
       "      <td>5769198.0</td>\n",
       "      <td>98</td>\n",
       "      <td>11315124.0</td>\n",
       "      <td>84.786477</td>\n",
       "    </tr>\n",
       "    <tr>\n",
       "      <th>...</th>\n",
       "      <td>...</td>\n",
       "      <td>...</td>\n",
       "      <td>...</td>\n",
       "      <td>...</td>\n",
       "      <td>...</td>\n",
       "      <td>...</td>\n",
       "      <td>...</td>\n",
       "      <td>...</td>\n",
       "      <td>...</td>\n",
       "    </tr>\n",
       "    <tr>\n",
       "      <th>36</th>\n",
       "      <td>Chad</td>\n",
       "      <td>TCD</td>\n",
       "      <td>2021-09-29</td>\n",
       "      <td>154042.0</td>\n",
       "      <td>123426.0</td>\n",
       "      <td>30616.0</td>\n",
       "      <td>0</td>\n",
       "      <td>17053707.0</td>\n",
       "      <td>0.723749</td>\n",
       "    </tr>\n",
       "    <tr>\n",
       "      <th>104</th>\n",
       "      <td>Madagascar</td>\n",
       "      <td>MDG</td>\n",
       "      <td>2021-09-20</td>\n",
       "      <td>381633.0</td>\n",
       "      <td>197001.0</td>\n",
       "      <td>184632.0</td>\n",
       "      <td>0</td>\n",
       "      <td>28635618.0</td>\n",
       "      <td>0.687958</td>\n",
       "    </tr>\n",
       "    <tr>\n",
       "      <th>164</th>\n",
       "      <td>South Sudan</td>\n",
       "      <td>SSD</td>\n",
       "      <td>2021-10-01</td>\n",
       "      <td>108602.0</td>\n",
       "      <td>77546.0</td>\n",
       "      <td>31053.0</td>\n",
       "      <td>2</td>\n",
       "      <td>11435210.0</td>\n",
       "      <td>0.678134</td>\n",
       "    </tr>\n",
       "    <tr>\n",
       "      <th>180</th>\n",
       "      <td>Turkmenistan</td>\n",
       "      <td>TKM</td>\n",
       "      <td>2021-02-28</td>\n",
       "      <td>51746.0</td>\n",
       "      <td>32240.0</td>\n",
       "      <td>19506.0</td>\n",
       "      <td>0</td>\n",
       "      <td>6142356.0</td>\n",
       "      <td>0.524880</td>\n",
       "    </tr>\n",
       "    <tr>\n",
       "      <th>75</th>\n",
       "      <td>Haiti</td>\n",
       "      <td>HTI</td>\n",
       "      <td>2021-10-02</td>\n",
       "      <td>75220.0</td>\n",
       "      <td>52788.0</td>\n",
       "      <td>22773.0</td>\n",
       "      <td>7</td>\n",
       "      <td>11581128.0</td>\n",
       "      <td>0.455811</td>\n",
       "    </tr>\n",
       "  </tbody>\n",
       "</table>\n",
       "<p>198 rows × 9 columns</p>\n",
       "</div>"
      ],
      "text/plain": [
       "                  country iso_code        date  total_vaccinations  \\\n",
       "67              Gibraltar      GIB  2021-10-08             79910.0   \n",
       "109                 Malta      MLT  2021-09-27            818593.0   \n",
       "185  United Arab Emirates      ARE  2021-10-09          20453897.0   \n",
       "140              Portugal      PRT  2021-10-04          16042424.0   \n",
       "44                   Cuba      CUB  2021-10-07          22352125.0   \n",
       "..                    ...      ...         ...                 ...   \n",
       "36                   Chad      TCD  2021-09-29            154042.0   \n",
       "104            Madagascar      MDG  2021-09-20            381633.0   \n",
       "164           South Sudan      SSD  2021-10-01            108602.0   \n",
       "180          Turkmenistan      TKM  2021-02-28             51746.0   \n",
       "75                  Haiti      HTI  2021-10-02             75220.0   \n",
       "\n",
       "     people_vaccinated  people_fully_vaccinated  New_deaths  population  \\\n",
       "67             39955.0                  39683.0           3     33698.0   \n",
       "109           420499.0                 420429.0           7    443198.0   \n",
       "185          9435239.0                8426440.0          15  10020076.0   \n",
       "140          8957792.0                8729560.0         303  10159436.0   \n",
       "44           9593695.0                5769198.0          98  11315124.0   \n",
       "..                 ...                      ...         ...         ...   \n",
       "36            123426.0                  30616.0           0  17053707.0   \n",
       "104           197001.0                 184632.0           0  28635618.0   \n",
       "164            77546.0                  31053.0           2  11435210.0   \n",
       "180            32240.0                  19506.0           0   6142356.0   \n",
       "75             52788.0                  22773.0           7  11581128.0   \n",
       "\n",
       "          ratio  \n",
       "67   118.567868  \n",
       "109   94.878361  \n",
       "185   94.163348  \n",
       "140   88.172139  \n",
       "44    84.786477  \n",
       "..          ...  \n",
       "36     0.723749  \n",
       "104    0.687958  \n",
       "164    0.678134  \n",
       "180    0.524880  \n",
       "75     0.455811  \n",
       "\n",
       "[198 rows x 9 columns]"
      ]
     },
     "execution_count": 172,
     "metadata": {},
     "output_type": "execute_result"
    }
   ],
   "source": [
    "df2=df2.sort_values(by='ratio',ascending=False)\n",
    "df2"
   ]
  },
  {
   "cell_type": "code",
   "execution_count": 175,
   "metadata": {
    "ExecuteTime": {
     "end_time": "2021-12-03T14:01:52.823790Z",
     "start_time": "2021-12-03T14:01:52.809042Z"
    }
   },
   "outputs": [
    {
     "data": {
      "text/html": [
       "<div>\n",
       "<style scoped>\n",
       "    .dataframe tbody tr th:only-of-type {\n",
       "        vertical-align: middle;\n",
       "    }\n",
       "\n",
       "    .dataframe tbody tr th {\n",
       "        vertical-align: top;\n",
       "    }\n",
       "\n",
       "    .dataframe thead th {\n",
       "        text-align: right;\n",
       "    }\n",
       "</style>\n",
       "<table border=\"1\" class=\"dataframe\">\n",
       "  <thead>\n",
       "    <tr style=\"text-align: right;\">\n",
       "      <th></th>\n",
       "      <th>country</th>\n",
       "      <th>iso_code</th>\n",
       "      <th>date</th>\n",
       "      <th>total_vaccinations</th>\n",
       "      <th>people_vaccinated</th>\n",
       "      <th>people_fully_vaccinated</th>\n",
       "      <th>New_deaths</th>\n",
       "      <th>population</th>\n",
       "      <th>ratio</th>\n",
       "    </tr>\n",
       "  </thead>\n",
       "  <tbody>\n",
       "    <tr>\n",
       "      <th>185</th>\n",
       "      <td>United Arab Emirates</td>\n",
       "      <td>ARE</td>\n",
       "      <td>2021-10-09</td>\n",
       "      <td>20453897.0</td>\n",
       "      <td>9435239.0</td>\n",
       "      <td>8426440.0</td>\n",
       "      <td>15</td>\n",
       "      <td>10020076.0</td>\n",
       "      <td>94.163348</td>\n",
       "    </tr>\n",
       "    <tr>\n",
       "      <th>140</th>\n",
       "      <td>Portugal</td>\n",
       "      <td>PRT</td>\n",
       "      <td>2021-10-04</td>\n",
       "      <td>16042424.0</td>\n",
       "      <td>8957792.0</td>\n",
       "      <td>8729560.0</td>\n",
       "      <td>303</td>\n",
       "      <td>10159436.0</td>\n",
       "      <td>88.172139</td>\n",
       "    </tr>\n",
       "    <tr>\n",
       "      <th>44</th>\n",
       "      <td>Cuba</td>\n",
       "      <td>CUB</td>\n",
       "      <td>2021-10-07</td>\n",
       "      <td>22352125.0</td>\n",
       "      <td>9593695.0</td>\n",
       "      <td>5769198.0</td>\n",
       "      <td>98</td>\n",
       "      <td>11315124.0</td>\n",
       "      <td>84.786477</td>\n",
       "    </tr>\n",
       "    <tr>\n",
       "      <th>34</th>\n",
       "      <td>Cayman Islands</td>\n",
       "      <td>CYM</td>\n",
       "      <td>2021-10-08</td>\n",
       "      <td>108614.0</td>\n",
       "      <td>55530.0</td>\n",
       "      <td>55530.0</td>\n",
       "      <td>0</td>\n",
       "      <td>66497.0</td>\n",
       "      <td>83.507527</td>\n",
       "    </tr>\n",
       "    <tr>\n",
       "      <th>37</th>\n",
       "      <td>Chile</td>\n",
       "      <td>CHL</td>\n",
       "      <td>2021-10-08</td>\n",
       "      <td>33348997.0</td>\n",
       "      <td>15909833.0</td>\n",
       "      <td>14213792.0</td>\n",
       "      <td>316</td>\n",
       "      <td>19242590.0</td>\n",
       "      <td>82.680310</td>\n",
       "    </tr>\n",
       "    <tr>\n",
       "      <th>...</th>\n",
       "      <td>...</td>\n",
       "      <td>...</td>\n",
       "      <td>...</td>\n",
       "      <td>...</td>\n",
       "      <td>...</td>\n",
       "      <td>...</td>\n",
       "      <td>...</td>\n",
       "      <td>...</td>\n",
       "      <td>...</td>\n",
       "    </tr>\n",
       "    <tr>\n",
       "      <th>36</th>\n",
       "      <td>Chad</td>\n",
       "      <td>TCD</td>\n",
       "      <td>2021-09-29</td>\n",
       "      <td>154042.0</td>\n",
       "      <td>123426.0</td>\n",
       "      <td>30616.0</td>\n",
       "      <td>0</td>\n",
       "      <td>17053707.0</td>\n",
       "      <td>0.723749</td>\n",
       "    </tr>\n",
       "    <tr>\n",
       "      <th>104</th>\n",
       "      <td>Madagascar</td>\n",
       "      <td>MDG</td>\n",
       "      <td>2021-09-20</td>\n",
       "      <td>381633.0</td>\n",
       "      <td>197001.0</td>\n",
       "      <td>184632.0</td>\n",
       "      <td>0</td>\n",
       "      <td>28635618.0</td>\n",
       "      <td>0.687958</td>\n",
       "    </tr>\n",
       "    <tr>\n",
       "      <th>164</th>\n",
       "      <td>South Sudan</td>\n",
       "      <td>SSD</td>\n",
       "      <td>2021-10-01</td>\n",
       "      <td>108602.0</td>\n",
       "      <td>77546.0</td>\n",
       "      <td>31053.0</td>\n",
       "      <td>2</td>\n",
       "      <td>11435210.0</td>\n",
       "      <td>0.678134</td>\n",
       "    </tr>\n",
       "    <tr>\n",
       "      <th>180</th>\n",
       "      <td>Turkmenistan</td>\n",
       "      <td>TKM</td>\n",
       "      <td>2021-02-28</td>\n",
       "      <td>51746.0</td>\n",
       "      <td>32240.0</td>\n",
       "      <td>19506.0</td>\n",
       "      <td>0</td>\n",
       "      <td>6142356.0</td>\n",
       "      <td>0.524880</td>\n",
       "    </tr>\n",
       "    <tr>\n",
       "      <th>75</th>\n",
       "      <td>Haiti</td>\n",
       "      <td>HTI</td>\n",
       "      <td>2021-10-02</td>\n",
       "      <td>75220.0</td>\n",
       "      <td>52788.0</td>\n",
       "      <td>22773.0</td>\n",
       "      <td>7</td>\n",
       "      <td>11581128.0</td>\n",
       "      <td>0.455811</td>\n",
       "    </tr>\n",
       "  </tbody>\n",
       "</table>\n",
       "<p>196 rows × 9 columns</p>\n",
       "</div>"
      ],
      "text/plain": [
       "                  country iso_code        date  total_vaccinations  \\\n",
       "185  United Arab Emirates      ARE  2021-10-09          20453897.0   \n",
       "140              Portugal      PRT  2021-10-04          16042424.0   \n",
       "44                   Cuba      CUB  2021-10-07          22352125.0   \n",
       "34         Cayman Islands      CYM  2021-10-08            108614.0   \n",
       "37                  Chile      CHL  2021-10-08          33348997.0   \n",
       "..                    ...      ...         ...                 ...   \n",
       "36                   Chad      TCD  2021-09-29            154042.0   \n",
       "104            Madagascar      MDG  2021-09-20            381633.0   \n",
       "164           South Sudan      SSD  2021-10-01            108602.0   \n",
       "180          Turkmenistan      TKM  2021-02-28             51746.0   \n",
       "75                  Haiti      HTI  2021-10-02             75220.0   \n",
       "\n",
       "     people_vaccinated  people_fully_vaccinated  New_deaths  population  \\\n",
       "185          9435239.0                8426440.0          15  10020076.0   \n",
       "140          8957792.0                8729560.0         303  10159436.0   \n",
       "44           9593695.0                5769198.0          98  11315124.0   \n",
       "34             55530.0                  55530.0           0     66497.0   \n",
       "37          15909833.0               14213792.0         316  19242590.0   \n",
       "..                 ...                      ...         ...         ...   \n",
       "36            123426.0                  30616.0           0  17053707.0   \n",
       "104           197001.0                 184632.0           0  28635618.0   \n",
       "164            77546.0                  31053.0           2  11435210.0   \n",
       "180            32240.0                  19506.0           0   6142356.0   \n",
       "75             52788.0                  22773.0           7  11581128.0   \n",
       "\n",
       "         ratio  \n",
       "185  94.163348  \n",
       "140  88.172139  \n",
       "44   84.786477  \n",
       "34   83.507527  \n",
       "37   82.680310  \n",
       "..         ...  \n",
       "36    0.723749  \n",
       "104   0.687958  \n",
       "164   0.678134  \n",
       "180   0.524880  \n",
       "75    0.455811  \n",
       "\n",
       "[196 rows x 9 columns]"
      ]
     },
     "execution_count": 175,
     "metadata": {},
     "output_type": "execute_result"
    }
   ],
   "source": [
    "df2=df2[1:]\n",
    "df2"
   ]
  },
  {
   "cell_type": "code",
   "execution_count": 179,
   "metadata": {
    "ExecuteTime": {
     "end_time": "2021-12-03T14:03:00.251581Z",
     "start_time": "2021-12-03T14:03:00.247592Z"
    }
   },
   "outputs": [
    {
     "name": "stdout",
     "output_type": "stream",
     "text": [
      "83.50220596239224\n",
      "0.8901804081545984\n"
     ]
    }
   ],
   "source": [
    "top=df2['ratio'].head(10).mean()\n",
    "bottom=df2['ratio'].tail(10).mean()\n",
    "print(top)\n",
    "print(bottom)"
   ]
  },
  {
   "cell_type": "code",
   "execution_count": 180,
   "metadata": {
    "ExecuteTime": {
     "end_time": "2021-12-03T14:03:17.225663Z",
     "start_time": "2021-12-03T14:03:17.208299Z"
    }
   },
   "outputs": [
    {
     "data": {
      "text/plain": [
       "82.6"
      ]
     },
     "execution_count": 180,
     "metadata": {},
     "output_type": "execute_result"
    }
   ],
   "source": [
    "round(top-bottom,1)"
   ]
  },
  {
   "cell_type": "markdown",
   "metadata": {},
   "source": [
    "# 상관계수 구하기"
   ]
  },
  {
   "cell_type": "code",
   "execution_count": 229,
   "metadata": {
    "ExecuteTime": {
     "end_time": "2021-12-03T14:20:21.156073Z",
     "start_time": "2021-12-03T14:20:21.145072Z"
    }
   },
   "outputs": [],
   "source": [
    "df=pd.read_csv('winequality-red.csv')"
   ]
  },
  {
   "cell_type": "code",
   "execution_count": 230,
   "metadata": {
    "ExecuteTime": {
     "end_time": "2021-12-03T14:20:21.359867Z",
     "start_time": "2021-12-03T14:20:21.337899Z"
    }
   },
   "outputs": [
    {
     "data": {
      "text/html": [
       "<div>\n",
       "<style scoped>\n",
       "    .dataframe tbody tr th:only-of-type {\n",
       "        vertical-align: middle;\n",
       "    }\n",
       "\n",
       "    .dataframe tbody tr th {\n",
       "        vertical-align: top;\n",
       "    }\n",
       "\n",
       "    .dataframe thead th {\n",
       "        text-align: right;\n",
       "    }\n",
       "</style>\n",
       "<table border=\"1\" class=\"dataframe\">\n",
       "  <thead>\n",
       "    <tr style=\"text-align: right;\">\n",
       "      <th></th>\n",
       "      <th>fixed acidity</th>\n",
       "      <th>volatile acidity</th>\n",
       "      <th>citric acid</th>\n",
       "      <th>residual sugar</th>\n",
       "      <th>chlorides</th>\n",
       "      <th>free sulfur dioxide</th>\n",
       "      <th>total sulfur dioxide</th>\n",
       "      <th>density</th>\n",
       "      <th>pH</th>\n",
       "      <th>sulphates</th>\n",
       "      <th>alcohol</th>\n",
       "      <th>quality</th>\n",
       "    </tr>\n",
       "  </thead>\n",
       "  <tbody>\n",
       "    <tr>\n",
       "      <th>0</th>\n",
       "      <td>7.4</td>\n",
       "      <td>0.70</td>\n",
       "      <td>0.00</td>\n",
       "      <td>1.9</td>\n",
       "      <td>0.076</td>\n",
       "      <td>11.0</td>\n",
       "      <td>34.0</td>\n",
       "      <td>0.9978</td>\n",
       "      <td>3.51</td>\n",
       "      <td>0.56</td>\n",
       "      <td>9.4</td>\n",
       "      <td>5</td>\n",
       "    </tr>\n",
       "    <tr>\n",
       "      <th>1</th>\n",
       "      <td>7.8</td>\n",
       "      <td>0.88</td>\n",
       "      <td>0.00</td>\n",
       "      <td>2.6</td>\n",
       "      <td>0.098</td>\n",
       "      <td>25.0</td>\n",
       "      <td>67.0</td>\n",
       "      <td>0.9968</td>\n",
       "      <td>3.20</td>\n",
       "      <td>0.68</td>\n",
       "      <td>9.8</td>\n",
       "      <td>5</td>\n",
       "    </tr>\n",
       "    <tr>\n",
       "      <th>2</th>\n",
       "      <td>7.8</td>\n",
       "      <td>0.76</td>\n",
       "      <td>0.04</td>\n",
       "      <td>2.3</td>\n",
       "      <td>0.092</td>\n",
       "      <td>15.0</td>\n",
       "      <td>54.0</td>\n",
       "      <td>0.9970</td>\n",
       "      <td>3.26</td>\n",
       "      <td>0.65</td>\n",
       "      <td>9.8</td>\n",
       "      <td>5</td>\n",
       "    </tr>\n",
       "    <tr>\n",
       "      <th>3</th>\n",
       "      <td>11.2</td>\n",
       "      <td>0.28</td>\n",
       "      <td>0.56</td>\n",
       "      <td>1.9</td>\n",
       "      <td>0.075</td>\n",
       "      <td>17.0</td>\n",
       "      <td>60.0</td>\n",
       "      <td>0.9980</td>\n",
       "      <td>3.16</td>\n",
       "      <td>0.58</td>\n",
       "      <td>9.8</td>\n",
       "      <td>6</td>\n",
       "    </tr>\n",
       "    <tr>\n",
       "      <th>4</th>\n",
       "      <td>7.4</td>\n",
       "      <td>0.70</td>\n",
       "      <td>0.00</td>\n",
       "      <td>1.9</td>\n",
       "      <td>0.076</td>\n",
       "      <td>11.0</td>\n",
       "      <td>34.0</td>\n",
       "      <td>0.9978</td>\n",
       "      <td>3.51</td>\n",
       "      <td>0.56</td>\n",
       "      <td>9.4</td>\n",
       "      <td>5</td>\n",
       "    </tr>\n",
       "  </tbody>\n",
       "</table>\n",
       "</div>"
      ],
      "text/plain": [
       "   fixed acidity  volatile acidity  citric acid  residual sugar  chlorides  \\\n",
       "0            7.4              0.70         0.00             1.9      0.076   \n",
       "1            7.8              0.88         0.00             2.6      0.098   \n",
       "2            7.8              0.76         0.04             2.3      0.092   \n",
       "3           11.2              0.28         0.56             1.9      0.075   \n",
       "4            7.4              0.70         0.00             1.9      0.076   \n",
       "\n",
       "   free sulfur dioxide  total sulfur dioxide  density    pH  sulphates  \\\n",
       "0                 11.0                  34.0   0.9978  3.51       0.56   \n",
       "1                 25.0                  67.0   0.9968  3.20       0.68   \n",
       "2                 15.0                  54.0   0.9970  3.26       0.65   \n",
       "3                 17.0                  60.0   0.9980  3.16       0.58   \n",
       "4                 11.0                  34.0   0.9978  3.51       0.56   \n",
       "\n",
       "   alcohol  quality  \n",
       "0      9.4        5  \n",
       "1      9.8        5  \n",
       "2      9.8        5  \n",
       "3      9.8        6  \n",
       "4      9.4        5  "
      ]
     },
     "execution_count": 230,
     "metadata": {},
     "output_type": "execute_result"
    }
   ],
   "source": [
    "df.head()"
   ]
  },
  {
   "cell_type": "code",
   "execution_count": 231,
   "metadata": {
    "ExecuteTime": {
     "end_time": "2021-12-03T14:20:21.514876Z",
     "start_time": "2021-12-03T14:20:21.504904Z"
    }
   },
   "outputs": [
    {
     "name": "stdout",
     "output_type": "stream",
     "text": [
      "<class 'pandas.core.frame.DataFrame'>\n",
      "RangeIndex: 1599 entries, 0 to 1598\n",
      "Data columns (total 12 columns):\n",
      " #   Column                Non-Null Count  Dtype  \n",
      "---  ------                --------------  -----  \n",
      " 0   fixed acidity         1599 non-null   float64\n",
      " 1   volatile acidity      1599 non-null   float64\n",
      " 2   citric acid           1599 non-null   float64\n",
      " 3   residual sugar        1599 non-null   float64\n",
      " 4   chlorides             1599 non-null   float64\n",
      " 5   free sulfur dioxide   1599 non-null   float64\n",
      " 6   total sulfur dioxide  1599 non-null   float64\n",
      " 7   density               1599 non-null   float64\n",
      " 8   pH                    1599 non-null   float64\n",
      " 9   sulphates             1599 non-null   float64\n",
      " 10  alcohol               1599 non-null   float64\n",
      " 11  quality               1599 non-null   int64  \n",
      "dtypes: float64(11), int64(1)\n",
      "memory usage: 150.0 KB\n"
     ]
    }
   ],
   "source": [
    "df.info()"
   ]
  },
  {
   "cell_type": "code",
   "execution_count": 232,
   "metadata": {
    "ExecuteTime": {
     "end_time": "2021-12-03T14:20:22.043061Z",
     "start_time": "2021-12-03T14:20:22.026044Z"
    }
   },
   "outputs": [
    {
     "data": {
      "text/html": [
       "<div>\n",
       "<style scoped>\n",
       "    .dataframe tbody tr th:only-of-type {\n",
       "        vertical-align: middle;\n",
       "    }\n",
       "\n",
       "    .dataframe tbody tr th {\n",
       "        vertical-align: top;\n",
       "    }\n",
       "\n",
       "    .dataframe thead th {\n",
       "        text-align: right;\n",
       "    }\n",
       "</style>\n",
       "<table border=\"1\" class=\"dataframe\">\n",
       "  <thead>\n",
       "    <tr style=\"text-align: right;\">\n",
       "      <th></th>\n",
       "      <th>fixed acidity</th>\n",
       "      <th>volatile acidity</th>\n",
       "      <th>citric acid</th>\n",
       "      <th>residual sugar</th>\n",
       "      <th>chlorides</th>\n",
       "      <th>free sulfur dioxide</th>\n",
       "      <th>total sulfur dioxide</th>\n",
       "      <th>density</th>\n",
       "      <th>pH</th>\n",
       "      <th>sulphates</th>\n",
       "      <th>alcohol</th>\n",
       "      <th>quality</th>\n",
       "    </tr>\n",
       "  </thead>\n",
       "  <tbody>\n",
       "    <tr>\n",
       "      <th>fixed acidity</th>\n",
       "      <td>1.000000</td>\n",
       "      <td>-0.256131</td>\n",
       "      <td>0.671703</td>\n",
       "      <td>0.114777</td>\n",
       "      <td>0.093705</td>\n",
       "      <td>-0.153794</td>\n",
       "      <td>-0.113181</td>\n",
       "      <td>0.668047</td>\n",
       "      <td>-0.682978</td>\n",
       "      <td>0.183006</td>\n",
       "      <td>-0.061668</td>\n",
       "      <td>0.124052</td>\n",
       "    </tr>\n",
       "    <tr>\n",
       "      <th>volatile acidity</th>\n",
       "      <td>-0.256131</td>\n",
       "      <td>1.000000</td>\n",
       "      <td>-0.552496</td>\n",
       "      <td>0.001918</td>\n",
       "      <td>0.061298</td>\n",
       "      <td>-0.010504</td>\n",
       "      <td>0.076470</td>\n",
       "      <td>0.022026</td>\n",
       "      <td>0.234937</td>\n",
       "      <td>-0.260987</td>\n",
       "      <td>-0.202288</td>\n",
       "      <td>-0.390558</td>\n",
       "    </tr>\n",
       "    <tr>\n",
       "      <th>citric acid</th>\n",
       "      <td>0.671703</td>\n",
       "      <td>-0.552496</td>\n",
       "      <td>1.000000</td>\n",
       "      <td>0.143577</td>\n",
       "      <td>0.203823</td>\n",
       "      <td>-0.060978</td>\n",
       "      <td>0.035533</td>\n",
       "      <td>0.364947</td>\n",
       "      <td>-0.541904</td>\n",
       "      <td>0.312770</td>\n",
       "      <td>0.109903</td>\n",
       "      <td>0.226373</td>\n",
       "    </tr>\n",
       "    <tr>\n",
       "      <th>residual sugar</th>\n",
       "      <td>0.114777</td>\n",
       "      <td>0.001918</td>\n",
       "      <td>0.143577</td>\n",
       "      <td>1.000000</td>\n",
       "      <td>0.055610</td>\n",
       "      <td>0.187049</td>\n",
       "      <td>0.203028</td>\n",
       "      <td>0.355283</td>\n",
       "      <td>-0.085652</td>\n",
       "      <td>0.005527</td>\n",
       "      <td>0.042075</td>\n",
       "      <td>0.013732</td>\n",
       "    </tr>\n",
       "    <tr>\n",
       "      <th>chlorides</th>\n",
       "      <td>0.093705</td>\n",
       "      <td>0.061298</td>\n",
       "      <td>0.203823</td>\n",
       "      <td>0.055610</td>\n",
       "      <td>1.000000</td>\n",
       "      <td>0.005562</td>\n",
       "      <td>0.047400</td>\n",
       "      <td>0.200632</td>\n",
       "      <td>-0.265026</td>\n",
       "      <td>0.371260</td>\n",
       "      <td>-0.221141</td>\n",
       "      <td>-0.128907</td>\n",
       "    </tr>\n",
       "    <tr>\n",
       "      <th>free sulfur dioxide</th>\n",
       "      <td>-0.153794</td>\n",
       "      <td>-0.010504</td>\n",
       "      <td>-0.060978</td>\n",
       "      <td>0.187049</td>\n",
       "      <td>0.005562</td>\n",
       "      <td>1.000000</td>\n",
       "      <td>0.667666</td>\n",
       "      <td>-0.021946</td>\n",
       "      <td>0.070377</td>\n",
       "      <td>0.051658</td>\n",
       "      <td>-0.069408</td>\n",
       "      <td>-0.050656</td>\n",
       "    </tr>\n",
       "    <tr>\n",
       "      <th>total sulfur dioxide</th>\n",
       "      <td>-0.113181</td>\n",
       "      <td>0.076470</td>\n",
       "      <td>0.035533</td>\n",
       "      <td>0.203028</td>\n",
       "      <td>0.047400</td>\n",
       "      <td>0.667666</td>\n",
       "      <td>1.000000</td>\n",
       "      <td>0.071269</td>\n",
       "      <td>-0.066495</td>\n",
       "      <td>0.042947</td>\n",
       "      <td>-0.205654</td>\n",
       "      <td>-0.185100</td>\n",
       "    </tr>\n",
       "    <tr>\n",
       "      <th>density</th>\n",
       "      <td>0.668047</td>\n",
       "      <td>0.022026</td>\n",
       "      <td>0.364947</td>\n",
       "      <td>0.355283</td>\n",
       "      <td>0.200632</td>\n",
       "      <td>-0.021946</td>\n",
       "      <td>0.071269</td>\n",
       "      <td>1.000000</td>\n",
       "      <td>-0.341699</td>\n",
       "      <td>0.148506</td>\n",
       "      <td>-0.496180</td>\n",
       "      <td>-0.174919</td>\n",
       "    </tr>\n",
       "    <tr>\n",
       "      <th>pH</th>\n",
       "      <td>-0.682978</td>\n",
       "      <td>0.234937</td>\n",
       "      <td>-0.541904</td>\n",
       "      <td>-0.085652</td>\n",
       "      <td>-0.265026</td>\n",
       "      <td>0.070377</td>\n",
       "      <td>-0.066495</td>\n",
       "      <td>-0.341699</td>\n",
       "      <td>1.000000</td>\n",
       "      <td>-0.196648</td>\n",
       "      <td>0.205633</td>\n",
       "      <td>-0.057731</td>\n",
       "    </tr>\n",
       "    <tr>\n",
       "      <th>sulphates</th>\n",
       "      <td>0.183006</td>\n",
       "      <td>-0.260987</td>\n",
       "      <td>0.312770</td>\n",
       "      <td>0.005527</td>\n",
       "      <td>0.371260</td>\n",
       "      <td>0.051658</td>\n",
       "      <td>0.042947</td>\n",
       "      <td>0.148506</td>\n",
       "      <td>-0.196648</td>\n",
       "      <td>1.000000</td>\n",
       "      <td>0.093595</td>\n",
       "      <td>0.251397</td>\n",
       "    </tr>\n",
       "    <tr>\n",
       "      <th>alcohol</th>\n",
       "      <td>-0.061668</td>\n",
       "      <td>-0.202288</td>\n",
       "      <td>0.109903</td>\n",
       "      <td>0.042075</td>\n",
       "      <td>-0.221141</td>\n",
       "      <td>-0.069408</td>\n",
       "      <td>-0.205654</td>\n",
       "      <td>-0.496180</td>\n",
       "      <td>0.205633</td>\n",
       "      <td>0.093595</td>\n",
       "      <td>1.000000</td>\n",
       "      <td>0.476166</td>\n",
       "    </tr>\n",
       "    <tr>\n",
       "      <th>quality</th>\n",
       "      <td>0.124052</td>\n",
       "      <td>-0.390558</td>\n",
       "      <td>0.226373</td>\n",
       "      <td>0.013732</td>\n",
       "      <td>-0.128907</td>\n",
       "      <td>-0.050656</td>\n",
       "      <td>-0.185100</td>\n",
       "      <td>-0.174919</td>\n",
       "      <td>-0.057731</td>\n",
       "      <td>0.251397</td>\n",
       "      <td>0.476166</td>\n",
       "      <td>1.000000</td>\n",
       "    </tr>\n",
       "  </tbody>\n",
       "</table>\n",
       "</div>"
      ],
      "text/plain": [
       "                      fixed acidity  volatile acidity  citric acid  \\\n",
       "fixed acidity              1.000000         -0.256131     0.671703   \n",
       "volatile acidity          -0.256131          1.000000    -0.552496   \n",
       "citric acid                0.671703         -0.552496     1.000000   \n",
       "residual sugar             0.114777          0.001918     0.143577   \n",
       "chlorides                  0.093705          0.061298     0.203823   \n",
       "free sulfur dioxide       -0.153794         -0.010504    -0.060978   \n",
       "total sulfur dioxide      -0.113181          0.076470     0.035533   \n",
       "density                    0.668047          0.022026     0.364947   \n",
       "pH                        -0.682978          0.234937    -0.541904   \n",
       "sulphates                  0.183006         -0.260987     0.312770   \n",
       "alcohol                   -0.061668         -0.202288     0.109903   \n",
       "quality                    0.124052         -0.390558     0.226373   \n",
       "\n",
       "                      residual sugar  chlorides  free sulfur dioxide  \\\n",
       "fixed acidity               0.114777   0.093705            -0.153794   \n",
       "volatile acidity            0.001918   0.061298            -0.010504   \n",
       "citric acid                 0.143577   0.203823            -0.060978   \n",
       "residual sugar              1.000000   0.055610             0.187049   \n",
       "chlorides                   0.055610   1.000000             0.005562   \n",
       "free sulfur dioxide         0.187049   0.005562             1.000000   \n",
       "total sulfur dioxide        0.203028   0.047400             0.667666   \n",
       "density                     0.355283   0.200632            -0.021946   \n",
       "pH                         -0.085652  -0.265026             0.070377   \n",
       "sulphates                   0.005527   0.371260             0.051658   \n",
       "alcohol                     0.042075  -0.221141            -0.069408   \n",
       "quality                     0.013732  -0.128907            -0.050656   \n",
       "\n",
       "                      total sulfur dioxide   density        pH  sulphates  \\\n",
       "fixed acidity                    -0.113181  0.668047 -0.682978   0.183006   \n",
       "volatile acidity                  0.076470  0.022026  0.234937  -0.260987   \n",
       "citric acid                       0.035533  0.364947 -0.541904   0.312770   \n",
       "residual sugar                    0.203028  0.355283 -0.085652   0.005527   \n",
       "chlorides                         0.047400  0.200632 -0.265026   0.371260   \n",
       "free sulfur dioxide               0.667666 -0.021946  0.070377   0.051658   \n",
       "total sulfur dioxide              1.000000  0.071269 -0.066495   0.042947   \n",
       "density                           0.071269  1.000000 -0.341699   0.148506   \n",
       "pH                               -0.066495 -0.341699  1.000000  -0.196648   \n",
       "sulphates                         0.042947  0.148506 -0.196648   1.000000   \n",
       "alcohol                          -0.205654 -0.496180  0.205633   0.093595   \n",
       "quality                          -0.185100 -0.174919 -0.057731   0.251397   \n",
       "\n",
       "                       alcohol   quality  \n",
       "fixed acidity        -0.061668  0.124052  \n",
       "volatile acidity     -0.202288 -0.390558  \n",
       "citric acid           0.109903  0.226373  \n",
       "residual sugar        0.042075  0.013732  \n",
       "chlorides            -0.221141 -0.128907  \n",
       "free sulfur dioxide  -0.069408 -0.050656  \n",
       "total sulfur dioxide -0.205654 -0.185100  \n",
       "density              -0.496180 -0.174919  \n",
       "pH                    0.205633 -0.057731  \n",
       "sulphates             0.093595  0.251397  \n",
       "alcohol               1.000000  0.476166  \n",
       "quality               0.476166  1.000000  "
      ]
     },
     "execution_count": 232,
     "metadata": {},
     "output_type": "execute_result"
    }
   ],
   "source": [
    "df_corr=df.corr()\n",
    "df_corr"
   ]
  },
  {
   "cell_type": "code",
   "execution_count": 240,
   "metadata": {
    "ExecuteTime": {
     "end_time": "2021-12-03T14:21:33.225177Z",
     "start_time": "2021-12-03T14:21:33.209319Z"
    }
   },
   "outputs": [],
   "source": [
    "# df_corr[1:3] # (indexing)\n",
    "df_corr=df_corr[:-1]"
   ]
  },
  {
   "cell_type": "code",
   "execution_count": 241,
   "metadata": {
    "ExecuteTime": {
     "end_time": "2021-12-03T14:21:33.426534Z",
     "start_time": "2021-12-03T14:21:33.417518Z"
    }
   },
   "outputs": [
    {
     "name": "stdout",
     "output_type": "stream",
     "text": [
      "0.47616632400114156\n",
      "0.013731637340066346\n"
     ]
    }
   ],
   "source": [
    "df_corr_max=abs(df_corr['quality']).max()\n",
    "df_corr_min=abs(df_corr['quality']).min()\n",
    "print(df_corr_max)\n",
    "print(df_corr_min)"
   ]
  },
  {
   "cell_type": "code",
   "execution_count": 242,
   "metadata": {
    "ExecuteTime": {
     "end_time": "2021-12-03T14:21:40.485980Z",
     "start_time": "2021-12-03T14:21:40.472954Z"
    }
   },
   "outputs": [
    {
     "data": {
      "text/html": [
       "<div>\n",
       "<style scoped>\n",
       "    .dataframe tbody tr th:only-of-type {\n",
       "        vertical-align: middle;\n",
       "    }\n",
       "\n",
       "    .dataframe tbody tr th {\n",
       "        vertical-align: top;\n",
       "    }\n",
       "\n",
       "    .dataframe thead th {\n",
       "        text-align: right;\n",
       "    }\n",
       "</style>\n",
       "<table border=\"1\" class=\"dataframe\">\n",
       "  <thead>\n",
       "    <tr style=\"text-align: right;\">\n",
       "      <th></th>\n",
       "      <th>fixed acidity</th>\n",
       "      <th>volatile acidity</th>\n",
       "      <th>citric acid</th>\n",
       "      <th>residual sugar</th>\n",
       "      <th>chlorides</th>\n",
       "      <th>free sulfur dioxide</th>\n",
       "      <th>total sulfur dioxide</th>\n",
       "      <th>density</th>\n",
       "      <th>pH</th>\n",
       "      <th>sulphates</th>\n",
       "      <th>alcohol</th>\n",
       "      <th>quality</th>\n",
       "    </tr>\n",
       "  </thead>\n",
       "  <tbody>\n",
       "    <tr>\n",
       "      <th>fixed acidity</th>\n",
       "      <td>1.000000</td>\n",
       "      <td>-0.256131</td>\n",
       "      <td>0.671703</td>\n",
       "      <td>0.114777</td>\n",
       "      <td>0.093705</td>\n",
       "      <td>-0.153794</td>\n",
       "      <td>-0.113181</td>\n",
       "      <td>0.668047</td>\n",
       "      <td>-0.682978</td>\n",
       "      <td>0.183006</td>\n",
       "      <td>-0.061668</td>\n",
       "      <td>0.124052</td>\n",
       "    </tr>\n",
       "    <tr>\n",
       "      <th>volatile acidity</th>\n",
       "      <td>-0.256131</td>\n",
       "      <td>1.000000</td>\n",
       "      <td>-0.552496</td>\n",
       "      <td>0.001918</td>\n",
       "      <td>0.061298</td>\n",
       "      <td>-0.010504</td>\n",
       "      <td>0.076470</td>\n",
       "      <td>0.022026</td>\n",
       "      <td>0.234937</td>\n",
       "      <td>-0.260987</td>\n",
       "      <td>-0.202288</td>\n",
       "      <td>-0.390558</td>\n",
       "    </tr>\n",
       "    <tr>\n",
       "      <th>citric acid</th>\n",
       "      <td>0.671703</td>\n",
       "      <td>-0.552496</td>\n",
       "      <td>1.000000</td>\n",
       "      <td>0.143577</td>\n",
       "      <td>0.203823</td>\n",
       "      <td>-0.060978</td>\n",
       "      <td>0.035533</td>\n",
       "      <td>0.364947</td>\n",
       "      <td>-0.541904</td>\n",
       "      <td>0.312770</td>\n",
       "      <td>0.109903</td>\n",
       "      <td>0.226373</td>\n",
       "    </tr>\n",
       "    <tr>\n",
       "      <th>residual sugar</th>\n",
       "      <td>0.114777</td>\n",
       "      <td>0.001918</td>\n",
       "      <td>0.143577</td>\n",
       "      <td>1.000000</td>\n",
       "      <td>0.055610</td>\n",
       "      <td>0.187049</td>\n",
       "      <td>0.203028</td>\n",
       "      <td>0.355283</td>\n",
       "      <td>-0.085652</td>\n",
       "      <td>0.005527</td>\n",
       "      <td>0.042075</td>\n",
       "      <td>0.013732</td>\n",
       "    </tr>\n",
       "    <tr>\n",
       "      <th>chlorides</th>\n",
       "      <td>0.093705</td>\n",
       "      <td>0.061298</td>\n",
       "      <td>0.203823</td>\n",
       "      <td>0.055610</td>\n",
       "      <td>1.000000</td>\n",
       "      <td>0.005562</td>\n",
       "      <td>0.047400</td>\n",
       "      <td>0.200632</td>\n",
       "      <td>-0.265026</td>\n",
       "      <td>0.371260</td>\n",
       "      <td>-0.221141</td>\n",
       "      <td>-0.128907</td>\n",
       "    </tr>\n",
       "    <tr>\n",
       "      <th>free sulfur dioxide</th>\n",
       "      <td>-0.153794</td>\n",
       "      <td>-0.010504</td>\n",
       "      <td>-0.060978</td>\n",
       "      <td>0.187049</td>\n",
       "      <td>0.005562</td>\n",
       "      <td>1.000000</td>\n",
       "      <td>0.667666</td>\n",
       "      <td>-0.021946</td>\n",
       "      <td>0.070377</td>\n",
       "      <td>0.051658</td>\n",
       "      <td>-0.069408</td>\n",
       "      <td>-0.050656</td>\n",
       "    </tr>\n",
       "    <tr>\n",
       "      <th>total sulfur dioxide</th>\n",
       "      <td>-0.113181</td>\n",
       "      <td>0.076470</td>\n",
       "      <td>0.035533</td>\n",
       "      <td>0.203028</td>\n",
       "      <td>0.047400</td>\n",
       "      <td>0.667666</td>\n",
       "      <td>1.000000</td>\n",
       "      <td>0.071269</td>\n",
       "      <td>-0.066495</td>\n",
       "      <td>0.042947</td>\n",
       "      <td>-0.205654</td>\n",
       "      <td>-0.185100</td>\n",
       "    </tr>\n",
       "    <tr>\n",
       "      <th>density</th>\n",
       "      <td>0.668047</td>\n",
       "      <td>0.022026</td>\n",
       "      <td>0.364947</td>\n",
       "      <td>0.355283</td>\n",
       "      <td>0.200632</td>\n",
       "      <td>-0.021946</td>\n",
       "      <td>0.071269</td>\n",
       "      <td>1.000000</td>\n",
       "      <td>-0.341699</td>\n",
       "      <td>0.148506</td>\n",
       "      <td>-0.496180</td>\n",
       "      <td>-0.174919</td>\n",
       "    </tr>\n",
       "    <tr>\n",
       "      <th>pH</th>\n",
       "      <td>-0.682978</td>\n",
       "      <td>0.234937</td>\n",
       "      <td>-0.541904</td>\n",
       "      <td>-0.085652</td>\n",
       "      <td>-0.265026</td>\n",
       "      <td>0.070377</td>\n",
       "      <td>-0.066495</td>\n",
       "      <td>-0.341699</td>\n",
       "      <td>1.000000</td>\n",
       "      <td>-0.196648</td>\n",
       "      <td>0.205633</td>\n",
       "      <td>-0.057731</td>\n",
       "    </tr>\n",
       "    <tr>\n",
       "      <th>sulphates</th>\n",
       "      <td>0.183006</td>\n",
       "      <td>-0.260987</td>\n",
       "      <td>0.312770</td>\n",
       "      <td>0.005527</td>\n",
       "      <td>0.371260</td>\n",
       "      <td>0.051658</td>\n",
       "      <td>0.042947</td>\n",
       "      <td>0.148506</td>\n",
       "      <td>-0.196648</td>\n",
       "      <td>1.000000</td>\n",
       "      <td>0.093595</td>\n",
       "      <td>0.251397</td>\n",
       "    </tr>\n",
       "    <tr>\n",
       "      <th>alcohol</th>\n",
       "      <td>-0.061668</td>\n",
       "      <td>-0.202288</td>\n",
       "      <td>0.109903</td>\n",
       "      <td>0.042075</td>\n",
       "      <td>-0.221141</td>\n",
       "      <td>-0.069408</td>\n",
       "      <td>-0.205654</td>\n",
       "      <td>-0.496180</td>\n",
       "      <td>0.205633</td>\n",
       "      <td>0.093595</td>\n",
       "      <td>1.000000</td>\n",
       "      <td>0.476166</td>\n",
       "    </tr>\n",
       "  </tbody>\n",
       "</table>\n",
       "</div>"
      ],
      "text/plain": [
       "                      fixed acidity  volatile acidity  citric acid  \\\n",
       "fixed acidity              1.000000         -0.256131     0.671703   \n",
       "volatile acidity          -0.256131          1.000000    -0.552496   \n",
       "citric acid                0.671703         -0.552496     1.000000   \n",
       "residual sugar             0.114777          0.001918     0.143577   \n",
       "chlorides                  0.093705          0.061298     0.203823   \n",
       "free sulfur dioxide       -0.153794         -0.010504    -0.060978   \n",
       "total sulfur dioxide      -0.113181          0.076470     0.035533   \n",
       "density                    0.668047          0.022026     0.364947   \n",
       "pH                        -0.682978          0.234937    -0.541904   \n",
       "sulphates                  0.183006         -0.260987     0.312770   \n",
       "alcohol                   -0.061668         -0.202288     0.109903   \n",
       "\n",
       "                      residual sugar  chlorides  free sulfur dioxide  \\\n",
       "fixed acidity               0.114777   0.093705            -0.153794   \n",
       "volatile acidity            0.001918   0.061298            -0.010504   \n",
       "citric acid                 0.143577   0.203823            -0.060978   \n",
       "residual sugar              1.000000   0.055610             0.187049   \n",
       "chlorides                   0.055610   1.000000             0.005562   \n",
       "free sulfur dioxide         0.187049   0.005562             1.000000   \n",
       "total sulfur dioxide        0.203028   0.047400             0.667666   \n",
       "density                     0.355283   0.200632            -0.021946   \n",
       "pH                         -0.085652  -0.265026             0.070377   \n",
       "sulphates                   0.005527   0.371260             0.051658   \n",
       "alcohol                     0.042075  -0.221141            -0.069408   \n",
       "\n",
       "                      total sulfur dioxide   density        pH  sulphates  \\\n",
       "fixed acidity                    -0.113181  0.668047 -0.682978   0.183006   \n",
       "volatile acidity                  0.076470  0.022026  0.234937  -0.260987   \n",
       "citric acid                       0.035533  0.364947 -0.541904   0.312770   \n",
       "residual sugar                    0.203028  0.355283 -0.085652   0.005527   \n",
       "chlorides                         0.047400  0.200632 -0.265026   0.371260   \n",
       "free sulfur dioxide               0.667666 -0.021946  0.070377   0.051658   \n",
       "total sulfur dioxide              1.000000  0.071269 -0.066495   0.042947   \n",
       "density                           0.071269  1.000000 -0.341699   0.148506   \n",
       "pH                               -0.066495 -0.341699  1.000000  -0.196648   \n",
       "sulphates                         0.042947  0.148506 -0.196648   1.000000   \n",
       "alcohol                          -0.205654 -0.496180  0.205633   0.093595   \n",
       "\n",
       "                       alcohol   quality  \n",
       "fixed acidity        -0.061668  0.124052  \n",
       "volatile acidity     -0.202288 -0.390558  \n",
       "citric acid           0.109903  0.226373  \n",
       "residual sugar        0.042075  0.013732  \n",
       "chlorides            -0.221141 -0.128907  \n",
       "free sulfur dioxide  -0.069408 -0.050656  \n",
       "total sulfur dioxide -0.205654 -0.185100  \n",
       "density              -0.496180 -0.174919  \n",
       "pH                    0.205633 -0.057731  \n",
       "sulphates             0.093595  0.251397  \n",
       "alcohol               1.000000  0.476166  "
      ]
     },
     "execution_count": 242,
     "metadata": {},
     "output_type": "execute_result"
    }
   ],
   "source": [
    "df_corr"
   ]
  },
  {
   "cell_type": "markdown",
   "metadata": {},
   "source": [
    "# Multi Index & Groupby"
   ]
  },
  {
   "cell_type": "code",
   "execution_count": 259,
   "metadata": {
    "ExecuteTime": {
     "end_time": "2021-12-03T14:42:53.385826Z",
     "start_time": "2021-12-03T14:42:53.376954Z"
    }
   },
   "outputs": [],
   "source": [
    "# city와 f4를 기준으로 f5의 평균값을 구한 다음, f5를 기준으로 상위 7개 값을 모두 더해 출력하시오 (소수점 둘째자리까지 출력)\n"
   ]
  },
  {
   "cell_type": "code",
   "execution_count": 243,
   "metadata": {
    "ExecuteTime": {
     "end_time": "2021-12-03T14:38:13.595298Z",
     "start_time": "2021-12-03T14:38:13.577305Z"
    }
   },
   "outputs": [],
   "source": [
    "df=pd.read_csv('./archive/basic1.csv')"
   ]
  },
  {
   "cell_type": "code",
   "execution_count": 244,
   "metadata": {
    "ExecuteTime": {
     "end_time": "2021-12-03T14:38:19.237270Z",
     "start_time": "2021-12-03T14:38:19.217545Z"
    }
   },
   "outputs": [
    {
     "data": {
      "text/html": [
       "<div>\n",
       "<style scoped>\n",
       "    .dataframe tbody tr th:only-of-type {\n",
       "        vertical-align: middle;\n",
       "    }\n",
       "\n",
       "    .dataframe tbody tr th {\n",
       "        vertical-align: top;\n",
       "    }\n",
       "\n",
       "    .dataframe thead th {\n",
       "        text-align: right;\n",
       "    }\n",
       "</style>\n",
       "<table border=\"1\" class=\"dataframe\">\n",
       "  <thead>\n",
       "    <tr style=\"text-align: right;\">\n",
       "      <th></th>\n",
       "      <th>id</th>\n",
       "      <th>age</th>\n",
       "      <th>city</th>\n",
       "      <th>f1</th>\n",
       "      <th>f2</th>\n",
       "      <th>f3</th>\n",
       "      <th>f4</th>\n",
       "      <th>f5</th>\n",
       "    </tr>\n",
       "  </thead>\n",
       "  <tbody>\n",
       "    <tr>\n",
       "      <th>0</th>\n",
       "      <td>id01</td>\n",
       "      <td>2.0</td>\n",
       "      <td>서울</td>\n",
       "      <td>NaN</td>\n",
       "      <td>0</td>\n",
       "      <td>NaN</td>\n",
       "      <td>ENFJ</td>\n",
       "      <td>91.297791</td>\n",
       "    </tr>\n",
       "    <tr>\n",
       "      <th>1</th>\n",
       "      <td>id02</td>\n",
       "      <td>9.0</td>\n",
       "      <td>서울</td>\n",
       "      <td>70.0</td>\n",
       "      <td>1</td>\n",
       "      <td>NaN</td>\n",
       "      <td>ENFJ</td>\n",
       "      <td>60.339826</td>\n",
       "    </tr>\n",
       "    <tr>\n",
       "      <th>2</th>\n",
       "      <td>id03</td>\n",
       "      <td>27.0</td>\n",
       "      <td>서울</td>\n",
       "      <td>61.0</td>\n",
       "      <td>1</td>\n",
       "      <td>NaN</td>\n",
       "      <td>ISTJ</td>\n",
       "      <td>17.252986</td>\n",
       "    </tr>\n",
       "    <tr>\n",
       "      <th>3</th>\n",
       "      <td>id04</td>\n",
       "      <td>75.0</td>\n",
       "      <td>서울</td>\n",
       "      <td>NaN</td>\n",
       "      <td>2</td>\n",
       "      <td>NaN</td>\n",
       "      <td>INFP</td>\n",
       "      <td>52.667078</td>\n",
       "    </tr>\n",
       "    <tr>\n",
       "      <th>4</th>\n",
       "      <td>id05</td>\n",
       "      <td>24.0</td>\n",
       "      <td>서울</td>\n",
       "      <td>85.0</td>\n",
       "      <td>2</td>\n",
       "      <td>NaN</td>\n",
       "      <td>ISFJ</td>\n",
       "      <td>29.269869</td>\n",
       "    </tr>\n",
       "  </tbody>\n",
       "</table>\n",
       "</div>"
      ],
      "text/plain": [
       "     id   age city    f1  f2   f3    f4         f5\n",
       "0  id01   2.0   서울   NaN   0  NaN  ENFJ  91.297791\n",
       "1  id02   9.0   서울  70.0   1  NaN  ENFJ  60.339826\n",
       "2  id03  27.0   서울  61.0   1  NaN  ISTJ  17.252986\n",
       "3  id04  75.0   서울   NaN   2  NaN  INFP  52.667078\n",
       "4  id05  24.0   서울  85.0   2  NaN  ISFJ  29.269869"
      ]
     },
     "execution_count": 244,
     "metadata": {},
     "output_type": "execute_result"
    }
   ],
   "source": [
    "df.head()"
   ]
  },
  {
   "cell_type": "code",
   "execution_count": 245,
   "metadata": {
    "ExecuteTime": {
     "end_time": "2021-12-03T14:39:02.031915Z",
     "start_time": "2021-12-03T14:39:02.024931Z"
    }
   },
   "outputs": [],
   "source": [
    "groupby_f5=df.groupby([\"city\",'f4']).mean()"
   ]
  },
  {
   "cell_type": "code",
   "execution_count": 247,
   "metadata": {
    "ExecuteTime": {
     "end_time": "2021-12-03T14:39:22.781641Z",
     "start_time": "2021-12-03T14:39:22.768665Z"
    }
   },
   "outputs": [
    {
     "name": "stdout",
     "output_type": "stream",
     "text": [
      "                 age          f1        f2         f5\n",
      "city f4                                              \n",
      "경기   ENTJ  61.250000   43.666667  0.500000  51.693799\n",
      "     ENTP  63.500000   50.000000  0.500000  54.704075\n",
      "     ESFJ   1.000000   47.000000  0.000000  97.381034\n",
      "     ESFP  48.666667   57.500000  0.666667  53.187491\n",
      "     ESTJ  64.000000   85.666667  0.250000  79.487043\n",
      "     ESTP  36.666667   72.500000  0.000000  34.022130\n",
      "     INFJ  83.600000   55.000000  0.000000  80.138280\n",
      "     INFP  78.250000   55.666667  0.750000  90.531801\n",
      "     INTJ  66.333333   69.500000  0.666667  80.388795\n",
      "     INTP  52.750000   59.333333  0.500000  55.887974\n",
      "     ISFJ  82.500000   62.666667  1.000000  64.468233\n",
      "     ISFP  41.614286   61.500000  0.857143  69.108148\n",
      "     ISTP  -9.000000   96.000000  1.000000  48.431184\n",
      "대구   ENFJ  77.000000   71.500000  0.333333  39.964658\n",
      "     ENFP  53.333333   76.500000  0.333333  32.574085\n",
      "     ENTP  75.000000   63.000000  2.000000  13.049921\n",
      "     ESFJ  64.000000         NaN  1.000000  20.129444\n",
      "     ESTJ  62.200000   75.000000  0.666667  77.323257\n",
      "     ESTP  39.000000   66.000000  1.333333  28.915814\n",
      "     INTP  59.500000   88.000000  0.000000  26.698797\n",
      "     ISFJ  50.000000   96.500000  0.500000  59.883434\n",
      "     ISTJ  36.000000         NaN  0.000000  83.685380\n",
      "     ISTP  23.000000   60.000000  0.000000  29.269869\n",
      "부산   ENFJ  47.000000   94.000000  0.000000  17.252986\n",
      "     ENFP  24.350000   64.500000  1.000000  68.176229\n",
      "     ENTP  12.250000   40.500000  1.500000  74.012327\n",
      "     ESFJ  86.000000   77.000000  0.000000  73.586397\n",
      "     ESTJ  23.000000         NaN  1.000000  25.280992\n",
      "     ESTP  64.500000   60.000000  0.250000  62.730150\n",
      "     INFJ  68.000000   47.000000  0.000000  53.447698\n",
      "     INFP  65.000000         NaN  1.000000  48.431184\n",
      "     INTP  68.000000   77.000000  1.000000  13.049921\n",
      "     ISFJ  25.000000   64.000000  0.000000  13.049921\n",
      "     ISFP  90.000000         NaN  1.000000  29.269869\n",
      "     ISTP  34.000000   75.000000  1.000000  69.730313\n",
      "서울   ENFJ   5.500000   70.000000  0.500000  75.818808\n",
      "     ENFP  40.000000   68.000000  0.000000  98.429899\n",
      "     ENTJ  77.000000   50.000000  1.000000  67.886373\n",
      "     ENTP  22.000000   67.000000  1.000000   9.796378\n",
      "     ESFJ   9.150000   51.500000  1.000000  50.469183\n",
      "     ESFP  68.000000   85.000000  0.000000  16.283854\n",
      "     ESTP  20.000000         NaN  0.000000  91.297791\n",
      "     INFJ  38.000000  101.000000  1.000000  83.685380\n",
      "     INFP  75.000000         NaN  2.000000  52.667078\n",
      "     INTJ  11.000000   51.000000  1.000000  91.297791\n",
      "     INTP  22.000000   57.000000  0.000000  20.129444\n",
      "     ISFJ  33.766667   77.333333  1.666667  39.734842\n",
      "     ISFP  74.000000   74.000000  0.500000  91.057640\n",
      "     ISTJ  27.000000   61.000000  1.000000  17.252986\n",
      "     ISTP  74.000000         NaN  1.000000  67.886373\n"
     ]
    }
   ],
   "source": [
    "print(groupby_f5)"
   ]
  },
  {
   "cell_type": "code",
   "execution_count": 260,
   "metadata": {
    "ExecuteTime": {
     "end_time": "2021-12-03T14:43:25.657489Z",
     "start_time": "2021-12-03T14:43:25.648542Z"
    }
   },
   "outputs": [
    {
     "data": {
      "text/plain": [
       "MultiIndex([('경기', 'ENTJ'),\n",
       "            ('경기', 'ENTP'),\n",
       "            ('경기', 'ESFJ'),\n",
       "            ('경기', 'ESFP'),\n",
       "            ('경기', 'ESTJ')],\n",
       "           names=['city', 'f4'])"
      ]
     },
     "execution_count": 260,
     "metadata": {},
     "output_type": "execute_result"
    }
   ],
   "source": [
    "groupby_f5.index[:5]"
   ]
  },
  {
   "cell_type": "code",
   "execution_count": 251,
   "metadata": {
    "ExecuteTime": {
     "end_time": "2021-12-03T14:40:42.539279Z",
     "start_time": "2021-12-03T14:40:42.521321Z"
    }
   },
   "outputs": [
    {
     "data": {
      "text/plain": [
       "Index(['age', 'f1', 'f2', 'f5'], dtype='object')"
      ]
     },
     "execution_count": 251,
     "metadata": {},
     "output_type": "execute_result"
    }
   ],
   "source": [
    "groupby_f5.columns"
   ]
  },
  {
   "cell_type": "code",
   "execution_count": 255,
   "metadata": {
    "ExecuteTime": {
     "end_time": "2021-12-03T14:41:52.800681Z",
     "start_time": "2021-12-03T14:41:52.792680Z"
    }
   },
   "outputs": [
    {
     "data": {
      "text/plain": [
       "city  f4  \n",
       "서울    ENFP    98.429899\n",
       "경기    ESFJ    97.381034\n",
       "서울    INTJ    91.297791\n",
       "      ESTP    91.297791\n",
       "      ISFP    91.057640\n",
       "경기    INFP    90.531801\n",
       "서울    INFJ    83.685380\n",
       "Name: f5, dtype: float64"
      ]
     },
     "execution_count": 255,
     "metadata": {},
     "output_type": "execute_result"
    }
   ],
   "source": [
    "groupby_f5.sort_values(\"f5\",ascending=False)[:7]"
   ]
  },
  {
   "cell_type": "code",
   "execution_count": 256,
   "metadata": {
    "ExecuteTime": {
     "end_time": "2021-12-03T14:42:05.501259Z",
     "start_time": "2021-12-03T14:42:05.481280Z"
    }
   },
   "outputs": [
    {
     "data": {
      "text/plain": [
       "city  f4  \n",
       "서울    ENFP    98.429899\n",
       "경기    ESFJ    97.381034\n",
       "서울    INTJ    91.297791\n",
       "      ESTP    91.297791\n",
       "      ISFP    91.057640\n",
       "경기    INFP    90.531801\n",
       "서울    INFJ    83.685380\n",
       "Name: f5, dtype: float64"
      ]
     },
     "execution_count": 256,
     "metadata": {},
     "output_type": "execute_result"
    }
   ],
   "source": [
    "groupby_f5.sort_values(\"f5\",ascending=False)[:7]['f5']"
   ]
  },
  {
   "cell_type": "code",
   "execution_count": 257,
   "metadata": {
    "ExecuteTime": {
     "end_time": "2021-12-03T14:42:10.521093Z",
     "start_time": "2021-12-03T14:42:10.513072Z"
    }
   },
   "outputs": [
    {
     "data": {
      "text/plain": [
       "643.6813362975"
      ]
     },
     "execution_count": 257,
     "metadata": {},
     "output_type": "execute_result"
    }
   ],
   "source": [
    "groupby_f5.sort_values(\"f5\",ascending=False)[:7]['f5'].sum()"
   ]
  },
  {
   "cell_type": "code",
   "execution_count": 258,
   "metadata": {
    "ExecuteTime": {
     "end_time": "2021-12-03T14:42:23.689355Z",
     "start_time": "2021-12-03T14:42:23.673366Z"
    }
   },
   "outputs": [
    {
     "data": {
      "text/plain": [
       "643.68"
      ]
     },
     "execution_count": 258,
     "metadata": {},
     "output_type": "execute_result"
    }
   ],
   "source": [
    "round(groupby_f5.sort_values(\"f5\",ascending=False)[:7]['f5'].sum(),2)"
   ]
  },
  {
   "cell_type": "markdown",
   "metadata": {},
   "source": [
    "# 슬라이싱 & 조건 "
   ]
  },
  {
   "cell_type": "code",
   "execution_count": 274,
   "metadata": {
    "ExecuteTime": {
     "end_time": "2021-12-03T14:51:25.818065Z",
     "start_time": "2021-12-03T14:51:25.801110Z"
    }
   },
   "outputs": [],
   "source": [
    "# 주어진 데이터 셋에서 age컬럼 상위 20개의 데이터를 구한 다음 \n",
    "# f1의 결측치를 중앙값으로 채운다.\n",
    "# 그리고 f4가 ISFJ와 f5가 20 이상인 \n",
    "# f1의 평균값을 출력하시오!"
   ]
  },
  {
   "cell_type": "code",
   "execution_count": 295,
   "metadata": {
    "ExecuteTime": {
     "end_time": "2021-12-03T14:53:33.445998Z",
     "start_time": "2021-12-03T14:53:33.433000Z"
    }
   },
   "outputs": [],
   "source": [
    "df=pd.read_csv('./archive/basic1.csv')"
   ]
  },
  {
   "cell_type": "code",
   "execution_count": 303,
   "metadata": {
    "ExecuteTime": {
     "end_time": "2021-12-03T14:55:00.706523Z",
     "start_time": "2021-12-03T14:55:00.687574Z"
    }
   },
   "outputs": [
    {
     "data": {
      "text/html": [
       "<div>\n",
       "<style scoped>\n",
       "    .dataframe tbody tr th:only-of-type {\n",
       "        vertical-align: middle;\n",
       "    }\n",
       "\n",
       "    .dataframe tbody tr th {\n",
       "        vertical-align: top;\n",
       "    }\n",
       "\n",
       "    .dataframe thead th {\n",
       "        text-align: right;\n",
       "    }\n",
       "</style>\n",
       "<table border=\"1\" class=\"dataframe\">\n",
       "  <thead>\n",
       "    <tr style=\"text-align: right;\">\n",
       "      <th></th>\n",
       "      <th>id</th>\n",
       "      <th>age</th>\n",
       "      <th>city</th>\n",
       "      <th>f1</th>\n",
       "      <th>f2</th>\n",
       "      <th>f3</th>\n",
       "      <th>f4</th>\n",
       "      <th>f5</th>\n",
       "    </tr>\n",
       "  </thead>\n",
       "  <tbody>\n",
       "    <tr>\n",
       "      <th>0</th>\n",
       "      <td>id97</td>\n",
       "      <td>100.0</td>\n",
       "      <td>경기</td>\n",
       "      <td>NaN</td>\n",
       "      <td>0</td>\n",
       "      <td>NaN</td>\n",
       "      <td>INFP</td>\n",
       "      <td>67.886373</td>\n",
       "    </tr>\n",
       "    <tr>\n",
       "      <th>1</th>\n",
       "      <td>id37</td>\n",
       "      <td>100.0</td>\n",
       "      <td>부산</td>\n",
       "      <td>NaN</td>\n",
       "      <td>0</td>\n",
       "      <td>NaN</td>\n",
       "      <td>ESTP</td>\n",
       "      <td>33.308999</td>\n",
       "    </tr>\n",
       "    <tr>\n",
       "      <th>2</th>\n",
       "      <td>id45</td>\n",
       "      <td>97.0</td>\n",
       "      <td>대구</td>\n",
       "      <td>88.0</td>\n",
       "      <td>0</td>\n",
       "      <td>NaN</td>\n",
       "      <td>ENFJ</td>\n",
       "      <td>13.049921</td>\n",
       "    </tr>\n",
       "    <tr>\n",
       "      <th>3</th>\n",
       "      <td>id52</td>\n",
       "      <td>97.0</td>\n",
       "      <td>대구</td>\n",
       "      <td>82.0</td>\n",
       "      <td>1</td>\n",
       "      <td>NaN</td>\n",
       "      <td>ISFJ</td>\n",
       "      <td>90.496999</td>\n",
       "    </tr>\n",
       "    <tr>\n",
       "      <th>4</th>\n",
       "      <td>id92</td>\n",
       "      <td>97.0</td>\n",
       "      <td>경기</td>\n",
       "      <td>78.0</td>\n",
       "      <td>1</td>\n",
       "      <td>NaN</td>\n",
       "      <td>INFP</td>\n",
       "      <td>97.381034</td>\n",
       "    </tr>\n",
       "    <tr>\n",
       "      <th>5</th>\n",
       "      <td>id10</td>\n",
       "      <td>95.0</td>\n",
       "      <td>서울</td>\n",
       "      <td>74.0</td>\n",
       "      <td>1</td>\n",
       "      <td>NaN</td>\n",
       "      <td>ISFP</td>\n",
       "      <td>98.429899</td>\n",
       "    </tr>\n",
       "    <tr>\n",
       "      <th>6</th>\n",
       "      <td>id46</td>\n",
       "      <td>93.0</td>\n",
       "      <td>대구</td>\n",
       "      <td>NaN</td>\n",
       "      <td>0</td>\n",
       "      <td>NaN</td>\n",
       "      <td>ESTJ</td>\n",
       "      <td>67.886373</td>\n",
       "    </tr>\n",
       "    <tr>\n",
       "      <th>7</th>\n",
       "      <td>id78</td>\n",
       "      <td>92.0</td>\n",
       "      <td>경기</td>\n",
       "      <td>96.0</td>\n",
       "      <td>1</td>\n",
       "      <td>NaN</td>\n",
       "      <td>INTJ</td>\n",
       "      <td>69.730313</td>\n",
       "    </tr>\n",
       "    <tr>\n",
       "      <th>8</th>\n",
       "      <td>id96</td>\n",
       "      <td>92.0</td>\n",
       "      <td>경기</td>\n",
       "      <td>53.0</td>\n",
       "      <td>1</td>\n",
       "      <td>NaN</td>\n",
       "      <td>ENTJ</td>\n",
       "      <td>52.667078</td>\n",
       "    </tr>\n",
       "    <tr>\n",
       "      <th>9</th>\n",
       "      <td>id73</td>\n",
       "      <td>90.0</td>\n",
       "      <td>경기</td>\n",
       "      <td>NaN</td>\n",
       "      <td>1</td>\n",
       "      <td>NaN</td>\n",
       "      <td>ISFJ</td>\n",
       "      <td>73.586397</td>\n",
       "    </tr>\n",
       "    <tr>\n",
       "      <th>10</th>\n",
       "      <td>id21</td>\n",
       "      <td>90.0</td>\n",
       "      <td>부산</td>\n",
       "      <td>NaN</td>\n",
       "      <td>1</td>\n",
       "      <td>NaN</td>\n",
       "      <td>ISFP</td>\n",
       "      <td>29.269869</td>\n",
       "    </tr>\n",
       "    <tr>\n",
       "      <th>11</th>\n",
       "      <td>id88</td>\n",
       "      <td>89.0</td>\n",
       "      <td>경기</td>\n",
       "      <td>75.0</td>\n",
       "      <td>0</td>\n",
       "      <td>NaN</td>\n",
       "      <td>ESTJ</td>\n",
       "      <td>60.339826</td>\n",
       "    </tr>\n",
       "    <tr>\n",
       "      <th>12</th>\n",
       "      <td>id63</td>\n",
       "      <td>88.0</td>\n",
       "      <td>경기</td>\n",
       "      <td>86.0</td>\n",
       "      <td>1</td>\n",
       "      <td>NaN</td>\n",
       "      <td>ISFJ</td>\n",
       "      <td>73.586397</td>\n",
       "    </tr>\n",
       "    <tr>\n",
       "      <th>13</th>\n",
       "      <td>id66</td>\n",
       "      <td>87.0</td>\n",
       "      <td>경기</td>\n",
       "      <td>NaN</td>\n",
       "      <td>1</td>\n",
       "      <td>NaN</td>\n",
       "      <td>ISFP</td>\n",
       "      <td>17.252986</td>\n",
       "    </tr>\n",
       "    <tr>\n",
       "      <th>14</th>\n",
       "      <td>id38</td>\n",
       "      <td>87.0</td>\n",
       "      <td>부산</td>\n",
       "      <td>NaN</td>\n",
       "      <td>1</td>\n",
       "      <td>NaN</td>\n",
       "      <td>ESTP</td>\n",
       "      <td>83.685380</td>\n",
       "    </tr>\n",
       "    <tr>\n",
       "      <th>15</th>\n",
       "      <td>id61</td>\n",
       "      <td>87.0</td>\n",
       "      <td>경기</td>\n",
       "      <td>62.0</td>\n",
       "      <td>2</td>\n",
       "      <td>NaN</td>\n",
       "      <td>INTP</td>\n",
       "      <td>69.730313</td>\n",
       "    </tr>\n",
       "    <tr>\n",
       "      <th>16</th>\n",
       "      <td>id50</td>\n",
       "      <td>86.0</td>\n",
       "      <td>대구</td>\n",
       "      <td>78.0</td>\n",
       "      <td>1</td>\n",
       "      <td>NaN</td>\n",
       "      <td>ENFP</td>\n",
       "      <td>60.339826</td>\n",
       "    </tr>\n",
       "    <tr>\n",
       "      <th>17</th>\n",
       "      <td>id81</td>\n",
       "      <td>86.0</td>\n",
       "      <td>경기</td>\n",
       "      <td>50.0</td>\n",
       "      <td>1</td>\n",
       "      <td>NaN</td>\n",
       "      <td>ISFJ</td>\n",
       "      <td>37.113739</td>\n",
       "    </tr>\n",
       "    <tr>\n",
       "      <th>18</th>\n",
       "      <td>id31</td>\n",
       "      <td>86.0</td>\n",
       "      <td>부산</td>\n",
       "      <td>77.0</td>\n",
       "      <td>0</td>\n",
       "      <td>NaN</td>\n",
       "      <td>ESFJ</td>\n",
       "      <td>73.586397</td>\n",
       "    </tr>\n",
       "    <tr>\n",
       "      <th>19</th>\n",
       "      <td>id94</td>\n",
       "      <td>84.0</td>\n",
       "      <td>경기</td>\n",
       "      <td>NaN</td>\n",
       "      <td>1</td>\n",
       "      <td>NaN</td>\n",
       "      <td>ESTJ</td>\n",
       "      <td>90.496999</td>\n",
       "    </tr>\n",
       "  </tbody>\n",
       "</table>\n",
       "</div>"
      ],
      "text/plain": [
       "      id    age city    f1  f2   f3    f4         f5\n",
       "0   id97  100.0   경기   NaN   0  NaN  INFP  67.886373\n",
       "1   id37  100.0   부산   NaN   0  NaN  ESTP  33.308999\n",
       "2   id45   97.0   대구  88.0   0  NaN  ENFJ  13.049921\n",
       "3   id52   97.0   대구  82.0   1  NaN  ISFJ  90.496999\n",
       "4   id92   97.0   경기  78.0   1  NaN  INFP  97.381034\n",
       "5   id10   95.0   서울  74.0   1  NaN  ISFP  98.429899\n",
       "6   id46   93.0   대구   NaN   0  NaN  ESTJ  67.886373\n",
       "7   id78   92.0   경기  96.0   1  NaN  INTJ  69.730313\n",
       "8   id96   92.0   경기  53.0   1  NaN  ENTJ  52.667078\n",
       "9   id73   90.0   경기   NaN   1  NaN  ISFJ  73.586397\n",
       "10  id21   90.0   부산   NaN   1  NaN  ISFP  29.269869\n",
       "11  id88   89.0   경기  75.0   0  NaN  ESTJ  60.339826\n",
       "12  id63   88.0   경기  86.0   1  NaN  ISFJ  73.586397\n",
       "13  id66   87.0   경기   NaN   1  NaN  ISFP  17.252986\n",
       "14  id38   87.0   부산   NaN   1  NaN  ESTP  83.685380\n",
       "15  id61   87.0   경기  62.0   2  NaN  INTP  69.730313\n",
       "16  id50   86.0   대구  78.0   1  NaN  ENFP  60.339826\n",
       "17  id81   86.0   경기  50.0   1  NaN  ISFJ  37.113739\n",
       "18  id31   86.0   부산  77.0   0  NaN  ESFJ  73.586397\n",
       "19  id94   84.0   경기   NaN   1  NaN  ESTJ  90.496999"
      ]
     },
     "execution_count": 303,
     "metadata": {},
     "output_type": "execute_result"
    }
   ],
   "source": [
    "df"
   ]
  },
  {
   "cell_type": "code",
   "execution_count": 301,
   "metadata": {
    "ExecuteTime": {
     "end_time": "2021-12-03T14:54:35.657984Z",
     "start_time": "2021-12-03T14:54:35.650001Z"
    }
   },
   "outputs": [
    {
     "name": "stdout",
     "output_type": "stream",
     "text": [
      "      id    age city     f1  f2   f3    f4         f5\n",
      "0   id97  100.0   경기    NaN   0  NaN  INFP  67.886373\n",
      "1   id37  100.0   부산    NaN   0  NaN  ESTP  33.308999\n",
      "2   id45   97.0   대구   88.0   0  NaN  ENFJ  13.049921\n",
      "3   id52   97.0   대구   82.0   1  NaN  ISFJ  90.496999\n",
      "4   id92   97.0   경기   78.0   1  NaN  INFP  97.381034\n",
      "..   ...    ...  ...    ...  ..  ...   ...        ...\n",
      "95  id99    1.0   경기   47.0   0  NaN  ESFJ  97.381034\n",
      "96  id58    0.0   대구  100.0   2  NaN  ESTP  33.308999\n",
      "97  id22   -6.3   부산   72.0   1  NaN  ENFP  52.667078\n",
      "98  id70   -9.0   경기   96.0   1  NaN  ISTP  48.431184\n",
      "99  id29  -13.5   부산   47.0   2  NaN  ENTP  67.886373\n",
      "\n",
      "[100 rows x 8 columns]\n"
     ]
    }
   ],
   "source": [
    "# 나이 순(내림차순)으로 정렬\n",
    "df = df.sort_values('age', ascending=False).reset_index(drop=True)\n",
    "print(df)"
   ]
  },
  {
   "cell_type": "code",
   "execution_count": 302,
   "metadata": {
    "ExecuteTime": {
     "end_time": "2021-12-03T14:54:51.778360Z",
     "start_time": "2021-12-03T14:54:51.767431Z"
    }
   },
   "outputs": [
    {
     "data": {
      "text/html": [
       "<div>\n",
       "<style scoped>\n",
       "    .dataframe tbody tr th:only-of-type {\n",
       "        vertical-align: middle;\n",
       "    }\n",
       "\n",
       "    .dataframe tbody tr th {\n",
       "        vertical-align: top;\n",
       "    }\n",
       "\n",
       "    .dataframe thead th {\n",
       "        text-align: right;\n",
       "    }\n",
       "</style>\n",
       "<table border=\"1\" class=\"dataframe\">\n",
       "  <thead>\n",
       "    <tr style=\"text-align: right;\">\n",
       "      <th></th>\n",
       "      <th>id</th>\n",
       "      <th>age</th>\n",
       "      <th>city</th>\n",
       "      <th>f1</th>\n",
       "      <th>f2</th>\n",
       "      <th>f3</th>\n",
       "      <th>f4</th>\n",
       "      <th>f5</th>\n",
       "    </tr>\n",
       "  </thead>\n",
       "  <tbody>\n",
       "    <tr>\n",
       "      <th>0</th>\n",
       "      <td>id97</td>\n",
       "      <td>100.0</td>\n",
       "      <td>경기</td>\n",
       "      <td>NaN</td>\n",
       "      <td>0</td>\n",
       "      <td>NaN</td>\n",
       "      <td>INFP</td>\n",
       "      <td>67.886373</td>\n",
       "    </tr>\n",
       "    <tr>\n",
       "      <th>1</th>\n",
       "      <td>id37</td>\n",
       "      <td>100.0</td>\n",
       "      <td>부산</td>\n",
       "      <td>NaN</td>\n",
       "      <td>0</td>\n",
       "      <td>NaN</td>\n",
       "      <td>ESTP</td>\n",
       "      <td>33.308999</td>\n",
       "    </tr>\n",
       "    <tr>\n",
       "      <th>2</th>\n",
       "      <td>id45</td>\n",
       "      <td>97.0</td>\n",
       "      <td>대구</td>\n",
       "      <td>88.0</td>\n",
       "      <td>0</td>\n",
       "      <td>NaN</td>\n",
       "      <td>ENFJ</td>\n",
       "      <td>13.049921</td>\n",
       "    </tr>\n",
       "    <tr>\n",
       "      <th>3</th>\n",
       "      <td>id52</td>\n",
       "      <td>97.0</td>\n",
       "      <td>대구</td>\n",
       "      <td>82.0</td>\n",
       "      <td>1</td>\n",
       "      <td>NaN</td>\n",
       "      <td>ISFJ</td>\n",
       "      <td>90.496999</td>\n",
       "    </tr>\n",
       "    <tr>\n",
       "      <th>4</th>\n",
       "      <td>id92</td>\n",
       "      <td>97.0</td>\n",
       "      <td>경기</td>\n",
       "      <td>78.0</td>\n",
       "      <td>1</td>\n",
       "      <td>NaN</td>\n",
       "      <td>INFP</td>\n",
       "      <td>97.381034</td>\n",
       "    </tr>\n",
       "    <tr>\n",
       "      <th>5</th>\n",
       "      <td>id10</td>\n",
       "      <td>95.0</td>\n",
       "      <td>서울</td>\n",
       "      <td>74.0</td>\n",
       "      <td>1</td>\n",
       "      <td>NaN</td>\n",
       "      <td>ISFP</td>\n",
       "      <td>98.429899</td>\n",
       "    </tr>\n",
       "    <tr>\n",
       "      <th>6</th>\n",
       "      <td>id46</td>\n",
       "      <td>93.0</td>\n",
       "      <td>대구</td>\n",
       "      <td>NaN</td>\n",
       "      <td>0</td>\n",
       "      <td>NaN</td>\n",
       "      <td>ESTJ</td>\n",
       "      <td>67.886373</td>\n",
       "    </tr>\n",
       "    <tr>\n",
       "      <th>7</th>\n",
       "      <td>id78</td>\n",
       "      <td>92.0</td>\n",
       "      <td>경기</td>\n",
       "      <td>96.0</td>\n",
       "      <td>1</td>\n",
       "      <td>NaN</td>\n",
       "      <td>INTJ</td>\n",
       "      <td>69.730313</td>\n",
       "    </tr>\n",
       "    <tr>\n",
       "      <th>8</th>\n",
       "      <td>id96</td>\n",
       "      <td>92.0</td>\n",
       "      <td>경기</td>\n",
       "      <td>53.0</td>\n",
       "      <td>1</td>\n",
       "      <td>NaN</td>\n",
       "      <td>ENTJ</td>\n",
       "      <td>52.667078</td>\n",
       "    </tr>\n",
       "    <tr>\n",
       "      <th>9</th>\n",
       "      <td>id73</td>\n",
       "      <td>90.0</td>\n",
       "      <td>경기</td>\n",
       "      <td>NaN</td>\n",
       "      <td>1</td>\n",
       "      <td>NaN</td>\n",
       "      <td>ISFJ</td>\n",
       "      <td>73.586397</td>\n",
       "    </tr>\n",
       "    <tr>\n",
       "      <th>10</th>\n",
       "      <td>id21</td>\n",
       "      <td>90.0</td>\n",
       "      <td>부산</td>\n",
       "      <td>NaN</td>\n",
       "      <td>1</td>\n",
       "      <td>NaN</td>\n",
       "      <td>ISFP</td>\n",
       "      <td>29.269869</td>\n",
       "    </tr>\n",
       "    <tr>\n",
       "      <th>11</th>\n",
       "      <td>id88</td>\n",
       "      <td>89.0</td>\n",
       "      <td>경기</td>\n",
       "      <td>75.0</td>\n",
       "      <td>0</td>\n",
       "      <td>NaN</td>\n",
       "      <td>ESTJ</td>\n",
       "      <td>60.339826</td>\n",
       "    </tr>\n",
       "    <tr>\n",
       "      <th>12</th>\n",
       "      <td>id63</td>\n",
       "      <td>88.0</td>\n",
       "      <td>경기</td>\n",
       "      <td>86.0</td>\n",
       "      <td>1</td>\n",
       "      <td>NaN</td>\n",
       "      <td>ISFJ</td>\n",
       "      <td>73.586397</td>\n",
       "    </tr>\n",
       "    <tr>\n",
       "      <th>13</th>\n",
       "      <td>id66</td>\n",
       "      <td>87.0</td>\n",
       "      <td>경기</td>\n",
       "      <td>NaN</td>\n",
       "      <td>1</td>\n",
       "      <td>NaN</td>\n",
       "      <td>ISFP</td>\n",
       "      <td>17.252986</td>\n",
       "    </tr>\n",
       "    <tr>\n",
       "      <th>14</th>\n",
       "      <td>id38</td>\n",
       "      <td>87.0</td>\n",
       "      <td>부산</td>\n",
       "      <td>NaN</td>\n",
       "      <td>1</td>\n",
       "      <td>NaN</td>\n",
       "      <td>ESTP</td>\n",
       "      <td>83.685380</td>\n",
       "    </tr>\n",
       "    <tr>\n",
       "      <th>15</th>\n",
       "      <td>id61</td>\n",
       "      <td>87.0</td>\n",
       "      <td>경기</td>\n",
       "      <td>62.0</td>\n",
       "      <td>2</td>\n",
       "      <td>NaN</td>\n",
       "      <td>INTP</td>\n",
       "      <td>69.730313</td>\n",
       "    </tr>\n",
       "    <tr>\n",
       "      <th>16</th>\n",
       "      <td>id50</td>\n",
       "      <td>86.0</td>\n",
       "      <td>대구</td>\n",
       "      <td>78.0</td>\n",
       "      <td>1</td>\n",
       "      <td>NaN</td>\n",
       "      <td>ENFP</td>\n",
       "      <td>60.339826</td>\n",
       "    </tr>\n",
       "    <tr>\n",
       "      <th>17</th>\n",
       "      <td>id81</td>\n",
       "      <td>86.0</td>\n",
       "      <td>경기</td>\n",
       "      <td>50.0</td>\n",
       "      <td>1</td>\n",
       "      <td>NaN</td>\n",
       "      <td>ISFJ</td>\n",
       "      <td>37.113739</td>\n",
       "    </tr>\n",
       "    <tr>\n",
       "      <th>18</th>\n",
       "      <td>id31</td>\n",
       "      <td>86.0</td>\n",
       "      <td>부산</td>\n",
       "      <td>77.0</td>\n",
       "      <td>0</td>\n",
       "      <td>NaN</td>\n",
       "      <td>ESFJ</td>\n",
       "      <td>73.586397</td>\n",
       "    </tr>\n",
       "    <tr>\n",
       "      <th>19</th>\n",
       "      <td>id94</td>\n",
       "      <td>84.0</td>\n",
       "      <td>경기</td>\n",
       "      <td>NaN</td>\n",
       "      <td>1</td>\n",
       "      <td>NaN</td>\n",
       "      <td>ESTJ</td>\n",
       "      <td>90.496999</td>\n",
       "    </tr>\n",
       "  </tbody>\n",
       "</table>\n",
       "</div>"
      ],
      "text/plain": [
       "      id    age city    f1  f2   f3    f4         f5\n",
       "0   id97  100.0   경기   NaN   0  NaN  INFP  67.886373\n",
       "1   id37  100.0   부산   NaN   0  NaN  ESTP  33.308999\n",
       "2   id45   97.0   대구  88.0   0  NaN  ENFJ  13.049921\n",
       "3   id52   97.0   대구  82.0   1  NaN  ISFJ  90.496999\n",
       "4   id92   97.0   경기  78.0   1  NaN  INFP  97.381034\n",
       "5   id10   95.0   서울  74.0   1  NaN  ISFP  98.429899\n",
       "6   id46   93.0   대구   NaN   0  NaN  ESTJ  67.886373\n",
       "7   id78   92.0   경기  96.0   1  NaN  INTJ  69.730313\n",
       "8   id96   92.0   경기  53.0   1  NaN  ENTJ  52.667078\n",
       "9   id73   90.0   경기   NaN   1  NaN  ISFJ  73.586397\n",
       "10  id21   90.0   부산   NaN   1  NaN  ISFP  29.269869\n",
       "11  id88   89.0   경기  75.0   0  NaN  ESTJ  60.339826\n",
       "12  id63   88.0   경기  86.0   1  NaN  ISFJ  73.586397\n",
       "13  id66   87.0   경기   NaN   1  NaN  ISFP  17.252986\n",
       "14  id38   87.0   부산   NaN   1  NaN  ESTP  83.685380\n",
       "15  id61   87.0   경기  62.0   2  NaN  INTP  69.730313\n",
       "16  id50   86.0   대구  78.0   1  NaN  ENFP  60.339826\n",
       "17  id81   86.0   경기  50.0   1  NaN  ISFJ  37.113739\n",
       "18  id31   86.0   부산  77.0   0  NaN  ESFJ  73.586397\n",
       "19  id94   84.0   경기   NaN   1  NaN  ESTJ  90.496999"
      ]
     },
     "execution_count": 302,
     "metadata": {},
     "output_type": "execute_result"
    }
   ],
   "source": [
    "df=df[:20]\n",
    "df"
   ]
  },
  {
   "cell_type": "code",
   "execution_count": 304,
   "metadata": {
    "ExecuteTime": {
     "end_time": "2021-12-03T14:55:33.662363Z",
     "start_time": "2021-12-03T14:55:33.656412Z"
    }
   },
   "outputs": [],
   "source": [
    "df['f1']=df['f1'].fillna(df['f1'].median())"
   ]
  },
  {
   "cell_type": "code",
   "execution_count": 305,
   "metadata": {
    "ExecuteTime": {
     "end_time": "2021-12-03T14:55:33.832343Z",
     "start_time": "2021-12-03T14:55:33.815356Z"
    }
   },
   "outputs": [
    {
     "data": {
      "text/html": [
       "<div>\n",
       "<style scoped>\n",
       "    .dataframe tbody tr th:only-of-type {\n",
       "        vertical-align: middle;\n",
       "    }\n",
       "\n",
       "    .dataframe tbody tr th {\n",
       "        vertical-align: top;\n",
       "    }\n",
       "\n",
       "    .dataframe thead th {\n",
       "        text-align: right;\n",
       "    }\n",
       "</style>\n",
       "<table border=\"1\" class=\"dataframe\">\n",
       "  <thead>\n",
       "    <tr style=\"text-align: right;\">\n",
       "      <th></th>\n",
       "      <th>id</th>\n",
       "      <th>age</th>\n",
       "      <th>city</th>\n",
       "      <th>f1</th>\n",
       "      <th>f2</th>\n",
       "      <th>f3</th>\n",
       "      <th>f4</th>\n",
       "      <th>f5</th>\n",
       "    </tr>\n",
       "  </thead>\n",
       "  <tbody>\n",
       "    <tr>\n",
       "      <th>0</th>\n",
       "      <td>id97</td>\n",
       "      <td>100.0</td>\n",
       "      <td>경기</td>\n",
       "      <td>77.5</td>\n",
       "      <td>0</td>\n",
       "      <td>NaN</td>\n",
       "      <td>INFP</td>\n",
       "      <td>67.886373</td>\n",
       "    </tr>\n",
       "    <tr>\n",
       "      <th>1</th>\n",
       "      <td>id37</td>\n",
       "      <td>100.0</td>\n",
       "      <td>부산</td>\n",
       "      <td>77.5</td>\n",
       "      <td>0</td>\n",
       "      <td>NaN</td>\n",
       "      <td>ESTP</td>\n",
       "      <td>33.308999</td>\n",
       "    </tr>\n",
       "    <tr>\n",
       "      <th>2</th>\n",
       "      <td>id45</td>\n",
       "      <td>97.0</td>\n",
       "      <td>대구</td>\n",
       "      <td>88.0</td>\n",
       "      <td>0</td>\n",
       "      <td>NaN</td>\n",
       "      <td>ENFJ</td>\n",
       "      <td>13.049921</td>\n",
       "    </tr>\n",
       "    <tr>\n",
       "      <th>3</th>\n",
       "      <td>id52</td>\n",
       "      <td>97.0</td>\n",
       "      <td>대구</td>\n",
       "      <td>82.0</td>\n",
       "      <td>1</td>\n",
       "      <td>NaN</td>\n",
       "      <td>ISFJ</td>\n",
       "      <td>90.496999</td>\n",
       "    </tr>\n",
       "    <tr>\n",
       "      <th>4</th>\n",
       "      <td>id92</td>\n",
       "      <td>97.0</td>\n",
       "      <td>경기</td>\n",
       "      <td>78.0</td>\n",
       "      <td>1</td>\n",
       "      <td>NaN</td>\n",
       "      <td>INFP</td>\n",
       "      <td>97.381034</td>\n",
       "    </tr>\n",
       "    <tr>\n",
       "      <th>5</th>\n",
       "      <td>id10</td>\n",
       "      <td>95.0</td>\n",
       "      <td>서울</td>\n",
       "      <td>74.0</td>\n",
       "      <td>1</td>\n",
       "      <td>NaN</td>\n",
       "      <td>ISFP</td>\n",
       "      <td>98.429899</td>\n",
       "    </tr>\n",
       "    <tr>\n",
       "      <th>6</th>\n",
       "      <td>id46</td>\n",
       "      <td>93.0</td>\n",
       "      <td>대구</td>\n",
       "      <td>77.5</td>\n",
       "      <td>0</td>\n",
       "      <td>NaN</td>\n",
       "      <td>ESTJ</td>\n",
       "      <td>67.886373</td>\n",
       "    </tr>\n",
       "    <tr>\n",
       "      <th>7</th>\n",
       "      <td>id78</td>\n",
       "      <td>92.0</td>\n",
       "      <td>경기</td>\n",
       "      <td>96.0</td>\n",
       "      <td>1</td>\n",
       "      <td>NaN</td>\n",
       "      <td>INTJ</td>\n",
       "      <td>69.730313</td>\n",
       "    </tr>\n",
       "    <tr>\n",
       "      <th>8</th>\n",
       "      <td>id96</td>\n",
       "      <td>92.0</td>\n",
       "      <td>경기</td>\n",
       "      <td>53.0</td>\n",
       "      <td>1</td>\n",
       "      <td>NaN</td>\n",
       "      <td>ENTJ</td>\n",
       "      <td>52.667078</td>\n",
       "    </tr>\n",
       "    <tr>\n",
       "      <th>9</th>\n",
       "      <td>id73</td>\n",
       "      <td>90.0</td>\n",
       "      <td>경기</td>\n",
       "      <td>77.5</td>\n",
       "      <td>1</td>\n",
       "      <td>NaN</td>\n",
       "      <td>ISFJ</td>\n",
       "      <td>73.586397</td>\n",
       "    </tr>\n",
       "    <tr>\n",
       "      <th>10</th>\n",
       "      <td>id21</td>\n",
       "      <td>90.0</td>\n",
       "      <td>부산</td>\n",
       "      <td>77.5</td>\n",
       "      <td>1</td>\n",
       "      <td>NaN</td>\n",
       "      <td>ISFP</td>\n",
       "      <td>29.269869</td>\n",
       "    </tr>\n",
       "    <tr>\n",
       "      <th>11</th>\n",
       "      <td>id88</td>\n",
       "      <td>89.0</td>\n",
       "      <td>경기</td>\n",
       "      <td>75.0</td>\n",
       "      <td>0</td>\n",
       "      <td>NaN</td>\n",
       "      <td>ESTJ</td>\n",
       "      <td>60.339826</td>\n",
       "    </tr>\n",
       "    <tr>\n",
       "      <th>12</th>\n",
       "      <td>id63</td>\n",
       "      <td>88.0</td>\n",
       "      <td>경기</td>\n",
       "      <td>86.0</td>\n",
       "      <td>1</td>\n",
       "      <td>NaN</td>\n",
       "      <td>ISFJ</td>\n",
       "      <td>73.586397</td>\n",
       "    </tr>\n",
       "    <tr>\n",
       "      <th>13</th>\n",
       "      <td>id66</td>\n",
       "      <td>87.0</td>\n",
       "      <td>경기</td>\n",
       "      <td>77.5</td>\n",
       "      <td>1</td>\n",
       "      <td>NaN</td>\n",
       "      <td>ISFP</td>\n",
       "      <td>17.252986</td>\n",
       "    </tr>\n",
       "    <tr>\n",
       "      <th>14</th>\n",
       "      <td>id38</td>\n",
       "      <td>87.0</td>\n",
       "      <td>부산</td>\n",
       "      <td>77.5</td>\n",
       "      <td>1</td>\n",
       "      <td>NaN</td>\n",
       "      <td>ESTP</td>\n",
       "      <td>83.685380</td>\n",
       "    </tr>\n",
       "    <tr>\n",
       "      <th>15</th>\n",
       "      <td>id61</td>\n",
       "      <td>87.0</td>\n",
       "      <td>경기</td>\n",
       "      <td>62.0</td>\n",
       "      <td>2</td>\n",
       "      <td>NaN</td>\n",
       "      <td>INTP</td>\n",
       "      <td>69.730313</td>\n",
       "    </tr>\n",
       "    <tr>\n",
       "      <th>16</th>\n",
       "      <td>id50</td>\n",
       "      <td>86.0</td>\n",
       "      <td>대구</td>\n",
       "      <td>78.0</td>\n",
       "      <td>1</td>\n",
       "      <td>NaN</td>\n",
       "      <td>ENFP</td>\n",
       "      <td>60.339826</td>\n",
       "    </tr>\n",
       "    <tr>\n",
       "      <th>17</th>\n",
       "      <td>id81</td>\n",
       "      <td>86.0</td>\n",
       "      <td>경기</td>\n",
       "      <td>50.0</td>\n",
       "      <td>1</td>\n",
       "      <td>NaN</td>\n",
       "      <td>ISFJ</td>\n",
       "      <td>37.113739</td>\n",
       "    </tr>\n",
       "    <tr>\n",
       "      <th>18</th>\n",
       "      <td>id31</td>\n",
       "      <td>86.0</td>\n",
       "      <td>부산</td>\n",
       "      <td>77.0</td>\n",
       "      <td>0</td>\n",
       "      <td>NaN</td>\n",
       "      <td>ESFJ</td>\n",
       "      <td>73.586397</td>\n",
       "    </tr>\n",
       "    <tr>\n",
       "      <th>19</th>\n",
       "      <td>id94</td>\n",
       "      <td>84.0</td>\n",
       "      <td>경기</td>\n",
       "      <td>77.5</td>\n",
       "      <td>1</td>\n",
       "      <td>NaN</td>\n",
       "      <td>ESTJ</td>\n",
       "      <td>90.496999</td>\n",
       "    </tr>\n",
       "  </tbody>\n",
       "</table>\n",
       "</div>"
      ],
      "text/plain": [
       "      id    age city    f1  f2   f3    f4         f5\n",
       "0   id97  100.0   경기  77.5   0  NaN  INFP  67.886373\n",
       "1   id37  100.0   부산  77.5   0  NaN  ESTP  33.308999\n",
       "2   id45   97.0   대구  88.0   0  NaN  ENFJ  13.049921\n",
       "3   id52   97.0   대구  82.0   1  NaN  ISFJ  90.496999\n",
       "4   id92   97.0   경기  78.0   1  NaN  INFP  97.381034\n",
       "5   id10   95.0   서울  74.0   1  NaN  ISFP  98.429899\n",
       "6   id46   93.0   대구  77.5   0  NaN  ESTJ  67.886373\n",
       "7   id78   92.0   경기  96.0   1  NaN  INTJ  69.730313\n",
       "8   id96   92.0   경기  53.0   1  NaN  ENTJ  52.667078\n",
       "9   id73   90.0   경기  77.5   1  NaN  ISFJ  73.586397\n",
       "10  id21   90.0   부산  77.5   1  NaN  ISFP  29.269869\n",
       "11  id88   89.0   경기  75.0   0  NaN  ESTJ  60.339826\n",
       "12  id63   88.0   경기  86.0   1  NaN  ISFJ  73.586397\n",
       "13  id66   87.0   경기  77.5   1  NaN  ISFP  17.252986\n",
       "14  id38   87.0   부산  77.5   1  NaN  ESTP  83.685380\n",
       "15  id61   87.0   경기  62.0   2  NaN  INTP  69.730313\n",
       "16  id50   86.0   대구  78.0   1  NaN  ENFP  60.339826\n",
       "17  id81   86.0   경기  50.0   1  NaN  ISFJ  37.113739\n",
       "18  id31   86.0   부산  77.0   0  NaN  ESFJ  73.586397\n",
       "19  id94   84.0   경기  77.5   1  NaN  ESTJ  90.496999"
      ]
     },
     "execution_count": 305,
     "metadata": {},
     "output_type": "execute_result"
    }
   ],
   "source": [
    "df"
   ]
  },
  {
   "cell_type": "code",
   "execution_count": 307,
   "metadata": {
    "ExecuteTime": {
     "end_time": "2021-12-03T14:55:51.343288Z",
     "start_time": "2021-12-03T14:55:51.329284Z"
    }
   },
   "outputs": [
    {
     "data": {
      "text/plain": [
       "77.5"
      ]
     },
     "execution_count": 307,
     "metadata": {},
     "output_type": "execute_result"
    }
   ],
   "source": [
    "df['f1'].median()"
   ]
  },
  {
   "cell_type": "code",
   "execution_count": 308,
   "metadata": {
    "ExecuteTime": {
     "end_time": "2021-12-03T14:55:57.858132Z",
     "start_time": "2021-12-03T14:55:57.840148Z"
    }
   },
   "outputs": [
    {
     "data": {
      "text/plain": [
       "0     False\n",
       "1     False\n",
       "2     False\n",
       "3      True\n",
       "4     False\n",
       "5     False\n",
       "6     False\n",
       "7     False\n",
       "8     False\n",
       "9      True\n",
       "10    False\n",
       "11    False\n",
       "12     True\n",
       "13    False\n",
       "14    False\n",
       "15    False\n",
       "16    False\n",
       "17     True\n",
       "18    False\n",
       "19    False\n",
       "dtype: bool"
      ]
     },
     "execution_count": 308,
     "metadata": {},
     "output_type": "execute_result"
    }
   ],
   "source": [
    "cond=(df['f4']==\"ISFJ\")&(df['f5']>=20)\n",
    "cond"
   ]
  },
  {
   "cell_type": "code",
   "execution_count": 309,
   "metadata": {
    "ExecuteTime": {
     "end_time": "2021-12-03T14:55:58.046950Z",
     "start_time": "2021-12-03T14:55:58.039965Z"
    }
   },
   "outputs": [
    {
     "data": {
      "text/plain": [
       "73.875"
      ]
     },
     "execution_count": 309,
     "metadata": {},
     "output_type": "execute_result"
    }
   ],
   "source": [
    "df[cond]['f1'].mean()"
   ]
  },
  {
   "cell_type": "markdown",
   "metadata": {},
   "source": [
    "# Variance"
   ]
  },
  {
   "cell_type": "code",
   "execution_count": 320,
   "metadata": {
    "ExecuteTime": {
     "end_time": "2021-12-03T14:59:57.881182Z",
     "start_time": "2021-12-03T14:59:57.873237Z"
    }
   },
   "outputs": [],
   "source": [
    "# 주어진 데이터 셋에서 f2가 0값인 데이터를 age를 기준으로 오름차순 정렬하고\n",
    "# 앞에서 부터 20개의 데이터를 추출한 후\n",
    "# f1 결측치(최소값)를 채우기 전과 후의 분산 차이를 계산하시오 (소수점 둘째 자리까지)"
   ]
  },
  {
   "cell_type": "code",
   "execution_count": 343,
   "metadata": {
    "ExecuteTime": {
     "end_time": "2021-12-03T15:03:57.365507Z",
     "start_time": "2021-12-03T15:03:57.354504Z"
    }
   },
   "outputs": [],
   "source": [
    "df=pd.read_csv('./archive/basic1.csv')"
   ]
  },
  {
   "cell_type": "code",
   "execution_count": 344,
   "metadata": {
    "ExecuteTime": {
     "end_time": "2021-12-03T15:03:57.568077Z",
     "start_time": "2021-12-03T15:03:57.552088Z"
    }
   },
   "outputs": [
    {
     "data": {
      "text/html": [
       "<div>\n",
       "<style scoped>\n",
       "    .dataframe tbody tr th:only-of-type {\n",
       "        vertical-align: middle;\n",
       "    }\n",
       "\n",
       "    .dataframe tbody tr th {\n",
       "        vertical-align: top;\n",
       "    }\n",
       "\n",
       "    .dataframe thead th {\n",
       "        text-align: right;\n",
       "    }\n",
       "</style>\n",
       "<table border=\"1\" class=\"dataframe\">\n",
       "  <thead>\n",
       "    <tr style=\"text-align: right;\">\n",
       "      <th></th>\n",
       "      <th>id</th>\n",
       "      <th>age</th>\n",
       "      <th>city</th>\n",
       "      <th>f1</th>\n",
       "      <th>f2</th>\n",
       "      <th>f3</th>\n",
       "      <th>f4</th>\n",
       "      <th>f5</th>\n",
       "    </tr>\n",
       "  </thead>\n",
       "  <tbody>\n",
       "    <tr>\n",
       "      <th>0</th>\n",
       "      <td>id99</td>\n",
       "      <td>1.0</td>\n",
       "      <td>경기</td>\n",
       "      <td>47.0</td>\n",
       "      <td>0</td>\n",
       "      <td>NaN</td>\n",
       "      <td>ESFJ</td>\n",
       "      <td>97.381034</td>\n",
       "    </tr>\n",
       "    <tr>\n",
       "      <th>1</th>\n",
       "      <td>id01</td>\n",
       "      <td>2.0</td>\n",
       "      <td>서울</td>\n",
       "      <td>NaN</td>\n",
       "      <td>0</td>\n",
       "      <td>NaN</td>\n",
       "      <td>ENFJ</td>\n",
       "      <td>91.297791</td>\n",
       "    </tr>\n",
       "    <tr>\n",
       "      <th>2</th>\n",
       "      <td>id86</td>\n",
       "      <td>2.0</td>\n",
       "      <td>경기</td>\n",
       "      <td>NaN</td>\n",
       "      <td>0</td>\n",
       "      <td>NaN</td>\n",
       "      <td>ESTP</td>\n",
       "      <td>29.269869</td>\n",
       "    </tr>\n",
       "    <tr>\n",
       "      <th>3</th>\n",
       "      <td>id57</td>\n",
       "      <td>3.0</td>\n",
       "      <td>대구</td>\n",
       "      <td>111.0</td>\n",
       "      <td>0</td>\n",
       "      <td>NaN</td>\n",
       "      <td>ISFJ</td>\n",
       "      <td>29.269869</td>\n",
       "    </tr>\n",
       "    <tr>\n",
       "      <th>4</th>\n",
       "      <td>id91</td>\n",
       "      <td>6.0</td>\n",
       "      <td>경기</td>\n",
       "      <td>72.0</td>\n",
       "      <td>0</td>\n",
       "      <td>NaN</td>\n",
       "      <td>INTP</td>\n",
       "      <td>9.796378</td>\n",
       "    </tr>\n",
       "    <tr>\n",
       "      <th>5</th>\n",
       "      <td>id72</td>\n",
       "      <td>8.0</td>\n",
       "      <td>경기</td>\n",
       "      <td>97.0</td>\n",
       "      <td>0</td>\n",
       "      <td>NaN</td>\n",
       "      <td>ESTJ</td>\n",
       "      <td>97.381034</td>\n",
       "    </tr>\n",
       "    <tr>\n",
       "      <th>6</th>\n",
       "      <td>id13</td>\n",
       "      <td>15.0</td>\n",
       "      <td>서울</td>\n",
       "      <td>68.0</td>\n",
       "      <td>0</td>\n",
       "      <td>NaN</td>\n",
       "      <td>ESFJ</td>\n",
       "      <td>83.685380</td>\n",
       "    </tr>\n",
       "    <tr>\n",
       "      <th>7</th>\n",
       "      <td>id30</td>\n",
       "      <td>16.0</td>\n",
       "      <td>부산</td>\n",
       "      <td>NaN</td>\n",
       "      <td>0</td>\n",
       "      <td>NaN</td>\n",
       "      <td>ESTJ</td>\n",
       "      <td>17.252986</td>\n",
       "    </tr>\n",
       "    <tr>\n",
       "      <th>8</th>\n",
       "      <td>id48</td>\n",
       "      <td>18.0</td>\n",
       "      <td>대구</td>\n",
       "      <td>NaN</td>\n",
       "      <td>0</td>\n",
       "      <td>NaN</td>\n",
       "      <td>ENFP</td>\n",
       "      <td>20.129444</td>\n",
       "    </tr>\n",
       "    <tr>\n",
       "      <th>9</th>\n",
       "      <td>id12</td>\n",
       "      <td>20.0</td>\n",
       "      <td>서울</td>\n",
       "      <td>NaN</td>\n",
       "      <td>0</td>\n",
       "      <td>NaN</td>\n",
       "      <td>ESTP</td>\n",
       "      <td>91.297791</td>\n",
       "    </tr>\n",
       "    <tr>\n",
       "      <th>10</th>\n",
       "      <td>id93</td>\n",
       "      <td>21.8</td>\n",
       "      <td>경기</td>\n",
       "      <td>57.0</td>\n",
       "      <td>0</td>\n",
       "      <td>NaN</td>\n",
       "      <td>ISFP</td>\n",
       "      <td>73.586397</td>\n",
       "    </tr>\n",
       "    <tr>\n",
       "      <th>11</th>\n",
       "      <td>id06</td>\n",
       "      <td>22.0</td>\n",
       "      <td>서울</td>\n",
       "      <td>57.0</td>\n",
       "      <td>0</td>\n",
       "      <td>vip</td>\n",
       "      <td>INTP</td>\n",
       "      <td>20.129444</td>\n",
       "    </tr>\n",
       "    <tr>\n",
       "      <th>12</th>\n",
       "      <td>id43</td>\n",
       "      <td>23.0</td>\n",
       "      <td>대구</td>\n",
       "      <td>60.0</td>\n",
       "      <td>0</td>\n",
       "      <td>NaN</td>\n",
       "      <td>ISTP</td>\n",
       "      <td>29.269869</td>\n",
       "    </tr>\n",
       "    <tr>\n",
       "      <th>13</th>\n",
       "      <td>id32</td>\n",
       "      <td>25.0</td>\n",
       "      <td>부산</td>\n",
       "      <td>64.0</td>\n",
       "      <td>0</td>\n",
       "      <td>vip</td>\n",
       "      <td>ISFJ</td>\n",
       "      <td>13.049921</td>\n",
       "    </tr>\n",
       "    <tr>\n",
       "      <th>14</th>\n",
       "      <td>id65</td>\n",
       "      <td>26.5</td>\n",
       "      <td>경기</td>\n",
       "      <td>NaN</td>\n",
       "      <td>0</td>\n",
       "      <td>NaN</td>\n",
       "      <td>ISFP</td>\n",
       "      <td>91.297791</td>\n",
       "    </tr>\n",
       "    <tr>\n",
       "      <th>15</th>\n",
       "      <td>id79</td>\n",
       "      <td>30.0</td>\n",
       "      <td>경기</td>\n",
       "      <td>NaN</td>\n",
       "      <td>0</td>\n",
       "      <td>NaN</td>\n",
       "      <td>INTJ</td>\n",
       "      <td>80.138280</td>\n",
       "    </tr>\n",
       "    <tr>\n",
       "      <th>16</th>\n",
       "      <td>id25</td>\n",
       "      <td>34.0</td>\n",
       "      <td>부산</td>\n",
       "      <td>NaN</td>\n",
       "      <td>0</td>\n",
       "      <td>NaN</td>\n",
       "      <td>ESTP</td>\n",
       "      <td>60.339826</td>\n",
       "    </tr>\n",
       "    <tr>\n",
       "      <th>17</th>\n",
       "      <td>id51</td>\n",
       "      <td>36.0</td>\n",
       "      <td>대구</td>\n",
       "      <td>NaN</td>\n",
       "      <td>0</td>\n",
       "      <td>NaN</td>\n",
       "      <td>ISTJ</td>\n",
       "      <td>83.685380</td>\n",
       "    </tr>\n",
       "    <tr>\n",
       "      <th>18</th>\n",
       "      <td>id27</td>\n",
       "      <td>37.0</td>\n",
       "      <td>부산</td>\n",
       "      <td>60.0</td>\n",
       "      <td>0</td>\n",
       "      <td>NaN</td>\n",
       "      <td>ESTP</td>\n",
       "      <td>73.586397</td>\n",
       "    </tr>\n",
       "    <tr>\n",
       "      <th>19</th>\n",
       "      <td>id11</td>\n",
       "      <td>40.0</td>\n",
       "      <td>서울</td>\n",
       "      <td>68.0</td>\n",
       "      <td>0</td>\n",
       "      <td>NaN</td>\n",
       "      <td>ENFP</td>\n",
       "      <td>98.429899</td>\n",
       "    </tr>\n",
       "    <tr>\n",
       "      <th>20</th>\n",
       "      <td>id44</td>\n",
       "      <td>44.0</td>\n",
       "      <td>대구</td>\n",
       "      <td>NaN</td>\n",
       "      <td>0</td>\n",
       "      <td>NaN</td>\n",
       "      <td>INTP</td>\n",
       "      <td>16.283854</td>\n",
       "    </tr>\n",
       "    <tr>\n",
       "      <th>21</th>\n",
       "      <td>id74</td>\n",
       "      <td>45.0</td>\n",
       "      <td>경기</td>\n",
       "      <td>98.0</td>\n",
       "      <td>0</td>\n",
       "      <td>NaN</td>\n",
       "      <td>ESTP</td>\n",
       "      <td>52.667078</td>\n",
       "    </tr>\n",
       "    <tr>\n",
       "      <th>22</th>\n",
       "      <td>id100</td>\n",
       "      <td>47.0</td>\n",
       "      <td>경기</td>\n",
       "      <td>53.0</td>\n",
       "      <td>0</td>\n",
       "      <td>vip</td>\n",
       "      <td>ESFP</td>\n",
       "      <td>33.308999</td>\n",
       "    </tr>\n",
       "    <tr>\n",
       "      <th>23</th>\n",
       "      <td>id33</td>\n",
       "      <td>47.0</td>\n",
       "      <td>부산</td>\n",
       "      <td>94.0</td>\n",
       "      <td>0</td>\n",
       "      <td>NaN</td>\n",
       "      <td>ENFJ</td>\n",
       "      <td>17.252986</td>\n",
       "    </tr>\n",
       "    <tr>\n",
       "      <th>24</th>\n",
       "      <td>id82</td>\n",
       "      <td>48.0</td>\n",
       "      <td>경기</td>\n",
       "      <td>NaN</td>\n",
       "      <td>0</td>\n",
       "      <td>NaN</td>\n",
       "      <td>ENTJ</td>\n",
       "      <td>37.113739</td>\n",
       "    </tr>\n",
       "    <tr>\n",
       "      <th>25</th>\n",
       "      <td>id53</td>\n",
       "      <td>52.0</td>\n",
       "      <td>대구</td>\n",
       "      <td>50.0</td>\n",
       "      <td>0</td>\n",
       "      <td>NaN</td>\n",
       "      <td>ESTP</td>\n",
       "      <td>20.129444</td>\n",
       "    </tr>\n",
       "    <tr>\n",
       "      <th>26</th>\n",
       "      <td>id62</td>\n",
       "      <td>52.0</td>\n",
       "      <td>경기</td>\n",
       "      <td>NaN</td>\n",
       "      <td>0</td>\n",
       "      <td>NaN</td>\n",
       "      <td>INTP</td>\n",
       "      <td>60.339826</td>\n",
       "    </tr>\n",
       "    <tr>\n",
       "      <th>27</th>\n",
       "      <td>id19</td>\n",
       "      <td>53.0</td>\n",
       "      <td>서울</td>\n",
       "      <td>NaN</td>\n",
       "      <td>0</td>\n",
       "      <td>NaN</td>\n",
       "      <td>ISFP</td>\n",
       "      <td>83.685380</td>\n",
       "    </tr>\n",
       "    <tr>\n",
       "      <th>28</th>\n",
       "      <td>id90</td>\n",
       "      <td>54.0</td>\n",
       "      <td>경기</td>\n",
       "      <td>NaN</td>\n",
       "      <td>0</td>\n",
       "      <td>NaN</td>\n",
       "      <td>ENTP</td>\n",
       "      <td>29.269869</td>\n",
       "    </tr>\n",
       "    <tr>\n",
       "      <th>29</th>\n",
       "      <td>id40</td>\n",
       "      <td>56.0</td>\n",
       "      <td>대구</td>\n",
       "      <td>75.0</td>\n",
       "      <td>0</td>\n",
       "      <td>NaN</td>\n",
       "      <td>ENFP</td>\n",
       "      <td>17.252986</td>\n",
       "    </tr>\n",
       "    <tr>\n",
       "      <th>30</th>\n",
       "      <td>id60</td>\n",
       "      <td>56.0</td>\n",
       "      <td>경기</td>\n",
       "      <td>NaN</td>\n",
       "      <td>0</td>\n",
       "      <td>NaN</td>\n",
       "      <td>ESFP</td>\n",
       "      <td>52.667078</td>\n",
       "    </tr>\n",
       "    <tr>\n",
       "      <th>31</th>\n",
       "      <td>id39</td>\n",
       "      <td>56.0</td>\n",
       "      <td>부산</td>\n",
       "      <td>50.0</td>\n",
       "      <td>0</td>\n",
       "      <td>NaN</td>\n",
       "      <td>INFJ</td>\n",
       "      <td>33.308999</td>\n",
       "    </tr>\n",
       "    <tr>\n",
       "      <th>32</th>\n",
       "      <td>id75</td>\n",
       "      <td>63.0</td>\n",
       "      <td>경기</td>\n",
       "      <td>47.0</td>\n",
       "      <td>0</td>\n",
       "      <td>NaN</td>\n",
       "      <td>ESTP</td>\n",
       "      <td>20.129444</td>\n",
       "    </tr>\n",
       "    <tr>\n",
       "      <th>33</th>\n",
       "      <td>id84</td>\n",
       "      <td>66.0</td>\n",
       "      <td>경기</td>\n",
       "      <td>44.0</td>\n",
       "      <td>0</td>\n",
       "      <td>NaN</td>\n",
       "      <td>INTP</td>\n",
       "      <td>83.685380</td>\n",
       "    </tr>\n",
       "    <tr>\n",
       "      <th>34</th>\n",
       "      <td>id80</td>\n",
       "      <td>67.0</td>\n",
       "      <td>경기</td>\n",
       "      <td>60.0</td>\n",
       "      <td>0</td>\n",
       "      <td>NaN</td>\n",
       "      <td>ISFP</td>\n",
       "      <td>83.685380</td>\n",
       "    </tr>\n",
       "    <tr>\n",
       "      <th>35</th>\n",
       "      <td>id16</td>\n",
       "      <td>68.0</td>\n",
       "      <td>서울</td>\n",
       "      <td>85.0</td>\n",
       "      <td>0</td>\n",
       "      <td>NaN</td>\n",
       "      <td>ESFP</td>\n",
       "      <td>16.283854</td>\n",
       "    </tr>\n",
       "    <tr>\n",
       "      <th>36</th>\n",
       "      <td>id76</td>\n",
       "      <td>71.0</td>\n",
       "      <td>경기</td>\n",
       "      <td>12.0</td>\n",
       "      <td>0</td>\n",
       "      <td>NaN</td>\n",
       "      <td>ENTJ</td>\n",
       "      <td>83.685380</td>\n",
       "    </tr>\n",
       "    <tr>\n",
       "      <th>37</th>\n",
       "      <td>id49</td>\n",
       "      <td>75.0</td>\n",
       "      <td>대구</td>\n",
       "      <td>88.0</td>\n",
       "      <td>0</td>\n",
       "      <td>NaN</td>\n",
       "      <td>INTP</td>\n",
       "      <td>37.113739</td>\n",
       "    </tr>\n",
       "    <tr>\n",
       "      <th>38</th>\n",
       "      <td>id69</td>\n",
       "      <td>75.0</td>\n",
       "      <td>경기</td>\n",
       "      <td>85.0</td>\n",
       "      <td>0</td>\n",
       "      <td>NaN</td>\n",
       "      <td>ESTJ</td>\n",
       "      <td>69.730313</td>\n",
       "    </tr>\n",
       "    <tr>\n",
       "      <th>39</th>\n",
       "      <td>id77</td>\n",
       "      <td>77.0</td>\n",
       "      <td>경기</td>\n",
       "      <td>31.0</td>\n",
       "      <td>0</td>\n",
       "      <td>NaN</td>\n",
       "      <td>INFP</td>\n",
       "      <td>98.429899</td>\n",
       "    </tr>\n",
       "    <tr>\n",
       "      <th>40</th>\n",
       "      <td>id24</td>\n",
       "      <td>80.0</td>\n",
       "      <td>부산</td>\n",
       "      <td>44.0</td>\n",
       "      <td>0</td>\n",
       "      <td>NaN</td>\n",
       "      <td>INFJ</td>\n",
       "      <td>73.586397</td>\n",
       "    </tr>\n",
       "    <tr>\n",
       "      <th>41</th>\n",
       "      <td>id41</td>\n",
       "      <td>81.0</td>\n",
       "      <td>대구</td>\n",
       "      <td>55.0</td>\n",
       "      <td>0</td>\n",
       "      <td>NaN</td>\n",
       "      <td>ENFJ</td>\n",
       "      <td>37.113739</td>\n",
       "    </tr>\n",
       "    <tr>\n",
       "      <th>42</th>\n",
       "      <td>id85</td>\n",
       "      <td>83.6</td>\n",
       "      <td>경기</td>\n",
       "      <td>55.0</td>\n",
       "      <td>0</td>\n",
       "      <td>NaN</td>\n",
       "      <td>INFJ</td>\n",
       "      <td>80.138280</td>\n",
       "    </tr>\n",
       "    <tr>\n",
       "      <th>43</th>\n",
       "      <td>id31</td>\n",
       "      <td>86.0</td>\n",
       "      <td>부산</td>\n",
       "      <td>77.0</td>\n",
       "      <td>0</td>\n",
       "      <td>NaN</td>\n",
       "      <td>ESFJ</td>\n",
       "      <td>73.586397</td>\n",
       "    </tr>\n",
       "    <tr>\n",
       "      <th>44</th>\n",
       "      <td>id88</td>\n",
       "      <td>89.0</td>\n",
       "      <td>경기</td>\n",
       "      <td>75.0</td>\n",
       "      <td>0</td>\n",
       "      <td>NaN</td>\n",
       "      <td>ESTJ</td>\n",
       "      <td>60.339826</td>\n",
       "    </tr>\n",
       "    <tr>\n",
       "      <th>45</th>\n",
       "      <td>id46</td>\n",
       "      <td>93.0</td>\n",
       "      <td>대구</td>\n",
       "      <td>NaN</td>\n",
       "      <td>0</td>\n",
       "      <td>NaN</td>\n",
       "      <td>ESTJ</td>\n",
       "      <td>67.886373</td>\n",
       "    </tr>\n",
       "    <tr>\n",
       "      <th>46</th>\n",
       "      <td>id45</td>\n",
       "      <td>97.0</td>\n",
       "      <td>대구</td>\n",
       "      <td>88.0</td>\n",
       "      <td>0</td>\n",
       "      <td>NaN</td>\n",
       "      <td>ENFJ</td>\n",
       "      <td>13.049921</td>\n",
       "    </tr>\n",
       "    <tr>\n",
       "      <th>47</th>\n",
       "      <td>id37</td>\n",
       "      <td>100.0</td>\n",
       "      <td>부산</td>\n",
       "      <td>NaN</td>\n",
       "      <td>0</td>\n",
       "      <td>NaN</td>\n",
       "      <td>ESTP</td>\n",
       "      <td>33.308999</td>\n",
       "    </tr>\n",
       "    <tr>\n",
       "      <th>48</th>\n",
       "      <td>id97</td>\n",
       "      <td>100.0</td>\n",
       "      <td>경기</td>\n",
       "      <td>NaN</td>\n",
       "      <td>0</td>\n",
       "      <td>NaN</td>\n",
       "      <td>INFP</td>\n",
       "      <td>67.886373</td>\n",
       "    </tr>\n",
       "  </tbody>\n",
       "</table>\n",
       "</div>"
      ],
      "text/plain": [
       "       id    age city     f1  f2   f3    f4         f5\n",
       "0    id99    1.0   경기   47.0   0  NaN  ESFJ  97.381034\n",
       "1    id01    2.0   서울    NaN   0  NaN  ENFJ  91.297791\n",
       "2    id86    2.0   경기    NaN   0  NaN  ESTP  29.269869\n",
       "3    id57    3.0   대구  111.0   0  NaN  ISFJ  29.269869\n",
       "4    id91    6.0   경기   72.0   0  NaN  INTP   9.796378\n",
       "5    id72    8.0   경기   97.0   0  NaN  ESTJ  97.381034\n",
       "6    id13   15.0   서울   68.0   0  NaN  ESFJ  83.685380\n",
       "7    id30   16.0   부산    NaN   0  NaN  ESTJ  17.252986\n",
       "8    id48   18.0   대구    NaN   0  NaN  ENFP  20.129444\n",
       "9    id12   20.0   서울    NaN   0  NaN  ESTP  91.297791\n",
       "10   id93   21.8   경기   57.0   0  NaN  ISFP  73.586397\n",
       "11   id06   22.0   서울   57.0   0  vip  INTP  20.129444\n",
       "12   id43   23.0   대구   60.0   0  NaN  ISTP  29.269869\n",
       "13   id32   25.0   부산   64.0   0  vip  ISFJ  13.049921\n",
       "14   id65   26.5   경기    NaN   0  NaN  ISFP  91.297791\n",
       "15   id79   30.0   경기    NaN   0  NaN  INTJ  80.138280\n",
       "16   id25   34.0   부산    NaN   0  NaN  ESTP  60.339826\n",
       "17   id51   36.0   대구    NaN   0  NaN  ISTJ  83.685380\n",
       "18   id27   37.0   부산   60.0   0  NaN  ESTP  73.586397\n",
       "19   id11   40.0   서울   68.0   0  NaN  ENFP  98.429899\n",
       "20   id44   44.0   대구    NaN   0  NaN  INTP  16.283854\n",
       "21   id74   45.0   경기   98.0   0  NaN  ESTP  52.667078\n",
       "22  id100   47.0   경기   53.0   0  vip  ESFP  33.308999\n",
       "23   id33   47.0   부산   94.0   0  NaN  ENFJ  17.252986\n",
       "24   id82   48.0   경기    NaN   0  NaN  ENTJ  37.113739\n",
       "25   id53   52.0   대구   50.0   0  NaN  ESTP  20.129444\n",
       "26   id62   52.0   경기    NaN   0  NaN  INTP  60.339826\n",
       "27   id19   53.0   서울    NaN   0  NaN  ISFP  83.685380\n",
       "28   id90   54.0   경기    NaN   0  NaN  ENTP  29.269869\n",
       "29   id40   56.0   대구   75.0   0  NaN  ENFP  17.252986\n",
       "30   id60   56.0   경기    NaN   0  NaN  ESFP  52.667078\n",
       "31   id39   56.0   부산   50.0   0  NaN  INFJ  33.308999\n",
       "32   id75   63.0   경기   47.0   0  NaN  ESTP  20.129444\n",
       "33   id84   66.0   경기   44.0   0  NaN  INTP  83.685380\n",
       "34   id80   67.0   경기   60.0   0  NaN  ISFP  83.685380\n",
       "35   id16   68.0   서울   85.0   0  NaN  ESFP  16.283854\n",
       "36   id76   71.0   경기   12.0   0  NaN  ENTJ  83.685380\n",
       "37   id49   75.0   대구   88.0   0  NaN  INTP  37.113739\n",
       "38   id69   75.0   경기   85.0   0  NaN  ESTJ  69.730313\n",
       "39   id77   77.0   경기   31.0   0  NaN  INFP  98.429899\n",
       "40   id24   80.0   부산   44.0   0  NaN  INFJ  73.586397\n",
       "41   id41   81.0   대구   55.0   0  NaN  ENFJ  37.113739\n",
       "42   id85   83.6   경기   55.0   0  NaN  INFJ  80.138280\n",
       "43   id31   86.0   부산   77.0   0  NaN  ESFJ  73.586397\n",
       "44   id88   89.0   경기   75.0   0  NaN  ESTJ  60.339826\n",
       "45   id46   93.0   대구    NaN   0  NaN  ESTJ  67.886373\n",
       "46   id45   97.0   대구   88.0   0  NaN  ENFJ  13.049921\n",
       "47   id37  100.0   부산    NaN   0  NaN  ESTP  33.308999\n",
       "48   id97  100.0   경기    NaN   0  NaN  INFP  67.886373"
      ]
     },
     "execution_count": 344,
     "metadata": {},
     "output_type": "execute_result"
    }
   ],
   "source": [
    "cond=(df['f2']==0)\n",
    "df=df[cond].sort_values('age').reset_index(drop=True)\n",
    "df"
   ]
  },
  {
   "cell_type": "code",
   "execution_count": 345,
   "metadata": {
    "ExecuteTime": {
     "end_time": "2021-12-03T15:03:57.741630Z",
     "start_time": "2021-12-03T15:03:57.726671Z"
    }
   },
   "outputs": [
    {
     "data": {
      "text/html": [
       "<div>\n",
       "<style scoped>\n",
       "    .dataframe tbody tr th:only-of-type {\n",
       "        vertical-align: middle;\n",
       "    }\n",
       "\n",
       "    .dataframe tbody tr th {\n",
       "        vertical-align: top;\n",
       "    }\n",
       "\n",
       "    .dataframe thead th {\n",
       "        text-align: right;\n",
       "    }\n",
       "</style>\n",
       "<table border=\"1\" class=\"dataframe\">\n",
       "  <thead>\n",
       "    <tr style=\"text-align: right;\">\n",
       "      <th></th>\n",
       "      <th>id</th>\n",
       "      <th>age</th>\n",
       "      <th>city</th>\n",
       "      <th>f1</th>\n",
       "      <th>f2</th>\n",
       "      <th>f3</th>\n",
       "      <th>f4</th>\n",
       "      <th>f5</th>\n",
       "    </tr>\n",
       "  </thead>\n",
       "  <tbody>\n",
       "    <tr>\n",
       "      <th>0</th>\n",
       "      <td>id99</td>\n",
       "      <td>1.0</td>\n",
       "      <td>경기</td>\n",
       "      <td>47.0</td>\n",
       "      <td>0</td>\n",
       "      <td>NaN</td>\n",
       "      <td>ESFJ</td>\n",
       "      <td>97.381034</td>\n",
       "    </tr>\n",
       "    <tr>\n",
       "      <th>1</th>\n",
       "      <td>id01</td>\n",
       "      <td>2.0</td>\n",
       "      <td>서울</td>\n",
       "      <td>NaN</td>\n",
       "      <td>0</td>\n",
       "      <td>NaN</td>\n",
       "      <td>ENFJ</td>\n",
       "      <td>91.297791</td>\n",
       "    </tr>\n",
       "    <tr>\n",
       "      <th>2</th>\n",
       "      <td>id86</td>\n",
       "      <td>2.0</td>\n",
       "      <td>경기</td>\n",
       "      <td>NaN</td>\n",
       "      <td>0</td>\n",
       "      <td>NaN</td>\n",
       "      <td>ESTP</td>\n",
       "      <td>29.269869</td>\n",
       "    </tr>\n",
       "    <tr>\n",
       "      <th>3</th>\n",
       "      <td>id57</td>\n",
       "      <td>3.0</td>\n",
       "      <td>대구</td>\n",
       "      <td>111.0</td>\n",
       "      <td>0</td>\n",
       "      <td>NaN</td>\n",
       "      <td>ISFJ</td>\n",
       "      <td>29.269869</td>\n",
       "    </tr>\n",
       "    <tr>\n",
       "      <th>4</th>\n",
       "      <td>id91</td>\n",
       "      <td>6.0</td>\n",
       "      <td>경기</td>\n",
       "      <td>72.0</td>\n",
       "      <td>0</td>\n",
       "      <td>NaN</td>\n",
       "      <td>INTP</td>\n",
       "      <td>9.796378</td>\n",
       "    </tr>\n",
       "    <tr>\n",
       "      <th>5</th>\n",
       "      <td>id72</td>\n",
       "      <td>8.0</td>\n",
       "      <td>경기</td>\n",
       "      <td>97.0</td>\n",
       "      <td>0</td>\n",
       "      <td>NaN</td>\n",
       "      <td>ESTJ</td>\n",
       "      <td>97.381034</td>\n",
       "    </tr>\n",
       "    <tr>\n",
       "      <th>6</th>\n",
       "      <td>id13</td>\n",
       "      <td>15.0</td>\n",
       "      <td>서울</td>\n",
       "      <td>68.0</td>\n",
       "      <td>0</td>\n",
       "      <td>NaN</td>\n",
       "      <td>ESFJ</td>\n",
       "      <td>83.685380</td>\n",
       "    </tr>\n",
       "    <tr>\n",
       "      <th>7</th>\n",
       "      <td>id30</td>\n",
       "      <td>16.0</td>\n",
       "      <td>부산</td>\n",
       "      <td>NaN</td>\n",
       "      <td>0</td>\n",
       "      <td>NaN</td>\n",
       "      <td>ESTJ</td>\n",
       "      <td>17.252986</td>\n",
       "    </tr>\n",
       "    <tr>\n",
       "      <th>8</th>\n",
       "      <td>id48</td>\n",
       "      <td>18.0</td>\n",
       "      <td>대구</td>\n",
       "      <td>NaN</td>\n",
       "      <td>0</td>\n",
       "      <td>NaN</td>\n",
       "      <td>ENFP</td>\n",
       "      <td>20.129444</td>\n",
       "    </tr>\n",
       "    <tr>\n",
       "      <th>9</th>\n",
       "      <td>id12</td>\n",
       "      <td>20.0</td>\n",
       "      <td>서울</td>\n",
       "      <td>NaN</td>\n",
       "      <td>0</td>\n",
       "      <td>NaN</td>\n",
       "      <td>ESTP</td>\n",
       "      <td>91.297791</td>\n",
       "    </tr>\n",
       "    <tr>\n",
       "      <th>10</th>\n",
       "      <td>id93</td>\n",
       "      <td>21.8</td>\n",
       "      <td>경기</td>\n",
       "      <td>57.0</td>\n",
       "      <td>0</td>\n",
       "      <td>NaN</td>\n",
       "      <td>ISFP</td>\n",
       "      <td>73.586397</td>\n",
       "    </tr>\n",
       "    <tr>\n",
       "      <th>11</th>\n",
       "      <td>id06</td>\n",
       "      <td>22.0</td>\n",
       "      <td>서울</td>\n",
       "      <td>57.0</td>\n",
       "      <td>0</td>\n",
       "      <td>vip</td>\n",
       "      <td>INTP</td>\n",
       "      <td>20.129444</td>\n",
       "    </tr>\n",
       "    <tr>\n",
       "      <th>12</th>\n",
       "      <td>id43</td>\n",
       "      <td>23.0</td>\n",
       "      <td>대구</td>\n",
       "      <td>60.0</td>\n",
       "      <td>0</td>\n",
       "      <td>NaN</td>\n",
       "      <td>ISTP</td>\n",
       "      <td>29.269869</td>\n",
       "    </tr>\n",
       "    <tr>\n",
       "      <th>13</th>\n",
       "      <td>id32</td>\n",
       "      <td>25.0</td>\n",
       "      <td>부산</td>\n",
       "      <td>64.0</td>\n",
       "      <td>0</td>\n",
       "      <td>vip</td>\n",
       "      <td>ISFJ</td>\n",
       "      <td>13.049921</td>\n",
       "    </tr>\n",
       "    <tr>\n",
       "      <th>14</th>\n",
       "      <td>id65</td>\n",
       "      <td>26.5</td>\n",
       "      <td>경기</td>\n",
       "      <td>NaN</td>\n",
       "      <td>0</td>\n",
       "      <td>NaN</td>\n",
       "      <td>ISFP</td>\n",
       "      <td>91.297791</td>\n",
       "    </tr>\n",
       "    <tr>\n",
       "      <th>15</th>\n",
       "      <td>id79</td>\n",
       "      <td>30.0</td>\n",
       "      <td>경기</td>\n",
       "      <td>NaN</td>\n",
       "      <td>0</td>\n",
       "      <td>NaN</td>\n",
       "      <td>INTJ</td>\n",
       "      <td>80.138280</td>\n",
       "    </tr>\n",
       "    <tr>\n",
       "      <th>16</th>\n",
       "      <td>id25</td>\n",
       "      <td>34.0</td>\n",
       "      <td>부산</td>\n",
       "      <td>NaN</td>\n",
       "      <td>0</td>\n",
       "      <td>NaN</td>\n",
       "      <td>ESTP</td>\n",
       "      <td>60.339826</td>\n",
       "    </tr>\n",
       "    <tr>\n",
       "      <th>17</th>\n",
       "      <td>id51</td>\n",
       "      <td>36.0</td>\n",
       "      <td>대구</td>\n",
       "      <td>NaN</td>\n",
       "      <td>0</td>\n",
       "      <td>NaN</td>\n",
       "      <td>ISTJ</td>\n",
       "      <td>83.685380</td>\n",
       "    </tr>\n",
       "    <tr>\n",
       "      <th>18</th>\n",
       "      <td>id27</td>\n",
       "      <td>37.0</td>\n",
       "      <td>부산</td>\n",
       "      <td>60.0</td>\n",
       "      <td>0</td>\n",
       "      <td>NaN</td>\n",
       "      <td>ESTP</td>\n",
       "      <td>73.586397</td>\n",
       "    </tr>\n",
       "    <tr>\n",
       "      <th>19</th>\n",
       "      <td>id11</td>\n",
       "      <td>40.0</td>\n",
       "      <td>서울</td>\n",
       "      <td>68.0</td>\n",
       "      <td>0</td>\n",
       "      <td>NaN</td>\n",
       "      <td>ENFP</td>\n",
       "      <td>98.429899</td>\n",
       "    </tr>\n",
       "  </tbody>\n",
       "</table>\n",
       "</div>"
      ],
      "text/plain": [
       "      id   age city     f1  f2   f3    f4         f5\n",
       "0   id99   1.0   경기   47.0   0  NaN  ESFJ  97.381034\n",
       "1   id01   2.0   서울    NaN   0  NaN  ENFJ  91.297791\n",
       "2   id86   2.0   경기    NaN   0  NaN  ESTP  29.269869\n",
       "3   id57   3.0   대구  111.0   0  NaN  ISFJ  29.269869\n",
       "4   id91   6.0   경기   72.0   0  NaN  INTP   9.796378\n",
       "5   id72   8.0   경기   97.0   0  NaN  ESTJ  97.381034\n",
       "6   id13  15.0   서울   68.0   0  NaN  ESFJ  83.685380\n",
       "7   id30  16.0   부산    NaN   0  NaN  ESTJ  17.252986\n",
       "8   id48  18.0   대구    NaN   0  NaN  ENFP  20.129444\n",
       "9   id12  20.0   서울    NaN   0  NaN  ESTP  91.297791\n",
       "10  id93  21.8   경기   57.0   0  NaN  ISFP  73.586397\n",
       "11  id06  22.0   서울   57.0   0  vip  INTP  20.129444\n",
       "12  id43  23.0   대구   60.0   0  NaN  ISTP  29.269869\n",
       "13  id32  25.0   부산   64.0   0  vip  ISFJ  13.049921\n",
       "14  id65  26.5   경기    NaN   0  NaN  ISFP  91.297791\n",
       "15  id79  30.0   경기    NaN   0  NaN  INTJ  80.138280\n",
       "16  id25  34.0   부산    NaN   0  NaN  ESTP  60.339826\n",
       "17  id51  36.0   대구    NaN   0  NaN  ISTJ  83.685380\n",
       "18  id27  37.0   부산   60.0   0  NaN  ESTP  73.586397\n",
       "19  id11  40.0   서울   68.0   0  NaN  ENFP  98.429899"
      ]
     },
     "execution_count": 345,
     "metadata": {},
     "output_type": "execute_result"
    }
   ],
   "source": [
    "df=df[:20]\n",
    "df"
   ]
  },
  {
   "cell_type": "code",
   "execution_count": 346,
   "metadata": {
    "ExecuteTime": {
     "end_time": "2021-12-03T15:04:00.001309Z",
     "start_time": "2021-12-03T15:03:59.993336Z"
    }
   },
   "outputs": [
    {
     "name": "stdout",
     "output_type": "stream",
     "text": [
      "351.7636363636363\n"
     ]
    }
   ],
   "source": [
    "# 결측치 채우긴 전 var\n",
    "var1=df['f1'].var()\n",
    "print(var1)"
   ]
  },
  {
   "cell_type": "code",
   "execution_count": 347,
   "metadata": {
    "ExecuteTime": {
     "end_time": "2021-12-03T15:04:00.808837Z",
     "start_time": "2021-12-03T15:04:00.792761Z"
    }
   },
   "outputs": [
    {
     "name": "stdout",
     "output_type": "stream",
     "text": [
      "47.0\n"
     ]
    }
   ],
   "source": [
    "min_f1=df['f1'].min()\n",
    "print(min_f1)"
   ]
  },
  {
   "cell_type": "code",
   "execution_count": 348,
   "metadata": {
    "ExecuteTime": {
     "end_time": "2021-12-03T15:04:01.954932Z",
     "start_time": "2021-12-03T15:04:01.936979Z"
    }
   },
   "outputs": [
    {
     "data": {
      "text/plain": [
       "47.0"
      ]
     },
     "execution_count": 348,
     "metadata": {},
     "output_type": "execute_result"
    }
   ],
   "source": [
    "min_f1"
   ]
  },
  {
   "cell_type": "code",
   "execution_count": 350,
   "metadata": {
    "ExecuteTime": {
     "end_time": "2021-12-03T15:04:42.224730Z",
     "start_time": "2021-12-03T15:04:42.209737Z"
    }
   },
   "outputs": [
    {
     "name": "stdout",
     "output_type": "stream",
     "text": [
      "313.32631578947377\n"
     ]
    },
    {
     "name": "stderr",
     "output_type": "stream",
     "text": [
      "C:\\ProgramData\\Anaconda3\\lib\\site-packages\\pandas\\core\\series.py:4517: SettingWithCopyWarning: \n",
      "A value is trying to be set on a copy of a slice from a DataFrame\n",
      "\n",
      "See the caveats in the documentation: https://pandas.pydata.org/pandas-docs/stable/user_guide/indexing.html#returning-a-view-versus-a-copy\n",
      "  return super().fillna(\n"
     ]
    }
   ],
   "source": [
    "df['f1'].fillna(47.0,inplace=True)\n",
    "var2=df['f1'].var()\n",
    "print(var2)"
   ]
  },
  {
   "cell_type": "code",
   "execution_count": 334,
   "metadata": {
    "ExecuteTime": {
     "end_time": "2021-12-03T15:01:21.420687Z",
     "start_time": "2021-12-03T15:01:21.407746Z"
    }
   },
   "outputs": [
    {
     "data": {
      "text/plain": [
       "38.44"
      ]
     },
     "execution_count": 334,
     "metadata": {},
     "output_type": "execute_result"
    }
   ],
   "source": [
    "round(var1-var2,2)"
   ]
  },
  {
   "cell_type": "markdown",
   "metadata": {},
   "source": [
    "# 시계열 연습1"
   ]
  },
  {
   "cell_type": "code",
   "execution_count": 351,
   "metadata": {
    "ExecuteTime": {
     "end_time": "2021-12-03T15:06:39.131446Z",
     "start_time": "2021-12-03T15:06:39.113533Z"
    }
   },
   "outputs": [],
   "source": [
    "df=pd.read_csv('./archive/basic2.csv')"
   ]
  },
  {
   "cell_type": "code",
   "execution_count": 352,
   "metadata": {
    "ExecuteTime": {
     "end_time": "2021-12-03T15:06:45.216780Z",
     "start_time": "2021-12-03T15:06:45.200792Z"
    }
   },
   "outputs": [
    {
     "data": {
      "text/html": [
       "<div>\n",
       "<style scoped>\n",
       "    .dataframe tbody tr th:only-of-type {\n",
       "        vertical-align: middle;\n",
       "    }\n",
       "\n",
       "    .dataframe tbody tr th {\n",
       "        vertical-align: top;\n",
       "    }\n",
       "\n",
       "    .dataframe thead th {\n",
       "        text-align: right;\n",
       "    }\n",
       "</style>\n",
       "<table border=\"1\" class=\"dataframe\">\n",
       "  <thead>\n",
       "    <tr style=\"text-align: right;\">\n",
       "      <th></th>\n",
       "      <th>Date</th>\n",
       "      <th>Sales</th>\n",
       "      <th>PV</th>\n",
       "      <th>UV</th>\n",
       "      <th>Events</th>\n",
       "    </tr>\n",
       "  </thead>\n",
       "  <tbody>\n",
       "    <tr>\n",
       "      <th>0</th>\n",
       "      <td>2022-01-01</td>\n",
       "      <td>22711525</td>\n",
       "      <td>397349</td>\n",
       "      <td>4421.0</td>\n",
       "      <td>1</td>\n",
       "    </tr>\n",
       "    <tr>\n",
       "      <th>1</th>\n",
       "      <td>2022-01-02</td>\n",
       "      <td>36779</td>\n",
       "      <td>3969</td>\n",
       "      <td>2289.0</td>\n",
       "      <td>0</td>\n",
       "    </tr>\n",
       "    <tr>\n",
       "      <th>2</th>\n",
       "      <td>2022-01-03</td>\n",
       "      <td>13943875</td>\n",
       "      <td>373890</td>\n",
       "      <td>NaN</td>\n",
       "      <td>1</td>\n",
       "    </tr>\n",
       "    <tr>\n",
       "      <th>3</th>\n",
       "      <td>2022-01-04</td>\n",
       "      <td>8088593</td>\n",
       "      <td>142054</td>\n",
       "      <td>2157.0</td>\n",
       "      <td>0</td>\n",
       "    </tr>\n",
       "    <tr>\n",
       "      <th>4</th>\n",
       "      <td>2022-01-05</td>\n",
       "      <td>2395374</td>\n",
       "      <td>190684</td>\n",
       "      <td>NaN</td>\n",
       "      <td>0</td>\n",
       "    </tr>\n",
       "  </tbody>\n",
       "</table>\n",
       "</div>"
      ],
      "text/plain": [
       "         Date     Sales      PV      UV  Events\n",
       "0  2022-01-01  22711525  397349  4421.0       1\n",
       "1  2022-01-02     36779    3969  2289.0       0\n",
       "2  2022-01-03  13943875  373890     NaN       1\n",
       "3  2022-01-04   8088593  142054  2157.0       0\n",
       "4  2022-01-05   2395374  190684     NaN       0"
      ]
     },
     "execution_count": 352,
     "metadata": {},
     "output_type": "execute_result"
    }
   ],
   "source": [
    "df.head()"
   ]
  },
  {
   "cell_type": "code",
   "execution_count": 353,
   "metadata": {
    "ExecuteTime": {
     "end_time": "2021-12-03T15:06:49.673624Z",
     "start_time": "2021-12-03T15:06:49.664617Z"
    }
   },
   "outputs": [
    {
     "name": "stdout",
     "output_type": "stream",
     "text": [
      "<class 'pandas.core.frame.DataFrame'>\n",
      "RangeIndex: 730 entries, 0 to 729\n",
      "Data columns (total 5 columns):\n",
      " #   Column  Non-Null Count  Dtype  \n",
      "---  ------  --------------  -----  \n",
      " 0   Date    730 non-null    object \n",
      " 1   Sales   730 non-null    int64  \n",
      " 2   PV      730 non-null    int64  \n",
      " 3   UV      684 non-null    float64\n",
      " 4   Events  730 non-null    int64  \n",
      "dtypes: float64(1), int64(3), object(1)\n",
      "memory usage: 28.6+ KB\n"
     ]
    }
   ],
   "source": [
    "df.info()"
   ]
  },
  {
   "cell_type": "markdown",
   "metadata": {},
   "source": [
    "## dtypes datetime으로 변경"
   ]
  },
  {
   "cell_type": "code",
   "execution_count": 354,
   "metadata": {
    "ExecuteTime": {
     "end_time": "2021-12-03T15:07:24.892897Z",
     "start_time": "2021-12-03T15:07:24.880935Z"
    }
   },
   "outputs": [
    {
     "name": "stdout",
     "output_type": "stream",
     "text": [
      "<class 'pandas.core.frame.DataFrame'>\n",
      "RangeIndex: 730 entries, 0 to 729\n",
      "Data columns (total 5 columns):\n",
      " #   Column  Non-Null Count  Dtype         \n",
      "---  ------  --------------  -----         \n",
      " 0   Date    730 non-null    datetime64[ns]\n",
      " 1   Sales   730 non-null    int64         \n",
      " 2   PV      730 non-null    int64         \n",
      " 3   UV      684 non-null    float64       \n",
      " 4   Events  730 non-null    int64         \n",
      "dtypes: datetime64[ns](1), float64(1), int64(3)\n",
      "memory usage: 28.6 KB\n"
     ]
    }
   ],
   "source": [
    "df['Date']=pd.to_datetime(df['Date'])\n",
    "df.info()"
   ]
  },
  {
   "cell_type": "markdown",
   "metadata": {},
   "source": [
    "## 년,월,일 분리"
   ]
  },
  {
   "cell_type": "code",
   "execution_count": 355,
   "metadata": {
    "ExecuteTime": {
     "end_time": "2021-12-03T15:08:34.584103Z",
     "start_time": "2021-12-03T15:08:34.561125Z"
    }
   },
   "outputs": [
    {
     "data": {
      "text/html": [
       "<div>\n",
       "<style scoped>\n",
       "    .dataframe tbody tr th:only-of-type {\n",
       "        vertical-align: middle;\n",
       "    }\n",
       "\n",
       "    .dataframe tbody tr th {\n",
       "        vertical-align: top;\n",
       "    }\n",
       "\n",
       "    .dataframe thead th {\n",
       "        text-align: right;\n",
       "    }\n",
       "</style>\n",
       "<table border=\"1\" class=\"dataframe\">\n",
       "  <thead>\n",
       "    <tr style=\"text-align: right;\">\n",
       "      <th></th>\n",
       "      <th>Date</th>\n",
       "      <th>Sales</th>\n",
       "      <th>PV</th>\n",
       "      <th>UV</th>\n",
       "      <th>Events</th>\n",
       "      <th>year</th>\n",
       "      <th>month</th>\n",
       "      <th>day</th>\n",
       "    </tr>\n",
       "  </thead>\n",
       "  <tbody>\n",
       "    <tr>\n",
       "      <th>0</th>\n",
       "      <td>2022-01-01</td>\n",
       "      <td>22711525</td>\n",
       "      <td>397349</td>\n",
       "      <td>4421.0</td>\n",
       "      <td>1</td>\n",
       "      <td>2022</td>\n",
       "      <td>1</td>\n",
       "      <td>1</td>\n",
       "    </tr>\n",
       "    <tr>\n",
       "      <th>1</th>\n",
       "      <td>2022-01-02</td>\n",
       "      <td>36779</td>\n",
       "      <td>3969</td>\n",
       "      <td>2289.0</td>\n",
       "      <td>0</td>\n",
       "      <td>2022</td>\n",
       "      <td>1</td>\n",
       "      <td>2</td>\n",
       "    </tr>\n",
       "    <tr>\n",
       "      <th>2</th>\n",
       "      <td>2022-01-03</td>\n",
       "      <td>13943875</td>\n",
       "      <td>373890</td>\n",
       "      <td>NaN</td>\n",
       "      <td>1</td>\n",
       "      <td>2022</td>\n",
       "      <td>1</td>\n",
       "      <td>3</td>\n",
       "    </tr>\n",
       "    <tr>\n",
       "      <th>3</th>\n",
       "      <td>2022-01-04</td>\n",
       "      <td>8088593</td>\n",
       "      <td>142054</td>\n",
       "      <td>2157.0</td>\n",
       "      <td>0</td>\n",
       "      <td>2022</td>\n",
       "      <td>1</td>\n",
       "      <td>4</td>\n",
       "    </tr>\n",
       "    <tr>\n",
       "      <th>4</th>\n",
       "      <td>2022-01-05</td>\n",
       "      <td>2395374</td>\n",
       "      <td>190684</td>\n",
       "      <td>NaN</td>\n",
       "      <td>0</td>\n",
       "      <td>2022</td>\n",
       "      <td>1</td>\n",
       "      <td>5</td>\n",
       "    </tr>\n",
       "  </tbody>\n",
       "</table>\n",
       "</div>"
      ],
      "text/plain": [
       "        Date     Sales      PV      UV  Events  year  month  day\n",
       "0 2022-01-01  22711525  397349  4421.0       1  2022      1    1\n",
       "1 2022-01-02     36779    3969  2289.0       0  2022      1    2\n",
       "2 2022-01-03  13943875  373890     NaN       1  2022      1    3\n",
       "3 2022-01-04   8088593  142054  2157.0       0  2022      1    4\n",
       "4 2022-01-05   2395374  190684     NaN       0  2022      1    5"
      ]
     },
     "execution_count": 355,
     "metadata": {},
     "output_type": "execute_result"
    }
   ],
   "source": [
    "df['year']=df['Date'].dt.year\n",
    "df['month']=df['Date'].dt.month\n",
    "df['day']=df['Date'].dt.day\n",
    "df.head()"
   ]
  },
  {
   "cell_type": "code",
   "execution_count": 356,
   "metadata": {
    "ExecuteTime": {
     "end_time": "2021-12-03T15:09:14.541874Z",
     "start_time": "2021-12-03T15:09:14.529870Z"
    }
   },
   "outputs": [
    {
     "data": {
      "text/plain": [
       "1477685.0"
      ]
     },
     "execution_count": 356,
     "metadata": {},
     "output_type": "execute_result"
    }
   ],
   "source": [
    "cond=(df['year']==2022)&(df['month']==5)\n",
    "df[cond]['Sales'].median()"
   ]
  },
  {
   "cell_type": "markdown",
   "metadata": {},
   "source": [
    "# 시계열 연습2"
   ]
  },
  {
   "cell_type": "code",
   "execution_count": 357,
   "metadata": {
    "ExecuteTime": {
     "end_time": "2021-12-03T15:10:07.987748Z",
     "start_time": "2021-12-03T15:10:07.984723Z"
    }
   },
   "outputs": [],
   "source": [
    "#주어진 데이터에서 2022년 5월 주말과 평일의 sales컬럼 평균값 차이를 구하시오 (소수점 둘째자리까지 출력, 반올림)"
   ]
  },
  {
   "cell_type": "code",
   "execution_count": 358,
   "metadata": {
    "ExecuteTime": {
     "end_time": "2021-12-03T15:10:28.770807Z",
     "start_time": "2021-12-03T15:10:28.761801Z"
    }
   },
   "outputs": [],
   "source": [
    "df=pd.read_csv('./archive/basic2.csv')\n",
    "df['Date']=pd.to_datetime(df['Date'])\n",
    "df['year']=df['Date'].dt.year\n",
    "df['month']=df['Date'].dt.month\n",
    "df['day']=df['Date'].dt.day"
   ]
  },
  {
   "cell_type": "code",
   "execution_count": 362,
   "metadata": {
    "ExecuteTime": {
     "end_time": "2021-12-03T15:12:27.683916Z",
     "start_time": "2021-12-03T15:12:27.673945Z"
    }
   },
   "outputs": [],
   "source": [
    "## weekday :0 - 월요일 6: 일요일"
   ]
  },
  {
   "cell_type": "code",
   "execution_count": 359,
   "metadata": {
    "ExecuteTime": {
     "end_time": "2021-12-03T15:11:03.199634Z",
     "start_time": "2021-12-03T15:11:03.184641Z"
    }
   },
   "outputs": [],
   "source": [
    "df['dayofweek']=df['Date'].dt.dayofweek"
   ]
  },
  {
   "cell_type": "code",
   "execution_count": 361,
   "metadata": {
    "ExecuteTime": {
     "end_time": "2021-12-03T15:11:49.365704Z",
     "start_time": "2021-12-03T15:11:49.360675Z"
    }
   },
   "outputs": [],
   "source": [
    "# help(df['Date'].dt)"
   ]
  },
  {
   "cell_type": "code",
   "execution_count": 371,
   "metadata": {
    "ExecuteTime": {
     "end_time": "2021-12-03T15:17:02.218808Z",
     "start_time": "2021-12-03T15:17:02.203880Z"
    }
   },
   "outputs": [
    {
     "data": {
      "text/html": [
       "<div>\n",
       "<style scoped>\n",
       "    .dataframe tbody tr th:only-of-type {\n",
       "        vertical-align: middle;\n",
       "    }\n",
       "\n",
       "    .dataframe tbody tr th {\n",
       "        vertical-align: top;\n",
       "    }\n",
       "\n",
       "    .dataframe thead th {\n",
       "        text-align: right;\n",
       "    }\n",
       "</style>\n",
       "<table border=\"1\" class=\"dataframe\">\n",
       "  <thead>\n",
       "    <tr style=\"text-align: right;\">\n",
       "      <th></th>\n",
       "      <th>Date</th>\n",
       "      <th>Sales</th>\n",
       "      <th>PV</th>\n",
       "      <th>UV</th>\n",
       "      <th>Events</th>\n",
       "      <th>year</th>\n",
       "      <th>month</th>\n",
       "      <th>day</th>\n",
       "      <th>dayofweek</th>\n",
       "    </tr>\n",
       "  </thead>\n",
       "  <tbody>\n",
       "    <tr>\n",
       "      <th>725</th>\n",
       "      <td>2023-12-27</td>\n",
       "      <td>33846609</td>\n",
       "      <td>415067</td>\n",
       "      <td>7360.0</td>\n",
       "      <td>1</td>\n",
       "      <td>2023</td>\n",
       "      <td>12</td>\n",
       "      <td>27</td>\n",
       "      <td>2</td>\n",
       "    </tr>\n",
       "    <tr>\n",
       "      <th>726</th>\n",
       "      <td>2023-12-28</td>\n",
       "      <td>3659566</td>\n",
       "      <td>208601</td>\n",
       "      <td>2262.0</td>\n",
       "      <td>1</td>\n",
       "      <td>2023</td>\n",
       "      <td>12</td>\n",
       "      <td>28</td>\n",
       "      <td>3</td>\n",
       "    </tr>\n",
       "    <tr>\n",
       "      <th>727</th>\n",
       "      <td>2023-12-29</td>\n",
       "      <td>1164008</td>\n",
       "      <td>14309</td>\n",
       "      <td>193.0</td>\n",
       "      <td>0</td>\n",
       "      <td>2023</td>\n",
       "      <td>12</td>\n",
       "      <td>29</td>\n",
       "      <td>4</td>\n",
       "    </tr>\n",
       "    <tr>\n",
       "      <th>728</th>\n",
       "      <td>2023-12-30</td>\n",
       "      <td>3977696</td>\n",
       "      <td>60935</td>\n",
       "      <td>NaN</td>\n",
       "      <td>0</td>\n",
       "      <td>2023</td>\n",
       "      <td>12</td>\n",
       "      <td>30</td>\n",
       "      <td>5</td>\n",
       "    </tr>\n",
       "    <tr>\n",
       "      <th>729</th>\n",
       "      <td>2023-12-31</td>\n",
       "      <td>3719764</td>\n",
       "      <td>60963</td>\n",
       "      <td>1507.0</td>\n",
       "      <td>0</td>\n",
       "      <td>2023</td>\n",
       "      <td>12</td>\n",
       "      <td>31</td>\n",
       "      <td>6</td>\n",
       "    </tr>\n",
       "  </tbody>\n",
       "</table>\n",
       "</div>"
      ],
      "text/plain": [
       "          Date     Sales      PV      UV  Events  year  month  day  dayofweek\n",
       "725 2023-12-27  33846609  415067  7360.0       1  2023     12   27          2\n",
       "726 2023-12-28   3659566  208601  2262.0       1  2023     12   28          3\n",
       "727 2023-12-29   1164008   14309   193.0       0  2023     12   29          4\n",
       "728 2023-12-30   3977696   60935     NaN       0  2023     12   30          5\n",
       "729 2023-12-31   3719764   60963  1507.0       0  2023     12   31          6"
      ]
     },
     "execution_count": 371,
     "metadata": {},
     "output_type": "execute_result"
    }
   ],
   "source": [
    "df.tail()"
   ]
  },
  {
   "cell_type": "code",
   "execution_count": 363,
   "metadata": {
    "ExecuteTime": {
     "end_time": "2021-12-03T15:13:40.035417Z",
     "start_time": "2021-12-03T15:13:40.024447Z"
    }
   },
   "outputs": [
    {
     "data": {
      "text/html": [
       "<div>\n",
       "<style scoped>\n",
       "    .dataframe tbody tr th:only-of-type {\n",
       "        vertical-align: middle;\n",
       "    }\n",
       "\n",
       "    .dataframe tbody tr th {\n",
       "        vertical-align: top;\n",
       "    }\n",
       "\n",
       "    .dataframe thead th {\n",
       "        text-align: right;\n",
       "    }\n",
       "</style>\n",
       "<table border=\"1\" class=\"dataframe\">\n",
       "  <thead>\n",
       "    <tr style=\"text-align: right;\">\n",
       "      <th></th>\n",
       "      <th>Date</th>\n",
       "      <th>Sales</th>\n",
       "      <th>PV</th>\n",
       "      <th>UV</th>\n",
       "      <th>Events</th>\n",
       "      <th>year</th>\n",
       "      <th>month</th>\n",
       "      <th>day</th>\n",
       "      <th>dayofweek</th>\n",
       "    </tr>\n",
       "  </thead>\n",
       "  <tbody>\n",
       "    <tr>\n",
       "      <th>0</th>\n",
       "      <td>2022-01-01</td>\n",
       "      <td>22711525</td>\n",
       "      <td>397349</td>\n",
       "      <td>4421.0</td>\n",
       "      <td>1</td>\n",
       "      <td>2022</td>\n",
       "      <td>1</td>\n",
       "      <td>1</td>\n",
       "      <td>5</td>\n",
       "    </tr>\n",
       "    <tr>\n",
       "      <th>1</th>\n",
       "      <td>2022-01-02</td>\n",
       "      <td>36779</td>\n",
       "      <td>3969</td>\n",
       "      <td>2289.0</td>\n",
       "      <td>0</td>\n",
       "      <td>2022</td>\n",
       "      <td>1</td>\n",
       "      <td>2</td>\n",
       "      <td>6</td>\n",
       "    </tr>\n",
       "    <tr>\n",
       "      <th>2</th>\n",
       "      <td>2022-01-03</td>\n",
       "      <td>13943875</td>\n",
       "      <td>373890</td>\n",
       "      <td>NaN</td>\n",
       "      <td>1</td>\n",
       "      <td>2022</td>\n",
       "      <td>1</td>\n",
       "      <td>3</td>\n",
       "      <td>0</td>\n",
       "    </tr>\n",
       "    <tr>\n",
       "      <th>3</th>\n",
       "      <td>2022-01-04</td>\n",
       "      <td>8088593</td>\n",
       "      <td>142054</td>\n",
       "      <td>2157.0</td>\n",
       "      <td>0</td>\n",
       "      <td>2022</td>\n",
       "      <td>1</td>\n",
       "      <td>4</td>\n",
       "      <td>1</td>\n",
       "    </tr>\n",
       "    <tr>\n",
       "      <th>4</th>\n",
       "      <td>2022-01-05</td>\n",
       "      <td>2395374</td>\n",
       "      <td>190684</td>\n",
       "      <td>NaN</td>\n",
       "      <td>0</td>\n",
       "      <td>2022</td>\n",
       "      <td>1</td>\n",
       "      <td>5</td>\n",
       "      <td>2</td>\n",
       "    </tr>\n",
       "  </tbody>\n",
       "</table>\n",
       "</div>"
      ],
      "text/plain": [
       "        Date     Sales      PV      UV  Events  year  month  day  dayofweek\n",
       "0 2022-01-01  22711525  397349  4421.0       1  2022      1    1          5\n",
       "1 2022-01-02     36779    3969  2289.0       0  2022      1    2          6\n",
       "2 2022-01-03  13943875  373890     NaN       1  2022      1    3          0\n",
       "3 2022-01-04   8088593  142054  2157.0       0  2022      1    4          1\n",
       "4 2022-01-05   2395374  190684     NaN       0  2022      1    5          2"
      ]
     },
     "execution_count": 363,
     "metadata": {},
     "output_type": "execute_result"
    }
   ],
   "source": [
    "df.head()"
   ]
  },
  {
   "cell_type": "code",
   "execution_count": 367,
   "metadata": {
    "ExecuteTime": {
     "end_time": "2021-12-03T15:15:01.107302Z",
     "start_time": "2021-12-03T15:15:01.088353Z"
    }
   },
   "outputs": [
    {
     "data": {
      "text/plain": [
       "Sales    5.989779e+06\n",
       "dtype: float64"
      ]
     },
     "execution_count": 367,
     "metadata": {},
     "output_type": "execute_result"
    }
   ],
   "source": [
    "# mean_week=df[df['dayofweek']<=4].loc['Sales']\n",
    "df[df['dayofweek']<=4][['Sales']].mean()"
   ]
  },
  {
   "cell_type": "code",
   "execution_count": 368,
   "metadata": {
    "ExecuteTime": {
     "end_time": "2021-12-03T15:15:09.974344Z",
     "start_time": "2021-12-03T15:15:09.961347Z"
    }
   },
   "outputs": [
    {
     "data": {
      "text/plain": [
       "Sales    5.408760e+06\n",
       "dtype: float64"
      ]
     },
     "execution_count": 368,
     "metadata": {},
     "output_type": "execute_result"
    }
   ],
   "source": [
    "df[df['dayofweek']>4][['Sales']].mean()"
   ]
  },
  {
   "cell_type": "code",
   "execution_count": 372,
   "metadata": {
    "ExecuteTime": {
     "end_time": "2021-12-03T15:17:28.947863Z",
     "start_time": "2021-12-03T15:17:28.937853Z"
    }
   },
   "outputs": [
    {
     "data": {
      "text/plain": [
       "Sales   -3010339.1\n",
       "dtype: float64"
      ]
     },
     "execution_count": 372,
     "metadata": {},
     "output_type": "execute_result"
    }
   ],
   "source": [
    "round(df[(df['year']==2022)&(df['dayofweek']<=4)&(df['month']==5)][['Sales']].mean()-df[(df['year']==2022)&(df['dayofweek']>4)&(df['month']==5)][['Sales']].mean(),2)"
   ]
  },
  {
   "cell_type": "markdown",
   "metadata": {},
   "source": [
    "# 시계열연습3"
   ]
  },
  {
   "cell_type": "code",
   "execution_count": 405,
   "metadata": {
    "ExecuteTime": {
     "end_time": "2021-12-03T15:31:31.060222Z",
     "start_time": "2021-12-03T15:31:31.049220Z"
    }
   },
   "outputs": [],
   "source": [
    "# 주어진 데이터에서 2022년 월별 Sales 합계 중 가장 큰 금액과\n",
    "# 2023년 월별 Sales 합계 중 가장 큰 금액의 차이를 절대값으로 구하시오.\n",
    "# 단, Events컬럼이 '1'인 경우 80%의 Salse값만 반영함\n",
    "# (최종값은 소수점 반올림 후 정수 출력)"
   ]
  },
  {
   "cell_type": "code",
   "execution_count": 406,
   "metadata": {
    "ExecuteTime": {
     "end_time": "2021-12-03T15:31:31.281768Z",
     "start_time": "2021-12-03T15:31:31.265776Z"
    }
   },
   "outputs": [
    {
     "data": {
      "text/html": [
       "<div>\n",
       "<style scoped>\n",
       "    .dataframe tbody tr th:only-of-type {\n",
       "        vertical-align: middle;\n",
       "    }\n",
       "\n",
       "    .dataframe tbody tr th {\n",
       "        vertical-align: top;\n",
       "    }\n",
       "\n",
       "    .dataframe thead th {\n",
       "        text-align: right;\n",
       "    }\n",
       "</style>\n",
       "<table border=\"1\" class=\"dataframe\">\n",
       "  <thead>\n",
       "    <tr style=\"text-align: right;\">\n",
       "      <th></th>\n",
       "      <th>Date</th>\n",
       "      <th>Sales</th>\n",
       "      <th>PV</th>\n",
       "      <th>UV</th>\n",
       "      <th>Events</th>\n",
       "      <th>year</th>\n",
       "      <th>month</th>\n",
       "      <th>day</th>\n",
       "    </tr>\n",
       "  </thead>\n",
       "  <tbody>\n",
       "    <tr>\n",
       "      <th>0</th>\n",
       "      <td>2022-01-01</td>\n",
       "      <td>22711525</td>\n",
       "      <td>397349</td>\n",
       "      <td>4421.0</td>\n",
       "      <td>1</td>\n",
       "      <td>2022</td>\n",
       "      <td>1</td>\n",
       "      <td>1</td>\n",
       "    </tr>\n",
       "    <tr>\n",
       "      <th>1</th>\n",
       "      <td>2022-01-02</td>\n",
       "      <td>36779</td>\n",
       "      <td>3969</td>\n",
       "      <td>2289.0</td>\n",
       "      <td>0</td>\n",
       "      <td>2022</td>\n",
       "      <td>1</td>\n",
       "      <td>2</td>\n",
       "    </tr>\n",
       "    <tr>\n",
       "      <th>2</th>\n",
       "      <td>2022-01-03</td>\n",
       "      <td>13943875</td>\n",
       "      <td>373890</td>\n",
       "      <td>NaN</td>\n",
       "      <td>1</td>\n",
       "      <td>2022</td>\n",
       "      <td>1</td>\n",
       "      <td>3</td>\n",
       "    </tr>\n",
       "    <tr>\n",
       "      <th>3</th>\n",
       "      <td>2022-01-04</td>\n",
       "      <td>8088593</td>\n",
       "      <td>142054</td>\n",
       "      <td>2157.0</td>\n",
       "      <td>0</td>\n",
       "      <td>2022</td>\n",
       "      <td>1</td>\n",
       "      <td>4</td>\n",
       "    </tr>\n",
       "    <tr>\n",
       "      <th>4</th>\n",
       "      <td>2022-01-05</td>\n",
       "      <td>2395374</td>\n",
       "      <td>190684</td>\n",
       "      <td>NaN</td>\n",
       "      <td>0</td>\n",
       "      <td>2022</td>\n",
       "      <td>1</td>\n",
       "      <td>5</td>\n",
       "    </tr>\n",
       "  </tbody>\n",
       "</table>\n",
       "</div>"
      ],
      "text/plain": [
       "        Date     Sales      PV      UV  Events  year  month  day\n",
       "0 2022-01-01  22711525  397349  4421.0       1  2022      1    1\n",
       "1 2022-01-02     36779    3969  2289.0       0  2022      1    2\n",
       "2 2022-01-03  13943875  373890     NaN       1  2022      1    3\n",
       "3 2022-01-04   8088593  142054  2157.0       0  2022      1    4\n",
       "4 2022-01-05   2395374  190684     NaN       0  2022      1    5"
      ]
     },
     "execution_count": 406,
     "metadata": {},
     "output_type": "execute_result"
    }
   ],
   "source": [
    "df=pd.read_csv('./archive/basic2.csv')\n",
    "df['Date']=pd.to_datetime(df['Date'])\n",
    "df['year']=df['Date'].dt.year\n",
    "df['month']=df['Date'].dt.month\n",
    "df['day']=df['Date'].dt.day\n",
    "df.head()"
   ]
  },
  {
   "cell_type": "code",
   "execution_count": 399,
   "metadata": {
    "ExecuteTime": {
     "end_time": "2021-12-03T15:29:28.811346Z",
     "start_time": "2021-12-03T15:29:28.808316Z"
    }
   },
   "outputs": [],
   "source": [
    "def rate(x:int):\n",
    "    if x==0:\n",
    "        y=1\n",
    "    else:\n",
    "        y=0.8\n",
    "    return y"
   ]
  },
  {
   "cell_type": "code",
   "execution_count": 434,
   "metadata": {
    "ExecuteTime": {
     "end_time": "2021-12-03T15:38:11.471736Z",
     "start_time": "2021-12-03T15:38:11.455824Z"
    }
   },
   "outputs": [
    {
     "data": {
      "text/plain": [
       "0      0.8\n",
       "1      1.0\n",
       "2      0.8\n",
       "3      1.0\n",
       "4      1.0\n",
       "      ... \n",
       "725    0.8\n",
       "726    0.8\n",
       "727    1.0\n",
       "728    1.0\n",
       "729    1.0\n",
       "Name: new, Length: 730, dtype: float64"
      ]
     },
     "execution_count": 434,
     "metadata": {},
     "output_type": "execute_result"
    }
   ],
   "source": [
    "df[\"new\"]=df['Events'].apply(rate)\n",
    "df[\"new\"]"
   ]
  },
  {
   "cell_type": "code",
   "execution_count": 411,
   "metadata": {
    "ExecuteTime": {
     "end_time": "2021-12-03T15:34:19.698458Z",
     "start_time": "2021-12-03T15:34:19.680473Z"
    }
   },
   "outputs": [
    {
     "data": {
      "text/html": [
       "<div>\n",
       "<style scoped>\n",
       "    .dataframe tbody tr th:only-of-type {\n",
       "        vertical-align: middle;\n",
       "    }\n",
       "\n",
       "    .dataframe tbody tr th {\n",
       "        vertical-align: top;\n",
       "    }\n",
       "\n",
       "    .dataframe thead th {\n",
       "        text-align: right;\n",
       "    }\n",
       "</style>\n",
       "<table border=\"1\" class=\"dataframe\">\n",
       "  <thead>\n",
       "    <tr style=\"text-align: right;\">\n",
       "      <th></th>\n",
       "      <th>Date</th>\n",
       "      <th>Sales</th>\n",
       "      <th>PV</th>\n",
       "      <th>UV</th>\n",
       "      <th>Events</th>\n",
       "      <th>year</th>\n",
       "      <th>month</th>\n",
       "      <th>day</th>\n",
       "      <th>Sales_Event</th>\n",
       "      <th>Sales_Adjusted</th>\n",
       "    </tr>\n",
       "  </thead>\n",
       "  <tbody>\n",
       "    <tr>\n",
       "      <th>0</th>\n",
       "      <td>2022-01-01</td>\n",
       "      <td>22711525</td>\n",
       "      <td>397349</td>\n",
       "      <td>4421.0</td>\n",
       "      <td>1</td>\n",
       "      <td>2022</td>\n",
       "      <td>1</td>\n",
       "      <td>1</td>\n",
       "      <td>0.8</td>\n",
       "      <td>18169220.0</td>\n",
       "    </tr>\n",
       "    <tr>\n",
       "      <th>1</th>\n",
       "      <td>2022-01-02</td>\n",
       "      <td>36779</td>\n",
       "      <td>3969</td>\n",
       "      <td>2289.0</td>\n",
       "      <td>0</td>\n",
       "      <td>2022</td>\n",
       "      <td>1</td>\n",
       "      <td>2</td>\n",
       "      <td>1.0</td>\n",
       "      <td>36779.0</td>\n",
       "    </tr>\n",
       "    <tr>\n",
       "      <th>2</th>\n",
       "      <td>2022-01-03</td>\n",
       "      <td>13943875</td>\n",
       "      <td>373890</td>\n",
       "      <td>NaN</td>\n",
       "      <td>1</td>\n",
       "      <td>2022</td>\n",
       "      <td>1</td>\n",
       "      <td>3</td>\n",
       "      <td>0.8</td>\n",
       "      <td>11155100.0</td>\n",
       "    </tr>\n",
       "    <tr>\n",
       "      <th>3</th>\n",
       "      <td>2022-01-04</td>\n",
       "      <td>8088593</td>\n",
       "      <td>142054</td>\n",
       "      <td>2157.0</td>\n",
       "      <td>0</td>\n",
       "      <td>2022</td>\n",
       "      <td>1</td>\n",
       "      <td>4</td>\n",
       "      <td>1.0</td>\n",
       "      <td>8088593.0</td>\n",
       "    </tr>\n",
       "    <tr>\n",
       "      <th>4</th>\n",
       "      <td>2022-01-05</td>\n",
       "      <td>2395374</td>\n",
       "      <td>190684</td>\n",
       "      <td>NaN</td>\n",
       "      <td>0</td>\n",
       "      <td>2022</td>\n",
       "      <td>1</td>\n",
       "      <td>5</td>\n",
       "      <td>1.0</td>\n",
       "      <td>2395374.0</td>\n",
       "    </tr>\n",
       "  </tbody>\n",
       "</table>\n",
       "</div>"
      ],
      "text/plain": [
       "        Date     Sales      PV      UV  Events  year  month  day  Sales_Event  \\\n",
       "0 2022-01-01  22711525  397349  4421.0       1  2022      1    1          0.8   \n",
       "1 2022-01-02     36779    3969  2289.0       0  2022      1    2          1.0   \n",
       "2 2022-01-03  13943875  373890     NaN       1  2022      1    3          0.8   \n",
       "3 2022-01-04   8088593  142054  2157.0       0  2022      1    4          1.0   \n",
       "4 2022-01-05   2395374  190684     NaN       0  2022      1    5          1.0   \n",
       "\n",
       "   Sales_Adjusted  \n",
       "0      18169220.0  \n",
       "1         36779.0  \n",
       "2      11155100.0  \n",
       "3       8088593.0  \n",
       "4       2395374.0  "
      ]
     },
     "execution_count": 411,
     "metadata": {},
     "output_type": "execute_result"
    }
   ],
   "source": [
    "df['Sales_Event']=df['Events'].apply(lambda x : 0.8 if x!=0 else 1)\n",
    "df['Sales_Adjusted']=df['Sales_Event']*df['Sales']\n",
    "df.head()\n"
   ]
  },
  {
   "cell_type": "code",
   "execution_count": 412,
   "metadata": {
    "ExecuteTime": {
     "end_time": "2021-12-03T15:34:22.737594Z",
     "start_time": "2021-12-03T15:34:22.729631Z"
    }
   },
   "outputs": [],
   "source": [
    "df1=df[df['year']==2022]"
   ]
  },
  {
   "cell_type": "code",
   "execution_count": 413,
   "metadata": {
    "ExecuteTime": {
     "end_time": "2021-12-03T15:34:23.002394Z",
     "start_time": "2021-12-03T15:34:22.993386Z"
    }
   },
   "outputs": [
    {
     "data": {
      "text/plain": [
       "month\n",
       "11     89359502.2\n",
       "8     108173602.2\n",
       "4     111466880.8\n",
       "1     114475247.2\n",
       "5     121801396.0\n",
       "2     153453688.6\n",
       "9     157752502.6\n",
       "6     165288258.4\n",
       "3     172483809.4\n",
       "10    183253174.0\n",
       "12    191208107.8\n",
       "7     197145878.0\n",
       "Name: Sales_Adjusted, dtype: float64"
      ]
     },
     "execution_count": 413,
     "metadata": {},
     "output_type": "execute_result"
    }
   ],
   "source": [
    "df1.groupby('month')['Sales_Adjusted'].sum().sort_values()"
   ]
  },
  {
   "cell_type": "code",
   "execution_count": 426,
   "metadata": {
    "ExecuteTime": {
     "end_time": "2021-12-03T15:36:02.605199Z",
     "start_time": "2021-12-03T15:36:02.593200Z"
    }
   },
   "outputs": [],
   "source": [
    "b=df1.groupby('month')['Sales_Adjusted'].sum().max()"
   ]
  },
  {
   "cell_type": "code",
   "execution_count": 415,
   "metadata": {
    "ExecuteTime": {
     "end_time": "2021-12-03T15:34:23.598764Z",
     "start_time": "2021-12-03T15:34:23.583771Z"
    }
   },
   "outputs": [
    {
     "data": {
      "text/html": [
       "<div>\n",
       "<style scoped>\n",
       "    .dataframe tbody tr th:only-of-type {\n",
       "        vertical-align: middle;\n",
       "    }\n",
       "\n",
       "    .dataframe tbody tr th {\n",
       "        vertical-align: top;\n",
       "    }\n",
       "\n",
       "    .dataframe thead th {\n",
       "        text-align: right;\n",
       "    }\n",
       "</style>\n",
       "<table border=\"1\" class=\"dataframe\">\n",
       "  <thead>\n",
       "    <tr style=\"text-align: right;\">\n",
       "      <th></th>\n",
       "      <th>Date</th>\n",
       "      <th>Sales</th>\n",
       "      <th>PV</th>\n",
       "      <th>UV</th>\n",
       "      <th>Events</th>\n",
       "      <th>year</th>\n",
       "      <th>month</th>\n",
       "      <th>day</th>\n",
       "      <th>Sales_Event</th>\n",
       "      <th>Sales_Adjusted</th>\n",
       "    </tr>\n",
       "  </thead>\n",
       "  <tbody>\n",
       "    <tr>\n",
       "      <th>0</th>\n",
       "      <td>2022-01-01</td>\n",
       "      <td>22711525</td>\n",
       "      <td>397349</td>\n",
       "      <td>4421.0</td>\n",
       "      <td>1</td>\n",
       "      <td>2022</td>\n",
       "      <td>1</td>\n",
       "      <td>1</td>\n",
       "      <td>0.8</td>\n",
       "      <td>18169220.0</td>\n",
       "    </tr>\n",
       "    <tr>\n",
       "      <th>1</th>\n",
       "      <td>2022-01-02</td>\n",
       "      <td>36779</td>\n",
       "      <td>3969</td>\n",
       "      <td>2289.0</td>\n",
       "      <td>0</td>\n",
       "      <td>2022</td>\n",
       "      <td>1</td>\n",
       "      <td>2</td>\n",
       "      <td>1.0</td>\n",
       "      <td>36779.0</td>\n",
       "    </tr>\n",
       "    <tr>\n",
       "      <th>2</th>\n",
       "      <td>2022-01-03</td>\n",
       "      <td>13943875</td>\n",
       "      <td>373890</td>\n",
       "      <td>NaN</td>\n",
       "      <td>1</td>\n",
       "      <td>2022</td>\n",
       "      <td>1</td>\n",
       "      <td>3</td>\n",
       "      <td>0.8</td>\n",
       "      <td>11155100.0</td>\n",
       "    </tr>\n",
       "    <tr>\n",
       "      <th>3</th>\n",
       "      <td>2022-01-04</td>\n",
       "      <td>8088593</td>\n",
       "      <td>142054</td>\n",
       "      <td>2157.0</td>\n",
       "      <td>0</td>\n",
       "      <td>2022</td>\n",
       "      <td>1</td>\n",
       "      <td>4</td>\n",
       "      <td>1.0</td>\n",
       "      <td>8088593.0</td>\n",
       "    </tr>\n",
       "    <tr>\n",
       "      <th>4</th>\n",
       "      <td>2022-01-05</td>\n",
       "      <td>2395374</td>\n",
       "      <td>190684</td>\n",
       "      <td>NaN</td>\n",
       "      <td>0</td>\n",
       "      <td>2022</td>\n",
       "      <td>1</td>\n",
       "      <td>5</td>\n",
       "      <td>1.0</td>\n",
       "      <td>2395374.0</td>\n",
       "    </tr>\n",
       "  </tbody>\n",
       "</table>\n",
       "</div>"
      ],
      "text/plain": [
       "        Date     Sales      PV      UV  Events  year  month  day  Sales_Event  \\\n",
       "0 2022-01-01  22711525  397349  4421.0       1  2022      1    1          0.8   \n",
       "1 2022-01-02     36779    3969  2289.0       0  2022      1    2          1.0   \n",
       "2 2022-01-03  13943875  373890     NaN       1  2022      1    3          0.8   \n",
       "3 2022-01-04   8088593  142054  2157.0       0  2022      1    4          1.0   \n",
       "4 2022-01-05   2395374  190684     NaN       0  2022      1    5          1.0   \n",
       "\n",
       "   Sales_Adjusted  \n",
       "0      18169220.0  \n",
       "1         36779.0  \n",
       "2      11155100.0  \n",
       "3       8088593.0  \n",
       "4       2395374.0  "
      ]
     },
     "execution_count": 415,
     "metadata": {},
     "output_type": "execute_result"
    }
   ],
   "source": [
    "df1.head()"
   ]
  },
  {
   "cell_type": "code",
   "execution_count": 416,
   "metadata": {
    "ExecuteTime": {
     "end_time": "2021-12-03T15:34:23.836815Z",
     "start_time": "2021-12-03T15:34:23.830837Z"
    }
   },
   "outputs": [],
   "source": [
    "df2=df[df['year']==2023]"
   ]
  },
  {
   "cell_type": "code",
   "execution_count": 423,
   "metadata": {
    "ExecuteTime": {
     "end_time": "2021-12-03T15:35:49.022442Z",
     "start_time": "2021-12-03T15:35:49.009478Z"
    }
   },
   "outputs": [],
   "source": [
    "a=df2.groupby('month')['Sales_Adjusted'].sum().max()"
   ]
  },
  {
   "cell_type": "code",
   "execution_count": 425,
   "metadata": {
    "ExecuteTime": {
     "end_time": "2021-12-03T15:35:56.014057Z",
     "start_time": "2021-12-03T15:35:56.007039Z"
    }
   },
   "outputs": [
    {
     "data": {
      "text/plain": [
       "239619313.8"
      ]
     },
     "execution_count": 425,
     "metadata": {},
     "output_type": "execute_result"
    }
   ],
   "source": [
    "a"
   ]
  },
  {
   "cell_type": "code",
   "execution_count": 431,
   "metadata": {
    "ExecuteTime": {
     "end_time": "2021-12-03T15:36:43.188701Z",
     "start_time": "2021-12-03T15:36:43.184667Z"
    }
   },
   "outputs": [
    {
     "data": {
      "text/plain": [
       "42473436"
      ]
     },
     "execution_count": 431,
     "metadata": {},
     "output_type": "execute_result"
    }
   ],
   "source": [
    "int(abs(round(b-a,0)))"
   ]
  },
  {
   "cell_type": "markdown",
   "metadata": {
    "ExecuteTime": {
     "end_time": "2021-12-03T15:38:56.028411Z",
     "start_time": "2021-12-03T15:38:56.020397Z"
    }
   },
   "source": [
    "# Data 병합"
   ]
  },
  {
   "cell_type": "code",
   "execution_count": 439,
   "metadata": {
    "ExecuteTime": {
     "end_time": "2021-12-03T15:39:55.499679Z",
     "start_time": "2021-12-03T15:39:55.489717Z"
    }
   },
   "outputs": [],
   "source": [
    "# basic1 데이터 중 'f4'를 기준으로 basic3 데이터 'f4'값을 기준으로 병합하고\n",
    "# 병합한 데이터에서 r2결측치를 제거한다음, 앞에서 부터 20개 데이터를 선택하고 'f2'컬럼 합을 구하시오"
   ]
  },
  {
   "cell_type": "code",
   "execution_count": 436,
   "metadata": {
    "ExecuteTime": {
     "end_time": "2021-12-03T15:39:21.388399Z",
     "start_time": "2021-12-03T15:39:21.377429Z"
    }
   },
   "outputs": [],
   "source": [
    "b1=pd.read_csv('./archive/basic1.csv')\n",
    "b3=pd.read_csv('./archive/basic3.csv')\n"
   ]
  },
  {
   "cell_type": "code",
   "execution_count": 437,
   "metadata": {
    "ExecuteTime": {
     "end_time": "2021-12-03T15:39:30.511135Z",
     "start_time": "2021-12-03T15:39:30.490159Z"
    }
   },
   "outputs": [
    {
     "data": {
      "text/html": [
       "<div>\n",
       "<style scoped>\n",
       "    .dataframe tbody tr th:only-of-type {\n",
       "        vertical-align: middle;\n",
       "    }\n",
       "\n",
       "    .dataframe tbody tr th {\n",
       "        vertical-align: top;\n",
       "    }\n",
       "\n",
       "    .dataframe thead th {\n",
       "        text-align: right;\n",
       "    }\n",
       "</style>\n",
       "<table border=\"1\" class=\"dataframe\">\n",
       "  <thead>\n",
       "    <tr style=\"text-align: right;\">\n",
       "      <th></th>\n",
       "      <th>id</th>\n",
       "      <th>age</th>\n",
       "      <th>city</th>\n",
       "      <th>f1</th>\n",
       "      <th>f2</th>\n",
       "      <th>f3</th>\n",
       "      <th>f4</th>\n",
       "      <th>f5</th>\n",
       "    </tr>\n",
       "  </thead>\n",
       "  <tbody>\n",
       "    <tr>\n",
       "      <th>0</th>\n",
       "      <td>id01</td>\n",
       "      <td>2.0</td>\n",
       "      <td>서울</td>\n",
       "      <td>NaN</td>\n",
       "      <td>0</td>\n",
       "      <td>NaN</td>\n",
       "      <td>ENFJ</td>\n",
       "      <td>91.297791</td>\n",
       "    </tr>\n",
       "    <tr>\n",
       "      <th>1</th>\n",
       "      <td>id02</td>\n",
       "      <td>9.0</td>\n",
       "      <td>서울</td>\n",
       "      <td>70.0</td>\n",
       "      <td>1</td>\n",
       "      <td>NaN</td>\n",
       "      <td>ENFJ</td>\n",
       "      <td>60.339826</td>\n",
       "    </tr>\n",
       "    <tr>\n",
       "      <th>2</th>\n",
       "      <td>id03</td>\n",
       "      <td>27.0</td>\n",
       "      <td>서울</td>\n",
       "      <td>61.0</td>\n",
       "      <td>1</td>\n",
       "      <td>NaN</td>\n",
       "      <td>ISTJ</td>\n",
       "      <td>17.252986</td>\n",
       "    </tr>\n",
       "    <tr>\n",
       "      <th>3</th>\n",
       "      <td>id04</td>\n",
       "      <td>75.0</td>\n",
       "      <td>서울</td>\n",
       "      <td>NaN</td>\n",
       "      <td>2</td>\n",
       "      <td>NaN</td>\n",
       "      <td>INFP</td>\n",
       "      <td>52.667078</td>\n",
       "    </tr>\n",
       "    <tr>\n",
       "      <th>4</th>\n",
       "      <td>id05</td>\n",
       "      <td>24.0</td>\n",
       "      <td>서울</td>\n",
       "      <td>85.0</td>\n",
       "      <td>2</td>\n",
       "      <td>NaN</td>\n",
       "      <td>ISFJ</td>\n",
       "      <td>29.269869</td>\n",
       "    </tr>\n",
       "  </tbody>\n",
       "</table>\n",
       "</div>"
      ],
      "text/plain": [
       "     id   age city    f1  f2   f3    f4         f5\n",
       "0  id01   2.0   서울   NaN   0  NaN  ENFJ  91.297791\n",
       "1  id02   9.0   서울  70.0   1  NaN  ENFJ  60.339826\n",
       "2  id03  27.0   서울  61.0   1  NaN  ISTJ  17.252986\n",
       "3  id04  75.0   서울   NaN   2  NaN  INFP  52.667078\n",
       "4  id05  24.0   서울  85.0   2  NaN  ISFJ  29.269869"
      ]
     },
     "execution_count": 437,
     "metadata": {},
     "output_type": "execute_result"
    }
   ],
   "source": [
    "b1.head()"
   ]
  },
  {
   "cell_type": "code",
   "execution_count": 438,
   "metadata": {
    "ExecuteTime": {
     "end_time": "2021-12-03T15:39:33.926154Z",
     "start_time": "2021-12-03T15:39:33.913158Z"
    }
   },
   "outputs": [
    {
     "data": {
      "text/html": [
       "<div>\n",
       "<style scoped>\n",
       "    .dataframe tbody tr th:only-of-type {\n",
       "        vertical-align: middle;\n",
       "    }\n",
       "\n",
       "    .dataframe tbody tr th {\n",
       "        vertical-align: top;\n",
       "    }\n",
       "\n",
       "    .dataframe thead th {\n",
       "        text-align: right;\n",
       "    }\n",
       "</style>\n",
       "<table border=\"1\" class=\"dataframe\">\n",
       "  <thead>\n",
       "    <tr style=\"text-align: right;\">\n",
       "      <th></th>\n",
       "      <th>f4</th>\n",
       "      <th>r1</th>\n",
       "      <th>r2</th>\n",
       "    </tr>\n",
       "  </thead>\n",
       "  <tbody>\n",
       "    <tr>\n",
       "      <th>0</th>\n",
       "      <td>INFP</td>\n",
       "      <td>ENFJ</td>\n",
       "      <td>ENTJ</td>\n",
       "    </tr>\n",
       "    <tr>\n",
       "      <th>1</th>\n",
       "      <td>ENFP</td>\n",
       "      <td>INFJ</td>\n",
       "      <td>NaN</td>\n",
       "    </tr>\n",
       "    <tr>\n",
       "      <th>2</th>\n",
       "      <td>INFJ</td>\n",
       "      <td>ENFP</td>\n",
       "      <td>ENTP</td>\n",
       "    </tr>\n",
       "    <tr>\n",
       "      <th>3</th>\n",
       "      <td>ENFJ</td>\n",
       "      <td>INFP</td>\n",
       "      <td>ISFP</td>\n",
       "    </tr>\n",
       "    <tr>\n",
       "      <th>4</th>\n",
       "      <td>INTJ</td>\n",
       "      <td>ENFP</td>\n",
       "      <td>ENTP</td>\n",
       "    </tr>\n",
       "  </tbody>\n",
       "</table>\n",
       "</div>"
      ],
      "text/plain": [
       "     f4    r1    r2\n",
       "0  INFP  ENFJ  ENTJ\n",
       "1  ENFP  INFJ   NaN\n",
       "2  INFJ  ENFP  ENTP\n",
       "3  ENFJ  INFP  ISFP\n",
       "4  INTJ  ENFP  ENTP"
      ]
     },
     "execution_count": 438,
     "metadata": {},
     "output_type": "execute_result"
    }
   ],
   "source": [
    "b3.head()"
   ]
  },
  {
   "cell_type": "code",
   "execution_count": 440,
   "metadata": {
    "ExecuteTime": {
     "end_time": "2021-12-03T15:40:45.076059Z",
     "start_time": "2021-12-03T15:40:45.057105Z"
    }
   },
   "outputs": [
    {
     "data": {
      "text/html": [
       "<div>\n",
       "<style scoped>\n",
       "    .dataframe tbody tr th:only-of-type {\n",
       "        vertical-align: middle;\n",
       "    }\n",
       "\n",
       "    .dataframe tbody tr th {\n",
       "        vertical-align: top;\n",
       "    }\n",
       "\n",
       "    .dataframe thead th {\n",
       "        text-align: right;\n",
       "    }\n",
       "</style>\n",
       "<table border=\"1\" class=\"dataframe\">\n",
       "  <thead>\n",
       "    <tr style=\"text-align: right;\">\n",
       "      <th></th>\n",
       "      <th>id</th>\n",
       "      <th>age</th>\n",
       "      <th>city</th>\n",
       "      <th>f1</th>\n",
       "      <th>f2</th>\n",
       "      <th>f3</th>\n",
       "      <th>f4</th>\n",
       "      <th>f5</th>\n",
       "      <th>r1</th>\n",
       "      <th>r2</th>\n",
       "    </tr>\n",
       "  </thead>\n",
       "  <tbody>\n",
       "    <tr>\n",
       "      <th>0</th>\n",
       "      <td>id01</td>\n",
       "      <td>2.0</td>\n",
       "      <td>서울</td>\n",
       "      <td>NaN</td>\n",
       "      <td>0</td>\n",
       "      <td>NaN</td>\n",
       "      <td>ENFJ</td>\n",
       "      <td>91.297791</td>\n",
       "      <td>INFP</td>\n",
       "      <td>ISFP</td>\n",
       "    </tr>\n",
       "    <tr>\n",
       "      <th>1</th>\n",
       "      <td>id02</td>\n",
       "      <td>9.0</td>\n",
       "      <td>서울</td>\n",
       "      <td>70.0</td>\n",
       "      <td>1</td>\n",
       "      <td>NaN</td>\n",
       "      <td>ENFJ</td>\n",
       "      <td>60.339826</td>\n",
       "      <td>INFP</td>\n",
       "      <td>ISFP</td>\n",
       "    </tr>\n",
       "    <tr>\n",
       "      <th>2</th>\n",
       "      <td>id03</td>\n",
       "      <td>27.0</td>\n",
       "      <td>서울</td>\n",
       "      <td>61.0</td>\n",
       "      <td>1</td>\n",
       "      <td>NaN</td>\n",
       "      <td>ISTJ</td>\n",
       "      <td>17.252986</td>\n",
       "      <td>ESFP</td>\n",
       "      <td>NaN</td>\n",
       "    </tr>\n",
       "    <tr>\n",
       "      <th>3</th>\n",
       "      <td>id04</td>\n",
       "      <td>75.0</td>\n",
       "      <td>서울</td>\n",
       "      <td>NaN</td>\n",
       "      <td>2</td>\n",
       "      <td>NaN</td>\n",
       "      <td>INFP</td>\n",
       "      <td>52.667078</td>\n",
       "      <td>ENFJ</td>\n",
       "      <td>ENTJ</td>\n",
       "    </tr>\n",
       "    <tr>\n",
       "      <th>4</th>\n",
       "      <td>id05</td>\n",
       "      <td>24.0</td>\n",
       "      <td>서울</td>\n",
       "      <td>85.0</td>\n",
       "      <td>2</td>\n",
       "      <td>NaN</td>\n",
       "      <td>ISFJ</td>\n",
       "      <td>29.269869</td>\n",
       "      <td>ESFP</td>\n",
       "      <td>ESTP</td>\n",
       "    </tr>\n",
       "    <tr>\n",
       "      <th>...</th>\n",
       "      <td>...</td>\n",
       "      <td>...</td>\n",
       "      <td>...</td>\n",
       "      <td>...</td>\n",
       "      <td>...</td>\n",
       "      <td>...</td>\n",
       "      <td>...</td>\n",
       "      <td>...</td>\n",
       "      <td>...</td>\n",
       "      <td>...</td>\n",
       "    </tr>\n",
       "    <tr>\n",
       "      <th>95</th>\n",
       "      <td>id96</td>\n",
       "      <td>92.0</td>\n",
       "      <td>경기</td>\n",
       "      <td>53.0</td>\n",
       "      <td>1</td>\n",
       "      <td>NaN</td>\n",
       "      <td>ENTJ</td>\n",
       "      <td>52.667078</td>\n",
       "      <td>INFP</td>\n",
       "      <td>NaN</td>\n",
       "    </tr>\n",
       "    <tr>\n",
       "      <th>96</th>\n",
       "      <td>id97</td>\n",
       "      <td>100.0</td>\n",
       "      <td>경기</td>\n",
       "      <td>NaN</td>\n",
       "      <td>0</td>\n",
       "      <td>NaN</td>\n",
       "      <td>INFP</td>\n",
       "      <td>67.886373</td>\n",
       "      <td>ENFJ</td>\n",
       "      <td>ENTJ</td>\n",
       "    </tr>\n",
       "    <tr>\n",
       "      <th>97</th>\n",
       "      <td>id98</td>\n",
       "      <td>39.0</td>\n",
       "      <td>경기</td>\n",
       "      <td>58.0</td>\n",
       "      <td>2</td>\n",
       "      <td>NaN</td>\n",
       "      <td>INFP</td>\n",
       "      <td>98.429899</td>\n",
       "      <td>ENFJ</td>\n",
       "      <td>ENTJ</td>\n",
       "    </tr>\n",
       "    <tr>\n",
       "      <th>98</th>\n",
       "      <td>id99</td>\n",
       "      <td>1.0</td>\n",
       "      <td>경기</td>\n",
       "      <td>47.0</td>\n",
       "      <td>0</td>\n",
       "      <td>NaN</td>\n",
       "      <td>ESFJ</td>\n",
       "      <td>97.381034</td>\n",
       "      <td>ISFP</td>\n",
       "      <td>ISTP</td>\n",
       "    </tr>\n",
       "    <tr>\n",
       "      <th>99</th>\n",
       "      <td>id100</td>\n",
       "      <td>47.0</td>\n",
       "      <td>경기</td>\n",
       "      <td>53.0</td>\n",
       "      <td>0</td>\n",
       "      <td>vip</td>\n",
       "      <td>ESFP</td>\n",
       "      <td>33.308999</td>\n",
       "      <td>ISFJ</td>\n",
       "      <td>ISTJ</td>\n",
       "    </tr>\n",
       "  </tbody>\n",
       "</table>\n",
       "<p>100 rows × 10 columns</p>\n",
       "</div>"
      ],
      "text/plain": [
       "       id    age city    f1  f2   f3    f4         f5    r1    r2\n",
       "0    id01    2.0   서울   NaN   0  NaN  ENFJ  91.297791  INFP  ISFP\n",
       "1    id02    9.0   서울  70.0   1  NaN  ENFJ  60.339826  INFP  ISFP\n",
       "2    id03   27.0   서울  61.0   1  NaN  ISTJ  17.252986  ESFP   NaN\n",
       "3    id04   75.0   서울   NaN   2  NaN  INFP  52.667078  ENFJ  ENTJ\n",
       "4    id05   24.0   서울  85.0   2  NaN  ISFJ  29.269869  ESFP  ESTP\n",
       "..    ...    ...  ...   ...  ..  ...   ...        ...   ...   ...\n",
       "95   id96   92.0   경기  53.0   1  NaN  ENTJ  52.667078  INFP   NaN\n",
       "96   id97  100.0   경기   NaN   0  NaN  INFP  67.886373  ENFJ  ENTJ\n",
       "97   id98   39.0   경기  58.0   2  NaN  INFP  98.429899  ENFJ  ENTJ\n",
       "98   id99    1.0   경기  47.0   0  NaN  ESFJ  97.381034  ISFP  ISTP\n",
       "99  id100   47.0   경기  53.0   0  vip  ESFP  33.308999  ISFJ  ISTJ\n",
       "\n",
       "[100 rows x 10 columns]"
      ]
     },
     "execution_count": 440,
     "metadata": {},
     "output_type": "execute_result"
    }
   ],
   "source": [
    "pd.merge(left=b1,right=b3,how=\"left\",on=\"f4\")"
   ]
  },
  {
   "cell_type": "code",
   "execution_count": 441,
   "metadata": {
    "ExecuteTime": {
     "end_time": "2021-12-03T15:40:53.044486Z",
     "start_time": "2021-12-03T15:40:53.032486Z"
    }
   },
   "outputs": [],
   "source": [
    "df=pd.merge(left=b1,right=b3,how=\"left\",on=\"f4\")"
   ]
  },
  {
   "cell_type": "code",
   "execution_count": 442,
   "metadata": {
    "ExecuteTime": {
     "end_time": "2021-12-03T15:40:54.079863Z",
     "start_time": "2021-12-03T15:40:54.056965Z"
    }
   },
   "outputs": [
    {
     "data": {
      "text/html": [
       "<div>\n",
       "<style scoped>\n",
       "    .dataframe tbody tr th:only-of-type {\n",
       "        vertical-align: middle;\n",
       "    }\n",
       "\n",
       "    .dataframe tbody tr th {\n",
       "        vertical-align: top;\n",
       "    }\n",
       "\n",
       "    .dataframe thead th {\n",
       "        text-align: right;\n",
       "    }\n",
       "</style>\n",
       "<table border=\"1\" class=\"dataframe\">\n",
       "  <thead>\n",
       "    <tr style=\"text-align: right;\">\n",
       "      <th></th>\n",
       "      <th>id</th>\n",
       "      <th>age</th>\n",
       "      <th>city</th>\n",
       "      <th>f1</th>\n",
       "      <th>f2</th>\n",
       "      <th>f3</th>\n",
       "      <th>f4</th>\n",
       "      <th>f5</th>\n",
       "      <th>r1</th>\n",
       "      <th>r2</th>\n",
       "    </tr>\n",
       "  </thead>\n",
       "  <tbody>\n",
       "    <tr>\n",
       "      <th>0</th>\n",
       "      <td>id01</td>\n",
       "      <td>2.0</td>\n",
       "      <td>서울</td>\n",
       "      <td>NaN</td>\n",
       "      <td>0</td>\n",
       "      <td>NaN</td>\n",
       "      <td>ENFJ</td>\n",
       "      <td>91.297791</td>\n",
       "      <td>INFP</td>\n",
       "      <td>ISFP</td>\n",
       "    </tr>\n",
       "    <tr>\n",
       "      <th>1</th>\n",
       "      <td>id02</td>\n",
       "      <td>9.0</td>\n",
       "      <td>서울</td>\n",
       "      <td>70.0</td>\n",
       "      <td>1</td>\n",
       "      <td>NaN</td>\n",
       "      <td>ENFJ</td>\n",
       "      <td>60.339826</td>\n",
       "      <td>INFP</td>\n",
       "      <td>ISFP</td>\n",
       "    </tr>\n",
       "    <tr>\n",
       "      <th>2</th>\n",
       "      <td>id03</td>\n",
       "      <td>27.0</td>\n",
       "      <td>서울</td>\n",
       "      <td>61.0</td>\n",
       "      <td>1</td>\n",
       "      <td>NaN</td>\n",
       "      <td>ISTJ</td>\n",
       "      <td>17.252986</td>\n",
       "      <td>ESFP</td>\n",
       "      <td>NaN</td>\n",
       "    </tr>\n",
       "    <tr>\n",
       "      <th>3</th>\n",
       "      <td>id04</td>\n",
       "      <td>75.0</td>\n",
       "      <td>서울</td>\n",
       "      <td>NaN</td>\n",
       "      <td>2</td>\n",
       "      <td>NaN</td>\n",
       "      <td>INFP</td>\n",
       "      <td>52.667078</td>\n",
       "      <td>ENFJ</td>\n",
       "      <td>ENTJ</td>\n",
       "    </tr>\n",
       "    <tr>\n",
       "      <th>4</th>\n",
       "      <td>id05</td>\n",
       "      <td>24.0</td>\n",
       "      <td>서울</td>\n",
       "      <td>85.0</td>\n",
       "      <td>2</td>\n",
       "      <td>NaN</td>\n",
       "      <td>ISFJ</td>\n",
       "      <td>29.269869</td>\n",
       "      <td>ESFP</td>\n",
       "      <td>ESTP</td>\n",
       "    </tr>\n",
       "    <tr>\n",
       "      <th>...</th>\n",
       "      <td>...</td>\n",
       "      <td>...</td>\n",
       "      <td>...</td>\n",
       "      <td>...</td>\n",
       "      <td>...</td>\n",
       "      <td>...</td>\n",
       "      <td>...</td>\n",
       "      <td>...</td>\n",
       "      <td>...</td>\n",
       "      <td>...</td>\n",
       "    </tr>\n",
       "    <tr>\n",
       "      <th>95</th>\n",
       "      <td>id96</td>\n",
       "      <td>92.0</td>\n",
       "      <td>경기</td>\n",
       "      <td>53.0</td>\n",
       "      <td>1</td>\n",
       "      <td>NaN</td>\n",
       "      <td>ENTJ</td>\n",
       "      <td>52.667078</td>\n",
       "      <td>INFP</td>\n",
       "      <td>NaN</td>\n",
       "    </tr>\n",
       "    <tr>\n",
       "      <th>96</th>\n",
       "      <td>id97</td>\n",
       "      <td>100.0</td>\n",
       "      <td>경기</td>\n",
       "      <td>NaN</td>\n",
       "      <td>0</td>\n",
       "      <td>NaN</td>\n",
       "      <td>INFP</td>\n",
       "      <td>67.886373</td>\n",
       "      <td>ENFJ</td>\n",
       "      <td>ENTJ</td>\n",
       "    </tr>\n",
       "    <tr>\n",
       "      <th>97</th>\n",
       "      <td>id98</td>\n",
       "      <td>39.0</td>\n",
       "      <td>경기</td>\n",
       "      <td>58.0</td>\n",
       "      <td>2</td>\n",
       "      <td>NaN</td>\n",
       "      <td>INFP</td>\n",
       "      <td>98.429899</td>\n",
       "      <td>ENFJ</td>\n",
       "      <td>ENTJ</td>\n",
       "    </tr>\n",
       "    <tr>\n",
       "      <th>98</th>\n",
       "      <td>id99</td>\n",
       "      <td>1.0</td>\n",
       "      <td>경기</td>\n",
       "      <td>47.0</td>\n",
       "      <td>0</td>\n",
       "      <td>NaN</td>\n",
       "      <td>ESFJ</td>\n",
       "      <td>97.381034</td>\n",
       "      <td>ISFP</td>\n",
       "      <td>ISTP</td>\n",
       "    </tr>\n",
       "    <tr>\n",
       "      <th>99</th>\n",
       "      <td>id100</td>\n",
       "      <td>47.0</td>\n",
       "      <td>경기</td>\n",
       "      <td>53.0</td>\n",
       "      <td>0</td>\n",
       "      <td>vip</td>\n",
       "      <td>ESFP</td>\n",
       "      <td>33.308999</td>\n",
       "      <td>ISFJ</td>\n",
       "      <td>ISTJ</td>\n",
       "    </tr>\n",
       "  </tbody>\n",
       "</table>\n",
       "<p>100 rows × 10 columns</p>\n",
       "</div>"
      ],
      "text/plain": [
       "       id    age city    f1  f2   f3    f4         f5    r1    r2\n",
       "0    id01    2.0   서울   NaN   0  NaN  ENFJ  91.297791  INFP  ISFP\n",
       "1    id02    9.0   서울  70.0   1  NaN  ENFJ  60.339826  INFP  ISFP\n",
       "2    id03   27.0   서울  61.0   1  NaN  ISTJ  17.252986  ESFP   NaN\n",
       "3    id04   75.0   서울   NaN   2  NaN  INFP  52.667078  ENFJ  ENTJ\n",
       "4    id05   24.0   서울  85.0   2  NaN  ISFJ  29.269869  ESFP  ESTP\n",
       "..    ...    ...  ...   ...  ..  ...   ...        ...   ...   ...\n",
       "95   id96   92.0   경기  53.0   1  NaN  ENTJ  52.667078  INFP   NaN\n",
       "96   id97  100.0   경기   NaN   0  NaN  INFP  67.886373  ENFJ  ENTJ\n",
       "97   id98   39.0   경기  58.0   2  NaN  INFP  98.429899  ENFJ  ENTJ\n",
       "98   id99    1.0   경기  47.0   0  NaN  ESFJ  97.381034  ISFP  ISTP\n",
       "99  id100   47.0   경기  53.0   0  vip  ESFP  33.308999  ISFJ  ISTJ\n",
       "\n",
       "[100 rows x 10 columns]"
      ]
     },
     "execution_count": 442,
     "metadata": {},
     "output_type": "execute_result"
    }
   ],
   "source": [
    "df"
   ]
  },
  {
   "cell_type": "code",
   "execution_count": 443,
   "metadata": {
    "ExecuteTime": {
     "end_time": "2021-12-03T15:42:01.066276Z",
     "start_time": "2021-12-03T15:42:01.056265Z"
    }
   },
   "outputs": [
    {
     "data": {
      "text/plain": [
       "id       0\n",
       "age      0\n",
       "city     0\n",
       "f1      31\n",
       "f2       0\n",
       "f3      95\n",
       "f4       0\n",
       "f5       0\n",
       "r1       0\n",
       "r2      17\n",
       "dtype: int64"
      ]
     },
     "execution_count": 443,
     "metadata": {},
     "output_type": "execute_result"
    }
   ],
   "source": [
    "df.isnull().sum()"
   ]
  },
  {
   "cell_type": "code",
   "execution_count": 445,
   "metadata": {
    "ExecuteTime": {
     "end_time": "2021-12-03T15:42:31.804036Z",
     "start_time": "2021-12-03T15:42:31.785082Z"
    }
   },
   "outputs": [
    {
     "data": {
      "text/html": [
       "<div>\n",
       "<style scoped>\n",
       "    .dataframe tbody tr th:only-of-type {\n",
       "        vertical-align: middle;\n",
       "    }\n",
       "\n",
       "    .dataframe tbody tr th {\n",
       "        vertical-align: top;\n",
       "    }\n",
       "\n",
       "    .dataframe thead th {\n",
       "        text-align: right;\n",
       "    }\n",
       "</style>\n",
       "<table border=\"1\" class=\"dataframe\">\n",
       "  <thead>\n",
       "    <tr style=\"text-align: right;\">\n",
       "      <th></th>\n",
       "      <th>id</th>\n",
       "      <th>age</th>\n",
       "      <th>city</th>\n",
       "      <th>f1</th>\n",
       "      <th>f2</th>\n",
       "      <th>f3</th>\n",
       "      <th>f4</th>\n",
       "      <th>f5</th>\n",
       "      <th>r1</th>\n",
       "      <th>r2</th>\n",
       "    </tr>\n",
       "  </thead>\n",
       "  <tbody>\n",
       "    <tr>\n",
       "      <th>0</th>\n",
       "      <td>id01</td>\n",
       "      <td>2.0</td>\n",
       "      <td>서울</td>\n",
       "      <td>NaN</td>\n",
       "      <td>0</td>\n",
       "      <td>NaN</td>\n",
       "      <td>ENFJ</td>\n",
       "      <td>91.297791</td>\n",
       "      <td>INFP</td>\n",
       "      <td>ISFP</td>\n",
       "    </tr>\n",
       "    <tr>\n",
       "      <th>1</th>\n",
       "      <td>id02</td>\n",
       "      <td>9.0</td>\n",
       "      <td>서울</td>\n",
       "      <td>70.0</td>\n",
       "      <td>1</td>\n",
       "      <td>NaN</td>\n",
       "      <td>ENFJ</td>\n",
       "      <td>60.339826</td>\n",
       "      <td>INFP</td>\n",
       "      <td>ISFP</td>\n",
       "    </tr>\n",
       "    <tr>\n",
       "      <th>3</th>\n",
       "      <td>id04</td>\n",
       "      <td>75.0</td>\n",
       "      <td>서울</td>\n",
       "      <td>NaN</td>\n",
       "      <td>2</td>\n",
       "      <td>NaN</td>\n",
       "      <td>INFP</td>\n",
       "      <td>52.667078</td>\n",
       "      <td>ENFJ</td>\n",
       "      <td>ENTJ</td>\n",
       "    </tr>\n",
       "    <tr>\n",
       "      <th>4</th>\n",
       "      <td>id05</td>\n",
       "      <td>24.0</td>\n",
       "      <td>서울</td>\n",
       "      <td>85.0</td>\n",
       "      <td>2</td>\n",
       "      <td>NaN</td>\n",
       "      <td>ISFJ</td>\n",
       "      <td>29.269869</td>\n",
       "      <td>ESFP</td>\n",
       "      <td>ESTP</td>\n",
       "    </tr>\n",
       "    <tr>\n",
       "      <th>5</th>\n",
       "      <td>id06</td>\n",
       "      <td>22.0</td>\n",
       "      <td>서울</td>\n",
       "      <td>57.0</td>\n",
       "      <td>0</td>\n",
       "      <td>vip</td>\n",
       "      <td>INTP</td>\n",
       "      <td>20.129444</td>\n",
       "      <td>ENTJ</td>\n",
       "      <td>ESTJ</td>\n",
       "    </tr>\n",
       "    <tr>\n",
       "      <th>...</th>\n",
       "      <td>...</td>\n",
       "      <td>...</td>\n",
       "      <td>...</td>\n",
       "      <td>...</td>\n",
       "      <td>...</td>\n",
       "      <td>...</td>\n",
       "      <td>...</td>\n",
       "      <td>...</td>\n",
       "      <td>...</td>\n",
       "      <td>...</td>\n",
       "    </tr>\n",
       "    <tr>\n",
       "      <th>94</th>\n",
       "      <td>id95</td>\n",
       "      <td>77.0</td>\n",
       "      <td>경기</td>\n",
       "      <td>43.0</td>\n",
       "      <td>1</td>\n",
       "      <td>NaN</td>\n",
       "      <td>INTJ</td>\n",
       "      <td>91.297791</td>\n",
       "      <td>ENFP</td>\n",
       "      <td>ENTP</td>\n",
       "    </tr>\n",
       "    <tr>\n",
       "      <th>96</th>\n",
       "      <td>id97</td>\n",
       "      <td>100.0</td>\n",
       "      <td>경기</td>\n",
       "      <td>NaN</td>\n",
       "      <td>0</td>\n",
       "      <td>NaN</td>\n",
       "      <td>INFP</td>\n",
       "      <td>67.886373</td>\n",
       "      <td>ENFJ</td>\n",
       "      <td>ENTJ</td>\n",
       "    </tr>\n",
       "    <tr>\n",
       "      <th>97</th>\n",
       "      <td>id98</td>\n",
       "      <td>39.0</td>\n",
       "      <td>경기</td>\n",
       "      <td>58.0</td>\n",
       "      <td>2</td>\n",
       "      <td>NaN</td>\n",
       "      <td>INFP</td>\n",
       "      <td>98.429899</td>\n",
       "      <td>ENFJ</td>\n",
       "      <td>ENTJ</td>\n",
       "    </tr>\n",
       "    <tr>\n",
       "      <th>98</th>\n",
       "      <td>id99</td>\n",
       "      <td>1.0</td>\n",
       "      <td>경기</td>\n",
       "      <td>47.0</td>\n",
       "      <td>0</td>\n",
       "      <td>NaN</td>\n",
       "      <td>ESFJ</td>\n",
       "      <td>97.381034</td>\n",
       "      <td>ISFP</td>\n",
       "      <td>ISTP</td>\n",
       "    </tr>\n",
       "    <tr>\n",
       "      <th>99</th>\n",
       "      <td>id100</td>\n",
       "      <td>47.0</td>\n",
       "      <td>경기</td>\n",
       "      <td>53.0</td>\n",
       "      <td>0</td>\n",
       "      <td>vip</td>\n",
       "      <td>ESFP</td>\n",
       "      <td>33.308999</td>\n",
       "      <td>ISFJ</td>\n",
       "      <td>ISTJ</td>\n",
       "    </tr>\n",
       "  </tbody>\n",
       "</table>\n",
       "<p>83 rows × 10 columns</p>\n",
       "</div>"
      ],
      "text/plain": [
       "       id    age city    f1  f2   f3    f4         f5    r1    r2\n",
       "0    id01    2.0   서울   NaN   0  NaN  ENFJ  91.297791  INFP  ISFP\n",
       "1    id02    9.0   서울  70.0   1  NaN  ENFJ  60.339826  INFP  ISFP\n",
       "3    id04   75.0   서울   NaN   2  NaN  INFP  52.667078  ENFJ  ENTJ\n",
       "4    id05   24.0   서울  85.0   2  NaN  ISFJ  29.269869  ESFP  ESTP\n",
       "5    id06   22.0   서울  57.0   0  vip  INTP  20.129444  ENTJ  ESTJ\n",
       "..    ...    ...  ...   ...  ..  ...   ...        ...   ...   ...\n",
       "94   id95   77.0   경기  43.0   1  NaN  INTJ  91.297791  ENFP  ENTP\n",
       "96   id97  100.0   경기   NaN   0  NaN  INFP  67.886373  ENFJ  ENTJ\n",
       "97   id98   39.0   경기  58.0   2  NaN  INFP  98.429899  ENFJ  ENTJ\n",
       "98   id99    1.0   경기  47.0   0  NaN  ESFJ  97.381034  ISFP  ISTP\n",
       "99  id100   47.0   경기  53.0   0  vip  ESFP  33.308999  ISFJ  ISTJ\n",
       "\n",
       "[83 rows x 10 columns]"
      ]
     },
     "execution_count": 445,
     "metadata": {},
     "output_type": "execute_result"
    }
   ],
   "source": [
    "df=df.dropna(subset=['r2'])\n",
    "df"
   ]
  },
  {
   "cell_type": "code",
   "execution_count": 448,
   "metadata": {
    "ExecuteTime": {
     "end_time": "2021-12-03T15:42:52.282409Z",
     "start_time": "2021-12-03T15:42:52.265457Z"
    }
   },
   "outputs": [
    {
     "data": {
      "text/plain": [
       "15"
      ]
     },
     "execution_count": 448,
     "metadata": {},
     "output_type": "execute_result"
    }
   ],
   "source": [
    "df[:20]['f2'].sum()"
   ]
  },
  {
   "cell_type": "markdown",
   "metadata": {},
   "source": [
    "# data binning"
   ]
  },
  {
   "cell_type": "code",
   "execution_count": 449,
   "metadata": {
    "ExecuteTime": {
     "end_time": "2021-12-03T15:44:05.749208Z",
     "start_time": "2021-12-03T15:44:05.738205Z"
    }
   },
   "outputs": [],
   "source": [
    "df=pd.read_csv('./archive/basic1.csv')\n"
   ]
  },
  {
   "cell_type": "code",
   "execution_count": 452,
   "metadata": {
    "ExecuteTime": {
     "end_time": "2021-12-03T15:44:44.908609Z",
     "start_time": "2021-12-03T15:44:44.888657Z"
    }
   },
   "outputs": [
    {
     "name": "stdout",
     "output_type": "stream",
     "text": [
      "<class 'pandas.core.frame.DataFrame'>\n",
      "RangeIndex: 100 entries, 0 to 99\n",
      "Data columns (total 8 columns):\n",
      " #   Column  Non-Null Count  Dtype  \n",
      "---  ------  --------------  -----  \n",
      " 0   id      100 non-null    object \n",
      " 1   age     100 non-null    float64\n",
      " 2   city    100 non-null    object \n",
      " 3   f1      69 non-null     float64\n",
      " 4   f2      100 non-null    int64  \n",
      " 5   f3      5 non-null      object \n",
      " 6   f4      100 non-null    object \n",
      " 7   f5      100 non-null    float64\n",
      "dtypes: float64(3), int64(1), object(4)\n",
      "memory usage: 6.4+ KB\n"
     ]
    }
   ],
   "source": [
    "df.info()"
   ]
  },
  {
   "cell_type": "code",
   "execution_count": 450,
   "metadata": {
    "ExecuteTime": {
     "end_time": "2021-12-03T15:44:15.429437Z",
     "start_time": "2021-12-03T15:44:15.415467Z"
    }
   },
   "outputs": [
    {
     "data": {
      "text/html": [
       "<div>\n",
       "<style scoped>\n",
       "    .dataframe tbody tr th:only-of-type {\n",
       "        vertical-align: middle;\n",
       "    }\n",
       "\n",
       "    .dataframe tbody tr th {\n",
       "        vertical-align: top;\n",
       "    }\n",
       "\n",
       "    .dataframe thead th {\n",
       "        text-align: right;\n",
       "    }\n",
       "</style>\n",
       "<table border=\"1\" class=\"dataframe\">\n",
       "  <thead>\n",
       "    <tr style=\"text-align: right;\">\n",
       "      <th></th>\n",
       "      <th>age</th>\n",
       "      <th>f1</th>\n",
       "      <th>f2</th>\n",
       "      <th>f5</th>\n",
       "    </tr>\n",
       "  </thead>\n",
       "  <tbody>\n",
       "    <tr>\n",
       "      <th>count</th>\n",
       "      <td>100.000000</td>\n",
       "      <td>69.000000</td>\n",
       "      <td>100.000000</td>\n",
       "      <td>100.000000</td>\n",
       "    </tr>\n",
       "    <tr>\n",
       "      <th>mean</th>\n",
       "      <td>50.963000</td>\n",
       "      <td>66.043478</td>\n",
       "      <td>0.650000</td>\n",
       "      <td>56.734537</td>\n",
       "    </tr>\n",
       "    <tr>\n",
       "      <th>std</th>\n",
       "      <td>30.442759</td>\n",
       "      <td>19.453893</td>\n",
       "      <td>0.715979</td>\n",
       "      <td>28.454244</td>\n",
       "    </tr>\n",
       "    <tr>\n",
       "      <th>min</th>\n",
       "      <td>-13.500000</td>\n",
       "      <td>12.000000</td>\n",
       "      <td>0.000000</td>\n",
       "      <td>9.796378</td>\n",
       "    </tr>\n",
       "    <tr>\n",
       "      <th>25%</th>\n",
       "      <td>26.875000</td>\n",
       "      <td>51.000000</td>\n",
       "      <td>0.000000</td>\n",
       "      <td>29.269869</td>\n",
       "    </tr>\n",
       "    <tr>\n",
       "      <th>50%</th>\n",
       "      <td>52.500000</td>\n",
       "      <td>63.000000</td>\n",
       "      <td>1.000000</td>\n",
       "      <td>64.113099</td>\n",
       "    </tr>\n",
       "    <tr>\n",
       "      <th>75%</th>\n",
       "      <td>77.000000</td>\n",
       "      <td>78.000000</td>\n",
       "      <td>1.000000</td>\n",
       "      <td>81.025055</td>\n",
       "    </tr>\n",
       "    <tr>\n",
       "      <th>max</th>\n",
       "      <td>100.000000</td>\n",
       "      <td>111.000000</td>\n",
       "      <td>2.000000</td>\n",
       "      <td>98.429899</td>\n",
       "    </tr>\n",
       "  </tbody>\n",
       "</table>\n",
       "</div>"
      ],
      "text/plain": [
       "              age          f1          f2          f5\n",
       "count  100.000000   69.000000  100.000000  100.000000\n",
       "mean    50.963000   66.043478    0.650000   56.734537\n",
       "std     30.442759   19.453893    0.715979   28.454244\n",
       "min    -13.500000   12.000000    0.000000    9.796378\n",
       "25%     26.875000   51.000000    0.000000   29.269869\n",
       "50%     52.500000   63.000000    1.000000   64.113099\n",
       "75%     77.000000   78.000000    1.000000   81.025055\n",
       "max    100.000000  111.000000    2.000000   98.429899"
      ]
     },
     "execution_count": 450,
     "metadata": {},
     "output_type": "execute_result"
    }
   ],
   "source": [
    "df.describe()"
   ]
  },
  {
   "cell_type": "code",
   "execution_count": 453,
   "metadata": {
    "ExecuteTime": {
     "end_time": "2021-12-03T15:44:59.611353Z",
     "start_time": "2021-12-03T15:44:59.601348Z"
    }
   },
   "outputs": [],
   "source": [
    "df=df[df['age']>0]"
   ]
  },
  {
   "cell_type": "code",
   "execution_count": 458,
   "metadata": {
    "ExecuteTime": {
     "end_time": "2021-12-03T15:46:09.545528Z",
     "start_time": "2021-12-03T15:46:09.529565Z"
    }
   },
   "outputs": [
    {
     "data": {
      "text/html": [
       "<div>\n",
       "<style scoped>\n",
       "    .dataframe tbody tr th:only-of-type {\n",
       "        vertical-align: middle;\n",
       "    }\n",
       "\n",
       "    .dataframe tbody tr th {\n",
       "        vertical-align: top;\n",
       "    }\n",
       "\n",
       "    .dataframe thead th {\n",
       "        text-align: right;\n",
       "    }\n",
       "</style>\n",
       "<table border=\"1\" class=\"dataframe\">\n",
       "  <thead>\n",
       "    <tr style=\"text-align: right;\">\n",
       "      <th></th>\n",
       "      <th>age</th>\n",
       "      <th>f1</th>\n",
       "      <th>f2</th>\n",
       "      <th>f5</th>\n",
       "    </tr>\n",
       "  </thead>\n",
       "  <tbody>\n",
       "    <tr>\n",
       "      <th>count</th>\n",
       "      <td>96.000000</td>\n",
       "      <td>65.000000</td>\n",
       "      <td>96.000000</td>\n",
       "      <td>96.000000</td>\n",
       "    </tr>\n",
       "    <tr>\n",
       "      <th>mean</th>\n",
       "      <td>53.386458</td>\n",
       "      <td>65.261538</td>\n",
       "      <td>0.614583</td>\n",
       "      <td>56.991250</td>\n",
       "    </tr>\n",
       "    <tr>\n",
       "      <th>std</th>\n",
       "      <td>28.572761</td>\n",
       "      <td>19.058526</td>\n",
       "      <td>0.701424</td>\n",
       "      <td>28.908170</td>\n",
       "    </tr>\n",
       "    <tr>\n",
       "      <th>min</th>\n",
       "      <td>1.000000</td>\n",
       "      <td>12.000000</td>\n",
       "      <td>0.000000</td>\n",
       "      <td>9.796378</td>\n",
       "    </tr>\n",
       "    <tr>\n",
       "      <th>25%</th>\n",
       "      <td>33.000000</td>\n",
       "      <td>51.000000</td>\n",
       "      <td>0.000000</td>\n",
       "      <td>29.269869</td>\n",
       "    </tr>\n",
       "    <tr>\n",
       "      <th>50%</th>\n",
       "      <td>53.500000</td>\n",
       "      <td>62.000000</td>\n",
       "      <td>0.000000</td>\n",
       "      <td>67.886373</td>\n",
       "    </tr>\n",
       "    <tr>\n",
       "      <th>75%</th>\n",
       "      <td>77.000000</td>\n",
       "      <td>78.000000</td>\n",
       "      <td>1.000000</td>\n",
       "      <td>83.685380</td>\n",
       "    </tr>\n",
       "    <tr>\n",
       "      <th>max</th>\n",
       "      <td>100.000000</td>\n",
       "      <td>111.000000</td>\n",
       "      <td>2.000000</td>\n",
       "      <td>98.429899</td>\n",
       "    </tr>\n",
       "  </tbody>\n",
       "</table>\n",
       "</div>"
      ],
      "text/plain": [
       "              age          f1         f2         f5\n",
       "count   96.000000   65.000000  96.000000  96.000000\n",
       "mean    53.386458   65.261538   0.614583  56.991250\n",
       "std     28.572761   19.058526   0.701424  28.908170\n",
       "min      1.000000   12.000000   0.000000   9.796378\n",
       "25%     33.000000   51.000000   0.000000  29.269869\n",
       "50%     53.500000   62.000000   0.000000  67.886373\n",
       "75%     77.000000   78.000000   1.000000  83.685380\n",
       "max    100.000000  111.000000   2.000000  98.429899"
      ]
     },
     "execution_count": 458,
     "metadata": {},
     "output_type": "execute_result"
    }
   ],
   "source": [
    "df.describe()"
   ]
  },
  {
   "cell_type": "code",
   "execution_count": 459,
   "metadata": {
    "ExecuteTime": {
     "end_time": "2021-12-03T15:46:33.654355Z",
     "start_time": "2021-12-03T15:46:33.641389Z"
    }
   },
   "outputs": [
    {
     "data": {
      "text/html": [
       "<div>\n",
       "<style scoped>\n",
       "    .dataframe tbody tr th:only-of-type {\n",
       "        vertical-align: middle;\n",
       "    }\n",
       "\n",
       "    .dataframe tbody tr th {\n",
       "        vertical-align: top;\n",
       "    }\n",
       "\n",
       "    .dataframe thead th {\n",
       "        text-align: right;\n",
       "    }\n",
       "</style>\n",
       "<table border=\"1\" class=\"dataframe\">\n",
       "  <thead>\n",
       "    <tr style=\"text-align: right;\">\n",
       "      <th></th>\n",
       "      <th>id</th>\n",
       "      <th>age</th>\n",
       "      <th>city</th>\n",
       "      <th>f1</th>\n",
       "      <th>f2</th>\n",
       "      <th>f3</th>\n",
       "      <th>f4</th>\n",
       "      <th>f5</th>\n",
       "    </tr>\n",
       "  </thead>\n",
       "  <tbody>\n",
       "    <tr>\n",
       "      <th>0</th>\n",
       "      <td>id01</td>\n",
       "      <td>2.0</td>\n",
       "      <td>서울</td>\n",
       "      <td>NaN</td>\n",
       "      <td>0</td>\n",
       "      <td>NaN</td>\n",
       "      <td>ENFJ</td>\n",
       "      <td>91.297791</td>\n",
       "    </tr>\n",
       "    <tr>\n",
       "      <th>1</th>\n",
       "      <td>id02</td>\n",
       "      <td>9.0</td>\n",
       "      <td>서울</td>\n",
       "      <td>70.0</td>\n",
       "      <td>1</td>\n",
       "      <td>NaN</td>\n",
       "      <td>ENFJ</td>\n",
       "      <td>60.339826</td>\n",
       "    </tr>\n",
       "    <tr>\n",
       "      <th>2</th>\n",
       "      <td>id03</td>\n",
       "      <td>27.0</td>\n",
       "      <td>서울</td>\n",
       "      <td>61.0</td>\n",
       "      <td>1</td>\n",
       "      <td>NaN</td>\n",
       "      <td>ISTJ</td>\n",
       "      <td>17.252986</td>\n",
       "    </tr>\n",
       "    <tr>\n",
       "      <th>3</th>\n",
       "      <td>id04</td>\n",
       "      <td>75.0</td>\n",
       "      <td>서울</td>\n",
       "      <td>NaN</td>\n",
       "      <td>2</td>\n",
       "      <td>NaN</td>\n",
       "      <td>INFP</td>\n",
       "      <td>52.667078</td>\n",
       "    </tr>\n",
       "    <tr>\n",
       "      <th>4</th>\n",
       "      <td>id05</td>\n",
       "      <td>24.0</td>\n",
       "      <td>서울</td>\n",
       "      <td>85.0</td>\n",
       "      <td>2</td>\n",
       "      <td>NaN</td>\n",
       "      <td>ISFJ</td>\n",
       "      <td>29.269869</td>\n",
       "    </tr>\n",
       "  </tbody>\n",
       "</table>\n",
       "</div>"
      ],
      "text/plain": [
       "     id   age city    f1  f2   f3    f4         f5\n",
       "0  id01   2.0   서울   NaN   0  NaN  ENFJ  91.297791\n",
       "1  id02   9.0   서울  70.0   1  NaN  ENFJ  60.339826\n",
       "2  id03  27.0   서울  61.0   1  NaN  ISTJ  17.252986\n",
       "3  id04  75.0   서울   NaN   2  NaN  INFP  52.667078\n",
       "4  id05  24.0   서울  85.0   2  NaN  ISFJ  29.269869"
      ]
     },
     "execution_count": 459,
     "metadata": {},
     "output_type": "execute_result"
    }
   ],
   "source": [
    "df.head()"
   ]
  },
  {
   "cell_type": "code",
   "execution_count": 460,
   "metadata": {
    "ExecuteTime": {
     "end_time": "2021-12-03T15:47:28.114808Z",
     "start_time": "2021-12-03T15:47:28.097885Z"
    }
   },
   "outputs": [
    {
     "data": {
      "text/html": [
       "<div>\n",
       "<style scoped>\n",
       "    .dataframe tbody tr th:only-of-type {\n",
       "        vertical-align: middle;\n",
       "    }\n",
       "\n",
       "    .dataframe tbody tr th {\n",
       "        vertical-align: top;\n",
       "    }\n",
       "\n",
       "    .dataframe thead th {\n",
       "        text-align: right;\n",
       "    }\n",
       "</style>\n",
       "<table border=\"1\" class=\"dataframe\">\n",
       "  <thead>\n",
       "    <tr style=\"text-align: right;\">\n",
       "      <th></th>\n",
       "      <th>age</th>\n",
       "      <th>f1</th>\n",
       "      <th>f2</th>\n",
       "      <th>f5</th>\n",
       "    </tr>\n",
       "  </thead>\n",
       "  <tbody>\n",
       "    <tr>\n",
       "      <th>count</th>\n",
       "      <td>90.000000</td>\n",
       "      <td>60.000000</td>\n",
       "      <td>90.000000</td>\n",
       "      <td>90.000000</td>\n",
       "    </tr>\n",
       "    <tr>\n",
       "      <th>mean</th>\n",
       "      <td>54.655556</td>\n",
       "      <td>66.000000</td>\n",
       "      <td>0.611111</td>\n",
       "      <td>56.762125</td>\n",
       "    </tr>\n",
       "    <tr>\n",
       "      <th>std</th>\n",
       "      <td>28.368823</td>\n",
       "      <td>19.311014</td>\n",
       "      <td>0.698223</td>\n",
       "      <td>28.534987</td>\n",
       "    </tr>\n",
       "    <tr>\n",
       "      <th>min</th>\n",
       "      <td>1.000000</td>\n",
       "      <td>12.000000</td>\n",
       "      <td>0.000000</td>\n",
       "      <td>9.796378</td>\n",
       "    </tr>\n",
       "    <tr>\n",
       "      <th>25%</th>\n",
       "      <td>34.000000</td>\n",
       "      <td>50.750000</td>\n",
       "      <td>0.000000</td>\n",
       "      <td>29.269869</td>\n",
       "    </tr>\n",
       "    <tr>\n",
       "      <th>50%</th>\n",
       "      <td>55.500000</td>\n",
       "      <td>63.500000</td>\n",
       "      <td>0.000000</td>\n",
       "      <td>64.113099</td>\n",
       "    </tr>\n",
       "    <tr>\n",
       "      <th>75%</th>\n",
       "      <td>77.000000</td>\n",
       "      <td>79.000000</td>\n",
       "      <td>1.000000</td>\n",
       "      <td>82.798605</td>\n",
       "    </tr>\n",
       "    <tr>\n",
       "      <th>max</th>\n",
       "      <td>100.000000</td>\n",
       "      <td>111.000000</td>\n",
       "      <td>2.000000</td>\n",
       "      <td>98.429899</td>\n",
       "    </tr>\n",
       "  </tbody>\n",
       "</table>\n",
       "</div>"
      ],
      "text/plain": [
       "              age          f1         f2         f5\n",
       "count   90.000000   60.000000  90.000000  90.000000\n",
       "mean    54.655556   66.000000   0.611111  56.762125\n",
       "std     28.368823   19.311014   0.698223  28.534987\n",
       "min      1.000000   12.000000   0.000000   9.796378\n",
       "25%     34.000000   50.750000   0.000000  29.269869\n",
       "50%     55.500000   63.500000   0.000000  64.113099\n",
       "75%     77.000000   79.000000   1.000000  82.798605\n",
       "max    100.000000  111.000000   2.000000  98.429899"
      ]
     },
     "execution_count": 460,
     "metadata": {},
     "output_type": "execute_result"
    }
   ],
   "source": [
    "df = df[(df['age'] == round(df['age'],0))]\n",
    "df.describe()"
   ]
  },
  {
   "cell_type": "code",
   "execution_count": 461,
   "metadata": {
    "ExecuteTime": {
     "end_time": "2021-12-03T15:47:34.056999Z",
     "start_time": "2021-12-03T15:47:34.041038Z"
    }
   },
   "outputs": [
    {
     "data": {
      "text/plain": [
       "0      (0.999, 38.667]\n",
       "1      (0.999, 38.667]\n",
       "2      (0.999, 38.667]\n",
       "3      (73.333, 100.0]\n",
       "4      (0.999, 38.667]\n",
       "            ...       \n",
       "95     (73.333, 100.0]\n",
       "96     (73.333, 100.0]\n",
       "97    (38.667, 73.333]\n",
       "98     (0.999, 38.667]\n",
       "99    (38.667, 73.333]\n",
       "Name: age, Length: 90, dtype: category\n",
       "Categories (3, interval[float64]): [(0.999, 38.667] < (38.667, 73.333] < (73.333, 100.0]]"
      ]
     },
     "execution_count": 461,
     "metadata": {},
     "output_type": "execute_result"
    }
   ],
   "source": [
    "pd.qcut(df['age'], q=3)"
   ]
  },
  {
   "cell_type": "code",
   "execution_count": 462,
   "metadata": {
    "ExecuteTime": {
     "end_time": "2021-12-03T15:47:46.546580Z",
     "start_time": "2021-12-03T15:47:46.528574Z"
    }
   },
   "outputs": [
    {
     "name": "stderr",
     "output_type": "stream",
     "text": [
      "<ipython-input-462-5730e8a4631f>:1: SettingWithCopyWarning: \n",
      "A value is trying to be set on a copy of a slice from a DataFrame.\n",
      "Try using .loc[row_indexer,col_indexer] = value instead\n",
      "\n",
      "See the caveats in the documentation: https://pandas.pydata.org/pandas-docs/stable/user_guide/indexing.html#returning-a-view-versus-a-copy\n",
      "  df['range'] = pd.qcut(df['age'], q=3, labels=['group1','group2','group3'])\n"
     ]
    },
    {
     "data": {
      "text/html": [
       "<div>\n",
       "<style scoped>\n",
       "    .dataframe tbody tr th:only-of-type {\n",
       "        vertical-align: middle;\n",
       "    }\n",
       "\n",
       "    .dataframe tbody tr th {\n",
       "        vertical-align: top;\n",
       "    }\n",
       "\n",
       "    .dataframe thead th {\n",
       "        text-align: right;\n",
       "    }\n",
       "</style>\n",
       "<table border=\"1\" class=\"dataframe\">\n",
       "  <thead>\n",
       "    <tr style=\"text-align: right;\">\n",
       "      <th></th>\n",
       "      <th>id</th>\n",
       "      <th>age</th>\n",
       "      <th>city</th>\n",
       "      <th>f1</th>\n",
       "      <th>f2</th>\n",
       "      <th>f3</th>\n",
       "      <th>f4</th>\n",
       "      <th>f5</th>\n",
       "      <th>range</th>\n",
       "    </tr>\n",
       "  </thead>\n",
       "  <tbody>\n",
       "    <tr>\n",
       "      <th>0</th>\n",
       "      <td>id01</td>\n",
       "      <td>2.0</td>\n",
       "      <td>서울</td>\n",
       "      <td>NaN</td>\n",
       "      <td>0</td>\n",
       "      <td>NaN</td>\n",
       "      <td>ENFJ</td>\n",
       "      <td>91.297791</td>\n",
       "      <td>group1</td>\n",
       "    </tr>\n",
       "    <tr>\n",
       "      <th>1</th>\n",
       "      <td>id02</td>\n",
       "      <td>9.0</td>\n",
       "      <td>서울</td>\n",
       "      <td>70.0</td>\n",
       "      <td>1</td>\n",
       "      <td>NaN</td>\n",
       "      <td>ENFJ</td>\n",
       "      <td>60.339826</td>\n",
       "      <td>group1</td>\n",
       "    </tr>\n",
       "    <tr>\n",
       "      <th>2</th>\n",
       "      <td>id03</td>\n",
       "      <td>27.0</td>\n",
       "      <td>서울</td>\n",
       "      <td>61.0</td>\n",
       "      <td>1</td>\n",
       "      <td>NaN</td>\n",
       "      <td>ISTJ</td>\n",
       "      <td>17.252986</td>\n",
       "      <td>group1</td>\n",
       "    </tr>\n",
       "    <tr>\n",
       "      <th>3</th>\n",
       "      <td>id04</td>\n",
       "      <td>75.0</td>\n",
       "      <td>서울</td>\n",
       "      <td>NaN</td>\n",
       "      <td>2</td>\n",
       "      <td>NaN</td>\n",
       "      <td>INFP</td>\n",
       "      <td>52.667078</td>\n",
       "      <td>group3</td>\n",
       "    </tr>\n",
       "    <tr>\n",
       "      <th>4</th>\n",
       "      <td>id05</td>\n",
       "      <td>24.0</td>\n",
       "      <td>서울</td>\n",
       "      <td>85.0</td>\n",
       "      <td>2</td>\n",
       "      <td>NaN</td>\n",
       "      <td>ISFJ</td>\n",
       "      <td>29.269869</td>\n",
       "      <td>group1</td>\n",
       "    </tr>\n",
       "    <tr>\n",
       "      <th>...</th>\n",
       "      <td>...</td>\n",
       "      <td>...</td>\n",
       "      <td>...</td>\n",
       "      <td>...</td>\n",
       "      <td>...</td>\n",
       "      <td>...</td>\n",
       "      <td>...</td>\n",
       "      <td>...</td>\n",
       "      <td>...</td>\n",
       "    </tr>\n",
       "    <tr>\n",
       "      <th>95</th>\n",
       "      <td>id96</td>\n",
       "      <td>92.0</td>\n",
       "      <td>경기</td>\n",
       "      <td>53.0</td>\n",
       "      <td>1</td>\n",
       "      <td>NaN</td>\n",
       "      <td>ENTJ</td>\n",
       "      <td>52.667078</td>\n",
       "      <td>group3</td>\n",
       "    </tr>\n",
       "    <tr>\n",
       "      <th>96</th>\n",
       "      <td>id97</td>\n",
       "      <td>100.0</td>\n",
       "      <td>경기</td>\n",
       "      <td>NaN</td>\n",
       "      <td>0</td>\n",
       "      <td>NaN</td>\n",
       "      <td>INFP</td>\n",
       "      <td>67.886373</td>\n",
       "      <td>group3</td>\n",
       "    </tr>\n",
       "    <tr>\n",
       "      <th>97</th>\n",
       "      <td>id98</td>\n",
       "      <td>39.0</td>\n",
       "      <td>경기</td>\n",
       "      <td>58.0</td>\n",
       "      <td>2</td>\n",
       "      <td>NaN</td>\n",
       "      <td>INFP</td>\n",
       "      <td>98.429899</td>\n",
       "      <td>group2</td>\n",
       "    </tr>\n",
       "    <tr>\n",
       "      <th>98</th>\n",
       "      <td>id99</td>\n",
       "      <td>1.0</td>\n",
       "      <td>경기</td>\n",
       "      <td>47.0</td>\n",
       "      <td>0</td>\n",
       "      <td>NaN</td>\n",
       "      <td>ESFJ</td>\n",
       "      <td>97.381034</td>\n",
       "      <td>group1</td>\n",
       "    </tr>\n",
       "    <tr>\n",
       "      <th>99</th>\n",
       "      <td>id100</td>\n",
       "      <td>47.0</td>\n",
       "      <td>경기</td>\n",
       "      <td>53.0</td>\n",
       "      <td>0</td>\n",
       "      <td>vip</td>\n",
       "      <td>ESFP</td>\n",
       "      <td>33.308999</td>\n",
       "      <td>group2</td>\n",
       "    </tr>\n",
       "  </tbody>\n",
       "</table>\n",
       "<p>90 rows × 9 columns</p>\n",
       "</div>"
      ],
      "text/plain": [
       "       id    age city    f1  f2   f3    f4         f5   range\n",
       "0    id01    2.0   서울   NaN   0  NaN  ENFJ  91.297791  group1\n",
       "1    id02    9.0   서울  70.0   1  NaN  ENFJ  60.339826  group1\n",
       "2    id03   27.0   서울  61.0   1  NaN  ISTJ  17.252986  group1\n",
       "3    id04   75.0   서울   NaN   2  NaN  INFP  52.667078  group3\n",
       "4    id05   24.0   서울  85.0   2  NaN  ISFJ  29.269869  group1\n",
       "..    ...    ...  ...   ...  ..  ...   ...        ...     ...\n",
       "95   id96   92.0   경기  53.0   1  NaN  ENTJ  52.667078  group3\n",
       "96   id97  100.0   경기   NaN   0  NaN  INFP  67.886373  group3\n",
       "97   id98   39.0   경기  58.0   2  NaN  INFP  98.429899  group2\n",
       "98   id99    1.0   경기  47.0   0  NaN  ESFJ  97.381034  group1\n",
       "99  id100   47.0   경기  53.0   0  vip  ESFP  33.308999  group2\n",
       "\n",
       "[90 rows x 9 columns]"
      ]
     },
     "execution_count": 462,
     "metadata": {},
     "output_type": "execute_result"
    }
   ],
   "source": [
    "df['range'] = pd.qcut(df['age'], q=3, labels=['group1','group2','group3'])\n",
    "df"
   ]
  },
  {
   "cell_type": "markdown",
   "metadata": {},
   "source": [
    "# 주단위 Sales 합계"
   ]
  },
  {
   "cell_type": "code",
   "execution_count": 463,
   "metadata": {
    "ExecuteTime": {
     "end_time": "2021-12-03T15:48:38.220904Z",
     "start_time": "2021-12-03T15:48:38.208904Z"
    }
   },
   "outputs": [],
   "source": [
    "df=pd.read_csv('./archive/basic2.csv')\n"
   ]
  },
  {
   "cell_type": "code",
   "execution_count": 464,
   "metadata": {
    "ExecuteTime": {
     "end_time": "2021-12-03T15:49:25.052487Z",
     "start_time": "2021-12-03T15:49:25.042514Z"
    }
   },
   "outputs": [],
   "source": [
    "df['Date']=pd.to_datetime(df['Date'])"
   ]
  },
  {
   "cell_type": "code",
   "execution_count": 465,
   "metadata": {
    "ExecuteTime": {
     "end_time": "2021-12-03T15:49:34.127005Z",
     "start_time": "2021-12-03T15:49:34.104035Z"
    }
   },
   "outputs": [
    {
     "data": {
      "text/html": [
       "<div>\n",
       "<style scoped>\n",
       "    .dataframe tbody tr th:only-of-type {\n",
       "        vertical-align: middle;\n",
       "    }\n",
       "\n",
       "    .dataframe tbody tr th {\n",
       "        vertical-align: top;\n",
       "    }\n",
       "\n",
       "    .dataframe thead th {\n",
       "        text-align: right;\n",
       "    }\n",
       "</style>\n",
       "<table border=\"1\" class=\"dataframe\">\n",
       "  <thead>\n",
       "    <tr style=\"text-align: right;\">\n",
       "      <th></th>\n",
       "      <th>Sales</th>\n",
       "      <th>PV</th>\n",
       "      <th>UV</th>\n",
       "      <th>Events</th>\n",
       "    </tr>\n",
       "    <tr>\n",
       "      <th>Date</th>\n",
       "      <th></th>\n",
       "      <th></th>\n",
       "      <th></th>\n",
       "      <th></th>\n",
       "    </tr>\n",
       "  </thead>\n",
       "  <tbody>\n",
       "    <tr>\n",
       "      <th>2022-01-01</th>\n",
       "      <td>22711525</td>\n",
       "      <td>397349</td>\n",
       "      <td>4421.0</td>\n",
       "      <td>1</td>\n",
       "    </tr>\n",
       "    <tr>\n",
       "      <th>2022-01-02</th>\n",
       "      <td>36779</td>\n",
       "      <td>3969</td>\n",
       "      <td>2289.0</td>\n",
       "      <td>0</td>\n",
       "    </tr>\n",
       "    <tr>\n",
       "      <th>2022-01-03</th>\n",
       "      <td>13943875</td>\n",
       "      <td>373890</td>\n",
       "      <td>NaN</td>\n",
       "      <td>1</td>\n",
       "    </tr>\n",
       "    <tr>\n",
       "      <th>2022-01-04</th>\n",
       "      <td>8088593</td>\n",
       "      <td>142054</td>\n",
       "      <td>2157.0</td>\n",
       "      <td>0</td>\n",
       "    </tr>\n",
       "    <tr>\n",
       "      <th>2022-01-05</th>\n",
       "      <td>2395374</td>\n",
       "      <td>190684</td>\n",
       "      <td>NaN</td>\n",
       "      <td>0</td>\n",
       "    </tr>\n",
       "    <tr>\n",
       "      <th>...</th>\n",
       "      <td>...</td>\n",
       "      <td>...</td>\n",
       "      <td>...</td>\n",
       "      <td>...</td>\n",
       "    </tr>\n",
       "    <tr>\n",
       "      <th>2023-12-27</th>\n",
       "      <td>33846609</td>\n",
       "      <td>415067</td>\n",
       "      <td>7360.0</td>\n",
       "      <td>1</td>\n",
       "    </tr>\n",
       "    <tr>\n",
       "      <th>2023-12-28</th>\n",
       "      <td>3659566</td>\n",
       "      <td>208601</td>\n",
       "      <td>2262.0</td>\n",
       "      <td>1</td>\n",
       "    </tr>\n",
       "    <tr>\n",
       "      <th>2023-12-29</th>\n",
       "      <td>1164008</td>\n",
       "      <td>14309</td>\n",
       "      <td>193.0</td>\n",
       "      <td>0</td>\n",
       "    </tr>\n",
       "    <tr>\n",
       "      <th>2023-12-30</th>\n",
       "      <td>3977696</td>\n",
       "      <td>60935</td>\n",
       "      <td>NaN</td>\n",
       "      <td>0</td>\n",
       "    </tr>\n",
       "    <tr>\n",
       "      <th>2023-12-31</th>\n",
       "      <td>3719764</td>\n",
       "      <td>60963</td>\n",
       "      <td>1507.0</td>\n",
       "      <td>0</td>\n",
       "    </tr>\n",
       "  </tbody>\n",
       "</table>\n",
       "<p>730 rows × 4 columns</p>\n",
       "</div>"
      ],
      "text/plain": [
       "               Sales      PV      UV  Events\n",
       "Date                                        \n",
       "2022-01-01  22711525  397349  4421.0       1\n",
       "2022-01-02     36779    3969  2289.0       0\n",
       "2022-01-03  13943875  373890     NaN       1\n",
       "2022-01-04   8088593  142054  2157.0       0\n",
       "2022-01-05   2395374  190684     NaN       0\n",
       "...              ...     ...     ...     ...\n",
       "2023-12-27  33846609  415067  7360.0       1\n",
       "2023-12-28   3659566  208601  2262.0       1\n",
       "2023-12-29   1164008   14309   193.0       0\n",
       "2023-12-30   3977696   60935     NaN       0\n",
       "2023-12-31   3719764   60963  1507.0       0\n",
       "\n",
       "[730 rows x 4 columns]"
      ]
     },
     "execution_count": 465,
     "metadata": {},
     "output_type": "execute_result"
    }
   ],
   "source": [
    "df=df.set_index(\"Date\")\n",
    "df"
   ]
  },
  {
   "cell_type": "code",
   "execution_count": 470,
   "metadata": {
    "ExecuteTime": {
     "end_time": "2021-12-03T15:50:13.606988Z",
     "start_time": "2021-12-03T15:50:13.594024Z"
    }
   },
   "outputs": [],
   "source": [
    "df_w=df.resample(\"W\").sum()"
   ]
  },
  {
   "cell_type": "code",
   "execution_count": 471,
   "metadata": {
    "ExecuteTime": {
     "end_time": "2021-12-03T15:50:14.011606Z",
     "start_time": "2021-12-03T15:50:13.988639Z"
    }
   },
   "outputs": [
    {
     "data": {
      "text/html": [
       "<div>\n",
       "<style scoped>\n",
       "    .dataframe tbody tr th:only-of-type {\n",
       "        vertical-align: middle;\n",
       "    }\n",
       "\n",
       "    .dataframe tbody tr th {\n",
       "        vertical-align: top;\n",
       "    }\n",
       "\n",
       "    .dataframe thead th {\n",
       "        text-align: right;\n",
       "    }\n",
       "</style>\n",
       "<table border=\"1\" class=\"dataframe\">\n",
       "  <thead>\n",
       "    <tr style=\"text-align: right;\">\n",
       "      <th></th>\n",
       "      <th>Sales</th>\n",
       "      <th>PV</th>\n",
       "      <th>UV</th>\n",
       "      <th>Events</th>\n",
       "    </tr>\n",
       "    <tr>\n",
       "      <th>Date</th>\n",
       "      <th></th>\n",
       "      <th></th>\n",
       "      <th></th>\n",
       "      <th></th>\n",
       "    </tr>\n",
       "  </thead>\n",
       "  <tbody>\n",
       "    <tr>\n",
       "      <th>2022-01-02</th>\n",
       "      <td>22748304</td>\n",
       "      <td>401318</td>\n",
       "      <td>6710.0</td>\n",
       "      <td>1</td>\n",
       "    </tr>\n",
       "    <tr>\n",
       "      <th>2022-01-09</th>\n",
       "      <td>33373822</td>\n",
       "      <td>1148464</td>\n",
       "      <td>15189.0</td>\n",
       "      <td>2</td>\n",
       "    </tr>\n",
       "    <tr>\n",
       "      <th>2022-01-16</th>\n",
       "      <td>20754519</td>\n",
       "      <td>283773</td>\n",
       "      <td>9344.0</td>\n",
       "      <td>0</td>\n",
       "    </tr>\n",
       "    <tr>\n",
       "      <th>2022-01-23</th>\n",
       "      <td>21880751</td>\n",
       "      <td>538633</td>\n",
       "      <td>9841.0</td>\n",
       "      <td>1</td>\n",
       "    </tr>\n",
       "    <tr>\n",
       "      <th>2022-01-30</th>\n",
       "      <td>28878452</td>\n",
       "      <td>560814</td>\n",
       "      <td>7808.0</td>\n",
       "      <td>1</td>\n",
       "    </tr>\n",
       "    <tr>\n",
       "      <th>...</th>\n",
       "      <td>...</td>\n",
       "      <td>...</td>\n",
       "      <td>...</td>\n",
       "      <td>...</td>\n",
       "    </tr>\n",
       "    <tr>\n",
       "      <th>2023-12-03</th>\n",
       "      <td>47120909</td>\n",
       "      <td>884734</td>\n",
       "      <td>12086.0</td>\n",
       "      <td>2</td>\n",
       "    </tr>\n",
       "    <tr>\n",
       "      <th>2023-12-10</th>\n",
       "      <td>46398053</td>\n",
       "      <td>975024</td>\n",
       "      <td>21872.0</td>\n",
       "      <td>3</td>\n",
       "    </tr>\n",
       "    <tr>\n",
       "      <th>2023-12-17</th>\n",
       "      <td>20763518</td>\n",
       "      <td>291261</td>\n",
       "      <td>17221.0</td>\n",
       "      <td>0</td>\n",
       "    </tr>\n",
       "    <tr>\n",
       "      <th>2023-12-24</th>\n",
       "      <td>34528035</td>\n",
       "      <td>901451</td>\n",
       "      <td>11732.0</td>\n",
       "      <td>2</td>\n",
       "    </tr>\n",
       "    <tr>\n",
       "      <th>2023-12-31</th>\n",
       "      <td>51435189</td>\n",
       "      <td>813019</td>\n",
       "      <td>12168.0</td>\n",
       "      <td>2</td>\n",
       "    </tr>\n",
       "  </tbody>\n",
       "</table>\n",
       "<p>105 rows × 4 columns</p>\n",
       "</div>"
      ],
      "text/plain": [
       "               Sales       PV       UV  Events\n",
       "Date                                          \n",
       "2022-01-02  22748304   401318   6710.0       1\n",
       "2022-01-09  33373822  1148464  15189.0       2\n",
       "2022-01-16  20754519   283773   9344.0       0\n",
       "2022-01-23  21880751   538633   9841.0       1\n",
       "2022-01-30  28878452   560814   7808.0       1\n",
       "...              ...      ...      ...     ...\n",
       "2023-12-03  47120909   884734  12086.0       2\n",
       "2023-12-10  46398053   975024  21872.0       3\n",
       "2023-12-17  20763518   291261  17221.0       0\n",
       "2023-12-24  34528035   901451  11732.0       2\n",
       "2023-12-31  51435189   813019  12168.0       2\n",
       "\n",
       "[105 rows x 4 columns]"
      ]
     },
     "execution_count": 471,
     "metadata": {},
     "output_type": "execute_result"
    }
   ],
   "source": [
    "df_w"
   ]
  },
  {
   "cell_type": "code",
   "execution_count": 472,
   "metadata": {
    "ExecuteTime": {
     "end_time": "2021-12-03T15:50:35.126687Z",
     "start_time": "2021-12-03T15:50:35.111752Z"
    }
   },
   "outputs": [
    {
     "data": {
      "text/plain": [
       "99165648"
      ]
     },
     "execution_count": 472,
     "metadata": {},
     "output_type": "execute_result"
    }
   ],
   "source": [
    "ma = df_w['Sales'].max()\n",
    "ma"
   ]
  },
  {
   "cell_type": "code",
   "execution_count": 473,
   "metadata": {
    "ExecuteTime": {
     "end_time": "2021-12-03T15:50:39.195569Z",
     "start_time": "2021-12-03T15:50:39.192579Z"
    }
   },
   "outputs": [
    {
     "data": {
      "text/plain": [
       "7526598"
      ]
     },
     "execution_count": 473,
     "metadata": {},
     "output_type": "execute_result"
    }
   ],
   "source": [
    "mi = df_w['Sales'].min()\n",
    "mi"
   ]
  },
  {
   "cell_type": "markdown",
   "metadata": {},
   "source": [
    "# 중복 데이터 제거"
   ]
  },
  {
   "cell_type": "code",
   "execution_count": 475,
   "metadata": {
    "ExecuteTime": {
     "end_time": "2021-12-03T15:51:40.021239Z",
     "start_time": "2021-12-03T15:51:40.017263Z"
    }
   },
   "outputs": [],
   "source": [
    "# 결측치는 f1의 데이터 중 내림차순 정렬 후 10번째 값으로 채움\n",
    "# - 중복 데이터 발생시 뒤에 나오는 데이터를 삭제함\n",
    "# - 최종 결과값은 절대값으로 출력¶"
   ]
  },
  {
   "cell_type": "code",
   "execution_count": 474,
   "metadata": {
    "ExecuteTime": {
     "end_time": "2021-12-03T15:51:16.103727Z",
     "start_time": "2021-12-03T15:51:16.096714Z"
    }
   },
   "outputs": [],
   "source": [
    "df=pd.read_csv('./archive/basic1.csv')\n"
   ]
  },
  {
   "cell_type": "code",
   "execution_count": 476,
   "metadata": {
    "ExecuteTime": {
     "end_time": "2021-12-03T15:51:44.652897Z",
     "start_time": "2021-12-03T15:51:44.640882Z"
    }
   },
   "outputs": [
    {
     "name": "stdout",
     "output_type": "stream",
     "text": [
      "88.0\n"
     ]
    }
   ],
   "source": [
    "top10 = df['f1'].sort_values(ascending=False).iloc[9]\n",
    "print(top10)\n",
    "df['f1'] = df['f1'].fillna(top10)"
   ]
  },
  {
   "cell_type": "code",
   "execution_count": 478,
   "metadata": {
    "ExecuteTime": {
     "end_time": "2021-12-03T15:52:33.210772Z",
     "start_time": "2021-12-03T15:52:33.193786Z"
    }
   },
   "outputs": [
    {
     "data": {
      "text/plain": [
       "age    43.000000\n",
       "f1     77.000000\n",
       "f2      0.000000\n",
       "f5     67.886373\n",
       "dtype: float64"
      ]
     },
     "execution_count": 478,
     "metadata": {},
     "output_type": "execute_result"
    }
   ],
   "source": [
    "df.drop_duplicates('age').median()"
   ]
  },
  {
   "cell_type": "markdown",
   "metadata": {},
   "source": [
    "# 시계열 시차 데이터 생성"
   ]
  },
  {
   "cell_type": "code",
   "execution_count": 482,
   "metadata": {
    "ExecuteTime": {
     "end_time": "2021-12-03T15:53:32.951809Z",
     "start_time": "2021-12-03T15:53:32.937847Z"
    }
   },
   "outputs": [],
   "source": [
    "# 주어진 데이터(basic2.csv)에서 새로운 컬럼(1일 이전 시차 컬럼)을 만들고,\n",
    "# Events가 1이면서 Sales가 1000000이하인 조건에 맞는 새로운 컬럼 합을 구하시오"
   ]
  },
  {
   "cell_type": "code",
   "execution_count": 490,
   "metadata": {
    "ExecuteTime": {
     "end_time": "2021-12-03T15:56:13.481872Z",
     "start_time": "2021-12-03T15:56:13.464877Z"
    }
   },
   "outputs": [],
   "source": [
    "df=pd.read_csv('./archive/basic2.csv')\n"
   ]
  },
  {
   "cell_type": "code",
   "execution_count": 491,
   "metadata": {
    "ExecuteTime": {
     "end_time": "2021-12-03T15:56:13.719115Z",
     "start_time": "2021-12-03T15:56:13.703965Z"
    }
   },
   "outputs": [
    {
     "name": "stdout",
     "output_type": "stream",
     "text": [
      "<class 'pandas.core.frame.DataFrame'>\n",
      "RangeIndex: 730 entries, 0 to 729\n",
      "Data columns (total 5 columns):\n",
      " #   Column  Non-Null Count  Dtype  \n",
      "---  ------  --------------  -----  \n",
      " 0   Date    730 non-null    object \n",
      " 1   Sales   730 non-null    int64  \n",
      " 2   PV      730 non-null    int64  \n",
      " 3   UV      684 non-null    float64\n",
      " 4   Events  730 non-null    int64  \n",
      "dtypes: float64(1), int64(3), object(1)\n",
      "memory usage: 28.6+ KB\n"
     ]
    }
   ],
   "source": [
    "df.info()"
   ]
  },
  {
   "cell_type": "code",
   "execution_count": 492,
   "metadata": {
    "ExecuteTime": {
     "end_time": "2021-12-03T15:56:13.922437Z",
     "start_time": "2021-12-03T15:56:13.908446Z"
    }
   },
   "outputs": [
    {
     "data": {
      "text/plain": [
       "Date       0\n",
       "Sales      0\n",
       "PV         0\n",
       "UV        46\n",
       "Events     0\n",
       "dtype: int64"
      ]
     },
     "execution_count": 492,
     "metadata": {},
     "output_type": "execute_result"
    }
   ],
   "source": [
    "df.isnull().sum()"
   ]
  },
  {
   "cell_type": "markdown",
   "metadata": {
    "ExecuteTime": {
     "end_time": "2021-12-03T15:54:03.685029Z",
     "start_time": "2021-12-03T15:54:03.676044Z"
    }
   },
   "source": [
    "## 1일 차이나는 시차 만들기"
   ]
  },
  {
   "cell_type": "code",
   "execution_count": 493,
   "metadata": {
    "ExecuteTime": {
     "end_time": "2021-12-03T15:56:15.463947Z",
     "start_time": "2021-12-03T15:56:15.449954Z"
    }
   },
   "outputs": [
    {
     "data": {
      "text/html": [
       "<div>\n",
       "<style scoped>\n",
       "    .dataframe tbody tr th:only-of-type {\n",
       "        vertical-align: middle;\n",
       "    }\n",
       "\n",
       "    .dataframe tbody tr th {\n",
       "        vertical-align: top;\n",
       "    }\n",
       "\n",
       "    .dataframe thead th {\n",
       "        text-align: right;\n",
       "    }\n",
       "</style>\n",
       "<table border=\"1\" class=\"dataframe\">\n",
       "  <thead>\n",
       "    <tr style=\"text-align: right;\">\n",
       "      <th></th>\n",
       "      <th>Date</th>\n",
       "      <th>Sales</th>\n",
       "      <th>PV</th>\n",
       "      <th>UV</th>\n",
       "      <th>Events</th>\n",
       "      <th>previous_PV</th>\n",
       "    </tr>\n",
       "  </thead>\n",
       "  <tbody>\n",
       "    <tr>\n",
       "      <th>0</th>\n",
       "      <td>2022-01-01</td>\n",
       "      <td>22711525</td>\n",
       "      <td>397349</td>\n",
       "      <td>4421.0</td>\n",
       "      <td>1</td>\n",
       "      <td>NaN</td>\n",
       "    </tr>\n",
       "    <tr>\n",
       "      <th>1</th>\n",
       "      <td>2022-01-02</td>\n",
       "      <td>36779</td>\n",
       "      <td>3969</td>\n",
       "      <td>2289.0</td>\n",
       "      <td>0</td>\n",
       "      <td>397349.0</td>\n",
       "    </tr>\n",
       "    <tr>\n",
       "      <th>2</th>\n",
       "      <td>2022-01-03</td>\n",
       "      <td>13943875</td>\n",
       "      <td>373890</td>\n",
       "      <td>NaN</td>\n",
       "      <td>1</td>\n",
       "      <td>3969.0</td>\n",
       "    </tr>\n",
       "    <tr>\n",
       "      <th>3</th>\n",
       "      <td>2022-01-04</td>\n",
       "      <td>8088593</td>\n",
       "      <td>142054</td>\n",
       "      <td>2157.0</td>\n",
       "      <td>0</td>\n",
       "      <td>373890.0</td>\n",
       "    </tr>\n",
       "    <tr>\n",
       "      <th>4</th>\n",
       "      <td>2022-01-05</td>\n",
       "      <td>2395374</td>\n",
       "      <td>190684</td>\n",
       "      <td>NaN</td>\n",
       "      <td>0</td>\n",
       "      <td>142054.0</td>\n",
       "    </tr>\n",
       "  </tbody>\n",
       "</table>\n",
       "</div>"
      ],
      "text/plain": [
       "         Date     Sales      PV      UV  Events  previous_PV\n",
       "0  2022-01-01  22711525  397349  4421.0       1          NaN\n",
       "1  2022-01-02     36779    3969  2289.0       0     397349.0\n",
       "2  2022-01-03  13943875  373890     NaN       1       3969.0\n",
       "3  2022-01-04   8088593  142054  2157.0       0     373890.0\n",
       "4  2022-01-05   2395374  190684     NaN       0     142054.0"
      ]
     },
     "execution_count": 493,
     "metadata": {},
     "output_type": "execute_result"
    }
   ],
   "source": [
    "df['previous_PV'] = df['PV'].shift(1)\n",
    "df.head()"
   ]
  },
  {
   "cell_type": "code",
   "execution_count": 494,
   "metadata": {
    "ExecuteTime": {
     "end_time": "2021-12-03T15:56:17.452761Z",
     "start_time": "2021-12-03T15:56:17.441791Z"
    }
   },
   "outputs": [
    {
     "data": {
      "text/html": [
       "<div>\n",
       "<style scoped>\n",
       "    .dataframe tbody tr th:only-of-type {\n",
       "        vertical-align: middle;\n",
       "    }\n",
       "\n",
       "    .dataframe tbody tr th {\n",
       "        vertical-align: top;\n",
       "    }\n",
       "\n",
       "    .dataframe thead th {\n",
       "        text-align: right;\n",
       "    }\n",
       "</style>\n",
       "<table border=\"1\" class=\"dataframe\">\n",
       "  <thead>\n",
       "    <tr style=\"text-align: right;\">\n",
       "      <th></th>\n",
       "      <th>Date</th>\n",
       "      <th>Sales</th>\n",
       "      <th>PV</th>\n",
       "      <th>UV</th>\n",
       "      <th>Events</th>\n",
       "      <th>previous_PV</th>\n",
       "    </tr>\n",
       "  </thead>\n",
       "  <tbody>\n",
       "    <tr>\n",
       "      <th>0</th>\n",
       "      <td>2022-01-01</td>\n",
       "      <td>22711525</td>\n",
       "      <td>397349</td>\n",
       "      <td>4421.0</td>\n",
       "      <td>1</td>\n",
       "      <td>397349.0</td>\n",
       "    </tr>\n",
       "    <tr>\n",
       "      <th>1</th>\n",
       "      <td>2022-01-02</td>\n",
       "      <td>36779</td>\n",
       "      <td>3969</td>\n",
       "      <td>2289.0</td>\n",
       "      <td>0</td>\n",
       "      <td>397349.0</td>\n",
       "    </tr>\n",
       "    <tr>\n",
       "      <th>2</th>\n",
       "      <td>2022-01-03</td>\n",
       "      <td>13943875</td>\n",
       "      <td>373890</td>\n",
       "      <td>NaN</td>\n",
       "      <td>1</td>\n",
       "      <td>3969.0</td>\n",
       "    </tr>\n",
       "    <tr>\n",
       "      <th>3</th>\n",
       "      <td>2022-01-04</td>\n",
       "      <td>8088593</td>\n",
       "      <td>142054</td>\n",
       "      <td>2157.0</td>\n",
       "      <td>0</td>\n",
       "      <td>373890.0</td>\n",
       "    </tr>\n",
       "    <tr>\n",
       "      <th>4</th>\n",
       "      <td>2022-01-05</td>\n",
       "      <td>2395374</td>\n",
       "      <td>190684</td>\n",
       "      <td>NaN</td>\n",
       "      <td>0</td>\n",
       "      <td>142054.0</td>\n",
       "    </tr>\n",
       "  </tbody>\n",
       "</table>\n",
       "</div>"
      ],
      "text/plain": [
       "         Date     Sales      PV      UV  Events  previous_PV\n",
       "0  2022-01-01  22711525  397349  4421.0       1     397349.0\n",
       "1  2022-01-02     36779    3969  2289.0       0     397349.0\n",
       "2  2022-01-03  13943875  373890     NaN       1       3969.0\n",
       "3  2022-01-04   8088593  142054  2157.0       0     373890.0\n",
       "4  2022-01-05   2395374  190684     NaN       0     142054.0"
      ]
     },
     "execution_count": 494,
     "metadata": {},
     "output_type": "execute_result"
    }
   ],
   "source": [
    "df['previous_PV'] = df['previous_PV'].fillna(method = 'bfill')\n",
    "df.head()"
   ]
  },
  {
   "cell_type": "code",
   "execution_count": 496,
   "metadata": {
    "ExecuteTime": {
     "end_time": "2021-12-03T15:56:33.026154Z",
     "start_time": "2021-12-03T15:56:33.017215Z"
    }
   },
   "outputs": [
    {
     "data": {
      "text/plain": [
       "0     1970-01-01 00:00:00.000397349\n",
       "1     1970-01-01 00:00:00.000397349\n",
       "2     1970-01-01 00:00:00.000003969\n",
       "3     1970-01-01 00:00:00.000373890\n",
       "4     1970-01-01 00:00:00.000142054\n",
       "                   ...             \n",
       "725   1970-01-01 00:00:00.000051258\n",
       "726   1970-01-01 00:00:00.000415067\n",
       "727   1970-01-01 00:00:00.000208601\n",
       "728   1970-01-01 00:00:00.000014309\n",
       "729   1970-01-01 00:00:00.000060935\n",
       "Name: previous_PV, Length: 730, dtype: datetime64[ns]"
      ]
     },
     "execution_count": 496,
     "metadata": {},
     "output_type": "execute_result"
    }
   ],
   "source": [
    "pd.to_datetime(df['previous_PV'])"
   ]
  },
  {
   "cell_type": "code",
   "execution_count": 497,
   "metadata": {
    "ExecuteTime": {
     "end_time": "2021-12-03T15:56:52.880633Z",
     "start_time": "2021-12-03T15:56:52.865667Z"
    }
   },
   "outputs": [
    {
     "name": "stdout",
     "output_type": "stream",
     "text": [
      "1894876.0\n"
     ]
    }
   ],
   "source": [
    "cond = (df['Events'] == 1) & (df['Sales'] <= 1000000)\n",
    "print(df[cond]['previous_PV'].sum())"
   ]
  },
  {
   "cell_type": "code",
   "execution_count": null,
   "metadata": {},
   "outputs": [],
   "source": []
  }
 ],
 "metadata": {
  "kernelspec": {
   "display_name": "Python 3",
   "language": "python",
   "name": "python3"
  },
  "language_info": {
   "codemirror_mode": {
    "name": "ipython",
    "version": 3
   },
   "file_extension": ".py",
   "mimetype": "text/x-python",
   "name": "python",
   "nbconvert_exporter": "python",
   "pygments_lexer": "ipython3",
   "version": "3.8.5"
  },
  "toc": {
   "base_numbering": 1,
   "nav_menu": {},
   "number_sections": true,
   "sideBar": true,
   "skip_h1_title": false,
   "title_cell": "Table of Contents",
   "title_sidebar": "Contents",
   "toc_cell": false,
   "toc_position": {
    "height": "calc(100% - 180px)",
    "left": "10px",
    "top": "150px",
    "width": "349.091px"
   },
   "toc_section_display": true,
   "toc_window_display": true
  },
  "varInspector": {
   "cols": {
    "lenName": 16,
    "lenType": 16,
    "lenVar": 40
   },
   "kernels_config": {
    "python": {
     "delete_cmd_postfix": "",
     "delete_cmd_prefix": "del ",
     "library": "var_list.py",
     "varRefreshCmd": "print(var_dic_list())"
    },
    "r": {
     "delete_cmd_postfix": ") ",
     "delete_cmd_prefix": "rm(",
     "library": "var_list.r",
     "varRefreshCmd": "cat(var_dic_list()) "
    }
   },
   "types_to_exclude": [
    "module",
    "function",
    "builtin_function_or_method",
    "instance",
    "_Feature"
   ],
   "window_display": false
  }
 },
 "nbformat": 4,
 "nbformat_minor": 4
}
