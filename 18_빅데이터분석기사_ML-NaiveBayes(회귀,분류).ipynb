
{
 "cells": [
  {
   "cell_type": "markdown",
   "metadata": {},
   "source": [
    "# Naive Bayes (분류)"
   ]
  },
  {
   "cell_type": "markdown",
   "metadata": {},
   "source": [
    "## data/library 불러오기"
   ]
  },
  {
   "cell_type": "code",
   "execution_count": 1,
   "metadata": {
    "ExecuteTime": {
     "end_time": "2021-11-27T10:02:56.078713Z",
     "start_time": "2021-11-27T10:02:56.060761Z"
    }
   },
   "outputs": [],
   "source": [
    "from sklearn.naive_bayes import GaussianNB"
   ]
  },
  {
   "cell_type": "code",
   "execution_count": 2,
   "metadata": {
    "ExecuteTime": {
     "end_time": "2021-11-27T10:03:43.153255Z",
     "start_time": "2021-11-27T10:03:42.879739Z"
    }
   },
   "outputs": [],
   "source": [
    "import warnings\n",
    "warnings.filterwarnings(\"ignore\")\n",
    "import pandas as pd\n",
    "data=pd.read_csv(\"breast-cancer-wisconsin.csv\")\n",
    "x=data[data.columns[1:10]]\n",
    "y=data[['Class']]"
   ]
  },
  {
   "cell_type": "markdown",
   "metadata": {},
   "source": [
    "## test/train set 분리하기"
   ]
  },
  {
   "cell_type": "code",
   "execution_count": 3,
   "metadata": {
    "ExecuteTime": {
     "end_time": "2021-11-27T10:04:04.786699Z",
     "start_time": "2021-11-27T10:04:04.743850Z"
    }
   },
   "outputs": [],
   "source": [
    "from sklearn.model_selection import train_test_split\n",
    "x_train,x_test,y_train,y_test= train_test_split(x,y,stratify=y,random_state=42)\n",
    "from sklearn.preprocessing import MinMaxScaler\n",
    "scaler=MinMaxScaler()\n",
    "scaler.fit(x_train)\n",
    "x_scaled_train=scaler.transform(x_train)\n",
    "x_scaled_test=scaler.transform(x_test)"
   ]
  },
  {
   "cell_type": "markdown",
   "metadata": {},
   "source": [
    "## model 학습하기"
   ]
  },
  {
   "cell_type": "code",
   "execution_count": 4,
   "metadata": {
    "ExecuteTime": {
     "end_time": "2021-11-27T10:04:15.744276Z",
     "start_time": "2021-11-27T10:04:15.727325Z"
    }
   },
   "outputs": [
    {
     "data": {
      "text/plain": [
       "GaussianNB()"
      ]
     },
     "execution_count": 4,
     "metadata": {},
     "output_type": "execute_result"
    }
   ],
   "source": [
    "model=GaussianNB()\n",
    "model.fit(x_scaled_train,y_train)"
   ]
  },
  {
   "cell_type": "code",
   "execution_count": 5,
   "metadata": {
    "ExecuteTime": {
     "end_time": "2021-11-27T10:04:43.631255Z",
     "start_time": "2021-11-27T10:04:43.616292Z"
    }
   },
   "outputs": [
    {
     "data": {
      "text/plain": [
       "0.966796875"
      ]
     },
     "execution_count": 5,
     "metadata": {},
     "output_type": "execute_result"
    }
   ],
   "source": [
    "pred_train=model.predict(x_scaled_train)\n",
    "model.score(x_scaled_train,y_train)"
   ]
  },
  {
   "cell_type": "code",
   "execution_count": 6,
   "metadata": {
    "ExecuteTime": {
     "end_time": "2021-11-27T10:05:52.387651Z",
     "start_time": "2021-11-27T10:05:52.375721Z"
    }
   },
   "outputs": [
    {
     "name": "stdout",
     "output_type": "stream",
     "text": [
      "[[319  14]\n",
      " [  3 176]]\n"
     ]
    }
   ],
   "source": [
    "from sklearn.metrics import confusion_matrix\n",
    "confusion_train=confusion_matrix(y_train,pred_train)\n",
    "print(confusion_train)"
   ]
  },
  {
   "cell_type": "markdown",
   "metadata": {},
   "source": [
    "## 학습결과 확인하기"
   ]
  },
  {
   "cell_type": "code",
   "execution_count": 8,
   "metadata": {
    "ExecuteTime": {
     "end_time": "2021-11-27T10:07:22.174999Z",
     "start_time": "2021-11-27T10:07:22.159038Z"
    }
   },
   "outputs": [
    {
     "name": "stdout",
     "output_type": "stream",
     "text": [
      "              precision    recall  f1-score   support\n",
      "\n",
      "           0       0.99      0.96      0.97       333\n",
      "           1       0.93      0.98      0.95       179\n",
      "\n",
      "    accuracy                           0.97       512\n",
      "   macro avg       0.96      0.97      0.96       512\n",
      "weighted avg       0.97      0.97      0.97       512\n",
      "\n"
     ]
    }
   ],
   "source": [
    "from sklearn.metrics import classification_report\n",
    "cfreport_train=classification_report(y_train,pred_train)\n",
    "print(cfreport_train)"
   ]
  },
  {
   "cell_type": "markdown",
   "metadata": {},
   "source": [
    "## Hyperparameter 최적화"
   ]
  },
  {
   "cell_type": "markdown",
   "metadata": {},
   "source": [
    "### GridSerach"
   ]
  },
  {
   "cell_type": "code",
   "execution_count": 11,
   "metadata": {
    "ExecuteTime": {
     "end_time": "2021-11-27T10:13:57.962511Z",
     "start_time": "2021-11-27T10:13:57.881376Z"
    }
   },
   "outputs": [
    {
     "data": {
      "text/plain": [
       "GridSearchCV(cv=5, estimator=GaussianNB(),\n",
       "             param_grid={'var_smoothing': [0, 1, 2, 3, 4, 5, 6, 7, 8, 9, 10]},\n",
       "             return_train_score=True)"
      ]
     },
     "execution_count": 11,
     "metadata": {},
     "output_type": "execute_result"
    }
   ],
   "source": [
    "from sklearn.model_selection import GridSearchCV\n",
    "param_grid={\"var_smoothing\":[0,1,2,3,4,5,6,7,8,9,10]}\n",
    "grid_search=GridSearchCV(GaussianNB(),param_grid,cv=5,return_train_score=True)\n",
    "# 파라미터 찾기\n",
    "grid_search.fit(x_scaled_train,y_train)"
   ]
  },
  {
   "cell_type": "code",
   "execution_count": 12,
   "metadata": {
    "ExecuteTime": {
     "end_time": "2021-11-27T10:14:26.625927Z",
     "start_time": "2021-11-27T10:14:26.607971Z"
    }
   },
   "outputs": [
    {
     "name": "stdout",
     "output_type": "stream",
     "text": [
      "Best Parameter : {'var_smoothing': 0}\n",
      "Best Cross-validity Score : 0.9649\n",
      "Test set Score : 0.9591\n"
     ]
    }
   ],
   "source": [
    "print(\"Best Parameter : {}\".format(grid_search.best_params_))\n",
    "print(\"Best Cross-validity Score : {:.4f}\".format(grid_search.best_score_))\n",
    "print('Test set Score : {:.4f}'.format(grid_search.score(x_scaled_test,y_test)))"
   ]
  },
  {
   "cell_type": "markdown",
   "metadata": {},
   "source": [
    "### RandomSearch"
   ]
  },
  {
   "cell_type": "code",
   "execution_count": 13,
   "metadata": {
    "ExecuteTime": {
     "end_time": "2021-11-27T10:15:43.185955Z",
     "start_time": "2021-11-27T10:15:42.600327Z"
    }
   },
   "outputs": [
    {
     "data": {
      "text/plain": [
       "RandomizedSearchCV(cv=5, estimator=GaussianNB(), n_iter=100,\n",
       "                   param_distributions={'var_smoothing': <scipy.stats._distn_infrastructure.rv_frozen object at 0x00000246BB9B5520>},\n",
       "                   return_train_score=True)"
      ]
     },
     "execution_count": 13,
     "metadata": {},
     "output_type": "execute_result"
    }
   ],
   "source": [
    "from scipy.stats import randint\n",
    "from sklearn.model_selection import RandomizedSearchCV\n",
    "param_distribs={\"var_smoothing\":randint(low=0,high=30)} # 무작위 난수 생성\n",
    "random_search=RandomizedSearchCV(GaussianNB(),param_distributions=param_distribs,n_iter=100,cv=5,return_train_score=True)\n",
    "# 파라미터 찾기\n",
    "random_search.fit(x_scaled_train,y_train)"
   ]
  },
  {
   "cell_type": "code",
   "execution_count": 14,
   "metadata": {
    "ExecuteTime": {
     "end_time": "2021-11-27T10:16:06.694262Z",
     "start_time": "2021-11-27T10:16:06.680346Z"
    }
   },
   "outputs": [
    {
     "name": "stdout",
     "output_type": "stream",
     "text": [
      "Best Parameter : {'var_smoothing': 0}\n",
      "Best Cross-validity Score : 0.9649\n",
      "Test set Score : 0.9591\n"
     ]
    }
   ],
   "source": [
    "print(\"Best Parameter : {}\".format(random_search.best_params_))\n",
    "print(\"Best Cross-validity Score : {:.4f}\".format(random_search.best_score_))\n",
    "print('Test set Score : {:.4f}'.format(random_search.score(x_scaled_test,y_test)))"
   ]
  },
  {
   "cell_type": "markdown",
   "metadata": {},
   "source": [
    "# Naive Bayes (회귀)"
   ]
  },
  {
   "cell_type": "markdown",
   "metadata": {},
   "source": [
    "## data set 나누기"
   ]
  },
  {
   "cell_type": "code",
   "execution_count": 33,
   "metadata": {
    "ExecuteTime": {
     "end_time": "2021-11-27T10:21:51.444531Z",
     "start_time": "2021-11-27T10:21:51.424115Z"
    }
   },
   "outputs": [],
   "source": [
    "from sklearn.linear_model import BayesianRidge\n",
    "\n",
    "data=pd.read_csv(\"house_price.csv\")\n",
    "x=data[data.columns[1:5]]\n",
    "y=data[['house_value']]\n",
    "x_train,x_test,y_train,y_test= train_test_split(x,y,random_state=42)"
   ]
  },
  {
   "cell_type": "markdown",
   "metadata": {},
   "source": [
    "## model 학습하기"
   ]
  },
  {
   "cell_type": "code",
   "execution_count": 34,
   "metadata": {
    "ExecuteTime": {
     "end_time": "2021-11-27T10:21:52.082098Z",
     "start_time": "2021-11-27T10:21:52.075084Z"
    }
   },
   "outputs": [
    {
     "data": {
      "text/plain": [
       "MinMaxScaler()"
      ]
     },
     "execution_count": 34,
     "metadata": {},
     "output_type": "execute_result"
    }
   ],
   "source": [
    "model=BayesianRidge()\n",
    "scaler.fit(x_train)"
   ]
  },
  {
   "cell_type": "code",
   "execution_count": 35,
   "metadata": {
    "ExecuteTime": {
     "end_time": "2021-11-27T10:21:52.286374Z",
     "start_time": "2021-11-27T10:21:52.278368Z"
    }
   },
   "outputs": [],
   "source": [
    "x_scaled_train=scaler.transform(x_train)\n",
    "x_scaled_test=scaler.transform(x_test)"
   ]
  },
  {
   "cell_type": "markdown",
   "metadata": {},
   "source": [
    "## 학습결과 확인하기"
   ]
  },
  {
   "cell_type": "code",
   "execution_count": 38,
   "metadata": {
    "ExecuteTime": {
     "end_time": "2021-11-27T10:22:58.058929Z",
     "start_time": "2021-11-27T10:22:58.048090Z"
    }
   },
   "outputs": [
    {
     "data": {
      "text/plain": [
       "0.5455724466331764"
      ]
     },
     "execution_count": 38,
     "metadata": {},
     "output_type": "execute_result"
    }
   ],
   "source": [
    "model.fit(x_scaled_train,y_train)\n",
    "pred_train=model.predict(x_scaled_train)\n",
    "model.score(x_scaled_train,y_train)"
   ]
  },
  {
   "cell_type": "code",
   "execution_count": 39,
   "metadata": {
    "ExecuteTime": {
     "end_time": "2021-11-27T10:22:58.338004Z",
     "start_time": "2021-11-27T10:22:58.327032Z"
    }
   },
   "outputs": [
    {
     "data": {
      "text/plain": [
       "0.5626859871488648"
      ]
     },
     "execution_count": 39,
     "metadata": {},
     "output_type": "execute_result"
    }
   ],
   "source": [
    "pred_test=model.predict(x_scaled_test)\n",
    "model.score(x_scaled_test,y_test)"
   ]
  },
  {
   "cell_type": "markdown",
   "metadata": {},
   "source": [
    "## 오차 (RMSE)확인하기"
   ]
  },
  {
   "cell_type": "code",
   "execution_count": 42,
   "metadata": {
    "ExecuteTime": {
     "end_time": "2021-11-27T10:25:03.942781Z",
     "start_time": "2021-11-27T10:25:03.925821Z"
    }
   },
   "outputs": [
    {
     "name": "stdout",
     "output_type": "stream",
     "text": [
      "64340.34302948542\n",
      "63220.68115643447\n"
     ]
    }
   ],
   "source": [
    "import numpy as np\n",
    "from sklearn.metrics import mean_squared_error\n",
    "MSE_train=mean_squared_error(y_train,pred_train)\n",
    "MSE_test=mean_squared_error(y_test,pred_test)\n",
    "print(np.sqrt(MSE_train))\n",
    "print(np.sqrt(MSE_test))"
   ]
  },
  {
   "cell_type": "markdown",
   "metadata": {},
   "source": [
    "## Hyperparameter 최적화"
   ]
  },
  {
   "cell_type": "markdown",
   "metadata": {},
   "source": [
    "### GridSearch"
   ]
  },
  {
   "cell_type": "code",
   "execution_count": 43,
   "metadata": {
    "ExecuteTime": {
     "end_time": "2021-11-27T10:27:34.210130Z",
     "start_time": "2021-11-27T10:27:32.464113Z"
    }
   },
   "outputs": [
    {
     "data": {
      "text/plain": [
       "GridSearchCV(cv=5, estimator=BayesianRidge(),\n",
       "             param_grid={'alpha_1': [1e-06, 1e-05, 0.0001, 0.001, 0.01, 0.1, 1,\n",
       "                                     2, 3, 4],\n",
       "                         'lambda_1': [1e-06, 1e-05, 0.0001, 0.001, 0.01, 0.1, 1,\n",
       "                                      2, 3, 4]},\n",
       "             return_train_score=True)"
      ]
     },
     "execution_count": 43,
     "metadata": {},
     "output_type": "execute_result"
    }
   ],
   "source": [
    "from sklearn.model_selection import GridSearchCV\n",
    "param_grid={\"alpha_1\":[1e-06,1e-05,1e-04,1e-03,1e-02,1e-01,1,2,3,4],\"lambda_1\":[1e-06,1e-05,1e-04,1e-03,1e-02,1e-01,1,2,3,4]}\n",
    "grid_search=GridSearchCV( BayesianRidge(),param_grid,cv=5,return_train_score=True)\n",
    "# 파라미터 찾기\n",
    "grid_search.fit(x_scaled_train,y_train)"
   ]
  },
  {
   "cell_type": "code",
   "execution_count": 44,
   "metadata": {
    "ExecuteTime": {
     "end_time": "2021-11-27T10:27:48.972768Z",
     "start_time": "2021-11-27T10:27:48.966832Z"
    }
   },
   "outputs": [
    {
     "name": "stdout",
     "output_type": "stream",
     "text": [
      "Best Parameter : {'alpha_1': 4, 'lambda_1': 1e-06}\n",
      "Best Cross-validity Score : 0.5452\n",
      "Test set Score : 0.5627\n"
     ]
    }
   ],
   "source": [
    "print(\"Best Parameter : {}\".format(grid_search.best_params_))\n",
    "print(\"Best Cross-validity Score : {:.4f}\".format(grid_search.best_score_))\n",
    "print('Test set Score : {:.4f}'.format(grid_search.score(x_scaled_test,y_test)))"
   ]
  },
  {
   "cell_type": "markdown",
   "metadata": {},
   "source": [
    "### RandomSearch"
   ]
  },
  {
   "cell_type": "code",
   "execution_count": 52,
   "metadata": {
    "ExecuteTime": {
     "end_time": "2021-11-27T10:30:15.162706Z",
     "start_time": "2021-11-27T10:30:14.215578Z"
    }
   },
   "outputs": [
    {
     "data": {
      "text/plain": [
       "RandomizedSearchCV(cv=5, estimator=BayesianRidge(), n_iter=50,\n",
       "                   param_distributions={'alpha_1': <scipy.stats._distn_infrastructure.rv_frozen object at 0x00000246BC11D9D0>,\n",
       "                                        'lambda_1': <scipy.stats._distn_infrastructure.rv_frozen object at 0x00000246BC11DA90>},\n",
       "                   return_train_score=True)"
      ]
     },
     "execution_count": 52,
     "metadata": {},
     "output_type": "execute_result"
    }
   ],
   "source": [
    "from scipy.stats import randint\n",
    "from sklearn.model_selection import RandomizedSearchCV\n",
    "param_distribs={\"alpha_1\":randint(low=1e-06,high=10),\"lambda_1\":randint(low=1e-06,high=10)} # 무작위 난수 생성\n",
    "random_search=RandomizedSearchCV(BayesianRidge(),param_distributions=param_distribs,n_iter=50,cv=5,return_train_score=True)\n",
    "# 파라미터 찾기\n",
    "\n",
    "random_search.fit(x_scaled_train,y_train)"
   ]
  },
  {
   "cell_type": "code",
   "execution_count": 53,
   "metadata": {
    "ExecuteTime": {
     "end_time": "2021-11-27T10:30:15.241240Z",
     "start_time": "2021-11-27T10:30:15.226292Z"
    }
   },
   "outputs": [
    {
     "name": "stdout",
     "output_type": "stream",
     "text": [
      "Best Parameter : {'alpha_1': 6, 'lambda_1': 0}\n",
      "Best Cross-validity Score : 0.5452\n",
      "Test set Score : 0.5627\n"
     ]
    }
   ],
   "source": [
    "print(\"Best Parameter : {}\".format(random_search.best_params_))\n",
    "print(\"Best Cross-validity Score : {:.4f}\".format(random_search.best_score_))\n",
    "print('Test set Score : {:.4f}'.format(random_search.score(x_scaled_test,y_test)))"
   ]
  },
  {
   "cell_type": "code",
   "execution_count": null,
   "metadata": {},
   "outputs": [],
   "source": []
  }
 ],
 "metadata": {
  "kernelspec": {
   "display_name": "Python 3",
   "language": "python",
   "name": "python3"
  },
  "language_info": {
   "codemirror_mode": {
    "name": "ipython",
    "version": 3
   },
   "file_extension": ".py",
   "mimetype": "text/x-python",
   "name": "python",
   "nbconvert_exporter": "python",
   "pygments_lexer": "ipython3",
   "version": "3.8.5"
  },
  "toc": {
   "base_numbering": 1,
   "nav_menu": {},
   "number_sections": true,
   "sideBar": true,
   "skip_h1_title": false,
   "title_cell": "Table of Contents",
   "title_sidebar": "Contents",
   "toc_cell": false,
   "toc_position": {},
   "toc_section_display": true,
   "toc_window_display": true
  },
  "varInspector": {
   "cols": {
    "lenName": 16,
    "lenType": 16,
    "lenVar": 40
   },
   "kernels_config": {
    "python": {
     "delete_cmd_postfix": "",
     "delete_cmd_prefix": "del ",
     "library": "var_list.py",
     "varRefreshCmd": "print(var_dic_list())"
    },
    "r": {
     "delete_cmd_postfix": ") ",
     "delete_cmd_prefix": "rm(",
     "library": "var_list.r",
     "varRefreshCmd": "cat(var_dic_list()) "
    }
   },
   "types_to_exclude": [
    "module",
    "function",
    "builtin_function_or_method",
    "instance",
    "_Feature"
   ],
   "window_display": false
  }
 },
 "nbformat": 4,
 "nbformat_minor": 4
}
