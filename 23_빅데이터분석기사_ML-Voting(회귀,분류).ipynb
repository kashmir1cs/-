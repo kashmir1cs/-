{
 "cells": [
  {
   "cell_type": "markdown",
   "metadata": {},
   "source": [
    "# MLP 실습 : Ensemble Voting (분류)"
   ]
  },
  {
   "cell_type": "markdown",
   "metadata": {},
   "source": [
    "## data/library 불러오기"
   ]
  },
  {
   "cell_type": "code",
   "execution_count": 1,
   "metadata": {
    "ExecuteTime": {
     "end_time": "2021-11-27T14:18:08.865322Z",
     "start_time": "2021-11-27T14:18:08.424342Z"
    }
   },
   "outputs": [],
   "source": [
    "import warnings\n",
    "warnings.filterwarnings(\"ignore\")\n",
    "import pandas as pd\n",
    "data=pd.read_csv(\"breast-cancer-wisconsin.csv\")\n",
    "x=data[data.columns[1:10]]\n",
    "y=data[['Class']]"
   ]
  },
  {
   "cell_type": "code",
   "execution_count": 4,
   "metadata": {
    "ExecuteTime": {
     "end_time": "2021-11-27T14:19:23.746260Z",
     "start_time": "2021-11-27T14:19:23.728943Z"
    }
   },
   "outputs": [],
   "source": [
    "from sklearn.ensemble import RandomForestClassifier\n",
    "from sklearn.linear_model import LogisticRegression\n",
    "from sklearn.svm import SVC\n",
    "from sklearn.ensemble import VotingClassifier\n"
   ]
  },
  {
   "cell_type": "code",
   "execution_count": 8,
   "metadata": {
    "ExecuteTime": {
     "end_time": "2021-11-27T14:21:52.335714Z",
     "start_time": "2021-11-27T14:21:52.303151Z"
    }
   },
   "outputs": [],
   "source": [
    "from sklearn.model_selection import train_test_split\n",
    "x_train,x_test,y_train,y_test= train_test_split(x,y,stratify=y,random_state=42)\n",
    "from sklearn.preprocessing import MinMaxScaler\n",
    "scaler=MinMaxScaler()\n",
    "scaler.fit(x_train)\n",
    "x_scaled_train=scaler.transform(x_train)\n",
    "x_scaled_test=scaler.transform(x_test)"
   ]
  },
  {
   "cell_type": "code",
   "execution_count": 9,
   "metadata": {
    "ExecuteTime": {
     "end_time": "2021-11-27T14:21:55.303730Z",
     "start_time": "2021-11-27T14:21:55.295660Z"
    }
   },
   "outputs": [],
   "source": [
    "logit_model=LogisticRegression(random_state=42)\n",
    "rnf_model=RandomForestClassifier(random_state=42)\n",
    "svm_model=SVC(random_state=42)"
   ]
  },
  {
   "cell_type": "markdown",
   "metadata": {},
   "source": [
    "## model 학습하기 (강학습기 : hard- 범주)"
   ]
  },
  {
   "cell_type": "code",
   "execution_count": 10,
   "metadata": {
    "ExecuteTime": {
     "end_time": "2021-11-27T14:21:55.490014Z",
     "start_time": "2021-11-27T14:21:55.478871Z"
    }
   },
   "outputs": [],
   "source": [
    "voting_hard=VotingClassifier(estimators=[('lr',logit_model),('rf',rnf_model),('svc',svm_model)])"
   ]
  },
  {
   "cell_type": "code",
   "execution_count": 11,
   "metadata": {
    "ExecuteTime": {
     "end_time": "2021-11-27T14:22:14.342035Z",
     "start_time": "2021-11-27T14:22:14.185301Z"
    }
   },
   "outputs": [
    {
     "data": {
      "text/plain": [
       "VotingClassifier(estimators=[('lr', LogisticRegression(random_state=42)),\n",
       "                             ('rf', RandomForestClassifier(random_state=42)),\n",
       "                             ('svc', SVC(random_state=42))])"
      ]
     },
     "execution_count": 11,
     "metadata": {},
     "output_type": "execute_result"
    }
   ],
   "source": [
    "voting_hard.fit(x_scaled_train,y_train)"
   ]
  },
  {
   "cell_type": "markdown",
   "metadata": {},
   "source": [
    "### 결과 확인하기"
   ]
  },
  {
   "cell_type": "code",
   "execution_count": 13,
   "metadata": {
    "ExecuteTime": {
     "end_time": "2021-11-27T14:24:43.690090Z",
     "start_time": "2021-11-27T14:24:43.488122Z"
    }
   },
   "outputs": [
    {
     "name": "stdout",
     "output_type": "stream",
     "text": [
      "LogisticRegression 0.9590643274853801\n",
      "RandomForestClassifier 0.9649122807017544\n",
      "SVC 0.9649122807017544\n",
      "VotingClassifier 0.9649122807017544\n"
     ]
    }
   ],
   "source": [
    "from sklearn.metrics import accuracy_score\n",
    "# 반복문 실행하며 각 model별로 정확도 계산결과 보여주기\n",
    "for clf in (logit_model,rnf_model,svm_model,voting_hard):\n",
    "    clf.fit(x_scaled_train,y_train)\n",
    "    y_pred=clf.predict(x_scaled_test)\n",
    "    print(clf.__class__.__name__,accuracy_score(y_test,y_pred))\n",
    "\n"
   ]
  },
  {
   "cell_type": "markdown",
   "metadata": {},
   "source": [
    "### 각 model별 결과 확인하기 (혼동행렬)"
   ]
  },
  {
   "cell_type": "markdown",
   "metadata": {},
   "source": [
    "#### Logistic회귀"
   ]
  },
  {
   "cell_type": "code",
   "execution_count": 22,
   "metadata": {
    "ExecuteTime": {
     "end_time": "2021-11-27T14:32:18.675249Z",
     "start_time": "2021-11-27T14:32:18.664769Z"
    }
   },
   "outputs": [
    {
     "name": "stdout",
     "output_type": "stream",
     "text": [
      "train set\n",
      "[[328   5]\n",
      " [  9 170]]\n",
      "\n",
      "\n",
      "test set\n",
      "[[106   5]\n",
      " [  2  58]]\n"
     ]
    }
   ],
   "source": [
    "from sklearn.metrics import confusion_matrix\n",
    "log_pred_train=logit_model.predict(x_scaled_train)\n",
    "log_confusion_train=confusion_matrix(y_train,log_pred_train)\n",
    "print(\"train set\")\n",
    "print(log_confusion_train)\n",
    "print(\"\\n\")\n",
    "print(\"test set\")\n",
    "log_pred_test=logit_model.predict(x_scaled_test)\n",
    "log_confusion_test=confusion_matrix(y_test,log_pred_test)\n",
    "print(log_confusion_test)"
   ]
  },
  {
   "cell_type": "markdown",
   "metadata": {},
   "source": [
    "#### SVM"
   ]
  },
  {
   "cell_type": "code",
   "execution_count": 19,
   "metadata": {
    "ExecuteTime": {
     "end_time": "2021-11-27T14:30:27.749828Z",
     "start_time": "2021-11-27T14:30:27.728883Z"
    }
   },
   "outputs": [
    {
     "name": "stdout",
     "output_type": "stream",
     "text": [
      "[[329   4]\n",
      " [  4 175]]\n",
      "\n",
      "\n",
      "[[106   5]\n",
      " [  1  59]]\n"
     ]
    }
   ],
   "source": [
    "from sklearn.metrics import confusion_matrix\n",
    "svm_pred_train=svm_model.predict(x_scaled_train)\n",
    "svm_confusion_train=confusion_matrix(y_train,svm_pred_train)\n",
    "print(\"train set\")\n",
    "print(svm_confusion_train)\n",
    "print(\"\\n\")\n",
    "print(\"test set\")\n",
    "svm_pred_test=svm_model.predict(x_scaled_test)\n",
    "svm_confusion_test=confusion_matrix(y_test,svm_pred_test)\n",
    "print(svm_confusion_test)"
   ]
  },
  {
   "cell_type": "markdown",
   "metadata": {
    "ExecuteTime": {
     "end_time": "2021-11-27T14:31:02.452056Z",
     "start_time": "2021-11-27T14:31:02.448070Z"
    }
   },
   "source": [
    "#### RandomForest"
   ]
  },
  {
   "cell_type": "code",
   "execution_count": 23,
   "metadata": {
    "ExecuteTime": {
     "end_time": "2021-11-27T14:32:42.238858Z",
     "start_time": "2021-11-27T14:32:42.208633Z"
    }
   },
   "outputs": [
    {
     "name": "stdout",
     "output_type": "stream",
     "text": [
      "train set\n",
      "[[333   0]\n",
      " [  0 179]]\n",
      "\n",
      "\n",
      "test set\n",
      "[[106   5]\n",
      " [  1  59]]\n"
     ]
    }
   ],
   "source": [
    "from sklearn.metrics import confusion_matrix\n",
    "rnf_pred_train=rnf_model.predict(x_scaled_train)\n",
    "rnf_confusion_train=confusion_matrix(y_train,rnf_pred_train)\n",
    "print(\"train set\")\n",
    "print(rnf_confusion_train)\n",
    "print(\"\\n\")\n",
    "print(\"test set\")\n",
    "rnf_pred_test=rnf_model.predict(x_scaled_test)\n",
    "rnf_confusion_test=confusion_matrix(y_test,rnf_pred_test)\n",
    "print(rnf_confusion_test)"
   ]
  },
  {
   "cell_type": "markdown",
   "metadata": {
    "ExecuteTime": {
     "end_time": "2021-11-27T14:34:00.591859Z",
     "start_time": "2021-11-27T14:34:00.584848Z"
    }
   },
   "source": [
    "#### Voting Ensemble"
   ]
  },
  {
   "cell_type": "code",
   "execution_count": 27,
   "metadata": {
    "ExecuteTime": {
     "end_time": "2021-11-27T14:35:10.407145Z",
     "start_time": "2021-11-27T14:35:10.369218Z"
    }
   },
   "outputs": [
    {
     "name": "stdout",
     "output_type": "stream",
     "text": [
      "train set\n",
      "[[329   4]\n",
      " [  4 175]]\n",
      "\n",
      "\n",
      "test set\n",
      "[[106   5]\n",
      " [  1  59]]\n"
     ]
    }
   ],
   "source": [
    "from sklearn.metrics import confusion_matrix\n",
    "voting_pred_train=voting_hard.predict(x_scaled_train)\n",
    "voting_confusion_train=confusion_matrix(y_train,voting_pred_train)\n",
    "print(\"train set\")\n",
    "print(voting_confusion_train)\n",
    "print(\"\\n\")\n",
    "print(\"test set\")\n",
    "voting_pred_test=voting_hard.predict(x_scaled_test)\n",
    "voting_confusion_test=confusion_matrix(y_test,voting_pred_test)\n",
    "print(voting_confusion_test)"
   ]
  },
  {
   "cell_type": "markdown",
   "metadata": {},
   "source": [
    "## model 학습하기 (약학습기 : soft-확률)"
   ]
  },
  {
   "cell_type": "code",
   "execution_count": 45,
   "metadata": {
    "ExecuteTime": {
     "end_time": "2021-11-27T14:47:33.043711Z",
     "start_time": "2021-11-27T14:47:33.031776Z"
    }
   },
   "outputs": [],
   "source": [
    "logit_model=LogisticRegression(random_state=42)\n",
    "rnf_model=RandomForestClassifier(random_state=42)\n",
    "svm_model=SVC(random_state=42,probability=True)"
   ]
  },
  {
   "cell_type": "code",
   "execution_count": 46,
   "metadata": {
    "ExecuteTime": {
     "end_time": "2021-11-27T14:47:33.898682Z",
     "start_time": "2021-11-27T14:47:33.791970Z"
    }
   },
   "outputs": [
    {
     "data": {
      "text/plain": [
       "VotingClassifier(estimators=[('lr', LogisticRegression(random_state=42)),\n",
       "                             ('rf', RandomForestClassifier(random_state=42)),\n",
       "                             ('svc', SVC(probability=True, random_state=42))],\n",
       "                 voting='soft')"
      ]
     },
     "execution_count": 46,
     "metadata": {},
     "output_type": "execute_result"
    }
   ],
   "source": [
    "voting_soft=VotingClassifier(estimators=[('lr',logit_model),('rf',rnf_model),('svc',svm_model)],voting=\"soft\")\n",
    "voting_soft.fit(x_scaled_train,y_train)"
   ]
  },
  {
   "cell_type": "markdown",
   "metadata": {},
   "source": [
    "### 결과 확인하기"
   ]
  },
  {
   "cell_type": "code",
   "execution_count": 47,
   "metadata": {
    "ExecuteTime": {
     "end_time": "2021-11-27T14:47:36.460030Z",
     "start_time": "2021-11-27T14:47:36.232128Z"
    }
   },
   "outputs": [
    {
     "name": "stdout",
     "output_type": "stream",
     "text": [
      "LogisticRegression 0.9590643274853801\n",
      "RandomForestClassifier 0.9649122807017544\n",
      "SVC 0.9649122807017544\n",
      "VotingClassifier 0.9649122807017544\n"
     ]
    }
   ],
   "source": [
    "from sklearn.metrics import accuracy_score\n",
    "# 반복문 실행하며 각 model별로 정확도 계산결과 보여주기\n",
    "for clf in (logit_model,rnf_model,svm_model,voting_soft):\n",
    "    clf.fit(x_scaled_train,y_train)\n",
    "    y_pred=clf.predict(x_scaled_test)\n",
    "    print(clf.__class__.__name__,accuracy_score(y_test,y_pred))"
   ]
  },
  {
   "cell_type": "code",
   "execution_count": 48,
   "metadata": {
    "ExecuteTime": {
     "end_time": "2021-11-27T14:48:18.585996Z",
     "start_time": "2021-11-27T14:48:18.560073Z"
    }
   },
   "outputs": [
    {
     "name": "stdout",
     "output_type": "stream",
     "text": [
      "train set\n",
      "[[330   3]\n",
      " [  3 176]]\n",
      "\n",
      "\n",
      "test set\n",
      "[[106   5]\n",
      " [  1  59]]\n"
     ]
    }
   ],
   "source": [
    "from sklearn.metrics import confusion_matrix\n",
    "voting_pred_train=voting_soft.predict(x_scaled_train)\n",
    "voting_confusion_train=confusion_matrix(y_train,voting_pred_train)\n",
    "print(\"train set\")\n",
    "print(voting_confusion_train)\n",
    "print(\"\\n\")\n",
    "print(\"test set\")\n",
    "voting_pred_test=voting_soft.predict(x_scaled_test)\n",
    "voting_confusion_test=confusion_matrix(y_test,voting_pred_test)\n",
    "print(voting_confusion_test)"
   ]
  },
  {
   "cell_type": "markdown",
   "metadata": {},
   "source": [
    "# MLP 실습 : Ensemble Voting (회귀)"
   ]
  },
  {
   "cell_type": "markdown",
   "metadata": {},
   "source": [
    "## data/library 불러오기"
   ]
  },
  {
   "cell_type": "code",
   "execution_count": 49,
   "metadata": {
    "ExecuteTime": {
     "end_time": "2021-11-27T14:50:32.182841Z",
     "start_time": "2021-11-27T14:50:32.159901Z"
    }
   },
   "outputs": [],
   "source": [
    "data=pd.read_csv(\"house_price.csv\")\n",
    "x=data[data.columns[1:5]]\n",
    "y=data[['house_value']]\n",
    "x_train,x_test,y_train,y_test= train_test_split(x,y,random_state=42)"
   ]
  },
  {
   "cell_type": "code",
   "execution_count": 50,
   "metadata": {
    "ExecuteTime": {
     "end_time": "2021-11-27T14:50:32.993825Z",
     "start_time": "2021-11-27T14:50:32.976842Z"
    }
   },
   "outputs": [],
   "source": [
    "scaler=MinMaxScaler()\n",
    "scaler.fit(x_train)\n",
    "x_scaled_train=scaler.transform(x_train)\n",
    "x_scaled_test=scaler.transform(x_test)"
   ]
  },
  {
   "cell_type": "markdown",
   "metadata": {},
   "source": [
    "## model 학습하기"
   ]
  },
  {
   "cell_type": "code",
   "execution_count": 51,
   "metadata": {
    "ExecuteTime": {
     "end_time": "2021-11-27T14:53:40.875066Z",
     "start_time": "2021-11-27T14:53:38.077342Z"
    }
   },
   "outputs": [
    {
     "data": {
      "text/plain": [
       "VotingRegressor(estimators=[('lr', LinearRegression()),\n",
       "                            ('rf', RandomForestRegressor(random_state=42))])"
      ]
     },
     "execution_count": 51,
     "metadata": {},
     "output_type": "execute_result"
    }
   ],
   "source": [
    "from sklearn.linear_model import LinearRegression\n",
    "from sklearn.ensemble import RandomForestRegressor\n",
    "from sklearn.ensemble import VotingRegressor\n",
    "linear_model=LinearRegression()\n",
    "rnf_model=RandomForestRegressor(random_state=42)\n",
    "voting_regressor=VotingRegressor(estimators=[('lr',linear_model),('rf',rnf_model)])\n",
    "voting_regressor.fit(x_scaled_train,y_train)"
   ]
  },
  {
   "cell_type": "code",
   "execution_count": 55,
   "metadata": {
    "ExecuteTime": {
     "end_time": "2021-11-27T14:56:32.266280Z",
     "start_time": "2021-11-27T14:56:32.255310Z"
    }
   },
   "outputs": [
    {
     "data": {
      "text/plain": [
       "0.5455724996358273"
      ]
     },
     "execution_count": 55,
     "metadata": {},
     "output_type": "execute_result"
    }
   ],
   "source": [
    "linear_model.fit(x_scaled_train,y_train)\n",
    "linear_model.score(x_scaled_train,y_train)"
   ]
  },
  {
   "cell_type": "code",
   "execution_count": 56,
   "metadata": {
    "ExecuteTime": {
     "end_time": "2021-11-27T14:56:35.839541Z",
     "start_time": "2021-11-27T14:56:32.760843Z"
    }
   },
   "outputs": [
    {
     "data": {
      "text/plain": [
       "0.9376379766388849"
      ]
     },
     "execution_count": 56,
     "metadata": {},
     "output_type": "execute_result"
    }
   ],
   "source": [
    "rnf_model.fit(x_scaled_train,y_train)\n",
    "rnf_model.score(x_scaled_train,y_train)"
   ]
  },
  {
   "cell_type": "code",
   "execution_count": 58,
   "metadata": {
    "ExecuteTime": {
     "end_time": "2021-11-27T14:57:20.098523Z",
     "start_time": "2021-11-27T14:57:19.680395Z"
    }
   },
   "outputs": [
    {
     "data": {
      "text/plain": [
       "0.7962532705428835"
      ]
     },
     "execution_count": 58,
     "metadata": {},
     "output_type": "execute_result"
    }
   ],
   "source": [
    "pred_train=voting_regressor.predict(x_scaled_train)\n",
    "voting_regressor.score(x_scaled_train,y_train)"
   ]
  },
  {
   "cell_type": "code",
   "execution_count": 60,
   "metadata": {
    "ExecuteTime": {
     "end_time": "2021-11-27T14:57:51.068329Z",
     "start_time": "2021-11-27T14:57:50.904768Z"
    }
   },
   "outputs": [
    {
     "data": {
      "text/plain": [
       "0.5936371957936409"
      ]
     },
     "execution_count": 60,
     "metadata": {},
     "output_type": "execute_result"
    }
   ],
   "source": [
    "pred_test=voting_regressor.predict(x_scaled_test)\n",
    "voting_regressor.score(x_scaled_test,y_test)"
   ]
  },
  {
   "cell_type": "markdown",
   "metadata": {},
   "source": [
    "## RMSE 확인하기"
   ]
  },
  {
   "cell_type": "code",
   "execution_count": 61,
   "metadata": {
    "ExecuteTime": {
     "end_time": "2021-11-27T14:57:52.512892Z",
     "start_time": "2021-11-27T14:57:52.494937Z"
    }
   },
   "outputs": [
    {
     "name": "stdout",
     "output_type": "stream",
     "text": [
      "43082.050654857834\n",
      "60942.38524353489\n"
     ]
    }
   ],
   "source": [
    "import numpy as np\n",
    "from sklearn.metrics import mean_squared_error\n",
    "MSE_train=mean_squared_error(y_train,pred_train)\n",
    "MSE_test=mean_squared_error(y_test,pred_test)\n",
    "print(np.sqrt(MSE_train))\n",
    "print(np.sqrt(MSE_test))"
   ]
  },
  {
   "cell_type": "code",
   "execution_count": null,
   "metadata": {},
   "outputs": [],
   "source": []
  }
 ],
 "metadata": {
  "kernelspec": {
   "display_name": "Python 3",
   "language": "python",
   "name": "python3"
  },
  "language_info": {
   "codemirror_mode": {
    "name": "ipython",
    "version": 3
   },
   "file_extension": ".py",
   "mimetype": "text/x-python",
   "name": "python",
   "nbconvert_exporter": "python",
   "pygments_lexer": "ipython3",
   "version": "3.8.5"
  },
  "toc": {
   "base_numbering": 1,
   "nav_menu": {},
   "number_sections": true,
   "sideBar": true,
   "skip_h1_title": false,
   "title_cell": "Table of Contents",
   "title_sidebar": "Contents",
   "toc_cell": false,
   "toc_position": {},
   "toc_section_display": true,
   "toc_window_display": true
  },
  "varInspector": {
   "cols": {
    "lenName": 16,
    "lenType": 16,
    "lenVar": 40
   },
   "kernels_config": {
    "python": {
     "delete_cmd_postfix": "",
     "delete_cmd_prefix": "del ",
     "library": "var_list.py",
     "varRefreshCmd": "print(var_dic_list())"
    },
    "r": {
     "delete_cmd_postfix": ") ",
     "delete_cmd_prefix": "rm(",
     "library": "var_list.r",
     "varRefreshCmd": "cat(var_dic_list()) "
    }
   },
   "types_to_exclude": [
    "module",
    "function",
    "builtin_function_or_method",
    "instance",
    "_Feature"
   ],
   "window_display": false
  }
 },
 "nbformat": 4,
 "nbformat_minor": 4
}
