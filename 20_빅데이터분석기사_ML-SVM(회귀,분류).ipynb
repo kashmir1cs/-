{
 "cells": [
  {
   "cell_type": "markdown",
   "metadata": {},
   "source": [
    "# MLP 실습 : SVM (분류)"
   ]
  },
  {
   "cell_type": "markdown",
   "metadata": {},
   "source": [
    "## data/library import"
   ]
  },
  {
   "cell_type": "code",
   "execution_count": 13,
   "metadata": {
    "ExecuteTime": {
     "end_time": "2021-11-27T11:48:25.934458Z",
     "start_time": "2021-11-27T11:48:25.926436Z"
    }
   },
   "outputs": [],
   "source": [
    "from sklearn.svm import SVC"
   ]
  },
  {
   "cell_type": "code",
   "execution_count": 14,
   "metadata": {
    "ExecuteTime": {
     "end_time": "2021-11-27T11:48:26.433415Z",
     "start_time": "2021-11-27T11:48:26.199246Z"
    }
   },
   "outputs": [],
   "source": [
    "import warnings\n",
    "warnings.filterwarnings(\"ignore\")\n",
    "import pandas as pd\n",
    "data=pd.read_csv(\"breast-cancer-wisconsin.csv\")\n",
    "x=data[data.columns[1:10]]\n",
    "y=data[['Class']]"
   ]
  },
  {
   "cell_type": "code",
   "execution_count": 15,
   "metadata": {
    "ExecuteTime": {
     "end_time": "2021-11-27T11:48:26.572847Z",
     "start_time": "2021-11-27T11:48:26.548877Z"
    }
   },
   "outputs": [],
   "source": [
    "from sklearn.model_selection import train_test_split\n",
    "x_train,x_test,y_train,y_test= train_test_split(x,y,stratify=y,random_state=42)\n",
    "from sklearn.preprocessing import MinMaxScaler\n",
    "scaler=MinMaxScaler()\n",
    "scaler.fit(x_train)\n",
    "x_scaled_train=scaler.transform(x_train)\n",
    "x_scaled_test=scaler.transform(x_test)"
   ]
  },
  {
   "cell_type": "markdown",
   "metadata": {},
   "source": [
    "## model 학습하기"
   ]
  },
  {
   "cell_type": "code",
   "execution_count": 16,
   "metadata": {
    "ExecuteTime": {
     "end_time": "2021-11-27T11:48:27.396174Z",
     "start_time": "2021-11-27T11:48:27.383210Z"
    }
   },
   "outputs": [
    {
     "data": {
      "text/plain": [
       "SVC()"
      ]
     },
     "execution_count": 16,
     "metadata": {},
     "output_type": "execute_result"
    }
   ],
   "source": [
    "model=SVC()\n",
    "model.fit(x_scaled_train,y_train)"
   ]
  },
  {
   "cell_type": "code",
   "execution_count": 17,
   "metadata": {
    "ExecuteTime": {
     "end_time": "2021-11-27T11:48:27.567397Z",
     "start_time": "2021-11-27T11:48:27.557422Z"
    }
   },
   "outputs": [
    {
     "data": {
      "text/plain": [
       "0.984375"
      ]
     },
     "execution_count": 17,
     "metadata": {},
     "output_type": "execute_result"
    }
   ],
   "source": [
    "pred_train=model.predict(x_scaled_train)\n",
    "model.score(x_scaled_train,y_train)"
   ]
  },
  {
   "cell_type": "markdown",
   "metadata": {},
   "source": [
    "## 혼동행렬 확인하기"
   ]
  },
  {
   "cell_type": "code",
   "execution_count": 18,
   "metadata": {
    "ExecuteTime": {
     "end_time": "2021-11-27T11:48:28.216516Z",
     "start_time": "2021-11-27T11:48:28.205571Z"
    }
   },
   "outputs": [
    {
     "name": "stdout",
     "output_type": "stream",
     "text": [
      "[[329   4]\n",
      " [  4 175]]\n"
     ]
    }
   ],
   "source": [
    "from sklearn.metrics import confusion_matrix\n",
    "confusion_train=confusion_matrix(y_train,pred_train)\n",
    "print(confusion_train)"
   ]
  },
  {
   "cell_type": "code",
   "execution_count": 19,
   "metadata": {
    "ExecuteTime": {
     "end_time": "2021-11-27T11:48:28.387126Z",
     "start_time": "2021-11-27T11:48:28.374162Z"
    }
   },
   "outputs": [
    {
     "name": "stdout",
     "output_type": "stream",
     "text": [
      "              precision    recall  f1-score   support\n",
      "\n",
      "           0       0.99      0.99      0.99       333\n",
      "           1       0.98      0.98      0.98       179\n",
      "\n",
      "    accuracy                           0.98       512\n",
      "   macro avg       0.98      0.98      0.98       512\n",
      "weighted avg       0.98      0.98      0.98       512\n",
      "\n"
     ]
    }
   ],
   "source": [
    "from sklearn.metrics import classification_report\n",
    "cfreport_train=classification_report(y_train,pred_train)\n",
    "print(cfreport_train)"
   ]
  },
  {
   "cell_type": "code",
   "execution_count": 20,
   "metadata": {
    "ExecuteTime": {
     "end_time": "2021-11-27T11:48:28.557102Z",
     "start_time": "2021-11-27T11:48:28.550151Z"
    }
   },
   "outputs": [
    {
     "data": {
      "text/plain": [
       "0.9649122807017544"
      ]
     },
     "execution_count": 20,
     "metadata": {},
     "output_type": "execute_result"
    }
   ],
   "source": [
    "pred_test=model.predict(x_scaled_test)\n",
    "model.score(x_scaled_test,y_test)"
   ]
  },
  {
   "cell_type": "code",
   "execution_count": 21,
   "metadata": {
    "ExecuteTime": {
     "end_time": "2021-11-27T11:48:28.760438Z",
     "start_time": "2021-11-27T11:48:28.746473Z"
    }
   },
   "outputs": [
    {
     "name": "stdout",
     "output_type": "stream",
     "text": [
      "              precision    recall  f1-score   support\n",
      "\n",
      "           0       0.99      0.95      0.97       111\n",
      "           1       0.92      0.98      0.95        60\n",
      "\n",
      "    accuracy                           0.96       171\n",
      "   macro avg       0.96      0.97      0.96       171\n",
      "weighted avg       0.97      0.96      0.97       171\n",
      "\n"
     ]
    }
   ],
   "source": [
    "cfreport_test=classification_report(y_test,pred_test)\n",
    "print(cfreport_test)"
   ]
  },
  {
   "cell_type": "markdown",
   "metadata": {},
   "source": [
    "## Hyper Parameter 최적화"
   ]
  },
  {
   "cell_type": "markdown",
   "metadata": {},
   "source": [
    "### parameter 설정"
   ]
  },
  {
   "cell_type": "markdown",
   "metadata": {},
   "source": [
    "#### GridSearch"
   ]
  },
  {
   "cell_type": "code",
   "execution_count": 22,
   "metadata": {
    "ExecuteTime": {
     "end_time": "2021-11-27T11:48:29.677899Z",
     "start_time": "2021-11-27T11:48:29.662948Z"
    }
   },
   "outputs": [],
   "source": [
    "from sklearn.model_selection import GridSearchCV"
   ]
  },
  {
   "cell_type": "code",
   "execution_count": 23,
   "metadata": {
    "ExecuteTime": {
     "end_time": "2021-11-27T11:48:30.141248Z",
     "start_time": "2021-11-27T11:48:30.135297Z"
    }
   },
   "outputs": [],
   "source": [
    "param_grid=[{\"kernel\":['rbf'],\"C\":[0.001,0.01,0.1,1,10,100],\"gamma\":[0.001,0.01,0.1,1,10,100]},\n",
    "            {\"kernel\":['linear'],\"C\":[0.001,0.01,0.1,1,10,100],\"gamma\":[0.001,0.01,0.1,1,10,100]}]"
   ]
  },
  {
   "cell_type": "code",
   "execution_count": 24,
   "metadata": {
    "ExecuteTime": {
     "end_time": "2021-11-27T11:48:31.081752Z",
     "start_time": "2021-11-27T11:48:30.341473Z"
    }
   },
   "outputs": [
    {
     "data": {
      "text/plain": [
       "GridSearchCV(cv=5, estimator=SVC(),\n",
       "             param_grid=[{'C': [0.001, 0.01, 0.1, 1, 10, 100],\n",
       "                          'gamma': [0.001, 0.01, 0.1, 1, 10, 100],\n",
       "                          'kernel': ['rbf']},\n",
       "                         {'C': [0.001, 0.01, 0.1, 1, 10, 100],\n",
       "                          'gamma': [0.001, 0.01, 0.1, 1, 10, 100],\n",
       "                          'kernel': ['linear']}])"
      ]
     },
     "execution_count": 24,
     "metadata": {},
     "output_type": "execute_result"
    }
   ],
   "source": [
    "\n",
    "grid_search=GridSearchCV(SVC(),param_grid,cv=5)\n",
    "# 파라미터 찾기\n",
    "grid_search.fit(x_scaled_train,y_train)"
   ]
  },
  {
   "cell_type": "code",
   "execution_count": 25,
   "metadata": {
    "ExecuteTime": {
     "end_time": "2021-11-27T11:48:31.608073Z",
     "start_time": "2021-11-27T11:48:31.598327Z"
    }
   },
   "outputs": [
    {
     "name": "stdout",
     "output_type": "stream",
     "text": [
      "Best Parameter : {'C': 100, 'gamma': 0.01, 'kernel': 'rbf'}\n",
      "Best Cross-validity Score : 0.9746\n",
      "Test set Score : 0.9591\n"
     ]
    }
   ],
   "source": [
    "print(\"Best Parameter : {}\".format(grid_search.best_params_))\n",
    "print(\"Best Cross-validity Score : {:.4f}\".format(grid_search.best_score_))\n",
    "print('Test set Score : {:.4f}'.format(grid_search.score(x_scaled_test,y_test)))"
   ]
  },
  {
   "cell_type": "markdown",
   "metadata": {},
   "source": [
    "#### RandomSearch"
   ]
  },
  {
   "cell_type": "code",
   "execution_count": 26,
   "metadata": {
    "ExecuteTime": {
     "end_time": "2021-11-27T11:48:33.726684Z",
     "start_time": "2021-11-27T11:48:31.981534Z"
    }
   },
   "outputs": [
    {
     "data": {
      "text/plain": [
       "RandomizedSearchCV(cv=5, estimator=SVC(), n_iter=100,\n",
       "                   param_distributions={'C': <scipy.stats._distn_infrastructure.rv_frozen object at 0x000002221D143820>,\n",
       "                                        'gamma': <scipy.stats._distn_infrastructure.rv_frozen object at 0x000002221B3BFE50>,\n",
       "                                        'kernel': ['rbf']})"
      ]
     },
     "execution_count": 26,
     "metadata": {},
     "output_type": "execute_result"
    }
   ],
   "source": [
    "from scipy.stats import randint\n",
    "from sklearn.model_selection import RandomizedSearchCV\n",
    "param_distribs={\"kernel\":[\"rbf\"],\"C\":randint(low=0.001,high=100),\"gamma\":randint(low=0.001,high=100)}\n",
    "random_search=RandomizedSearchCV(SVC(),param_distributions=param_distribs,n_iter=100,cv=5)\n",
    "# 파라미터 찾기\n",
    "random_search.fit(x_scaled_train,y_train)"
   ]
  },
  {
   "cell_type": "code",
   "execution_count": 27,
   "metadata": {
    "ExecuteTime": {
     "end_time": "2021-11-27T11:48:33.869147Z",
     "start_time": "2021-11-27T11:48:33.854251Z"
    }
   },
   "outputs": [
    {
     "name": "stdout",
     "output_type": "stream",
     "text": [
      "Best Parameter : {'C': 69, 'gamma': 6, 'kernel': 'rbf'}\n",
      "Best Cross-validity Score : 0.9648\n",
      "Test set Score : 0.9649\n"
     ]
    }
   ],
   "source": [
    "print(\"Best Parameter : {}\".format(random_search.best_params_))\n",
    "print(\"Best Cross-validity Score : {:.4f}\".format(random_search.best_score_))\n",
    "print('Test set Score : {:.4f}'.format(random_search.score(x_scaled_test,y_test)))"
   ]
  },
  {
   "cell_type": "markdown",
   "metadata": {
    "ExecuteTime": {
     "end_time": "2021-11-27T11:35:52.709260Z",
     "start_time": "2021-11-27T11:35:52.703242Z"
    }
   },
   "source": [
    "# MLP실습 : SVM(회귀)"
   ]
  },
  {
   "cell_type": "markdown",
   "metadata": {},
   "source": [
    "## data/library 불러오기"
   ]
  },
  {
   "cell_type": "code",
   "execution_count": 28,
   "metadata": {
    "ExecuteTime": {
     "end_time": "2021-11-27T11:48:34.023249Z",
     "start_time": "2021-11-27T11:48:33.994410Z"
    }
   },
   "outputs": [],
   "source": [
    "data=pd.read_csv(\"house_price.csv\")\n",
    "x=data[data.columns[1:5]]\n",
    "y=data[['house_value']]\n",
    "x_train,x_test,y_train,y_test= train_test_split(x,y,random_state=42)"
   ]
  },
  {
   "cell_type": "markdown",
   "metadata": {},
   "source": [
    "## model 학습하기"
   ]
  },
  {
   "cell_type": "code",
   "execution_count": 34,
   "metadata": {
    "ExecuteTime": {
     "end_time": "2021-11-27T11:49:09.514235Z",
     "start_time": "2021-11-27T11:49:04.690661Z"
    }
   },
   "outputs": [
    {
     "data": {
      "text/plain": [
       "SVR(kernel='poly')"
      ]
     },
     "execution_count": 34,
     "metadata": {},
     "output_type": "execute_result"
    }
   ],
   "source": [
    "from sklearn.svm import SVR\n",
    "scaler=MinMaxScaler()\n",
    "scaler.fit(x_train)\n",
    "x_scaled_train=scaler.transform(x_train)\n",
    "x_scaled_test=scaler.transform(x_test)\n",
    "model.fit(x_scaled_train,y_train)\n",
    "\n",
    "model=SVR(kernel=\"poly\")\n",
    "model.fit(x_scaled_train,y_train)"
   ]
  },
  {
   "cell_type": "markdown",
   "metadata": {},
   "source": [
    "## 결과확인하기"
   ]
  },
  {
   "cell_type": "code",
   "execution_count": 35,
   "metadata": {
    "ExecuteTime": {
     "end_time": "2021-11-27T11:49:11.038261Z",
     "start_time": "2021-11-27T11:49:09.640704Z"
    }
   },
   "outputs": [
    {
     "data": {
      "text/plain": [
       "0.45177025652823866"
      ]
     },
     "execution_count": 35,
     "metadata": {},
     "output_type": "execute_result"
    }
   ],
   "source": [
    "pred_train=model.predict(x_scaled_train)\n",
    "model.score(x_scaled_train,y_train)"
   ]
  },
  {
   "cell_type": "code",
   "execution_count": 36,
   "metadata": {
    "ExecuteTime": {
     "end_time": "2021-11-27T11:49:11.629558Z",
     "start_time": "2021-11-27T11:49:11.161668Z"
    }
   },
   "outputs": [
    {
     "data": {
      "text/plain": [
       "0.46997708096191393"
      ]
     },
     "execution_count": 36,
     "metadata": {},
     "output_type": "execute_result"
    }
   ],
   "source": [
    "pred_test=model.predict(x_scaled_test)\n",
    "model.score(x_scaled_test,y_test)"
   ]
  },
  {
   "cell_type": "markdown",
   "metadata": {},
   "source": [
    "## RMSE 확인하기"
   ]
  },
  {
   "cell_type": "code",
   "execution_count": 37,
   "metadata": {
    "ExecuteTime": {
     "end_time": "2021-11-27T11:49:11.770755Z",
     "start_time": "2021-11-27T11:49:11.756798Z"
    }
   },
   "outputs": [
    {
     "name": "stdout",
     "output_type": "stream",
     "text": [
      "70669.55244251259\n",
      "69600.08959938577\n"
     ]
    }
   ],
   "source": [
    "import numpy as np\n",
    "from sklearn.metrics import mean_squared_error\n",
    "MSE_train=mean_squared_error(y_train,pred_train)\n",
    "MSE_test=mean_squared_error(y_test,pred_test)\n",
    "print(np.sqrt(MSE_train))\n",
    "print(np.sqrt(MSE_test))"
   ]
  },
  {
   "cell_type": "markdown",
   "metadata": {},
   "source": [
    "## Hyper parameter 설정"
   ]
  },
  {
   "cell_type": "markdown",
   "metadata": {},
   "source": [
    "### GridSearch"
   ]
  },
  {
   "cell_type": "code",
   "execution_count": 38,
   "metadata": {
    "ExecuteTime": {
     "end_time": "2021-11-27T11:49:11.909597Z",
     "start_time": "2021-11-27T11:49:11.895213Z"
    }
   },
   "outputs": [],
   "source": [
    "from sklearn.model_selection import GridSearchCV"
   ]
  },
  {
   "cell_type": "code",
   "execution_count": 40,
   "metadata": {
    "ExecuteTime": {
     "end_time": "2021-11-27T11:50:22.280938Z",
     "start_time": "2021-11-27T11:50:22.262985Z"
    }
   },
   "outputs": [],
   "source": [
    "param_grid={\"kernel\":[\"poly\"],\"C\":[0.01,0.1,1,10],\"gamma\":[0.01,0.1,1,10]}"
   ]
  },
  {
   "cell_type": "code",
   "execution_count": 41,
   "metadata": {
    "ExecuteTime": {
     "end_time": "2021-11-27T11:52:40.601347Z",
     "start_time": "2021-11-27T11:50:24.047537Z"
    }
   },
   "outputs": [
    {
     "data": {
      "text/plain": [
       "GridSearchCV(cv=5, estimator=SVR(kernel='poly'),\n",
       "             param_grid={'C': [0.01, 0.1, 1, 10], 'gamma': [0.01, 0.1, 1, 10],\n",
       "                         'kernel': ['poly']})"
      ]
     },
     "execution_count": 41,
     "metadata": {},
     "output_type": "execute_result"
    }
   ],
   "source": [
    "grid_search=GridSearchCV(SVR(kernel=\"poly\"),param_grid,cv=5)\n",
    "# 파라미터 찾기\n",
    "grid_search.fit(x_scaled_train,y_train)"
   ]
  },
  {
   "cell_type": "code",
   "execution_count": 42,
   "metadata": {
    "ExecuteTime": {
     "end_time": "2021-11-27T11:52:40.976447Z",
     "start_time": "2021-11-27T11:52:40.726173Z"
    }
   },
   "outputs": [
    {
     "name": "stdout",
     "output_type": "stream",
     "text": [
      "Best Parameter : {'C': 10, 'gamma': 10, 'kernel': 'poly'}\n",
      "Best Cross-validity Score : 0.4888\n",
      "Test set Score : 0.5092\n"
     ]
    }
   ],
   "source": [
    "print(\"Best Parameter : {}\".format(grid_search.best_params_))\n",
    "print(\"Best Cross-validity Score : {:.4f}\".format(grid_search.best_score_))\n",
    "print('Test set Score : {:.4f}'.format(grid_search.score(x_scaled_test,y_test)))"
   ]
  },
  {
   "cell_type": "markdown",
   "metadata": {},
   "source": [
    "### RandomSearch"
   ]
  },
  {
   "cell_type": "code",
   "execution_count": 43,
   "metadata": {
    "ExecuteTime": {
     "end_time": "2021-11-27T11:57:28.738337Z",
     "start_time": "2021-11-27T11:54:26.862612Z"
    }
   },
   "outputs": [
    {
     "data": {
      "text/plain": [
       "RandomizedSearchCV(cv=5, estimator=SVR(kernel='poly'), n_iter=20,\n",
       "                   param_distributions={'C': <scipy.stats._distn_infrastructure.rv_frozen object at 0x000002221D16BA00>,\n",
       "                                        'gamma': <scipy.stats._distn_infrastructure.rv_frozen object at 0x000002221B2EB130>,\n",
       "                                        'kernel': ['poly']},\n",
       "                   return_train_score=True)"
      ]
     },
     "execution_count": 43,
     "metadata": {},
     "output_type": "execute_result"
    }
   ],
   "source": [
    "from scipy.stats import randint\n",
    "from sklearn.model_selection import RandomizedSearchCV\n",
    "param_distribs={\"kernel\":[\"poly\"],\"C\":randint(low=0.01,high=10),\"gamma\":randint(low=0.01,high=10)}\n",
    "random_search=RandomizedSearchCV(SVR(kernel=\"poly\"),param_distributions=param_distribs,n_iter=20,cv=5,return_train_score=True)\n",
    "# 파라미터 찾기\n",
    "random_search.fit(x_scaled_train,y_train)"
   ]
  },
  {
   "cell_type": "code",
   "execution_count": 44,
   "metadata": {
    "ExecuteTime": {
     "end_time": "2021-11-27T11:57:29.117925Z",
     "start_time": "2021-11-27T11:57:28.865640Z"
    }
   },
   "outputs": [
    {
     "name": "stdout",
     "output_type": "stream",
     "text": [
      "Best Parameter : {'C': 9, 'gamma': 7, 'kernel': 'poly'}\n",
      "Best Cross-validity Score : 0.4503\n",
      "Test set Score : 0.4774\n"
     ]
    }
   ],
   "source": [
    "print(\"Best Parameter : {}\".format(random_search.best_params_))\n",
    "print(\"Best Cross-validity Score : {:.4f}\".format(random_search.best_score_))\n",
    "print('Test set Score : {:.4f}'.format(random_search.score(x_scaled_test,y_test)))"
   ]
  },
  {
   "cell_type": "code",
   "execution_count": null,
   "metadata": {},
   "outputs": [],
   "source": []
  }
 ],
 "metadata": {
  "kernelspec": {
   "display_name": "Python 3",
   "language": "python",
   "name": "python3"
  },
  "toc": {
   "base_numbering": 1,
   "nav_menu": {},
   "number_sections": true,
   "sideBar": true,
   "skip_h1_title": false,
   "title_cell": "Table of Contents",
   "title_sidebar": "Contents",
   "toc_cell": false,
   "toc_position": {},
   "toc_section_display": true,
   "toc_window_display": true
  },
  "varInspector": {
   "cols": {
    "lenName": 16,
    "lenType": 16,
    "lenVar": 40
   },
   "kernels_config": {
    "python": {
     "delete_cmd_postfix": "",
     "delete_cmd_prefix": "del ",
     "library": "var_list.py",
     "varRefreshCmd": "print(var_dic_list())"
    },
    "r": {
     "delete_cmd_postfix": ") ",
     "delete_cmd_prefix": "rm(",
     "library": "var_list.r",
     "varRefreshCmd": "cat(var_dic_list()) "
    }
   },
   "types_to_exclude": [
    "module",
    "function",
    "builtin_function_or_method",
    "instance",
    "_Feature"
   ],
   "window_display": false
  }
 },
 "nbformat": 4,
 "nbformat_minor": 4
}
